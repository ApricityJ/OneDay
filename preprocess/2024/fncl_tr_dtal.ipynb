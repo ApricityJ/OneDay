{
 "cells": [
  {
   "metadata": {
    "ExecuteTime": {
     "end_time": "2024-10-28T08:21:04.212657Z",
     "start_time": "2024-10-28T08:21:04.192800Z"
    }
   },
   "cell_type": "code",
   "source": [
    "from data import loader, exporter\n",
    "from constant import *\n",
    "import pandas as pd"
   ],
   "id": "43e243833654add6",
   "outputs": [],
   "execution_count": 2
  },
  {
   "metadata": {
    "ExecuteTime": {
     "end_time": "2024-10-28T08:31:27.199694Z",
     "start_time": "2024-10-28T08:30:53.763981Z"
    }
   },
   "cell_type": "code",
   "source": [
    "def process_fncl_tr_dtal_data(df):\n",
    "    # 1. 处理日期字段，确保它们是 %Y%m%d 格式\n",
    "    df['TR_DAT'] = pd.to_datetime(df['TR_DAT'], format='%Y%m%d', errors='coerce')\n",
    "\n",
    "    # 2. 计算每个企业的交易总次数\n",
    "    transaction_count = df.groupby('CUST_NO').size().reset_index(name='TRANSACTION_COUNT')\n",
    "\n",
    "    # 3. 计算每个企业的总交易金额、平均交易金额和最大交易金额\n",
    "    amount_stats = df.groupby('CUST_NO')['RMB_TR_AMT'].agg(['sum', 'mean', 'max']).reset_index()\n",
    "    amount_stats.columns = ['CUST_NO', 'TOTAL_AMOUNT', 'AVG_AMOUNT', 'MAX_AMOUNT']\n",
    "\n",
    "    # 4. 统计每个企业的交易对手多样性\n",
    "    counterpart_diversity = df.groupby('CUST_NO')['CPT_CUST_NO'].nunique().reset_index(name='COUNTERPART_DIVERSITY')\n",
    "\n",
    "    # 5. 统计每个企业的交易渠道多样性\n",
    "    channel_diversity = df.groupby('CUST_NO')['CHANL_CD'].nunique().reset_index(name='CHANNEL_DIVERSITY')\n",
    "\n",
    "    # 合并所有特征\n",
    "    df_fncl_tr_dtal_features = pd.merge(transaction_count, amount_stats, on='CUST_NO', how='left')\n",
    "    df_fncl_tr_dtal_features = pd.merge(df_fncl_tr_dtal_features, counterpart_diversity, on='CUST_NO', how='left')\n",
    "    df_fncl_tr_dtal_features = pd.merge(df_fncl_tr_dtal_features, channel_diversity, on='CUST_NO', how='left')\n",
    "\n",
    "    return df_fncl_tr_dtal_features\n",
    "\n",
    "\n",
    "df_fncl_tr_dtal = loader.to_concat_df('XW_ENTINFO_FNCL_TR_DTAL')\n",
    "df_fncl_tr_dtal_features = process_fncl_tr_dtal_data(df_fncl_tr_dtal)\n",
    "\n",
    "exporter.export_df_to_preprocess('fncl_tr_dtal', df_fncl_tr_dtal_features)\n",
    "df_fncl_tr_dtal_features"
   ],
   "id": "initial_id",
   "outputs": [
    {
     "data": {
      "text/plain": [
       "                            CUST_NO  TRANSACTION_COUNT  TOTAL_AMOUNT  \\\n",
       "0  000034607497713173a75a0d9910cb52                134       3451.40   \n",
       "1  0000dfb26b1e1fb3d96c92eb3f00a3d4                 15        801.46   \n",
       "2  0001f54424332282c4ee1dd10ef43e67                 25        974.06   \n",
       "3  0001f87942183f01cee6998d65092fe9                 34       1683.04   \n",
       "4  00021b96bf933024181336f4862bd1cb                 98       4487.88   \n",
       "\n",
       "   AVG_AMOUNT  MAX_AMOUNT  COUNTERPART_DIVERSITY  CHANNEL_DIVERSITY  \n",
       "0   25.756716      161.27                      2                  5  \n",
       "1   53.430667      178.33                      1                  6  \n",
       "2   38.962400      128.00                      1                  4  \n",
       "3   49.501176       93.52                      4                  3  \n",
       "4   45.794694      122.41                      5                  6  "
      ],
      "text/html": [
       "<div>\n",
       "<style scoped>\n",
       "    .dataframe tbody tr th:only-of-type {\n",
       "        vertical-align: middle;\n",
       "    }\n",
       "\n",
       "    .dataframe tbody tr th {\n",
       "        vertical-align: top;\n",
       "    }\n",
       "\n",
       "    .dataframe thead th {\n",
       "        text-align: right;\n",
       "    }\n",
       "</style>\n",
       "<table border=\"1\" class=\"dataframe\">\n",
       "  <thead>\n",
       "    <tr style=\"text-align: right;\">\n",
       "      <th></th>\n",
       "      <th>CUST_NO</th>\n",
       "      <th>TRANSACTION_COUNT</th>\n",
       "      <th>TOTAL_AMOUNT</th>\n",
       "      <th>AVG_AMOUNT</th>\n",
       "      <th>MAX_AMOUNT</th>\n",
       "      <th>COUNTERPART_DIVERSITY</th>\n",
       "      <th>CHANNEL_DIVERSITY</th>\n",
       "    </tr>\n",
       "  </thead>\n",
       "  <tbody>\n",
       "    <tr>\n",
       "      <th>0</th>\n",
       "      <td>000034607497713173a75a0d9910cb52</td>\n",
       "      <td>134</td>\n",
       "      <td>3451.40</td>\n",
       "      <td>25.756716</td>\n",
       "      <td>161.27</td>\n",
       "      <td>2</td>\n",
       "      <td>5</td>\n",
       "    </tr>\n",
       "    <tr>\n",
       "      <th>1</th>\n",
       "      <td>0000dfb26b1e1fb3d96c92eb3f00a3d4</td>\n",
       "      <td>15</td>\n",
       "      <td>801.46</td>\n",
       "      <td>53.430667</td>\n",
       "      <td>178.33</td>\n",
       "      <td>1</td>\n",
       "      <td>6</td>\n",
       "    </tr>\n",
       "    <tr>\n",
       "      <th>2</th>\n",
       "      <td>0001f54424332282c4ee1dd10ef43e67</td>\n",
       "      <td>25</td>\n",
       "      <td>974.06</td>\n",
       "      <td>38.962400</td>\n",
       "      <td>128.00</td>\n",
       "      <td>1</td>\n",
       "      <td>4</td>\n",
       "    </tr>\n",
       "    <tr>\n",
       "      <th>3</th>\n",
       "      <td>0001f87942183f01cee6998d65092fe9</td>\n",
       "      <td>34</td>\n",
       "      <td>1683.04</td>\n",
       "      <td>49.501176</td>\n",
       "      <td>93.52</td>\n",
       "      <td>4</td>\n",
       "      <td>3</td>\n",
       "    </tr>\n",
       "    <tr>\n",
       "      <th>4</th>\n",
       "      <td>00021b96bf933024181336f4862bd1cb</td>\n",
       "      <td>98</td>\n",
       "      <td>4487.88</td>\n",
       "      <td>45.794694</td>\n",
       "      <td>122.41</td>\n",
       "      <td>5</td>\n",
       "      <td>6</td>\n",
       "    </tr>\n",
       "  </tbody>\n",
       "</table>\n",
       "</div>"
      ]
     },
     "execution_count": 9,
     "metadata": {},
     "output_type": "execute_result"
    }
   ],
   "execution_count": 9
  },
  {
   "metadata": {},
   "cell_type": "code",
   "outputs": [],
   "execution_count": null,
   "source": "",
   "id": "1e0058232044d60d"
  }
 ],
 "metadata": {
  "kernelspec": {
   "display_name": "Python 3",
   "language": "python",
   "name": "python3"
  },
  "language_info": {
   "codemirror_mode": {
    "name": "ipython",
    "version": 2
   },
   "file_extension": ".py",
   "mimetype": "text/x-python",
   "name": "python",
   "nbconvert_exporter": "python",
   "pygments_lexer": "ipython2",
   "version": "2.7.6"
  }
 },
 "nbformat": 4,
 "nbformat_minor": 5
}
