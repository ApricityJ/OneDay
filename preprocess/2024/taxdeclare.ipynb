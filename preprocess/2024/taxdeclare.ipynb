{
 "cells": [
  {
   "cell_type": "code",
   "id": "initial_id",
   "metadata": {
    "collapsed": true,
    "ExecuteTime": {
     "end_time": "2024-10-28T08:12:25.887060Z",
     "start_time": "2024-10-28T08:12:25.106371Z"
    }
   },
   "source": [
    "from data import loader, exporter\n",
    "from constant import *\n",
    "import pandas as pd"
   ],
   "outputs": [],
   "execution_count": 2
  },
  {
   "metadata": {
    "ExecuteTime": {
     "end_time": "2024-10-28T08:19:03.297968Z",
     "start_time": "2024-10-28T08:19:02.683608Z"
    }
   },
   "cell_type": "code",
   "source": [
    "def process_taxdeclare_data(df):\n",
    "    # 1. 处理日期字段，确保它们是 %Y%m%d 格式\n",
    "    df['BTD_DECLARDATE'] = pd.to_datetime(df['BTD_DECLARDATE'], format='%Y%m%d', errors='coerce')\n",
    "    df['DATA_DAT'] = pd.to_datetime(df['DATA_DAT'], format='%Y%m%d', errors='coerce')\n",
    "\n",
    "    # 2. 计算每个企业的申报总次数\n",
    "    taxdeclare_count = df.groupby('CUST_NO').size().reset_index(name='TAXDECLARE_COUNT')\n",
    "\n",
    "    # 3. 计算每个企业的销售收入总额、平均销售收入和最大销售收入\n",
    "    sales_stats = df.groupby('CUST_NO')['BTD_TOTALSALE'].agg(['sum', 'mean', 'max']).reset_index()\n",
    "    sales_stats.columns = ['CUST_NO', 'TOTAL_SALES', 'AVG_SALES', 'MAX_SALES']\n",
    "\n",
    "    # 4. 计算每个企业的应纳税额总额、平均应纳税额和最大应纳税额\n",
    "    tax_stats = df.groupby('CUST_NO')['BTD_TAXPAYABLE'].agg(['sum', 'mean', 'max']).reset_index()\n",
    "    tax_stats.columns = ['CUST_NO', 'TOTAL_TAX', 'AVG_TAX', 'MAX_TAX']\n",
    "\n",
    "    # 这张表需要非常认真地挖掘\n",
    "    \n",
    "    # 合并所有特征\n",
    "    df_taxdeclare_features = pd.merge(taxdeclare_count, sales_stats, on='CUST_NO', how='left')\n",
    "    df_taxdeclare_features = pd.merge(df_taxdeclare_features, tax_stats, on='CUST_NO', how='left')\n",
    "    return df_taxdeclare_features\n",
    "\n",
    "df_taxdeclare = loader.to_concat_df('XW_ENTINFO_TAXDECLARE')\n",
    "df_taxdeclare_features = process_taxdeclare_data(df_taxdeclare)\n",
    "\n",
    "exporter.export_df_to_preprocess('taxdeclare', df_taxdeclare_features)\n",
    "df_taxdeclare_features.head()"
   ],
   "id": "477b4ac8810be4b8",
   "outputs": [
    {
     "data": {
      "text/plain": [
       "                            CUST_NO  TAXDECLARE_COUNT  TOTAL_SALES  AVG_SALES  \\\n",
       "0  00021b96bf933024181336f4862bd1cb                15      1129.00  75.266667   \n",
       "1  000322f5bbe1691a0e9c145a22606556                 2         0.00   0.000000   \n",
       "2  00045f4b7419408896d7c13a0eab97da                16       803.56  50.222500   \n",
       "3  0007887cd841729063a0bb4248ef892b                 8       280.46  35.057500   \n",
       "4  00079f3acaf3f8926b580d162ae1090f                27      1859.85  68.883333   \n",
       "\n",
       "   MAX_SALES  TOTAL_TAX    AVG_TAX  MAX_TAX  \n",
       "0     394.87     104.78   6.985333    49.38  \n",
       "1       0.00       0.00   0.000000     0.00  \n",
       "2     199.12     156.06   9.753750    38.56  \n",
       "3      71.27     109.08  13.635000    27.54  \n",
       "4     301.38     387.88  14.365926    58.99  "
      ],
      "text/html": [
       "<div>\n",
       "<style scoped>\n",
       "    .dataframe tbody tr th:only-of-type {\n",
       "        vertical-align: middle;\n",
       "    }\n",
       "\n",
       "    .dataframe tbody tr th {\n",
       "        vertical-align: top;\n",
       "    }\n",
       "\n",
       "    .dataframe thead th {\n",
       "        text-align: right;\n",
       "    }\n",
       "</style>\n",
       "<table border=\"1\" class=\"dataframe\">\n",
       "  <thead>\n",
       "    <tr style=\"text-align: right;\">\n",
       "      <th></th>\n",
       "      <th>CUST_NO</th>\n",
       "      <th>TAXDECLARE_COUNT</th>\n",
       "      <th>TOTAL_SALES</th>\n",
       "      <th>AVG_SALES</th>\n",
       "      <th>MAX_SALES</th>\n",
       "      <th>TOTAL_TAX</th>\n",
       "      <th>AVG_TAX</th>\n",
       "      <th>MAX_TAX</th>\n",
       "    </tr>\n",
       "  </thead>\n",
       "  <tbody>\n",
       "    <tr>\n",
       "      <th>0</th>\n",
       "      <td>00021b96bf933024181336f4862bd1cb</td>\n",
       "      <td>15</td>\n",
       "      <td>1129.00</td>\n",
       "      <td>75.266667</td>\n",
       "      <td>394.87</td>\n",
       "      <td>104.78</td>\n",
       "      <td>6.985333</td>\n",
       "      <td>49.38</td>\n",
       "    </tr>\n",
       "    <tr>\n",
       "      <th>1</th>\n",
       "      <td>000322f5bbe1691a0e9c145a22606556</td>\n",
       "      <td>2</td>\n",
       "      <td>0.00</td>\n",
       "      <td>0.000000</td>\n",
       "      <td>0.00</td>\n",
       "      <td>0.00</td>\n",
       "      <td>0.000000</td>\n",
       "      <td>0.00</td>\n",
       "    </tr>\n",
       "    <tr>\n",
       "      <th>2</th>\n",
       "      <td>00045f4b7419408896d7c13a0eab97da</td>\n",
       "      <td>16</td>\n",
       "      <td>803.56</td>\n",
       "      <td>50.222500</td>\n",
       "      <td>199.12</td>\n",
       "      <td>156.06</td>\n",
       "      <td>9.753750</td>\n",
       "      <td>38.56</td>\n",
       "    </tr>\n",
       "    <tr>\n",
       "      <th>3</th>\n",
       "      <td>0007887cd841729063a0bb4248ef892b</td>\n",
       "      <td>8</td>\n",
       "      <td>280.46</td>\n",
       "      <td>35.057500</td>\n",
       "      <td>71.27</td>\n",
       "      <td>109.08</td>\n",
       "      <td>13.635000</td>\n",
       "      <td>27.54</td>\n",
       "    </tr>\n",
       "    <tr>\n",
       "      <th>4</th>\n",
       "      <td>00079f3acaf3f8926b580d162ae1090f</td>\n",
       "      <td>27</td>\n",
       "      <td>1859.85</td>\n",
       "      <td>68.883333</td>\n",
       "      <td>301.38</td>\n",
       "      <td>387.88</td>\n",
       "      <td>14.365926</td>\n",
       "      <td>58.99</td>\n",
       "    </tr>\n",
       "  </tbody>\n",
       "</table>\n",
       "</div>"
      ]
     },
     "execution_count": 6,
     "metadata": {},
     "output_type": "execute_result"
    }
   ],
   "execution_count": 6
  },
  {
   "metadata": {},
   "cell_type": "code",
   "outputs": [],
   "execution_count": null,
   "source": "",
   "id": "589df5764e04b537"
  }
 ],
 "metadata": {
  "kernelspec": {
   "display_name": "Python 3",
   "language": "python",
   "name": "python3"
  },
  "language_info": {
   "codemirror_mode": {
    "name": "ipython",
    "version": 2
   },
   "file_extension": ".py",
   "mimetype": "text/x-python",
   "name": "python",
   "nbconvert_exporter": "python",
   "pygments_lexer": "ipython2",
   "version": "2.7.6"
  }
 },
 "nbformat": 4,
 "nbformat_minor": 5
}
