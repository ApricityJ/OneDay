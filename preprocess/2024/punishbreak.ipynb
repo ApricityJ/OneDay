{
 "cells": [
  {
   "cell_type": "code",
   "id": "initial_id",
   "metadata": {
    "collapsed": true,
    "ExecuteTime": {
     "end_time": "2024-10-28T08:00:22.328778Z",
     "start_time": "2024-10-28T08:00:21.727736Z"
    }
   },
   "source": [
    "from data import loader, exporter\n",
    "from constant import *\n",
    "import pandas as pd"
   ],
   "outputs": [],
   "execution_count": 1
  },
  {
   "metadata": {
    "ExecuteTime": {
     "end_time": "2024-10-28T08:01:18.552400Z",
     "start_time": "2024-10-28T08:01:18.508851Z"
    }
   },
   "cell_type": "code",
   "source": [
    "def process_punishbreak_data(df):\n",
    "    # 1. 处理日期字段， %Y%m%d 格式\n",
    "    df['PUBLISHDATECLEAN'] = pd.to_datetime(df['PUBLISHDATECLEAN'], format='%Y%m%d', errors='coerce')\n",
    "    df['REGDATECLEAN'] = pd.to_datetime(df['REGDATECLEAN'], format='%Y%m%d', errors='coerce')\n",
    "    df['DATA_DAT'] = pd.to_datetime(df['DATA_DAT'], format='%Y%m%d', errors='coerce')\n",
    "\n",
    "    # 2. 计算每个企业的失信案件总次数\n",
    "    punishbreak_count = df.groupby('CUST_NO').size().reset_index(name='PUNISHBREAK_COUNT')\n",
    "\n",
    "    # 3. 计算最近失信案件发布日期与当前日期的差值\n",
    "    latest_punishbreak_date = df.groupby('CUST_NO')['PUBLISHDATECLEAN'].max().reset_index()\n",
    "    latest_punishbreak_with_date = pd.merge(latest_punishbreak_date, df[['CUST_NO', 'DATA_DAT']].drop_duplicates(), on='CUST_NO', how='left')\n",
    "    latest_punishbreak_with_date['DAYS_SINCE_LAST_PUNISHBREAK'] = (latest_punishbreak_with_date['DATA_DAT'] - latest_punishbreak_with_date['PUBLISHDATECLEAN']).dt.days\n",
    "\n",
    "    # 4. 统计每个企业涉及的法院数量\n",
    "    court_diversity = df.groupby('CUST_NO')['COURTNAME'].nunique().reset_index(name='PUNISHBREAK_COURT_DIVERSITY')\n",
    "\n",
    "    # 5. 统计履行情况（如未履行案件的数量和比例）\n",
    "    df['UNPERFORMED'] = df['PERFORMANCE'].apply(lambda x: 1 if pd.notnull(x) and '未履行' in x else 0)\n",
    "    unperformed_stats = df.groupby('CUST_NO')['UNPERFORMED'].agg(['sum', 'mean']).reset_index()\n",
    "    unperformed_stats.columns = ['CUST_NO', 'UNPERFORMED_COUNT', 'UNPERFORMED_RATIO']\n",
    "\n",
    "    # 合并所有特征\n",
    "    df_punishbreak_features = pd.merge(punishbreak_count, latest_punishbreak_with_date[['CUST_NO', 'DAYS_SINCE_LAST_PUNISHBREAK']], on='CUST_NO', how='left')\n",
    "    df_punishbreak_features = pd.merge(df_punishbreak_features, court_diversity, on='CUST_NO', how='left')\n",
    "    df_punishbreak_features = pd.merge(df_punishbreak_features, unperformed_stats, on='CUST_NO', how='left')\n",
    "\n",
    "    return df_punishbreak_features\n",
    "\n",
    "\n",
    "df_punishbreak = loader.to_concat_df('XW_ENTINFO_PUNISHBREAK')\n",
    "df_punishbreak_features = process_punishbreak_data(df_punishbreak)\n",
    "\n",
    "exporter.export_df_to_preprocess('punishbreak', df_punishbreak_features)\n",
    "df_punishbreak_features.head()\n"
   ],
   "id": "230827b82cfef36",
   "outputs": [
    {
     "data": {
      "text/plain": [
       "                            CUST_NO  PUNISHBREAK_COUNT  \\\n",
       "0  013c2759feb664c54ead50f6b3e6e6c0                  1   \n",
       "1  061264b7227fa718e6e9fbe0ebb5b910                  1   \n",
       "2  091388f072a588b6a20e553b5cdda79f                  1   \n",
       "3  0c936fbeaa2e4b8e5f7d8079dbd5ad0c                  1   \n",
       "4  0fb14d8f7a39b9cf61b310b74d910b9d                  3   \n",
       "\n",
       "   DAYS_SINCE_LAST_PUNISHBREAK  PUNISHBREAK_COURT_DIVERSITY  \\\n",
       "0                         2221                            1   \n",
       "1                            9                            1   \n",
       "2                         1059                            1   \n",
       "3                            3                            1   \n",
       "4                           44                            3   \n",
       "\n",
       "   UNPERFORMED_COUNT  UNPERFORMED_RATIO  \n",
       "0                  1                1.0  \n",
       "1                  1                1.0  \n",
       "2                  1                1.0  \n",
       "3                  1                1.0  \n",
       "4                  3                1.0  "
      ],
      "text/html": [
       "<div>\n",
       "<style scoped>\n",
       "    .dataframe tbody tr th:only-of-type {\n",
       "        vertical-align: middle;\n",
       "    }\n",
       "\n",
       "    .dataframe tbody tr th {\n",
       "        vertical-align: top;\n",
       "    }\n",
       "\n",
       "    .dataframe thead th {\n",
       "        text-align: right;\n",
       "    }\n",
       "</style>\n",
       "<table border=\"1\" class=\"dataframe\">\n",
       "  <thead>\n",
       "    <tr style=\"text-align: right;\">\n",
       "      <th></th>\n",
       "      <th>CUST_NO</th>\n",
       "      <th>PUNISHBREAK_COUNT</th>\n",
       "      <th>DAYS_SINCE_LAST_PUNISHBREAK</th>\n",
       "      <th>PUNISHBREAK_COURT_DIVERSITY</th>\n",
       "      <th>UNPERFORMED_COUNT</th>\n",
       "      <th>UNPERFORMED_RATIO</th>\n",
       "    </tr>\n",
       "  </thead>\n",
       "  <tbody>\n",
       "    <tr>\n",
       "      <th>0</th>\n",
       "      <td>013c2759feb664c54ead50f6b3e6e6c0</td>\n",
       "      <td>1</td>\n",
       "      <td>2221</td>\n",
       "      <td>1</td>\n",
       "      <td>1</td>\n",
       "      <td>1.0</td>\n",
       "    </tr>\n",
       "    <tr>\n",
       "      <th>1</th>\n",
       "      <td>061264b7227fa718e6e9fbe0ebb5b910</td>\n",
       "      <td>1</td>\n",
       "      <td>9</td>\n",
       "      <td>1</td>\n",
       "      <td>1</td>\n",
       "      <td>1.0</td>\n",
       "    </tr>\n",
       "    <tr>\n",
       "      <th>2</th>\n",
       "      <td>091388f072a588b6a20e553b5cdda79f</td>\n",
       "      <td>1</td>\n",
       "      <td>1059</td>\n",
       "      <td>1</td>\n",
       "      <td>1</td>\n",
       "      <td>1.0</td>\n",
       "    </tr>\n",
       "    <tr>\n",
       "      <th>3</th>\n",
       "      <td>0c936fbeaa2e4b8e5f7d8079dbd5ad0c</td>\n",
       "      <td>1</td>\n",
       "      <td>3</td>\n",
       "      <td>1</td>\n",
       "      <td>1</td>\n",
       "      <td>1.0</td>\n",
       "    </tr>\n",
       "    <tr>\n",
       "      <th>4</th>\n",
       "      <td>0fb14d8f7a39b9cf61b310b74d910b9d</td>\n",
       "      <td>3</td>\n",
       "      <td>44</td>\n",
       "      <td>3</td>\n",
       "      <td>3</td>\n",
       "      <td>1.0</td>\n",
       "    </tr>\n",
       "  </tbody>\n",
       "</table>\n",
       "</div>"
      ]
     },
     "execution_count": 3,
     "metadata": {},
     "output_type": "execute_result"
    }
   ],
   "execution_count": 3
  },
  {
   "metadata": {},
   "cell_type": "code",
   "outputs": [],
   "execution_count": null,
   "source": "",
   "id": "523589556443c651"
  }
 ],
 "metadata": {
  "kernelspec": {
   "display_name": "Python 3",
   "language": "python",
   "name": "python3"
  },
  "language_info": {
   "codemirror_mode": {
    "name": "ipython",
    "version": 2
   },
   "file_extension": ".py",
   "mimetype": "text/x-python",
   "name": "python",
   "nbconvert_exporter": "python",
   "pygments_lexer": "ipython2",
   "version": "2.7.6"
  }
 },
 "nbformat": 4,
 "nbformat_minor": 5
}
