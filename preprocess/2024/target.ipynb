{
 "cells": [
  {
   "cell_type": "code",
   "id": "initial_id",
   "metadata": {
    "collapsed": true,
    "ExecuteTime": {
     "end_time": "2024-10-28T08:32:43.119951Z",
     "start_time": "2024-10-28T08:32:42.445153Z"
    }
   },
   "source": [
    "from data import loader, exporter\n",
    "from constant import *\n",
    "import pandas as pd"
   ],
   "outputs": [],
   "execution_count": 2
  },
  {
   "metadata": {
    "ExecuteTime": {
     "end_time": "2024-10-28T08:32:51.023773Z",
     "start_time": "2024-10-28T08:32:50.949996Z"
    }
   },
   "cell_type": "code",
   "source": [
    "target = loader.to_concat_df('XW_ENTINFO_TARGET')\n",
    "\n",
    "target.head"
   ],
   "id": "5ce336a3e30c32fb",
   "outputs": [
    {
     "data": {
      "text/plain": [
       "<bound method NDFrame.head of       DATA_DAT                           CUST_NO  FLAG    SRC\n",
       "0     20030728  158a8d99bec2a2b652a6de45a2b52ec9   0.0  train\n",
       "1     20030728  b1d244a25a82adb7beafe33fe971402c   0.0  train\n",
       "2     20030728  85b1ab1270516d2ebe21ed00c6abbf27   0.0  train\n",
       "3     20030728  ef194610bdbecdea9af3cc23bceba8b2   0.0  train\n",
       "4     20030728  1220f9592fdd0b3fa9bbbd90e6d69d84   0.0  train\n",
       "...        ...                               ...   ...    ...\n",
       "5980  20030828  c3e7a6f3977f5e8faab6f12e2774f623   NaN   test\n",
       "5981  20030828  362971a7ef62e55ff7aad8109ab93829   NaN   test\n",
       "5982  20030828  458746be9ea05dd028cb3679090e4584   NaN   test\n",
       "5983  20030828  60452ece68500add14a81ac11184bb7a   NaN   test\n",
       "5984  20030828  4042bddd0eb44ea1397f91466d26eb03   NaN   test\n",
       "\n",
       "[59079 rows x 4 columns]>"
      ]
     },
     "execution_count": 4,
     "metadata": {},
     "output_type": "execute_result"
    }
   ],
   "execution_count": 4
  },
  {
   "metadata": {
    "ExecuteTime": {
     "end_time": "2024-10-28T08:34:16.855330Z",
     "start_time": "2024-10-28T08:34:16.727741Z"
    }
   },
   "cell_type": "code",
   "source": [
    "target = target[['CUST_NO','SRC','FLAG']]\n",
    "exporter.export_df_to_preprocess('target', target)"
   ],
   "id": "86eb0f7c546ab15a",
   "outputs": [],
   "execution_count": 6
  },
  {
   "metadata": {},
   "cell_type": "code",
   "outputs": [],
   "execution_count": null,
   "source": "",
   "id": "60fb9b42a7e4f6ca"
  }
 ],
 "metadata": {
  "kernelspec": {
   "display_name": "Python 3",
   "language": "python",
   "name": "python3"
  },
  "language_info": {
   "codemirror_mode": {
    "name": "ipython",
    "version": 2
   },
   "file_extension": ".py",
   "mimetype": "text/x-python",
   "name": "python",
   "nbconvert_exporter": "python",
   "pygments_lexer": "ipython2",
   "version": "2.7.6"
  }
 },
 "nbformat": 4,
 "nbformat_minor": 5
}
