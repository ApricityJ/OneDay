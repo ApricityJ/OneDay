{
 "cells": [
  {
   "cell_type": "code",
   "id": "initial_id",
   "metadata": {
    "collapsed": true,
    "ExecuteTime": {
     "end_time": "2024-10-28T07:40:27.881183Z",
     "start_time": "2024-10-28T07:40:27.876173Z"
    }
   },
   "source": [
    "from data import loader, exporter\n",
    "from constant import *\n",
    "import pandas as pd"
   ],
   "outputs": [],
   "execution_count": 2
  },
  {
   "metadata": {
    "ExecuteTime": {
     "end_time": "2024-10-28T07:52:58.861574Z",
     "start_time": "2024-10-28T07:52:55.746170Z"
    }
   },
   "cell_type": "code",
   "source": [
    "import pandas as pd\n",
    "\n",
    "def process_alter_data(df):\n",
    "    # 1. 处理日期字段， %Y%m%d 格式\n",
    "    df['ALTDATE'] = pd.to_datetime(df['ALTDATE'], format='%Y%m%d', errors='coerce')\n",
    "    df['DATA_DAT'] = pd.to_datetime(df['DATA_DAT'], format='%Y%m%d', errors='coerce')\n",
    "\n",
    "    # 2. 计算每个企业的变更总次数\n",
    "    alter_count = df.groupby('CUST_NO').size().reset_index(name='ALTER_COUNT')\n",
    "\n",
    "    # 3. 提取包含关键字的变更条目数量（如“投资人变更”和“法定代表人变更”）\n",
    "    df['INVESTOR_CHANGE_COUNT'] = df['ALTITEM'].apply(lambda x: 1 if pd.notnull(x) and '投资人变更' in x else 0)\n",
    "    df['LEGAL_REP_CHANGE_COUNT'] = df['ALTITEM'].apply(lambda x: 1 if pd.notnull(x) and '法定代表人变更' in x else 0)\n",
    "\n",
    "    investor_change_count = df.groupby('CUST_NO')['INVESTOR_CHANGE_COUNT'].sum().reset_index()\n",
    "    legal_rep_change_count = df.groupby('CUST_NO')['LEGAL_REP_CHANGE_COUNT'].sum().reset_index()\n",
    "\n",
    "    # 5. 计算最新变更时间\n",
    "    latest_alter_date = df.groupby('CUST_NO')['ALTDATE'].max().reset_index()\n",
    "\n",
    "    # 将最新变更日期与 DATA_DAT 关联\n",
    "    df_latest_with_date = pd.merge(latest_alter_date, df[['CUST_NO', 'DATA_DAT']].drop_duplicates(), on='CUST_NO', how='left')\n",
    "    df_latest_with_date['DAYS_SINCE_LAST_ALTER'] = (df_latest_with_date['DATA_DAT'] - df_latest_with_date['ALTDATE']).dt.days\n",
    "\n",
    "    # 6. 计算变更类型多样性\n",
    "    alter_type_diversity = df.groupby('CUST_NO')['ALTITEM'].nunique().reset_index(name='ALTER_TYPE_DIVERSITY')\n",
    "\n",
    "    # 合并所有特征\n",
    "    df_alter_features = pd.merge(alter_count, df_latest_with_date[['CUST_NO', 'DAYS_SINCE_LAST_ALTER']], on='CUST_NO', how='left')\n",
    "    df_alter_features = pd.merge(df_alter_features, alter_type_diversity, on='CUST_NO', how='left')\n",
    "    df_alter_features = pd.merge(df_alter_features, investor_change_count, on='CUST_NO', how='left')\n",
    "    df_alter_features = pd.merge(df_alter_features, legal_rep_change_count, on='CUST_NO', how='left')\n",
    "\n",
    "    return df_alter_features\n",
    "\n",
    "\n",
    "df_alter = loader.to_concat_df('XW_ENTINFO_ALTER')\n",
    "df_alter_features = process_alter_data(df_alter)\n",
    "\n",
    "\n",
    "exporter.export_df_to_preprocess('alter', df_alter_features)\n",
    "df_alter_features.head()"
   ],
   "id": "8f265708f5ab4f10",
   "outputs": [
    {
     "data": {
      "text/plain": [
       "                            CUST_NO  ALTER_COUNT  DAYS_SINCE_LAST_ALTER  \\\n",
       "0  000034607497713173a75a0d9910cb52           13                    564   \n",
       "1  0000dfb26b1e1fb3d96c92eb3f00a3d4            2                   1590   \n",
       "2  000345391aea2896517e68e4f73d5d23            9                   1206   \n",
       "3  00045f4b7419408896d7c13a0eab97da            8                    344   \n",
       "4  00046e5ae9162b4755252da75e750116            8                    493   \n",
       "\n",
       "   ALTER_TYPE_DIVERSITY  INVESTOR_CHANGE_COUNT  LEGAL_REP_CHANGE_COUNT  \n",
       "0                     6                      0                       1  \n",
       "1                     2                      0                       0  \n",
       "2                     6                      2                       0  \n",
       "3                     4                      0                       0  \n",
       "4                     7                      0                       1  "
      ],
      "text/html": [
       "<div>\n",
       "<style scoped>\n",
       "    .dataframe tbody tr th:only-of-type {\n",
       "        vertical-align: middle;\n",
       "    }\n",
       "\n",
       "    .dataframe tbody tr th {\n",
       "        vertical-align: top;\n",
       "    }\n",
       "\n",
       "    .dataframe thead th {\n",
       "        text-align: right;\n",
       "    }\n",
       "</style>\n",
       "<table border=\"1\" class=\"dataframe\">\n",
       "  <thead>\n",
       "    <tr style=\"text-align: right;\">\n",
       "      <th></th>\n",
       "      <th>CUST_NO</th>\n",
       "      <th>ALTER_COUNT</th>\n",
       "      <th>DAYS_SINCE_LAST_ALTER</th>\n",
       "      <th>ALTER_TYPE_DIVERSITY</th>\n",
       "      <th>INVESTOR_CHANGE_COUNT</th>\n",
       "      <th>LEGAL_REP_CHANGE_COUNT</th>\n",
       "    </tr>\n",
       "  </thead>\n",
       "  <tbody>\n",
       "    <tr>\n",
       "      <th>0</th>\n",
       "      <td>000034607497713173a75a0d9910cb52</td>\n",
       "      <td>13</td>\n",
       "      <td>564</td>\n",
       "      <td>6</td>\n",
       "      <td>0</td>\n",
       "      <td>1</td>\n",
       "    </tr>\n",
       "    <tr>\n",
       "      <th>1</th>\n",
       "      <td>0000dfb26b1e1fb3d96c92eb3f00a3d4</td>\n",
       "      <td>2</td>\n",
       "      <td>1590</td>\n",
       "      <td>2</td>\n",
       "      <td>0</td>\n",
       "      <td>0</td>\n",
       "    </tr>\n",
       "    <tr>\n",
       "      <th>2</th>\n",
       "      <td>000345391aea2896517e68e4f73d5d23</td>\n",
       "      <td>9</td>\n",
       "      <td>1206</td>\n",
       "      <td>6</td>\n",
       "      <td>2</td>\n",
       "      <td>0</td>\n",
       "    </tr>\n",
       "    <tr>\n",
       "      <th>3</th>\n",
       "      <td>00045f4b7419408896d7c13a0eab97da</td>\n",
       "      <td>8</td>\n",
       "      <td>344</td>\n",
       "      <td>4</td>\n",
       "      <td>0</td>\n",
       "      <td>0</td>\n",
       "    </tr>\n",
       "    <tr>\n",
       "      <th>4</th>\n",
       "      <td>00046e5ae9162b4755252da75e750116</td>\n",
       "      <td>8</td>\n",
       "      <td>493</td>\n",
       "      <td>7</td>\n",
       "      <td>0</td>\n",
       "      <td>1</td>\n",
       "    </tr>\n",
       "  </tbody>\n",
       "</table>\n",
       "</div>"
      ]
     },
     "execution_count": 11,
     "metadata": {},
     "output_type": "execute_result"
    }
   ],
   "execution_count": 11
  },
  {
   "metadata": {},
   "cell_type": "code",
   "outputs": [],
   "execution_count": null,
   "source": "",
   "id": "bbd68ae2204ed3be"
  }
 ],
 "metadata": {
  "kernelspec": {
   "display_name": "Python 3",
   "language": "python",
   "name": "python3"
  },
  "language_info": {
   "codemirror_mode": {
    "name": "ipython",
    "version": 2
   },
   "file_extension": ".py",
   "mimetype": "text/x-python",
   "name": "python",
   "nbconvert_exporter": "python",
   "pygments_lexer": "ipython2",
   "version": "2.7.6"
  }
 },
 "nbformat": 4,
 "nbformat_minor": 5
}
