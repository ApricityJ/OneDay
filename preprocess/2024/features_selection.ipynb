{
 "cells": [
  {
   "metadata": {},
   "cell_type": "markdown",
   "source": "#### III 特征筛选",
   "id": "1336a4fef5ac1471"
  },
  {
   "metadata": {
    "ExecuteTime": {
     "end_time": "2024-10-28T10:13:55.020202Z",
     "start_time": "2024-10-28T10:13:53.762170Z"
    }
   },
   "cell_type": "code",
   "source": [
    "import os.path\n",
    "from constant import *\n",
    "import numpy as np\n",
    "import pandas as pd\n",
    "import lightgbm as lgb\n",
    "import seaborn as sns\n",
    "import shap\n",
    "from pandas import DataFrame\n",
    "from sklearn.model_selection import train_test_split, StratifiedKFold\n",
    "from sklearn.metrics import roc_auc_score, fbeta_score, precision_score, recall_score, roc_curve\n",
    "from data import loader, exporter\n",
    "import matplotlib.pyplot as plt"
   ],
   "id": "dada5acd5f410470",
   "outputs": [],
   "execution_count": 1
  },
  {
   "metadata": {
    "ExecuteTime": {
     "end_time": "2024-10-28T02:09:23.735298Z",
     "start_time": "2024-10-28T02:09:23.722297Z"
    }
   },
   "cell_type": "code",
   "source": [
    "# 特征选择方法：使用不同随机种子进行训练，保留重要特征\n",
    "def run_feature_importance_analysis(X, y, seeds, num_runs=30):\n",
    "    \"\"\"多次运行LGBM模型，统计每个特征的重要性分布\"\"\"\n",
    "    \n",
    "    feature_importances = pd.DataFrame()\n",
    "    feature_importances['feature'] = X.columns\n",
    "    \n",
    "    for run in range(num_runs):\n",
    "        # 随机选择一个种子\n",
    "        seed = np.random.choice(seeds)\n",
    "        print(f\"Run {run + 1}/{num_runs} with seed: {seed}\")\n",
    "        \n",
    "        # 打乱特征顺序\n",
    "        shuffled_features = np.random.permutation(X.columns)\n",
    "        X_shuffled = X[shuffled_features]\n",
    "        \n",
    "        # 分割数据集\n",
    "        X_train, X_valid, y_train, y_valid = train_test_split(X_shuffled, y, test_size=0.2, random_state=seed)\n",
    "        \n",
    "        # 定义LightGBM模型\n",
    "        model = lgb.LGBMClassifier(random_state=seed, n_estimators=1000, learning_rate=0.1)\n",
    "        model.fit(\n",
    "            X_train, y_train,\n",
    "            eval_set=[(X_valid, y_valid)],\n",
    "            eval_metric='auc',\n",
    "            callbacks=[lgb.log_evaluation(period=100),\n",
    "                       lgb.early_stopping(stopping_rounds=100)]  \n",
    "        )\n",
    "        \n",
    "        # 获取特征重要性并保存\n",
    "        fold_importance = model.feature_importances_\n",
    "        feature_importances[f'run_{run + 1}'] = fold_importance\n",
    "\n",
    "    # 计算每个特征的重要性分布\n",
    "    feature_importances['mean_importance'] = feature_importances.iloc[:, 1:].mean(axis=1)\n",
    "    feature_importances['std_importance'] = feature_importances.iloc[:, 1:].std(axis=1)\n",
    "    \n",
    "    return feature_importances\n",
    "\n"
   ],
   "id": "a8b8b334a05cb346",
   "outputs": [],
   "execution_count": 4
  },
  {
   "metadata": {
    "ExecuteTime": {
     "end_time": "2024-10-27T13:12:01.763114Z",
     "start_time": "2024-10-27T13:10:08.356783Z"
    }
   },
   "cell_type": "code",
   "outputs": [
    {
     "name": "stderr",
     "output_type": "stream",
     "text": [
      "\n",
      "A value is trying to be set on a copy of a slice from a DataFrame\n",
      "\n",
      "See the caveats in the documentation: https://pandas.pydata.org/pandas-docs/stable/user_guide/indexing.html#returning-a-view-versus-a-copy\n"
     ]
    },
    {
     "name": "stdout",
     "output_type": "stream",
     "text": [
      "Run 1/30 with seed: 2468\n",
      "Training until validation scores don't improve for 100 rounds\n",
      "[100]\tvalid_0's auc: 0.832241\tvalid_0's binary_logloss: 0.161898\n",
      "Early stopping, best iteration is:\n",
      "[39]\tvalid_0's auc: 0.832371\tvalid_0's binary_logloss: 0.159082\n",
      "Run 2/30 with seed: 1357\n",
      "Training until validation scores don't improve for 100 rounds\n",
      "[100]\tvalid_0's auc: 0.845953\tvalid_0's binary_logloss: 0.164752\n",
      "Early stopping, best iteration is:\n",
      "[25]\tvalid_0's auc: 0.848437\tvalid_0's binary_logloss: 0.162876\n",
      "Run 3/30 with seed: 2580\n",
      "Training until validation scores don't improve for 100 rounds\n",
      "[100]\tvalid_0's auc: 0.849809\tvalid_0's binary_logloss: 0.15723\n",
      "Early stopping, best iteration is:\n",
      "[28]\tvalid_0's auc: 0.854047\tvalid_0's binary_logloss: 0.155393\n",
      "Run 4/30 with seed: 606\n",
      "Training until validation scores don't improve for 100 rounds\n",
      "[100]\tvalid_0's auc: 0.847282\tvalid_0's binary_logloss: 0.16174\n",
      "Early stopping, best iteration is:\n",
      "[27]\tvalid_0's auc: 0.852258\tvalid_0's binary_logloss: 0.159483\n",
      "Run 5/30 with seed: 707\n",
      "Training until validation scores don't improve for 100 rounds\n",
      "[100]\tvalid_0's auc: 0.839731\tvalid_0's binary_logloss: 0.160605\n",
      "Early stopping, best iteration is:\n",
      "[23]\tvalid_0's auc: 0.847672\tvalid_0's binary_logloss: 0.158309\n",
      "Run 6/30 with seed: 111\n",
      "Training until validation scores don't improve for 100 rounds\n",
      "[100]\tvalid_0's auc: 0.845693\tvalid_0's binary_logloss: 0.160262\n",
      "Early stopping, best iteration is:\n",
      "[38]\tvalid_0's auc: 0.84709\tvalid_0's binary_logloss: 0.157713\n",
      "Run 7/30 with seed: 2580\n",
      "Training until validation scores don't improve for 100 rounds\n",
      "[100]\tvalid_0's auc: 0.847842\tvalid_0's binary_logloss: 0.15826\n",
      "Early stopping, best iteration is:\n",
      "[26]\tvalid_0's auc: 0.854204\tvalid_0's binary_logloss: 0.15544\n",
      "Run 8/30 with seed: 101\n",
      "Training until validation scores don't improve for 100 rounds\n",
      "[100]\tvalid_0's auc: 0.851593\tvalid_0's binary_logloss: 0.153232\n",
      "Early stopping, best iteration is:\n",
      "[33]\tvalid_0's auc: 0.852757\tvalid_0's binary_logloss: 0.152128\n",
      "Run 9/30 with seed: 3690\n",
      "Training until validation scores don't improve for 100 rounds\n",
      "[100]\tvalid_0's auc: 0.832478\tvalid_0's binary_logloss: 0.165613\n",
      "Early stopping, best iteration is:\n",
      "[27]\tvalid_0's auc: 0.834483\tvalid_0's binary_logloss: 0.16273\n",
      "Run 10/30 with seed: 8765\n",
      "Training until validation scores don't improve for 100 rounds\n",
      "[100]\tvalid_0's auc: 0.841894\tvalid_0's binary_logloss: 0.164165\n",
      "Early stopping, best iteration is:\n",
      "[43]\tvalid_0's auc: 0.843137\tvalid_0's binary_logloss: 0.161609\n",
      "Run 11/30 with seed: 777\n",
      "Training until validation scores don't improve for 100 rounds\n",
      "[100]\tvalid_0's auc: 0.839288\tvalid_0's binary_logloss: 0.163664\n",
      "Early stopping, best iteration is:\n",
      "[60]\tvalid_0's auc: 0.840592\tvalid_0's binary_logloss: 0.161286\n",
      "Run 12/30 with seed: 101\n",
      "Training until validation scores don't improve for 100 rounds\n",
      "[100]\tvalid_0's auc: 0.852023\tvalid_0's binary_logloss: 0.153155\n",
      "Early stopping, best iteration is:\n",
      "[33]\tvalid_0's auc: 0.853463\tvalid_0's binary_logloss: 0.152006\n",
      "Run 13/30 with seed: 222\n",
      "Training until validation scores don't improve for 100 rounds\n",
      "[100]\tvalid_0's auc: 0.833151\tvalid_0's binary_logloss: 0.162902\n",
      "Early stopping, best iteration is:\n",
      "[27]\tvalid_0's auc: 0.839205\tvalid_0's binary_logloss: 0.15954\n",
      "Run 14/30 with seed: 808\n",
      "Training until validation scores don't improve for 100 rounds\n",
      "[100]\tvalid_0's auc: 0.823815\tvalid_0's binary_logloss: 0.167034\n",
      "Early stopping, best iteration is:\n",
      "[32]\tvalid_0's auc: 0.837889\tvalid_0's binary_logloss: 0.160108\n",
      "Run 15/30 with seed: 505\n",
      "Training until validation scores don't improve for 100 rounds\n",
      "[100]\tvalid_0's auc: 0.849312\tvalid_0's binary_logloss: 0.14922\n",
      "Early stopping, best iteration is:\n",
      "[29]\tvalid_0's auc: 0.856814\tvalid_0's binary_logloss: 0.148247\n",
      "Run 16/30 with seed: 8765\n",
      "Training until validation scores don't improve for 100 rounds\n",
      "[100]\tvalid_0's auc: 0.844643\tvalid_0's binary_logloss: 0.164042\n",
      "Early stopping, best iteration is:\n",
      "[40]\tvalid_0's auc: 0.839012\tvalid_0's binary_logloss: 0.162836\n",
      "Run 17/30 with seed: 3690\n",
      "Training until validation scores don't improve for 100 rounds\n",
      "[100]\tvalid_0's auc: 0.831814\tvalid_0's binary_logloss: 0.165562\n",
      "Early stopping, best iteration is:\n",
      "[34]\tvalid_0's auc: 0.835181\tvalid_0's binary_logloss: 0.162198\n",
      "Run 18/30 with seed: 5678\n",
      "Training until validation scores don't improve for 100 rounds\n",
      "[100]\tvalid_0's auc: 0.832878\tvalid_0's binary_logloss: 0.166028\n",
      "Early stopping, best iteration is:\n",
      "[33]\tvalid_0's auc: 0.839091\tvalid_0's binary_logloss: 0.161983\n",
      "Run 19/30 with seed: 3690\n",
      "Training until validation scores don't improve for 100 rounds\n",
      "[100]\tvalid_0's auc: 0.835447\tvalid_0's binary_logloss: 0.163936\n",
      "Early stopping, best iteration is:\n",
      "[57]\tvalid_0's auc: 0.841031\tvalid_0's binary_logloss: 0.16077\n",
      "Run 20/30 with seed: 111\n",
      "Training until validation scores don't improve for 100 rounds\n",
      "[100]\tvalid_0's auc: 0.845735\tvalid_0's binary_logloss: 0.160354\n",
      "Early stopping, best iteration is:\n",
      "[38]\tvalid_0's auc: 0.84713\tvalid_0's binary_logloss: 0.157741\n",
      "Run 21/30 with seed: 1357\n",
      "Training until validation scores don't improve for 100 rounds\n",
      "[100]\tvalid_0's auc: 0.844281\tvalid_0's binary_logloss: 0.164861\n",
      "Early stopping, best iteration is:\n",
      "[33]\tvalid_0's auc: 0.850532\tvalid_0's binary_logloss: 0.16171\n",
      "Run 22/30 with seed: 4321\n",
      "Training until validation scores don't improve for 100 rounds\n",
      "[100]\tvalid_0's auc: 0.821939\tvalid_0's binary_logloss: 0.157394\n",
      "Early stopping, best iteration is:\n",
      "[36]\tvalid_0's auc: 0.820282\tvalid_0's binary_logloss: 0.154147\n",
      "Run 23/30 with seed: 303\n",
      "Training until validation scores don't improve for 100 rounds\n",
      "[100]\tvalid_0's auc: 0.8373\tvalid_0's binary_logloss: 0.159797\n",
      "Early stopping, best iteration is:\n",
      "[33]\tvalid_0's auc: 0.840582\tvalid_0's binary_logloss: 0.156327\n",
      "Run 24/30 with seed: 999\n",
      "Training until validation scores don't improve for 100 rounds\n",
      "[100]\tvalid_0's auc: 0.834224\tvalid_0's binary_logloss: 0.161664\n",
      "Early stopping, best iteration is:\n",
      "[28]\tvalid_0's auc: 0.841755\tvalid_0's binary_logloss: 0.157772\n",
      "Run 25/30 with seed: 1234\n",
      "Training until validation scores don't improve for 100 rounds\n",
      "[100]\tvalid_0's auc: 0.839789\tvalid_0's binary_logloss: 0.160728\n",
      "Early stopping, best iteration is:\n",
      "[32]\tvalid_0's auc: 0.843363\tvalid_0's binary_logloss: 0.157171\n",
      "Run 26/30 with seed: 9876\n",
      "Training until validation scores don't improve for 100 rounds\n",
      "[100]\tvalid_0's auc: 0.831792\tvalid_0's binary_logloss: 0.166896\n",
      "Early stopping, best iteration is:\n",
      "[25]\tvalid_0's auc: 0.839532\tvalid_0's binary_logloss: 0.163085\n",
      "Run 27/30 with seed: 5678\n",
      "Training until validation scores don't improve for 100 rounds\n",
      "[100]\tvalid_0's auc: 0.833168\tvalid_0's binary_logloss: 0.166244\n",
      "Early stopping, best iteration is:\n",
      "[32]\tvalid_0's auc: 0.8392\tvalid_0's binary_logloss: 0.162395\n",
      "Run 28/30 with seed: 3690\n",
      "Training until validation scores don't improve for 100 rounds\n",
      "[100]\tvalid_0's auc: 0.834844\tvalid_0's binary_logloss: 0.164922\n",
      "Early stopping, best iteration is:\n",
      "[38]\tvalid_0's auc: 0.83572\tvalid_0's binary_logloss: 0.162259\n",
      "Run 29/30 with seed: 1357\n",
      "Training until validation scores don't improve for 100 rounds\n",
      "[100]\tvalid_0's auc: 0.84422\tvalid_0's binary_logloss: 0.164943\n",
      "Early stopping, best iteration is:\n",
      "[33]\tvalid_0's auc: 0.850513\tvalid_0's binary_logloss: 0.161726\n",
      "Run 30/30 with seed: 303\n",
      "Training until validation scores don't improve for 100 rounds\n",
      "[100]\tvalid_0's auc: 0.837561\tvalid_0's binary_logloss: 0.159693\n",
      "Early stopping, best iteration is:\n",
      "[33]\tvalid_0's auc: 0.840666\tvalid_0's binary_logloss: 0.156292\n"
     ]
    },
    {
     "data": {
      "text/plain": "                     feature  run_1  run_2  run_3  run_4  run_5  run_6  run_7  \\\n0              NTRL_CUST_AGE      7      2      3      4      1      2      4   \n1           NTRL_CUST_SEX_CD      1      1      0      0      2      5      1   \n2                 DAY_FA_BAL      3      2      9      5      0      2      2   \n3               MAVER_FA_BAL      2      3      4      0      1      5      1   \n4               SAVER_FA_BAL      0      1      1      2      1      9      0   \n..                       ...    ...    ...    ...    ...    ...    ...    ...   \n588  MAVER_FA_minus_SAVER_FA      4      2      1      0      3      0      0   \n589    MAVER_FA_div_YAVER_FA      2      1      6      1      0      0      1   \n590  MAVER_FA_minus_YAVER_FA      0      1      0      0      0      0      0   \n591    SAVER_FA_div_YAVER_FA      0      0      1      5      0      1      0   \n592  SAVER_FA_minus_YAVER_FA      1      0      0      0      0      4      0   \n\n     run_8  run_9  ...  run_23  run_24  run_25  run_26  run_27  run_28  \\\n0        1      0  ...       5       3       0       0       1       0   \n1        3      2  ...       2       3       0      10       3       1   \n2        0      0  ...       6       2       4       3       0       4   \n3        1      2  ...       3       0       2       0       1       4   \n4        4      0  ...       1       1       5       7      10       0   \n..     ...    ...  ...     ...     ...     ...     ...     ...     ...   \n588      1      0  ...       1       0       1       1       0       0   \n589      2      0  ...       0       0       4       3       1       1   \n590      2      0  ...       1       2       4       0       4       0   \n591      0      0  ...       4       0       1       0       0       0   \n592      1      0  ...       1       1       0       1       1       0   \n\n     run_29  run_30  mean_importance  std_importance  \n0         9       6         3.100000        3.409301  \n1         3       0         2.400000        3.536477  \n2         9       7         2.933333        2.768072  \n3         5       3         2.200000        1.886796  \n4         0       5         2.700000        2.979374  \n..      ...     ...              ...             ...  \n588       0       1         1.266667        1.504069  \n589       6       1         1.166667        1.714319  \n590       0       1         0.933333        1.730767  \n591       0       0         0.900000        1.989137  \n592       0       1         0.833333        1.293144  \n\n[593 rows x 33 columns]",
      "text/html": "<div>\n<style scoped>\n    .dataframe tbody tr th:only-of-type {\n        vertical-align: middle;\n    }\n\n    .dataframe tbody tr th {\n        vertical-align: top;\n    }\n\n    .dataframe thead th {\n        text-align: right;\n    }\n</style>\n<table border=\"1\" class=\"dataframe\">\n  <thead>\n    <tr style=\"text-align: right;\">\n      <th></th>\n      <th>feature</th>\n      <th>run_1</th>\n      <th>run_2</th>\n      <th>run_3</th>\n      <th>run_4</th>\n      <th>run_5</th>\n      <th>run_6</th>\n      <th>run_7</th>\n      <th>run_8</th>\n      <th>run_9</th>\n      <th>...</th>\n      <th>run_23</th>\n      <th>run_24</th>\n      <th>run_25</th>\n      <th>run_26</th>\n      <th>run_27</th>\n      <th>run_28</th>\n      <th>run_29</th>\n      <th>run_30</th>\n      <th>mean_importance</th>\n      <th>std_importance</th>\n    </tr>\n  </thead>\n  <tbody>\n    <tr>\n      <th>0</th>\n      <td>NTRL_CUST_AGE</td>\n      <td>7</td>\n      <td>2</td>\n      <td>3</td>\n      <td>4</td>\n      <td>1</td>\n      <td>2</td>\n      <td>4</td>\n      <td>1</td>\n      <td>0</td>\n      <td>...</td>\n      <td>5</td>\n      <td>3</td>\n      <td>0</td>\n      <td>0</td>\n      <td>1</td>\n      <td>0</td>\n      <td>9</td>\n      <td>6</td>\n      <td>3.100000</td>\n      <td>3.409301</td>\n    </tr>\n    <tr>\n      <th>1</th>\n      <td>NTRL_CUST_SEX_CD</td>\n      <td>1</td>\n      <td>1</td>\n      <td>0</td>\n      <td>0</td>\n      <td>2</td>\n      <td>5</td>\n      <td>1</td>\n      <td>3</td>\n      <td>2</td>\n      <td>...</td>\n      <td>2</td>\n      <td>3</td>\n      <td>0</td>\n      <td>10</td>\n      <td>3</td>\n      <td>1</td>\n      <td>3</td>\n      <td>0</td>\n      <td>2.400000</td>\n      <td>3.536477</td>\n    </tr>\n    <tr>\n      <th>2</th>\n      <td>DAY_FA_BAL</td>\n      <td>3</td>\n      <td>2</td>\n      <td>9</td>\n      <td>5</td>\n      <td>0</td>\n      <td>2</td>\n      <td>2</td>\n      <td>0</td>\n      <td>0</td>\n      <td>...</td>\n      <td>6</td>\n      <td>2</td>\n      <td>4</td>\n      <td>3</td>\n      <td>0</td>\n      <td>4</td>\n      <td>9</td>\n      <td>7</td>\n      <td>2.933333</td>\n      <td>2.768072</td>\n    </tr>\n    <tr>\n      <th>3</th>\n      <td>MAVER_FA_BAL</td>\n      <td>2</td>\n      <td>3</td>\n      <td>4</td>\n      <td>0</td>\n      <td>1</td>\n      <td>5</td>\n      <td>1</td>\n      <td>1</td>\n      <td>2</td>\n      <td>...</td>\n      <td>3</td>\n      <td>0</td>\n      <td>2</td>\n      <td>0</td>\n      <td>1</td>\n      <td>4</td>\n      <td>5</td>\n      <td>3</td>\n      <td>2.200000</td>\n      <td>1.886796</td>\n    </tr>\n    <tr>\n      <th>4</th>\n      <td>SAVER_FA_BAL</td>\n      <td>0</td>\n      <td>1</td>\n      <td>1</td>\n      <td>2</td>\n      <td>1</td>\n      <td>9</td>\n      <td>0</td>\n      <td>4</td>\n      <td>0</td>\n      <td>...</td>\n      <td>1</td>\n      <td>1</td>\n      <td>5</td>\n      <td>7</td>\n      <td>10</td>\n      <td>0</td>\n      <td>0</td>\n      <td>5</td>\n      <td>2.700000</td>\n      <td>2.979374</td>\n    </tr>\n    <tr>\n      <th>...</th>\n      <td>...</td>\n      <td>...</td>\n      <td>...</td>\n      <td>...</td>\n      <td>...</td>\n      <td>...</td>\n      <td>...</td>\n      <td>...</td>\n      <td>...</td>\n      <td>...</td>\n      <td>...</td>\n      <td>...</td>\n      <td>...</td>\n      <td>...</td>\n      <td>...</td>\n      <td>...</td>\n      <td>...</td>\n      <td>...</td>\n      <td>...</td>\n      <td>...</td>\n      <td>...</td>\n    </tr>\n    <tr>\n      <th>588</th>\n      <td>MAVER_FA_minus_SAVER_FA</td>\n      <td>4</td>\n      <td>2</td>\n      <td>1</td>\n      <td>0</td>\n      <td>3</td>\n      <td>0</td>\n      <td>0</td>\n      <td>1</td>\n      <td>0</td>\n      <td>...</td>\n      <td>1</td>\n      <td>0</td>\n      <td>1</td>\n      <td>1</td>\n      <td>0</td>\n      <td>0</td>\n      <td>0</td>\n      <td>1</td>\n      <td>1.266667</td>\n      <td>1.504069</td>\n    </tr>\n    <tr>\n      <th>589</th>\n      <td>MAVER_FA_div_YAVER_FA</td>\n      <td>2</td>\n      <td>1</td>\n      <td>6</td>\n      <td>1</td>\n      <td>0</td>\n      <td>0</td>\n      <td>1</td>\n      <td>2</td>\n      <td>0</td>\n      <td>...</td>\n      <td>0</td>\n      <td>0</td>\n      <td>4</td>\n      <td>3</td>\n      <td>1</td>\n      <td>1</td>\n      <td>6</td>\n      <td>1</td>\n      <td>1.166667</td>\n      <td>1.714319</td>\n    </tr>\n    <tr>\n      <th>590</th>\n      <td>MAVER_FA_minus_YAVER_FA</td>\n      <td>0</td>\n      <td>1</td>\n      <td>0</td>\n      <td>0</td>\n      <td>0</td>\n      <td>0</td>\n      <td>0</td>\n      <td>2</td>\n      <td>0</td>\n      <td>...</td>\n      <td>1</td>\n      <td>2</td>\n      <td>4</td>\n      <td>0</td>\n      <td>4</td>\n      <td>0</td>\n      <td>0</td>\n      <td>1</td>\n      <td>0.933333</td>\n      <td>1.730767</td>\n    </tr>\n    <tr>\n      <th>591</th>\n      <td>SAVER_FA_div_YAVER_FA</td>\n      <td>0</td>\n      <td>0</td>\n      <td>1</td>\n      <td>5</td>\n      <td>0</td>\n      <td>1</td>\n      <td>0</td>\n      <td>0</td>\n      <td>0</td>\n      <td>...</td>\n      <td>4</td>\n      <td>0</td>\n      <td>1</td>\n      <td>0</td>\n      <td>0</td>\n      <td>0</td>\n      <td>0</td>\n      <td>0</td>\n      <td>0.900000</td>\n      <td>1.989137</td>\n    </tr>\n    <tr>\n      <th>592</th>\n      <td>SAVER_FA_minus_YAVER_FA</td>\n      <td>1</td>\n      <td>0</td>\n      <td>0</td>\n      <td>0</td>\n      <td>0</td>\n      <td>4</td>\n      <td>0</td>\n      <td>1</td>\n      <td>0</td>\n      <td>...</td>\n      <td>1</td>\n      <td>1</td>\n      <td>0</td>\n      <td>1</td>\n      <td>1</td>\n      <td>0</td>\n      <td>0</td>\n      <td>1</td>\n      <td>0.833333</td>\n      <td>1.293144</td>\n    </tr>\n  </tbody>\n</table>\n<p>593 rows × 33 columns</p>\n</div>"
     },
     "execution_count": 59,
     "metadata": {},
     "output_type": "execute_result"
    }
   ],
   "execution_count": 59,
   "source": [
    " # 读取数据\n",
    "df_target = to_concat_df('TARGET')\n",
    "df_flat = pd.read_csv(f'{dir_process}/df_flat.csv')\n",
    "df_flat = df_flat.merge(df_target, left_on=['CUST_NO', 'is_train'], right_on=['CUST_NO', 'is_train'], how='inner')\n",
    "\n",
    "\n",
    "X = df_flat[df_flat['is_train'] == 1]\n",
    "X.drop(columns=['DATA_DAT', 'CARD_NO', 'CUST_NO','is_train'], inplace=True)\n",
    "y = X.pop(\"FLAG\")  # 目标标签列\n",
    "\n",
    "# 随机种子列表\n",
    "seeds = [42, 101, 202, 303, 404, 505, 606, 707, 808, 909,\n",
    "         111, 222, 333, 444, 555, 666, 777, 888, 999, 1234,\n",
    "         4321, 5678, 8765, 1357, 2468, 3698, 1470, 2580, 3690, 9876]\n",
    "\n",
    "# 执行特征选择\n",
    "feature_importances = run_feature_importance_analysis(X, y, seeds)\n",
    "\n",
    "feature_importances"
   ],
   "id": "250467bcacb969bb"
  },
  {
   "cell_type": "code",
   "source": [
    "selected_features = feature_importances[(feature_importances['mean_importance'] > 3 and feature_importances['mean_importance']>3 )]['feature'].tolist()\n",
    "selected_features"
   ],
   "metadata": {
    "collapsed": false,
    "ExecuteTime": {
     "end_time": "2024-10-28T00:49:53.488382Z",
     "start_time": "2024-10-28T00:49:53.021943Z"
    }
   },
   "id": "c9a16a54f7269cd5",
   "outputs": [
    {
     "ename": "NameError",
     "evalue": "name 'feature_importances' is not defined",
     "output_type": "error",
     "traceback": [
      "\u001B[1;31m---------------------------------------------------------------------------\u001B[0m",
      "\u001B[1;31mNameError\u001B[0m                                 Traceback (most recent call last)",
      "Cell \u001B[1;32mIn[1], line 1\u001B[0m\n\u001B[1;32m----> 1\u001B[0m selected_features \u001B[38;5;241m=\u001B[39m \u001B[43mfeature_importances\u001B[49m[(feature_importances[\u001B[38;5;124m'\u001B[39m\u001B[38;5;124mmean_importance\u001B[39m\u001B[38;5;124m'\u001B[39m] \u001B[38;5;241m>\u001B[39m \u001B[38;5;241m3\u001B[39m \u001B[38;5;129;01mand\u001B[39;00m feature_importances[\u001B[38;5;124m'\u001B[39m\u001B[38;5;124mmean_importance\u001B[39m\u001B[38;5;124m'\u001B[39m]\u001B[38;5;241m>\u001B[39m\u001B[38;5;241m3\u001B[39m )][\u001B[38;5;124m'\u001B[39m\u001B[38;5;124mfeature\u001B[39m\u001B[38;5;124m'\u001B[39m]\u001B[38;5;241m.\u001B[39mtolist()\n\u001B[0;32m      2\u001B[0m selected_features\n",
      "\u001B[1;31mNameError\u001B[0m: name 'feature_importances' is not defined"
     ]
    }
   ],
   "execution_count": 1
  },
  {
   "metadata": {
    "ExecuteTime": {
     "end_time": "2024-10-27T13:23:10.361828Z",
     "start_time": "2024-10-27T13:23:10.356723Z"
    }
   },
   "cell_type": "code",
   "outputs": [],
   "execution_count": 69,
   "source": "",
   "id": "e5fe20f499d09ef0"
  },
  {
   "cell_type": "code",
   "outputs": [
    {
     "data": {
      "text/plain": "['NTRL_CUST_AGE',\n 'FUND_IND',\n 'MS_IND',\n 'DAY_DPSA_div_DAY_TD',\n 'DAY_DPSA_minus_SAVER_AUM',\n 'MAVER_DPSA_minus_MAVER_TD',\n 'MAVER_DPSA_minus_SAVER_TOT_IVST',\n 'SAVER_DPSA_minus_MAVER_FA',\n 'YAVER_DPSA_div_YAVER_TOT_DP',\n 'YAVER_DPSA_minus_YAVER_AUM',\n 'YAVER_DPSA_minus_DAY_FA',\n 'MAVER_TD_minus_SAVER_TOT_DP',\n 'SAVER_TD_div_YAVER_TOT_IVST',\n 'YAVER_TD_div_MAVER_FA',\n 'DAY_TOT_DP_div_DAY_AUM',\n 'DAY_TOT_DP_div_MAVER_AUM',\n 'YAVER_TOT_DP_div_MAVER_AUM',\n 'SAVER_TOT_IVST_div_MAVER_FA',\n 'DAY_AUM_div_SAVER_FA',\n 'MAVER_AUM_div_SAVER_FA',\n 'MAVER_AUM_div_YAVER_FA',\n 'SAVER_AUM_div_YAVER_FA']"
     },
     "execution_count": 75,
     "metadata": {},
     "output_type": "execute_result"
    }
   ],
   "source": "",
   "metadata": {
    "collapsed": false,
    "ExecuteTime": {
     "end_time": "2024-10-27T13:25:52.712287Z",
     "start_time": "2024-10-27T13:25:52.648334Z"
    }
   },
   "id": "42bb1d0c545cb417",
   "execution_count": 75
  },
  {
   "cell_type": "code",
   "outputs": [],
   "source": [],
   "metadata": {
    "collapsed": false
   },
   "id": "7290008948a7e328",
   "execution_count": null
  }
 ],
 "metadata": {
  "kernelspec": {
   "display_name": "Python 3",
   "language": "python",
   "name": "python3"
  },
  "language_info": {
   "codemirror_mode": {
    "name": "ipython",
    "version": 2
   },
   "file_extension": ".py",
   "mimetype": "text/x-python",
   "name": "python",
   "nbconvert_exporter": "python",
   "pygments_lexer": "ipython2",
   "version": "2.7.6"
  }
 },
 "nbformat": 4,
 "nbformat_minor": 5
}
