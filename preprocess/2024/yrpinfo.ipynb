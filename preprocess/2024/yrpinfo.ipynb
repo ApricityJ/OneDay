{
 "cells": [
  {
   "cell_type": "code",
   "id": "initial_id",
   "metadata": {
    "collapsed": true,
    "ExecuteTime": {
     "end_time": "2024-10-28T07:56:26.426606Z",
     "start_time": "2024-10-28T07:56:25.853754Z"
    }
   },
   "source": [
    "from data import loader, exporter\n",
    "from constant import *\n",
    "import pandas as pd"
   ],
   "outputs": [],
   "execution_count": 1
  },
  {
   "metadata": {
    "ExecuteTime": {
     "end_time": "2024-10-28T07:56:57.217066Z",
     "start_time": "2024-10-28T07:56:57.075702Z"
    }
   },
   "cell_type": "code",
   "source": [
    "def process_yrpinfo_data(df):\n",
    "    # 1. 处理日期字段，确保它们是 %Y%m%d 格式\n",
    "    df['ANCHEDATE'] = pd.to_datetime(df['ANCHEDATE'], format='%Y%m%d', errors='coerce')\n",
    "    df['DATA_DAT'] = pd.to_datetime(df['DATA_DAT'], format='%Y%m%d', errors='coerce')\n",
    "\n",
    "    # 2. 计算每个企业年报记录中的网站总数量\n",
    "    web_count = df.groupby('CUST_NO').size().reset_index(name='WEB_COUNT')\n",
    "\n",
    "    # 3. 统计不同类型网站的数量\n",
    "    web_type_count = df.groupby(['CUST_NO', 'WEBTYPE']).size().unstack(fill_value=0).reset_index()\n",
    "    web_type_count.columns = [f\"WEBTYPE_{col}\" if col != 'CUST_NO' else 'CUST_NO' for col in web_type_count.columns]\n",
    "\n",
    "    # 4. 计算最新年报日期与当前日期的差值\n",
    "    latest_anchdate = df.groupby('CUST_NO')['ANCHEDATE'].max().reset_index()\n",
    "    latest_anchdate_with_date = pd.merge(latest_anchdate, df[['CUST_NO', 'DATA_DAT']].drop_duplicates(), on='CUST_NO', how='left')\n",
    "    latest_anchdate_with_date['DAYS_SINCE_LAST_YRP'] = (latest_anchdate_with_date['DATA_DAT'] - latest_anchdate_with_date['ANCHEDATE']).dt.days\n",
    "\n",
    "    # 5. 统计每个企业的不同网站名称数量（多样性）\n",
    "    web_name_diversity = df.groupby('CUST_NO')['WEBSITNAME'].nunique().reset_index(name='WEB_NAME_DIVERSITY')\n",
    "\n",
    "    # 合并所有特征\n",
    "    df_yrpinfo_features = pd.merge(web_count, web_type_count, on='CUST_NO', how='left')\n",
    "    df_yrpinfo_features = pd.merge(df_yrpinfo_features, latest_anchdate_with_date[['CUST_NO', 'DAYS_SINCE_LAST_YRP']], on='CUST_NO', how='left')\n",
    "    df_yrpinfo_features = pd.merge(df_yrpinfo_features, web_name_diversity, on='CUST_NO', how='left')\n",
    "\n",
    "    return df_yrpinfo_features\n",
    "\n",
    "# 使用示例\n",
    "df_yrpinfo = loader.to_concat_df('XW_ENTINFO_YRPINFO')\n",
    "df_yrpinfo_features = process_yrpinfo_data(df_yrpinfo)\n",
    "\n",
    "exporter.export_df_to_preprocess('yrpinfo', df_yrpinfo_features)\n",
    "\n",
    "df_yrpinfo_features.head()"
   ],
   "id": "5a7d384e16ce95e9",
   "outputs": [
    {
     "data": {
      "text/plain": [
       "                            CUST_NO  WEB_COUNT  WEBTYPE_网店  WEBTYPE_网站  \\\n",
       "0  0012d00143028f04380e0465eac333eb         42        34.0         8.0   \n",
       "1  0017bb4f9a28639e91ac2661c009311d          1         0.0         1.0   \n",
       "2  002083e9afa4acd933d872ce598dc965          6         0.0         6.0   \n",
       "3  0021db9e3ad0aa51099ddc2a1e4d4297          4         0.0         4.0   \n",
       "4  00251d46d4529b1fcdf84744fde185ce          8         0.0         8.0   \n",
       "\n",
       "   DAYS_SINCE_LAST_YRP  WEB_NAME_DIVERSITY  \n",
       "0                   73                  26  \n",
       "1                 1162                   1  \n",
       "2                  134                   1  \n",
       "3                 1517                   2  \n",
       "4                  788                   1  "
      ],
      "text/html": [
       "<div>\n",
       "<style scoped>\n",
       "    .dataframe tbody tr th:only-of-type {\n",
       "        vertical-align: middle;\n",
       "    }\n",
       "\n",
       "    .dataframe tbody tr th {\n",
       "        vertical-align: top;\n",
       "    }\n",
       "\n",
       "    .dataframe thead th {\n",
       "        text-align: right;\n",
       "    }\n",
       "</style>\n",
       "<table border=\"1\" class=\"dataframe\">\n",
       "  <thead>\n",
       "    <tr style=\"text-align: right;\">\n",
       "      <th></th>\n",
       "      <th>CUST_NO</th>\n",
       "      <th>WEB_COUNT</th>\n",
       "      <th>WEBTYPE_网店</th>\n",
       "      <th>WEBTYPE_网站</th>\n",
       "      <th>DAYS_SINCE_LAST_YRP</th>\n",
       "      <th>WEB_NAME_DIVERSITY</th>\n",
       "    </tr>\n",
       "  </thead>\n",
       "  <tbody>\n",
       "    <tr>\n",
       "      <th>0</th>\n",
       "      <td>0012d00143028f04380e0465eac333eb</td>\n",
       "      <td>42</td>\n",
       "      <td>34.0</td>\n",
       "      <td>8.0</td>\n",
       "      <td>73</td>\n",
       "      <td>26</td>\n",
       "    </tr>\n",
       "    <tr>\n",
       "      <th>1</th>\n",
       "      <td>0017bb4f9a28639e91ac2661c009311d</td>\n",
       "      <td>1</td>\n",
       "      <td>0.0</td>\n",
       "      <td>1.0</td>\n",
       "      <td>1162</td>\n",
       "      <td>1</td>\n",
       "    </tr>\n",
       "    <tr>\n",
       "      <th>2</th>\n",
       "      <td>002083e9afa4acd933d872ce598dc965</td>\n",
       "      <td>6</td>\n",
       "      <td>0.0</td>\n",
       "      <td>6.0</td>\n",
       "      <td>134</td>\n",
       "      <td>1</td>\n",
       "    </tr>\n",
       "    <tr>\n",
       "      <th>3</th>\n",
       "      <td>0021db9e3ad0aa51099ddc2a1e4d4297</td>\n",
       "      <td>4</td>\n",
       "      <td>0.0</td>\n",
       "      <td>4.0</td>\n",
       "      <td>1517</td>\n",
       "      <td>2</td>\n",
       "    </tr>\n",
       "    <tr>\n",
       "      <th>4</th>\n",
       "      <td>00251d46d4529b1fcdf84744fde185ce</td>\n",
       "      <td>8</td>\n",
       "      <td>0.0</td>\n",
       "      <td>8.0</td>\n",
       "      <td>788</td>\n",
       "      <td>1</td>\n",
       "    </tr>\n",
       "  </tbody>\n",
       "</table>\n",
       "</div>"
      ]
     },
     "execution_count": 3,
     "metadata": {},
     "output_type": "execute_result"
    }
   ],
   "execution_count": 3
  },
  {
   "metadata": {},
   "cell_type": "code",
   "outputs": [],
   "execution_count": null,
   "source": "",
   "id": "dd5b043da682df1"
  }
 ],
 "metadata": {
  "kernelspec": {
   "display_name": "Python 3",
   "language": "python",
   "name": "python3"
  },
  "language_info": {
   "codemirror_mode": {
    "name": "ipython",
    "version": 2
   },
   "file_extension": ".py",
   "mimetype": "text/x-python",
   "name": "python",
   "nbconvert_exporter": "python",
   "pygments_lexer": "ipython2",
   "version": "2.7.6"
  }
 },
 "nbformat": 4,
 "nbformat_minor": 5
}
