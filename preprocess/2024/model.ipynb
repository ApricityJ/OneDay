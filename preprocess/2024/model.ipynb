{
 "cells": [
  {
   "cell_type": "markdown",
   "source": [
    "# 模型训练/调参/预测"
   ],
   "metadata": {
    "collapsed": false
   },
   "id": "f5b23bf8db9c940a"
  },
  {
   "metadata": {
    "ExecuteTime": {
     "end_time": "2024-10-28T08:58:02.894783Z",
     "start_time": "2024-10-28T08:58:02.876782Z"
    }
   },
   "cell_type": "code",
   "source": [
    "from constant import *\n",
    "import numpy as np\n",
    "from sklearn.metrics import roc_curve\n",
    "from hyperopt import hp, tpe, fmin, Trials, STATUS_OK\n",
    "from sklearn.model_selection import StratifiedKFold\n",
    "import lightgbm as lgb\n",
    "from data import loader,exporter\n",
    "import pandas as pd"
   ],
   "id": "initial_id",
   "outputs": [],
   "execution_count": 3
  },
  {
   "metadata": {
    "ExecuteTime": {
     "end_time": "2024-10-28T08:58:04.139526Z",
     "start_time": "2024-10-28T08:58:04.124191Z"
    }
   },
   "cell_type": "code",
   "source": [
    "def ks_stat(y_true, y_pred):\n",
    "    \"\"\"计算KS值的自定义评估函数\"\"\"\n",
    "    fpr, tpr, _ = roc_curve(y_true, y_pred)  # 计算ROC曲线\n",
    "    ks_value = np.max(np.abs(tpr - fpr))  # KS统计量\n",
    "    return ks_value\n",
    "\n",
    "\n",
    "def lgb_ks_eval(y_pred, dataset):\n",
    "    \"\"\"用于LightGBM的自定义KS评估函数\"\"\"\n",
    "    y_true = dataset.get_label()\n",
    "    ks_value = ks_stat(y_true, y_pred)\n",
    "    # 返回 (名称, 计算的 KS 值, 是否越高越好)\n",
    "    return 'ks', ks_value, True\n",
    "\n",
    "\n",
    "# 自定义目标函数，用于贝叶斯优化\n",
    "def objective(params, X, y, n_folds=5):\n",
    "    \"\"\"贝叶斯优化的目标函数，返回负的验证集AUC分数\"\"\"\n",
    "    # 设置模型参数\n",
    "    params['boosting_type'] = 'gbdt'  # \n",
    "    params['objective'] = 'binary'\n",
    "    params['metric'] = 'auc'\n",
    "    params['verbose'] = -1\n",
    "    params['early_stopping_round'] = 20\n",
    "    params['n_estimators'] = 10000  # 固定较大的迭代次数，使用早停机制\n",
    "\n",
    "    # 交叉验证\n",
    "    kf = StratifiedKFold(n_splits=n_folds, shuffle=True)\n",
    "    ks_scores = []\n",
    "\n",
    "    for train_idx, valid_idx in kf.split(X, y):\n",
    "        X_train, X_valid = X.iloc[train_idx], X.iloc[valid_idx]\n",
    "        y_train, y_valid = y.iloc[train_idx], y.iloc[valid_idx]\n",
    "\n",
    "        # 建立LGBM模型\n",
    "        lgb_train = lgb.Dataset(X_train, y_train)\n",
    "        lgb_valid = lgb.Dataset(X_valid, y_valid, reference=lgb_train)\n",
    "\n",
    "        # 训练模型\n",
    "        model = lgb.train(params,\n",
    "                          lgb_train,\n",
    "                          valid_sets=[lgb_valid],\n",
    "                          feval=lgb_ks_eval,\n",
    "                          callbacks=[lgb.early_stopping(stopping_rounds=50),\n",
    "                                     lgb.log_evaluation(10)]\n",
    "                          )\n",
    "\n",
    "        # 验证集预测概率\n",
    "        y_pred = model.predict(X_valid, num_iteration=model.best_iteration)\n",
    "\n",
    "        # 计算ks分数\n",
    "        ks = ks_stat(y_valid, y_pred)\n",
    "        ks_scores.append(ks)\n",
    "\n",
    "    # 返回平均KS分数的负值作为最小化目标\n",
    "    return {'loss': -np.mean(ks_scores), 'status': STATUS_OK}\n",
    "\n",
    "\n",
    "# 超参数空间\n",
    "param_space = {\n",
    "    'learning_rate': hp.uniform('learning_rate', 0.01, 0.2),  # 学习率\n",
    "    'num_leaves': hp.choice('num_leaves', np.arange(20, 150, dtype=int)),  # 叶子数\n",
    "    'max_depth': hp.choice('max_depth', np.arange(3, 12, dtype=int)),  # 树的最大深度\n",
    "    'min_child_weight': hp.uniform('min_child_weight', 0.001, 10),  # 子叶节点的最小权重\n",
    "    'colsample_bytree': hp.uniform('colsample_bytree', 0.5, 1.0),  # 样本列采样率\n",
    "    'scale_pos_weight': hp.uniform('scale_pos_weight', 1, 10),\n",
    "    'subsample': hp.uniform('subsample', 0.5, 1.0),  # 样本采样率\n",
    "    'reg_alpha': hp.uniform('reg_alpha', 0.0, 1.0),  # L1正则化\n",
    "    'reg_lambda': hp.uniform('reg_lambda', 0.0, 1.0)  # L2正则化\n",
    "}\n",
    "\n",
    "\n",
    "# 贝叶斯优化调参函数\n",
    "def bayesian_optimize_lgbm(X, y, param_space, max_evals=50):\n",
    "    trials = Trials()\n",
    "\n",
    "    # 使用fmin函数进行贝叶斯优化\n",
    "    best_params = fmin(\n",
    "        fn=lambda params: objective(params, X, y),  # 优化目标\n",
    "        space=param_space,  # 参数空间\n",
    "        algo=tpe.suggest,  # 使用TPE算法\n",
    "        max_evals=max_evals,  # 最大评估次数\n",
    "        trials=trials  # 记录每次评估的结果\n",
    "    )\n",
    "\n",
    "    return best_params, trials"
   ],
   "id": "fb0bbd61242dac48",
   "outputs": [],
   "execution_count": 4
  },
  {
   "metadata": {
    "ExecuteTime": {
     "end_time": "2024-10-28T09:01:34.316555Z",
     "start_time": "2024-10-28T08:58:34.475824Z"
    }
   },
   "cell_type": "code",
   "source": [
    "# 读取数据\n",
    "\n",
    "df = pd.read_csv(f'{dir_preprocess}/v1.csv')\n",
    "df.drop(columns=['CUST_NO'], inplace=True)\n",
    "\n",
    "X = df[df['SRC'] == 'train']\n",
    "X.drop(columns=['SRC'], inplace=True)\n",
    "y = X.pop(\"FLAG\")  # 目标标签列\n",
    "\n",
    "# 执行贝叶斯优化\n",
    "best_params, trials = bayesian_optimize_lgbm(X, y, param_space, max_evals=50)\n",
    "\n",
    "print(\"Best parameters found:\", best_params)"
   ],
   "id": "467c020715be8573",
   "outputs": [
    {
     "name": "stdout",
     "output_type": "stream",
     "text": [
      "  0%|          | 0/50 [00:00<?, ?trial/s, best loss=?]"
     ]
    },
    {
     "name": "stderr",
     "output_type": "stream",
     "text": [
      "C:\\Users\\zangq\\AppData\\Local\\Temp\\ipykernel_134712\\2851928622.py:7: SettingWithCopyWarning: \n",
      "A value is trying to be set on a copy of a slice from a DataFrame\n",
      "\n",
      "See the caveats in the documentation: https://pandas.pydata.org/pandas-docs/stable/user_guide/indexing.html#returning-a-view-versus-a-copy\n",
      "  X.drop(columns=['SRC'], inplace=True)\n",
      "D:\\workspace\\misc\\OneDay\\venv\\lib\\site-packages\\lightgbm\\engine.py:177: UserWarning: Found `n_estimators` in params. Will use it instead of argument\n",
      "  _log_warning(f\"Found `{alias}` in params. Will use it instead of argument\")\n",
      "\n"
     ]
    },
    {
     "name": "stdout",
     "output_type": "stream",
     "text": [
      "Training until validation scores don't improve for 50 rounds\n",
      "[10]\tvalid_0's auc: 0.726011\tvalid_0's ks: 0.345627   \n",
      "[20]\tvalid_0's auc: 0.733065\tvalid_0's ks: 0.357893   \n",
      "[30]\tvalid_0's auc: 0.734064\tvalid_0's ks: 0.359517   \n",
      "[40]\tvalid_0's auc: 0.734908\tvalid_0's ks: 0.357798   \n",
      "Training until validation scores don't improve for 50 rounds\n",
      "  0%|          | 0/50 [00:00<?, ?trial/s, best loss=?]"
     ]
    },
    {
     "name": "stderr",
     "output_type": "stream",
     "text": [
      "D:\\workspace\\misc\\OneDay\\venv\\lib\\site-packages\\lightgbm\\engine.py:177: UserWarning: Found `n_estimators` in params. Will use it instead of argument\n",
      "  _log_warning(f\"Found `{alias}` in params. Will use it instead of argument\")\n",
      "\n"
     ]
    },
    {
     "name": "stdout",
     "output_type": "stream",
     "text": [
      "[10]\tvalid_0's auc: 0.727855\tvalid_0's ks: 0.357708   \n",
      "[20]\tvalid_0's auc: 0.735635\tvalid_0's ks: 0.351947   \n",
      "[30]\tvalid_0's auc: 0.740199\tvalid_0's ks: 0.361179   \n",
      "[40]\tvalid_0's auc: 0.741211\tvalid_0's ks: 0.361403   \n",
      "[50]\tvalid_0's auc: 0.743439\tvalid_0's ks: 0.357493   \n",
      "  0%|          | 0/50 [00:01<?, ?trial/s, best loss=?]"
     ]
    },
    {
     "name": "stderr",
     "output_type": "stream",
     "text": [
      "D:\\workspace\\misc\\OneDay\\venv\\lib\\site-packages\\lightgbm\\engine.py:177: UserWarning: Found `n_estimators` in params. Will use it instead of argument\n",
      "  _log_warning(f\"Found `{alias}` in params. Will use it instead of argument\")\n",
      "\n"
     ]
    },
    {
     "name": "stdout",
     "output_type": "stream",
     "text": [
      "Training until validation scores don't improve for 50 rounds\n",
      "[10]\tvalid_0's auc: 0.742387\tvalid_0's ks: 0.355067   \n",
      "[20]\tvalid_0's auc: 0.747286\tvalid_0's ks: 0.370175   \n",
      "[30]\tvalid_0's auc: 0.750297\tvalid_0's ks: 0.373933   \n",
      "[40]\tvalid_0's auc: 0.752376\tvalid_0's ks: 0.375437   \n",
      "[50]\tvalid_0's auc: 0.753994\tvalid_0's ks: 0.383678   \n",
      "[60]\tvalid_0's auc: 0.756454\tvalid_0's ks: 0.384185   \n",
      "[70]\tvalid_0's auc: 0.757839\tvalid_0's ks: 0.384594   \n",
      "Training until validation scores don't improve for 50 rounds\n",
      "  0%|          | 0/50 [00:02<?, ?trial/s, best loss=?]"
     ]
    },
    {
     "name": "stderr",
     "output_type": "stream",
     "text": [
      "D:\\workspace\\misc\\OneDay\\venv\\lib\\site-packages\\lightgbm\\engine.py:177: UserWarning: Found `n_estimators` in params. Will use it instead of argument\n",
      "  _log_warning(f\"Found `{alias}` in params. Will use it instead of argument\")\n",
      "\n"
     ]
    },
    {
     "name": "stdout",
     "output_type": "stream",
     "text": [
      "[10]\tvalid_0's auc: 0.743677\tvalid_0's ks: 0.371025   \n",
      "[20]\tvalid_0's auc: 0.748319\tvalid_0's ks: 0.383137   \n",
      "[30]\tvalid_0's auc: 0.751791\tvalid_0's ks: 0.396317   \n",
      "[40]\tvalid_0's auc: 0.752821\tvalid_0's ks: 0.389936   \n",
      "[50]\tvalid_0's auc: 0.757519\tvalid_0's ks: 0.397433   \n",
      "Training until validation scores don't improve for 50 rounds\n",
      "  0%|          | 0/50 [00:02<?, ?trial/s, best loss=?]"
     ]
    },
    {
     "name": "stderr",
     "output_type": "stream",
     "text": [
      "D:\\workspace\\misc\\OneDay\\venv\\lib\\site-packages\\lightgbm\\engine.py:177: UserWarning: Found `n_estimators` in params. Will use it instead of argument\n",
      "  _log_warning(f\"Found `{alias}` in params. Will use it instead of argument\")\n",
      "\n"
     ]
    },
    {
     "name": "stdout",
     "output_type": "stream",
     "text": [
      "[10]\tvalid_0's auc: 0.732366\tvalid_0's ks: 0.361109   \n",
      "[20]\tvalid_0's auc: 0.741659\tvalid_0's ks: 0.379068   \n",
      "[30]\tvalid_0's auc: 0.744611\tvalid_0's ks: 0.384304   \n",
      "[40]\tvalid_0's auc: 0.747728\tvalid_0's ks: 0.387524   \n",
      "[50]\tvalid_0's auc: 0.750142\tvalid_0's ks: 0.392858   \n",
      "[60]\tvalid_0's auc: 0.752001\tvalid_0's ks: 0.395598   \n",
      "[70]\tvalid_0's auc: 0.752487\tvalid_0's ks: 0.393249   \n",
      "[80]\tvalid_0's auc: 0.752863\tvalid_0's ks: 0.39532    \n",
      "[90]\tvalid_0's auc: 0.752705\tvalid_0's ks: 0.397256   \n",
      "[100]\tvalid_0's auc: 0.753098\tvalid_0's ks: 0.40085   \n",
      "[110]\tvalid_0's auc: 0.75439\tvalid_0's ks: 0.402245   \n",
      "[120]\tvalid_0's auc: 0.754931\tvalid_0's ks: 0.40236   \n",
      "[130]\tvalid_0's auc: 0.755376\tvalid_0's ks: 0.404626  \n",
      "[140]\tvalid_0's auc: 0.755482\tvalid_0's ks: 0.400785  \n",
      "Training until validation scores don't improve for 50 rounds                     \n",
      "  2%|▏         | 1/50 [00:04<03:08,  3.84s/trial, best loss: -0.3855619874652775]"
     ]
    },
    {
     "name": "stderr",
     "output_type": "stream",
     "text": [
      "D:\\workspace\\misc\\OneDay\\venv\\lib\\site-packages\\lightgbm\\engine.py:177: UserWarning: Found `n_estimators` in params. Will use it instead of argument\n",
      "  _log_warning(f\"Found `{alias}` in params. Will use it instead of argument\")\n",
      "\n"
     ]
    },
    {
     "name": "stdout",
     "output_type": "stream",
     "text": [
      "[10]\tvalid_0's auc: 0.692064\tvalid_0's ks: 0.305544                              \n",
      "[20]\tvalid_0's auc: 0.704297\tvalid_0's ks: 0.318888                              \n",
      "[30]\tvalid_0's auc: 0.711943\tvalid_0's ks: 0.32782                               \n",
      "[40]\tvalid_0's auc: 0.713813\tvalid_0's ks: 0.332105                              \n",
      "[50]\tvalid_0's auc: 0.71565\tvalid_0's ks: 0.339605                               \n",
      "[60]\tvalid_0's auc: 0.718354\tvalid_0's ks: 0.340689                              \n",
      "[70]\tvalid_0's auc: 0.719716\tvalid_0's ks: 0.339477                              \n",
      "  2%|▏         | 1/50 [00:04<03:08,  3.84s/trial, best loss: -0.3855619874652775]"
     ]
    },
    {
     "name": "stderr",
     "output_type": "stream",
     "text": [
      "D:\\workspace\\misc\\OneDay\\venv\\lib\\site-packages\\lightgbm\\engine.py:177: UserWarning: Found `n_estimators` in params. Will use it instead of argument\n",
      "  _log_warning(f\"Found `{alias}` in params. Will use it instead of argument\")\n",
      "\n"
     ]
    },
    {
     "name": "stdout",
     "output_type": "stream",
     "text": [
      "Training until validation scores don't improve for 50 rounds                     \n",
      "[10]\tvalid_0's auc: 0.69993\tvalid_0's ks: 0.300924                               \n",
      "[20]\tvalid_0's auc: 0.710749\tvalid_0's ks: 0.320116                              \n",
      "[30]\tvalid_0's auc: 0.713801\tvalid_0's ks: 0.323543                              \n",
      "[40]\tvalid_0's auc: 0.717563\tvalid_0's ks: 0.325808                              \n",
      "[50]\tvalid_0's auc: 0.719123\tvalid_0's ks: 0.330831                              \n",
      "[60]\tvalid_0's auc: 0.723327\tvalid_0's ks: 0.343068                              \n",
      "[70]\tvalid_0's auc: 0.725919\tvalid_0's ks: 0.345727                              \n",
      "[80]\tvalid_0's auc: 0.729837\tvalid_0's ks: 0.348162                              \n",
      "[90]\tvalid_0's auc: 0.73234\tvalid_0's ks: 0.350715                               \n",
      "[100]\tvalid_0's auc: 0.734209\tvalid_0's ks: 0.351896                             \n",
      "[110]\tvalid_0's auc: 0.735495\tvalid_0's ks: 0.355278                             \n",
      "[120]\tvalid_0's auc: 0.737468\tvalid_0's ks: 0.357938                             \n",
      "[130]\tvalid_0's auc: 0.739456\tvalid_0's ks: 0.362802                             \n",
      "[140]\tvalid_0's auc: 0.741154\tvalid_0's ks: 0.366387                             \n",
      "[150]\tvalid_0's auc: 0.742375\tvalid_0's ks: 0.370557                             \n",
      "[160]\tvalid_0's auc: 0.743747\tvalid_0's ks: 0.372912                             \n",
      "[170]\tvalid_0's auc: 0.745136\tvalid_0's ks: 0.373679                             \n",
      "[180]\tvalid_0's auc: 0.746599\tvalid_0's ks: 0.375371                             \n",
      "[190]\tvalid_0's auc: 0.747651\tvalid_0's ks: 0.374126                             \n",
      "[200]\tvalid_0's auc: 0.748504\tvalid_0's ks: 0.375552                             \n",
      "[210]\tvalid_0's auc: 0.749775\tvalid_0's ks: 0.377215                             \n",
      "[220]\tvalid_0's auc: 0.750974\tvalid_0's ks: 0.380115                             \n",
      "[230]\tvalid_0's auc: 0.752123\tvalid_0's ks: 0.381122                             \n",
      "[240]\tvalid_0's auc: 0.75297\tvalid_0's ks: 0.382279                              \n",
      "[250]\tvalid_0's auc: 0.754136\tvalid_0's ks: 0.390356                             \n",
      "[260]\tvalid_0's auc: 0.755118\tvalid_0's ks: 0.391854                             \n",
      "[270]\tvalid_0's auc: 0.756149\tvalid_0's ks: 0.393922                             \n",
      "[280]\tvalid_0's auc: 0.756938\tvalid_0's ks: 0.393725                             \n",
      "[290]\tvalid_0's auc: 0.75811\tvalid_0's ks: 0.399002                              \n",
      "[300]\tvalid_0's auc: 0.758741\tvalid_0's ks: 0.398566                             \n",
      "Training until validation scores don't improve for 50 rounds                     \n",
      "  2%|▏         | 1/50 [00:06<03:08,  3.84s/trial, best loss: -0.3855619874652775]"
     ]
    },
    {
     "name": "stderr",
     "output_type": "stream",
     "text": [
      "D:\\workspace\\misc\\OneDay\\venv\\lib\\site-packages\\lightgbm\\engine.py:177: UserWarning: Found `n_estimators` in params. Will use it instead of argument\n",
      "  _log_warning(f\"Found `{alias}` in params. Will use it instead of argument\")\n",
      "\n"
     ]
    },
    {
     "name": "stdout",
     "output_type": "stream",
     "text": [
      "[10]\tvalid_0's auc: 0.694958\tvalid_0's ks: 0.320669                              \n",
      "[20]\tvalid_0's auc: 0.702063\tvalid_0's ks: 0.327211                              \n",
      "[30]\tvalid_0's auc: 0.708202\tvalid_0's ks: 0.329301                              \n",
      "[40]\tvalid_0's auc: 0.71103\tvalid_0's ks: 0.328155                               \n",
      "Training until validation scores don't improve for 50 rounds                     \n",
      "  2%|▏         | 1/50 [00:06<03:08,  3.84s/trial, best loss: -0.3855619874652775]"
     ]
    },
    {
     "name": "stderr",
     "output_type": "stream",
     "text": [
      "D:\\workspace\\misc\\OneDay\\venv\\lib\\site-packages\\lightgbm\\engine.py:177: UserWarning: Found `n_estimators` in params. Will use it instead of argument\n",
      "  _log_warning(f\"Found `{alias}` in params. Will use it instead of argument\")\n",
      "\n"
     ]
    },
    {
     "name": "stdout",
     "output_type": "stream",
     "text": [
      "[10]\tvalid_0's auc: 0.710985\tvalid_0's ks: 0.339778                              \n",
      "[20]\tvalid_0's auc: 0.722108\tvalid_0's ks: 0.350903                              \n",
      "[30]\tvalid_0's auc: 0.724903\tvalid_0's ks: 0.352766                              \n",
      "[40]\tvalid_0's auc: 0.725458\tvalid_0's ks: 0.352237                              \n",
      "[50]\tvalid_0's auc: 0.728602\tvalid_0's ks: 0.35147                               \n",
      "Training until validation scores don't improve for 50 rounds                     \n",
      "  2%|▏         | 1/50 [00:07<03:08,  3.84s/trial, best loss: -0.3855619874652775]"
     ]
    },
    {
     "name": "stderr",
     "output_type": "stream",
     "text": [
      "D:\\workspace\\misc\\OneDay\\venv\\lib\\site-packages\\lightgbm\\engine.py:177: UserWarning: Found `n_estimators` in params. Will use it instead of argument\n",
      "  _log_warning(f\"Found `{alias}` in params. Will use it instead of argument\")\n",
      "\n"
     ]
    },
    {
     "name": "stdout",
     "output_type": "stream",
     "text": [
      "[10]\tvalid_0's auc: 0.692501\tvalid_0's ks: 0.285514                              \n",
      "[20]\tvalid_0's auc: 0.699924\tvalid_0's ks: 0.296957                              \n",
      "[30]\tvalid_0's auc: 0.702745\tvalid_0's ks: 0.304565                              \n",
      "[40]\tvalid_0's auc: 0.708779\tvalid_0's ks: 0.307535                              \n",
      "[50]\tvalid_0's auc: 0.710957\tvalid_0's ks: 0.31307                               \n",
      "[60]\tvalid_0's auc: 0.712773\tvalid_0's ks: 0.311528                              \n",
      "[70]\tvalid_0's auc: 0.714368\tvalid_0's ks: 0.314596                              \n",
      "[80]\tvalid_0's auc: 0.715852\tvalid_0's ks: 0.319898                              \n",
      "[90]\tvalid_0's auc: 0.717073\tvalid_0's ks: 0.323674                              \n",
      "[100]\tvalid_0's auc: 0.717979\tvalid_0's ks: 0.322411                             \n",
      "[110]\tvalid_0's auc: 0.718776\tvalid_0's ks: 0.323216                             \n",
      "[120]\tvalid_0's auc: 0.720043\tvalid_0's ks: 0.325909                             \n",
      "[130]\tvalid_0's auc: 0.722326\tvalid_0's ks: 0.331819                             \n",
      "[140]\tvalid_0's auc: 0.723536\tvalid_0's ks: 0.331621                             \n",
      "[150]\tvalid_0's auc: 0.725379\tvalid_0's ks: 0.339239                             \n",
      "[160]\tvalid_0's auc: 0.726195\tvalid_0's ks: 0.340355                             \n",
      "[170]\tvalid_0's auc: 0.72686\tvalid_0's ks: 0.342801                              \n",
      "[180]\tvalid_0's auc: 0.727584\tvalid_0's ks: 0.344557                             \n",
      "[190]\tvalid_0's auc: 0.728253\tvalid_0's ks: 0.343392                             \n",
      "[200]\tvalid_0's auc: 0.72907\tvalid_0's ks: 0.342702                              \n",
      "  4%|▍         | 2/50 [00:08<03:28,  4.35s/trial, best loss: -0.3855619874652775]"
     ]
    },
    {
     "name": "stderr",
     "output_type": "stream",
     "text": [
      "D:\\workspace\\misc\\OneDay\\venv\\lib\\site-packages\\lightgbm\\engine.py:177: UserWarning: Found `n_estimators` in params. Will use it instead of argument\n",
      "  _log_warning(f\"Found `{alias}` in params. Will use it instead of argument\")\n",
      "\n"
     ]
    },
    {
     "name": "stdout",
     "output_type": "stream",
     "text": [
      "Training until validation scores don't improve for 50 rounds                     \n",
      "[10]\tvalid_0's auc: 0.741603\tvalid_0's ks: 0.378109                              \n",
      "[20]\tvalid_0's auc: 0.749918\tvalid_0's ks: 0.385589                              \n",
      "[30]\tvalid_0's auc: 0.750014\tvalid_0's ks: 0.391219                              \n",
      "[40]\tvalid_0's auc: 0.750799\tvalid_0's ks: 0.398063                              \n",
      "Training until validation scores don't improve for 50 rounds                     \n",
      "  4%|▍         | 2/50 [00:09<03:28,  4.35s/trial, best loss: -0.3855619874652775]"
     ]
    },
    {
     "name": "stderr",
     "output_type": "stream",
     "text": [
      "D:\\workspace\\misc\\OneDay\\venv\\lib\\site-packages\\lightgbm\\engine.py:177: UserWarning: Found `n_estimators` in params. Will use it instead of argument\n",
      "  _log_warning(f\"Found `{alias}` in params. Will use it instead of argument\")\n",
      "\n"
     ]
    },
    {
     "name": "stdout",
     "output_type": "stream",
     "text": [
      "[10]\tvalid_0's auc: 0.750095\tvalid_0's ks: 0.393555                              \n",
      "[20]\tvalid_0's auc: 0.757519\tvalid_0's ks: 0.401435                              \n",
      "[30]\tvalid_0's auc: 0.759474\tvalid_0's ks: 0.407831                              \n",
      "[40]\tvalid_0's auc: 0.763021\tvalid_0's ks: 0.405727                              \n",
      "Training until validation scores don't improve for 50 rounds                     \n",
      "  4%|▍         | 2/50 [00:09<03:28,  4.35s/trial, best loss: -0.3855619874652775]"
     ]
    },
    {
     "name": "stderr",
     "output_type": "stream",
     "text": [
      "D:\\workspace\\misc\\OneDay\\venv\\lib\\site-packages\\lightgbm\\engine.py:177: UserWarning: Found `n_estimators` in params. Will use it instead of argument\n",
      "  _log_warning(f\"Found `{alias}` in params. Will use it instead of argument\")\n",
      "\n"
     ]
    },
    {
     "name": "stdout",
     "output_type": "stream",
     "text": [
      "[10]\tvalid_0's auc: 0.738278\tvalid_0's ks: 0.363515                              \n",
      "[20]\tvalid_0's auc: 0.74711\tvalid_0's ks: 0.366642                               \n",
      "[30]\tvalid_0's auc: 0.749873\tvalid_0's ks: 0.366221                              \n",
      "[40]\tvalid_0's auc: 0.753475\tvalid_0's ks: 0.369417                              \n",
      "[50]\tvalid_0's auc: 0.756618\tvalid_0's ks: 0.376037                              \n",
      "[60]\tvalid_0's auc: 0.759595\tvalid_0's ks: 0.381341                              \n",
      "[70]\tvalid_0's auc: 0.762181\tvalid_0's ks: 0.382684                              \n",
      "[80]\tvalid_0's auc: 0.763511\tvalid_0's ks: 0.386391                              \n",
      "[90]\tvalid_0's auc: 0.765163\tvalid_0's ks: 0.39276                               \n",
      "[100]\tvalid_0's auc: 0.766306\tvalid_0's ks: 0.394662                             \n",
      "[110]\tvalid_0's auc: 0.76783\tvalid_0's ks: 0.394217                              \n",
      "[120]\tvalid_0's auc: 0.768366\tvalid_0's ks: 0.39613                              \n",
      "Training until validation scores don't improve for 50 rounds                     \n",
      "  4%|▍         | 2/50 [00:11<03:28,  4.35s/trial, best loss: -0.3855619874652775]"
     ]
    },
    {
     "name": "stderr",
     "output_type": "stream",
     "text": [
      "D:\\workspace\\misc\\OneDay\\venv\\lib\\site-packages\\lightgbm\\engine.py:177: UserWarning: Found `n_estimators` in params. Will use it instead of argument\n",
      "  _log_warning(f\"Found `{alias}` in params. Will use it instead of argument\")\n",
      "\n"
     ]
    },
    {
     "name": "stdout",
     "output_type": "stream",
     "text": [
      "[10]\tvalid_0's auc: 0.723565\tvalid_0's ks: 0.329948                              \n",
      "[20]\tvalid_0's auc: 0.734999\tvalid_0's ks: 0.340602                              \n",
      "[30]\tvalid_0's auc: 0.741052\tvalid_0's ks: 0.347542                              \n",
      "[40]\tvalid_0's auc: 0.744612\tvalid_0's ks: 0.354457                              \n",
      "[50]\tvalid_0's auc: 0.746646\tvalid_0's ks: 0.357572                              \n",
      "[60]\tvalid_0's auc: 0.747675\tvalid_0's ks: 0.362679                              \n",
      "[70]\tvalid_0's auc: 0.749655\tvalid_0's ks: 0.360772                              \n",
      "[80]\tvalid_0's auc: 0.750928\tvalid_0's ks: 0.363545                              \n",
      "[90]\tvalid_0's auc: 0.751097\tvalid_0's ks: 0.366049                              \n",
      "[100]\tvalid_0's auc: 0.751885\tvalid_0's ks: 0.365593                             \n",
      "[110]\tvalid_0's auc: 0.753117\tvalid_0's ks: 0.368625                             \n",
      "[120]\tvalid_0's auc: 0.75504\tvalid_0's ks: 0.370129                              \n",
      "[130]\tvalid_0's auc: 0.755171\tvalid_0's ks: 0.371809                             \n",
      "[140]\tvalid_0's auc: 0.755143\tvalid_0's ks: 0.371627                             \n",
      "  4%|▍         | 2/50 [00:12<03:28,  4.35s/trial, best loss: -0.3855619874652775]"
     ]
    },
    {
     "name": "stderr",
     "output_type": "stream",
     "text": [
      "D:\\workspace\\misc\\OneDay\\venv\\lib\\site-packages\\lightgbm\\engine.py:177: UserWarning: Found `n_estimators` in params. Will use it instead of argument\n",
      "  _log_warning(f\"Found `{alias}` in params. Will use it instead of argument\")\n",
      "\n"
     ]
    },
    {
     "name": "stdout",
     "output_type": "stream",
     "text": [
      "Training until validation scores don't improve for 50 rounds                     \n",
      "[10]\tvalid_0's auc: 0.740707\tvalid_0's ks: 0.356527                              \n",
      "[20]\tvalid_0's auc: 0.743858\tvalid_0's ks: 0.353182                              \n",
      "Training until validation scores don't improve for 50 rounds                     \n",
      "  6%|▌         | 3/50 [00:13<03:24,  4.36s/trial, best loss: -0.3879198504196245]"
     ]
    },
    {
     "name": "stderr",
     "output_type": "stream",
     "text": [
      "D:\\workspace\\misc\\OneDay\\venv\\lib\\site-packages\\lightgbm\\engine.py:177: UserWarning: Found `n_estimators` in params. Will use it instead of argument\n",
      "  _log_warning(f\"Found `{alias}` in params. Will use it instead of argument\")\n",
      "\n"
     ]
    },
    {
     "name": "stdout",
     "output_type": "stream",
     "text": [
      "[10]\tvalid_0's auc: 0.714717\tvalid_0's ks: 0.322931                              \n",
      "[20]\tvalid_0's auc: 0.719845\tvalid_0's ks: 0.330613                              \n",
      "[30]\tvalid_0's auc: 0.726036\tvalid_0's ks: 0.329601                              \n",
      "[40]\tvalid_0's auc: 0.727559\tvalid_0's ks: 0.334955                              \n",
      "                                                                                 \r"
     ]
    },
    {
     "name": "stderr",
     "output_type": "stream",
     "text": [
      "D:\\workspace\\misc\\OneDay\\venv\\lib\\site-packages\\lightgbm\\engine.py:177: UserWarning: Found `n_estimators` in params. Will use it instead of argument\n",
      "  _log_warning(f\"Found `{alias}` in params. Will use it instead of argument\")\n",
      "\n"
     ]
    },
    {
     "name": "stdout",
     "output_type": "stream",
     "text": [
      "Training until validation scores don't improve for 50 rounds\n",
      "[10]\tvalid_0's auc: 0.739597\tvalid_0's ks: 0.36537                               \n",
      "[20]\tvalid_0's auc: 0.749731\tvalid_0's ks: 0.373124                              \n",
      "[30]\tvalid_0's auc: 0.752898\tvalid_0's ks: 0.381093                              \n",
      "[40]\tvalid_0's auc: 0.754163\tvalid_0's ks: 0.383332                              \n",
      "[50]\tvalid_0's auc: 0.757871\tvalid_0's ks: 0.386334                              \n",
      "[60]\tvalid_0's auc: 0.759264\tvalid_0's ks: 0.395231                              \n",
      "[70]\tvalid_0's auc: 0.759806\tvalid_0's ks: 0.394742                              \n",
      "[80]\tvalid_0's auc: 0.762123\tvalid_0's ks: 0.39775                               \n",
      "[90]\tvalid_0's auc: 0.764188\tvalid_0's ks: 0.40242                               \n",
      "[100]\tvalid_0's auc: 0.767325\tvalid_0's ks: 0.402                                \n",
      "[110]\tvalid_0's auc: 0.768581\tvalid_0's ks: 0.403829                             \n",
      "[120]\tvalid_0's auc: 0.769337\tvalid_0's ks: 0.408029                             \n",
      "[130]\tvalid_0's auc: 0.771151\tvalid_0's ks: 0.411152                             \n",
      "[140]\tvalid_0's auc: 0.772099\tvalid_0's ks: 0.415389                             \n",
      "[150]\tvalid_0's auc: 0.7736\tvalid_0's ks: 0.413413                               \n",
      "[160]\tvalid_0's auc: 0.77399\tvalid_0's ks: 0.4176                                \n",
      "[170]\tvalid_0's auc: 0.774515\tvalid_0's ks: 0.419033                             \n",
      "[180]\tvalid_0's auc: 0.77467\tvalid_0's ks: 0.41717                               \n",
      "Training until validation scores don't improve for 50 rounds                     \n",
      "  6%|▌         | 3/50 [00:15<03:24,  4.36s/trial, best loss: -0.3879198504196245]"
     ]
    },
    {
     "name": "stderr",
     "output_type": "stream",
     "text": [
      "D:\\workspace\\misc\\OneDay\\venv\\lib\\site-packages\\lightgbm\\engine.py:177: UserWarning: Found `n_estimators` in params. Will use it instead of argument\n",
      "  _log_warning(f\"Found `{alias}` in params. Will use it instead of argument\")\n",
      "\n"
     ]
    },
    {
     "name": "stdout",
     "output_type": "stream",
     "text": [
      "[10]\tvalid_0's auc: 0.717951\tvalid_0's ks: 0.332879                              \n",
      "[20]\tvalid_0's auc: 0.725856\tvalid_0's ks: 0.351718                              \n",
      "[30]\tvalid_0's auc: 0.731126\tvalid_0's ks: 0.350808                              \n",
      "[40]\tvalid_0's auc: 0.734313\tvalid_0's ks: 0.355538                              \n",
      "[50]\tvalid_0's auc: 0.737812\tvalid_0's ks: 0.36728                               \n",
      "[60]\tvalid_0's auc: 0.741299\tvalid_0's ks: 0.368787                              \n",
      "[70]\tvalid_0's auc: 0.744607\tvalid_0's ks: 0.376058                              \n",
      "[80]\tvalid_0's auc: 0.746999\tvalid_0's ks: 0.37746                               \n",
      "[90]\tvalid_0's auc: 0.749519\tvalid_0's ks: 0.380353                              \n",
      "[100]\tvalid_0's auc: 0.752364\tvalid_0's ks: 0.383916                             \n",
      "[110]\tvalid_0's auc: 0.755303\tvalid_0's ks: 0.387934                             \n",
      "[120]\tvalid_0's auc: 0.757303\tvalid_0's ks: 0.391459                             \n",
      "[130]\tvalid_0's auc: 0.758852\tvalid_0's ks: 0.388206                             \n",
      "[140]\tvalid_0's auc: 0.759798\tvalid_0's ks: 0.387327                             \n",
      "Training until validation scores don't improve for 50 rounds                     \n",
      "  6%|▌         | 3/50 [00:16<03:24,  4.36s/trial, best loss: -0.3879198504196245]"
     ]
    },
    {
     "name": "stderr",
     "output_type": "stream",
     "text": [
      "D:\\workspace\\misc\\OneDay\\venv\\lib\\site-packages\\lightgbm\\engine.py:177: UserWarning: Found `n_estimators` in params. Will use it instead of argument\n",
      "  _log_warning(f\"Found `{alias}` in params. Will use it instead of argument\")\n",
      "\n"
     ]
    },
    {
     "name": "stdout",
     "output_type": "stream",
     "text": [
      "[10]\tvalid_0's auc: 0.707745\tvalid_0's ks: 0.317415                              \n",
      "[20]\tvalid_0's auc: 0.718687\tvalid_0's ks: 0.33686                               \n",
      "[30]\tvalid_0's auc: 0.722563\tvalid_0's ks: 0.336373                              \n",
      "[40]\tvalid_0's auc: 0.725425\tvalid_0's ks: 0.338605                              \n",
      "[50]\tvalid_0's auc: 0.73171\tvalid_0's ks: 0.354861                               \n",
      "[60]\tvalid_0's auc: 0.7338\tvalid_0's ks: 0.358018                                \n",
      "[70]\tvalid_0's auc: 0.736179\tvalid_0's ks: 0.366901                              \n",
      "[80]\tvalid_0's auc: 0.739612\tvalid_0's ks: 0.375078                              \n",
      "[90]\tvalid_0's auc: 0.742154\tvalid_0's ks: 0.382874                              \n",
      "[100]\tvalid_0's auc: 0.744101\tvalid_0's ks: 0.384355                             \n",
      "[110]\tvalid_0's auc: 0.745161\tvalid_0's ks: 0.387413                             \n",
      "[120]\tvalid_0's auc: 0.746329\tvalid_0's ks: 0.389685                             \n",
      "[130]\tvalid_0's auc: 0.747753\tvalid_0's ks: 0.387046                             \n",
      "Training until validation scores don't improve for 50 rounds                     \n",
      "  6%|▌         | 3/50 [00:17<03:24,  4.36s/trial, best loss: -0.3879198504196245]"
     ]
    },
    {
     "name": "stderr",
     "output_type": "stream",
     "text": [
      "D:\\workspace\\misc\\OneDay\\venv\\lib\\site-packages\\lightgbm\\engine.py:177: UserWarning: Found `n_estimators` in params. Will use it instead of argument\n",
      "  _log_warning(f\"Found `{alias}` in params. Will use it instead of argument\")\n",
      "\n"
     ]
    },
    {
     "name": "stdout",
     "output_type": "stream",
     "text": [
      "[10]\tvalid_0's auc: 0.724913\tvalid_0's ks: 0.33427                               \n",
      "[20]\tvalid_0's auc: 0.73214\tvalid_0's ks: 0.348613                               \n",
      "[30]\tvalid_0's auc: 0.736608\tvalid_0's ks: 0.354625                              \n",
      "[40]\tvalid_0's auc: 0.738536\tvalid_0's ks: 0.360929                              \n",
      "[50]\tvalid_0's auc: 0.739831\tvalid_0's ks: 0.362226                              \n",
      "[60]\tvalid_0's auc: 0.741006\tvalid_0's ks: 0.359863                              \n",
      "Training until validation scores don't improve for 50 rounds                     \n",
      "  8%|▊         | 4/50 [00:17<03:28,  4.53s/trial, best loss: -0.3879198504196245]"
     ]
    },
    {
     "name": "stderr",
     "output_type": "stream",
     "text": [
      "D:\\workspace\\misc\\OneDay\\venv\\lib\\site-packages\\lightgbm\\engine.py:177: UserWarning: Found `n_estimators` in params. Will use it instead of argument\n",
      "  _log_warning(f\"Found `{alias}` in params. Will use it instead of argument\")\n",
      "\n"
     ]
    },
    {
     "name": "stdout",
     "output_type": "stream",
     "text": [
      "[10]\tvalid_0's auc: 0.728764\tvalid_0's ks: 0.34702                               \n",
      "[20]\tvalid_0's auc: 0.739415\tvalid_0's ks: 0.360211                              \n",
      "[30]\tvalid_0's auc: 0.742038\tvalid_0's ks: 0.363637                              \n",
      "[40]\tvalid_0's auc: 0.744439\tvalid_0's ks: 0.371482                              \n",
      "[50]\tvalid_0's auc: 0.745067\tvalid_0's ks: 0.376979                              \n",
      "[60]\tvalid_0's auc: 0.748293\tvalid_0's ks: 0.380448                              \n",
      "[70]\tvalid_0's auc: 0.749427\tvalid_0's ks: 0.385798                              \n",
      "[80]\tvalid_0's auc: 0.750671\tvalid_0's ks: 0.38179                               \n",
      "[90]\tvalid_0's auc: 0.749199\tvalid_0's ks: 0.376181                              \n",
      "  8%|▊         | 4/50 [00:18<03:28,  4.53s/trial, best loss: -0.3879198504196245]"
     ]
    },
    {
     "name": "stderr",
     "output_type": "stream",
     "text": [
      "D:\\workspace\\misc\\OneDay\\venv\\lib\\site-packages\\lightgbm\\engine.py:177: UserWarning: Found `n_estimators` in params. Will use it instead of argument\n",
      "  _log_warning(f\"Found `{alias}` in params. Will use it instead of argument\")\n",
      "\n"
     ]
    },
    {
     "name": "stdout",
     "output_type": "stream",
     "text": [
      "Training until validation scores don't improve for 50 rounds                     \n",
      "[10]\tvalid_0's auc: 0.723585\tvalid_0's ks: 0.329509                              \n",
      "[20]\tvalid_0's auc: 0.734548\tvalid_0's ks: 0.335864                              \n",
      "[30]\tvalid_0's auc: 0.739035\tvalid_0's ks: 0.342261                              \n",
      "[40]\tvalid_0's auc: 0.743628\tvalid_0's ks: 0.355736                              \n",
      "[50]\tvalid_0's auc: 0.745872\tvalid_0's ks: 0.362092                              \n",
      "[60]\tvalid_0's auc: 0.74576\tvalid_0's ks: 0.360501                               \n",
      "[70]\tvalid_0's auc: 0.746248\tvalid_0's ks: 0.35589                               \n",
      "  8%|▊         | 4/50 [00:19<03:28,  4.53s/trial, best loss: -0.3879198504196245]"
     ]
    },
    {
     "name": "stderr",
     "output_type": "stream",
     "text": [
      "D:\\workspace\\misc\\OneDay\\venv\\lib\\site-packages\\lightgbm\\engine.py:177: UserWarning: Found `n_estimators` in params. Will use it instead of argument\n",
      "  _log_warning(f\"Found `{alias}` in params. Will use it instead of argument\")\n",
      "\n"
     ]
    },
    {
     "name": "stdout",
     "output_type": "stream",
     "text": [
      "Training until validation scores don't improve for 50 rounds                     \n",
      "[10]\tvalid_0's auc: 0.719353\tvalid_0's ks: 0.338355                              \n",
      "[20]\tvalid_0's auc: 0.727352\tvalid_0's ks: 0.350174                              \n",
      "[30]\tvalid_0's auc: 0.729925\tvalid_0's ks: 0.347823                              \n",
      "[40]\tvalid_0's auc: 0.730256\tvalid_0's ks: 0.35572                               \n",
      "Training until validation scores don't improve for 50 rounds                     \n",
      "  8%|▊         | 4/50 [00:19<03:28,  4.53s/trial, best loss: -0.3879198504196245]"
     ]
    },
    {
     "name": "stderr",
     "output_type": "stream",
     "text": [
      "D:\\workspace\\misc\\OneDay\\venv\\lib\\site-packages\\lightgbm\\engine.py:177: UserWarning: Found `n_estimators` in params. Will use it instead of argument\n",
      "  _log_warning(f\"Found `{alias}` in params. Will use it instead of argument\")\n",
      "\n"
     ]
    },
    {
     "name": "stdout",
     "output_type": "stream",
     "text": [
      "[10]\tvalid_0's auc: 0.731073\tvalid_0's ks: 0.35423                               \n",
      "[20]\tvalid_0's auc: 0.739258\tvalid_0's ks: 0.359599                              \n",
      "[30]\tvalid_0's auc: 0.739887\tvalid_0's ks: 0.36762                               \n",
      "[40]\tvalid_0's auc: 0.742057\tvalid_0's ks: 0.374875                              \n",
      "[50]\tvalid_0's auc: 0.741578\tvalid_0's ks: 0.373108                              \n",
      "Training until validation scores don't improve for 50 rounds                     \n",
      "  8%|▊         | 4/50 [00:20<03:28,  4.53s/trial, best loss: -0.3879198504196245]"
     ]
    },
    {
     "name": "stderr",
     "output_type": "stream",
     "text": [
      "D:\\workspace\\misc\\OneDay\\venv\\lib\\site-packages\\lightgbm\\engine.py:177: UserWarning: Found `n_estimators` in params. Will use it instead of argument\n",
      "  _log_warning(f\"Found `{alias}` in params. Will use it instead of argument\")\n",
      "\n"
     ]
    },
    {
     "name": "stdout",
     "output_type": "stream",
     "text": [
      "[10]\tvalid_0's auc: 0.727117\tvalid_0's ks: 0.361209                              \n",
      "[20]\tvalid_0's auc: 0.737873\tvalid_0's ks: 0.358775                              \n",
      "[30]\tvalid_0's auc: 0.745259\tvalid_0's ks: 0.371863                              \n",
      "[40]\tvalid_0's auc: 0.74485\tvalid_0's ks: 0.38209                                \n",
      "[50]\tvalid_0's auc: 0.747155\tvalid_0's ks: 0.372322                              \n",
      "Training until validation scores don't improve for 50 rounds                     \n",
      " 10%|█         | 5/50 [00:21<03:02,  4.05s/trial, best loss: -0.3879198504196245]"
     ]
    },
    {
     "name": "stderr",
     "output_type": "stream",
     "text": [
      "D:\\workspace\\misc\\OneDay\\venv\\lib\\site-packages\\lightgbm\\engine.py:177: UserWarning: Found `n_estimators` in params. Will use it instead of argument\n",
      "  _log_warning(f\"Found `{alias}` in params. Will use it instead of argument\")\n",
      "\n"
     ]
    },
    {
     "name": "stdout",
     "output_type": "stream",
     "text": [
      "[10]\tvalid_0's auc: 0.733257\tvalid_0's ks: 0.354293                              \n",
      "[20]\tvalid_0's auc: 0.743756\tvalid_0's ks: 0.36642                               \n",
      "[30]\tvalid_0's auc: 0.745956\tvalid_0's ks: 0.366963                              \n",
      "[40]\tvalid_0's auc: 0.74837\tvalid_0's ks: 0.37492                                \n",
      "[50]\tvalid_0's auc: 0.748135\tvalid_0's ks: 0.371108                              \n",
      "Training until validation scores don't improve for 50 rounds                     \n",
      " 10%|█         | 5/50 [00:21<03:02,  4.05s/trial, best loss: -0.3879198504196245]"
     ]
    },
    {
     "name": "stderr",
     "output_type": "stream",
     "text": [
      "D:\\workspace\\misc\\OneDay\\venv\\lib\\site-packages\\lightgbm\\engine.py:177: UserWarning: Found `n_estimators` in params. Will use it instead of argument\n",
      "  _log_warning(f\"Found `{alias}` in params. Will use it instead of argument\")\n",
      "\n"
     ]
    },
    {
     "name": "stdout",
     "output_type": "stream",
     "text": [
      "[10]\tvalid_0's auc: 0.729363\tvalid_0's ks: 0.33614                               \n",
      "[20]\tvalid_0's auc: 0.744887\tvalid_0's ks: 0.362672                              \n",
      "[30]\tvalid_0's auc: 0.749053\tvalid_0's ks: 0.36899                               \n",
      "[40]\tvalid_0's auc: 0.751101\tvalid_0's ks: 0.366648                              \n",
      "Training until validation scores don't improve for 50 rounds                     \n",
      " 10%|█         | 5/50 [00:22<03:02,  4.05s/trial, best loss: -0.3879198504196245]"
     ]
    },
    {
     "name": "stderr",
     "output_type": "stream",
     "text": [
      "D:\\workspace\\misc\\OneDay\\venv\\lib\\site-packages\\lightgbm\\engine.py:177: UserWarning: Found `n_estimators` in params. Will use it instead of argument\n",
      "  _log_warning(f\"Found `{alias}` in params. Will use it instead of argument\")\n",
      "\n"
     ]
    },
    {
     "name": "stdout",
     "output_type": "stream",
     "text": [
      "[10]\tvalid_0's auc: 0.73225\tvalid_0's ks: 0.346107                               \n",
      "[20]\tvalid_0's auc: 0.738124\tvalid_0's ks: 0.357463                              \n",
      "[30]\tvalid_0's auc: 0.73781\tvalid_0's ks: 0.3697                                 \n",
      "[40]\tvalid_0's auc: 0.740776\tvalid_0's ks: 0.35828                               \n",
      "[50]\tvalid_0's auc: 0.741929\tvalid_0's ks: 0.361986                              \n",
      " 10%|█         | 5/50 [00:22<03:02,  4.05s/trial, best loss: -0.3879198504196245]"
     ]
    },
    {
     "name": "stderr",
     "output_type": "stream",
     "text": [
      "D:\\workspace\\misc\\OneDay\\venv\\lib\\site-packages\\lightgbm\\engine.py:177: UserWarning: Found `n_estimators` in params. Will use it instead of argument\n",
      "  _log_warning(f\"Found `{alias}` in params. Will use it instead of argument\")\n",
      "\n"
     ]
    },
    {
     "name": "stdout",
     "output_type": "stream",
     "text": [
      "Training until validation scores don't improve for 50 rounds                     \n",
      "[10]\tvalid_0's auc: 0.724592\tvalid_0's ks: 0.35073                               \n",
      "[20]\tvalid_0's auc: 0.731259\tvalid_0's ks: 0.364111                              \n",
      "[30]\tvalid_0's auc: 0.731723\tvalid_0's ks: 0.367564                              \n",
      "Training until validation scores don't improve for 50 rounds                     \n",
      " 10%|█         | 5/50 [00:23<03:02,  4.05s/trial, best loss: -0.3879198504196245]"
     ]
    },
    {
     "name": "stderr",
     "output_type": "stream",
     "text": [
      "D:\\workspace\\misc\\OneDay\\venv\\lib\\site-packages\\lightgbm\\engine.py:177: UserWarning: Found `n_estimators` in params. Will use it instead of argument\n",
      "  _log_warning(f\"Found `{alias}` in params. Will use it instead of argument\")\n",
      "\n"
     ]
    },
    {
     "name": "stdout",
     "output_type": "stream",
     "text": [
      "[10]\tvalid_0's auc: 0.719527\tvalid_0's ks: 0.330905                              \n",
      "[20]\tvalid_0's auc: 0.729823\tvalid_0's ks: 0.349535                              \n",
      "[30]\tvalid_0's auc: 0.72829\tvalid_0's ks: 0.350733                               \n",
      "[40]\tvalid_0's auc: 0.726254\tvalid_0's ks: 0.344641                              \n",
      "Training until validation scores don't improve for 50 rounds                     \n",
      " 12%|█▏        | 6/50 [00:24<02:42,  3.69s/trial, best loss: -0.3879198504196245]"
     ]
    },
    {
     "name": "stderr",
     "output_type": "stream",
     "text": [
      "D:\\workspace\\misc\\OneDay\\venv\\lib\\site-packages\\lightgbm\\engine.py:177: UserWarning: Found `n_estimators` in params. Will use it instead of argument\n",
      "  _log_warning(f\"Found `{alias}` in params. Will use it instead of argument\")\n",
      "\n"
     ]
    },
    {
     "name": "stdout",
     "output_type": "stream",
     "text": [
      "[10]\tvalid_0's auc: 0.739433\tvalid_0's ks: 0.367306                              \n",
      "[20]\tvalid_0's auc: 0.750439\tvalid_0's ks: 0.392177                              \n",
      "[30]\tvalid_0's auc: 0.750495\tvalid_0's ks: 0.386345                              \n",
      "[40]\tvalid_0's auc: 0.752899\tvalid_0's ks: 0.384668                              \n",
      " 12%|█▏        | 6/50 [00:24<02:42,  3.69s/trial, best loss: -0.3879198504196245]"
     ]
    },
    {
     "name": "stderr",
     "output_type": "stream",
     "text": [
      "D:\\workspace\\misc\\OneDay\\venv\\lib\\site-packages\\lightgbm\\engine.py:177: UserWarning: Found `n_estimators` in params. Will use it instead of argument\n",
      "  _log_warning(f\"Found `{alias}` in params. Will use it instead of argument\")\n",
      "\n"
     ]
    },
    {
     "name": "stdout",
     "output_type": "stream",
     "text": [
      "Training until validation scores don't improve for 50 rounds                     \n",
      "[10]\tvalid_0's auc: 0.73288\tvalid_0's ks: 0.354969                               \n",
      "[20]\tvalid_0's auc: 0.746395\tvalid_0's ks: 0.374618                              \n",
      "[30]\tvalid_0's auc: 0.750536\tvalid_0's ks: 0.376868                              \n",
      "[40]\tvalid_0's auc: 0.753752\tvalid_0's ks: 0.383838                              \n",
      "[50]\tvalid_0's auc: 0.751772\tvalid_0's ks: 0.375665                              \n",
      "[60]\tvalid_0's auc: 0.752682\tvalid_0's ks: 0.388717                              \n",
      " 12%|█▏        | 6/50 [00:25<02:42,  3.69s/trial, best loss: -0.3879198504196245]"
     ]
    },
    {
     "name": "stderr",
     "output_type": "stream",
     "text": [
      "D:\\workspace\\misc\\OneDay\\venv\\lib\\site-packages\\lightgbm\\engine.py:177: UserWarning: Found `n_estimators` in params. Will use it instead of argument\n",
      "  _log_warning(f\"Found `{alias}` in params. Will use it instead of argument\")\n",
      "\n"
     ]
    },
    {
     "name": "stdout",
     "output_type": "stream",
     "text": [
      "Training until validation scores don't improve for 50 rounds                     \n",
      "[10]\tvalid_0's auc: 0.756487\tvalid_0's ks: 0.396577                              \n",
      "[20]\tvalid_0's auc: 0.768752\tvalid_0's ks: 0.421979                              \n",
      "[30]\tvalid_0's auc: 0.775007\tvalid_0's ks: 0.436881                              \n",
      "[40]\tvalid_0's auc: 0.772784\tvalid_0's ks: 0.433556                              \n",
      "[50]\tvalid_0's auc: 0.773258\tvalid_0's ks: 0.435171                              \n",
      " 12%|█▏        | 6/50 [00:25<02:42,  3.69s/trial, best loss: -0.3879198504196245]"
     ]
    },
    {
     "name": "stderr",
     "output_type": "stream",
     "text": [
      "D:\\workspace\\misc\\OneDay\\venv\\lib\\site-packages\\lightgbm\\engine.py:177: UserWarning: Found `n_estimators` in params. Will use it instead of argument\n",
      "  _log_warning(f\"Found `{alias}` in params. Will use it instead of argument\")\n",
      "\n"
     ]
    },
    {
     "name": "stdout",
     "output_type": "stream",
     "text": [
      "Training until validation scores don't improve for 50 rounds                     \n",
      "[10]\tvalid_0's auc: 0.733934\tvalid_0's ks: 0.354907                              \n",
      "[20]\tvalid_0's auc: 0.746951\tvalid_0's ks: 0.363576                              \n",
      "[30]\tvalid_0's auc: 0.75278\tvalid_0's ks: 0.37549                                \n",
      "[40]\tvalid_0's auc: 0.756272\tvalid_0's ks: 0.387103                              \n",
      "[50]\tvalid_0's auc: 0.755683\tvalid_0's ks: 0.374439                              \n",
      "[60]\tvalid_0's auc: 0.754805\tvalid_0's ks: 0.368096                              \n",
      "Training until validation scores don't improve for 50 rounds                     \n",
      " 12%|█▏        | 6/50 [00:26<02:42,  3.69s/trial, best loss: -0.3879198504196245]"
     ]
    },
    {
     "name": "stderr",
     "output_type": "stream",
     "text": [
      "D:\\workspace\\misc\\OneDay\\venv\\lib\\site-packages\\lightgbm\\engine.py:177: UserWarning: Found `n_estimators` in params. Will use it instead of argument\n",
      "  _log_warning(f\"Found `{alias}` in params. Will use it instead of argument\")\n",
      "\n"
     ]
    },
    {
     "name": "stdout",
     "output_type": "stream",
     "text": [
      "[10]\tvalid_0's auc: 0.737093\tvalid_0's ks: 0.371304                              \n",
      "[20]\tvalid_0's auc: 0.750864\tvalid_0's ks: 0.3769                                \n",
      "[30]\tvalid_0's auc: 0.753781\tvalid_0's ks: 0.378049                              \n",
      "[40]\tvalid_0's auc: 0.754978\tvalid_0's ks: 0.381579                              \n",
      "[50]\tvalid_0's auc: 0.753346\tvalid_0's ks: 0.386356                              \n",
      "Training until validation scores don't improve for 50 rounds                     \n",
      " 14%|█▍        | 7/50 [00:27<02:29,  3.48s/trial, best loss: -0.3982754503599297]"
     ]
    },
    {
     "name": "stderr",
     "output_type": "stream",
     "text": [
      "D:\\workspace\\misc\\OneDay\\venv\\lib\\site-packages\\lightgbm\\engine.py:177: UserWarning: Found `n_estimators` in params. Will use it instead of argument\n",
      "  _log_warning(f\"Found `{alias}` in params. Will use it instead of argument\")\n",
      "\n"
     ]
    },
    {
     "name": "stdout",
     "output_type": "stream",
     "text": [
      "[10]\tvalid_0's auc: 0.752023\tvalid_0's ks: 0.38166                               \n",
      "[20]\tvalid_0's auc: 0.761295\tvalid_0's ks: 0.39487                               \n",
      "[30]\tvalid_0's auc: 0.767207\tvalid_0's ks: 0.411039                              \n",
      "[40]\tvalid_0's auc: 0.770513\tvalid_0's ks: 0.419505                              \n",
      "[50]\tvalid_0's auc: 0.770968\tvalid_0's ks: 0.422329                              \n",
      "[60]\tvalid_0's auc: 0.771962\tvalid_0's ks: 0.414169                              \n",
      " 14%|█▍        | 7/50 [00:27<02:29,  3.48s/trial, best loss: -0.3982754503599297]"
     ]
    },
    {
     "name": "stderr",
     "output_type": "stream",
     "text": [
      "D:\\workspace\\misc\\OneDay\\venv\\lib\\site-packages\\lightgbm\\engine.py:177: UserWarning: Found `n_estimators` in params. Will use it instead of argument\n",
      "  _log_warning(f\"Found `{alias}` in params. Will use it instead of argument\")\n",
      "\n"
     ]
    },
    {
     "name": "stdout",
     "output_type": "stream",
     "text": [
      "Training until validation scores don't improve for 50 rounds                     \n",
      "[10]\tvalid_0's auc: 0.725115\tvalid_0's ks: 0.336594                              \n",
      "[20]\tvalid_0's auc: 0.733234\tvalid_0's ks: 0.362119                              \n",
      "[30]\tvalid_0's auc: 0.735454\tvalid_0's ks: 0.359541                              \n",
      "[40]\tvalid_0's auc: 0.737271\tvalid_0's ks: 0.360916                              \n",
      "[50]\tvalid_0's auc: 0.737301\tvalid_0's ks: 0.358807                              \n",
      " 14%|█▍        | 7/50 [00:28<02:29,  3.48s/trial, best loss: -0.3982754503599297]"
     ]
    },
    {
     "name": "stderr",
     "output_type": "stream",
     "text": [
      "D:\\workspace\\misc\\OneDay\\venv\\lib\\site-packages\\lightgbm\\engine.py:177: UserWarning: Found `n_estimators` in params. Will use it instead of argument\n",
      "  _log_warning(f\"Found `{alias}` in params. Will use it instead of argument\")\n",
      "\n"
     ]
    },
    {
     "name": "stdout",
     "output_type": "stream",
     "text": [
      "Training until validation scores don't improve for 50 rounds                     \n",
      "[10]\tvalid_0's auc: 0.735607\tvalid_0's ks: 0.367447                              \n",
      "[20]\tvalid_0's auc: 0.740166\tvalid_0's ks: 0.373195                              \n",
      "[30]\tvalid_0's auc: 0.74578\tvalid_0's ks: 0.377085                               \n",
      "[40]\tvalid_0's auc: 0.75003\tvalid_0's ks: 0.375884                               \n",
      "[50]\tvalid_0's auc: 0.752716\tvalid_0's ks: 0.379861                              \n",
      "[60]\tvalid_0's auc: 0.754299\tvalid_0's ks: 0.382043                              \n",
      "[70]\tvalid_0's auc: 0.754788\tvalid_0's ks: 0.385973                              \n",
      "[80]\tvalid_0's auc: 0.753496\tvalid_0's ks: 0.386465                              \n",
      "Training until validation scores don't improve for 50 rounds                     \n",
      " 14%|█▍        | 7/50 [00:29<02:29,  3.48s/trial, best loss: -0.3982754503599297]"
     ]
    },
    {
     "name": "stderr",
     "output_type": "stream",
     "text": [
      "D:\\workspace\\misc\\OneDay\\venv\\lib\\site-packages\\lightgbm\\engine.py:177: UserWarning: Found `n_estimators` in params. Will use it instead of argument\n",
      "  _log_warning(f\"Found `{alias}` in params. Will use it instead of argument\")\n",
      "\n"
     ]
    },
    {
     "name": "stdout",
     "output_type": "stream",
     "text": [
      "[10]\tvalid_0's auc: 0.754415\tvalid_0's ks: 0.37559                               \n",
      "[20]\tvalid_0's auc: 0.760567\tvalid_0's ks: 0.382491                              \n",
      "[30]\tvalid_0's auc: 0.765496\tvalid_0's ks: 0.393115                              \n",
      "[40]\tvalid_0's auc: 0.765392\tvalid_0's ks: 0.396654                              \n",
      "[50]\tvalid_0's auc: 0.765019\tvalid_0's ks: 0.39603                               \n",
      "[60]\tvalid_0's auc: 0.764805\tvalid_0's ks: 0.392616                              \n",
      "Training until validation scores don't improve for 50 rounds                     \n",
      " 14%|█▍        | 7/50 [00:30<02:29,  3.48s/trial, best loss: -0.3982754503599297]"
     ]
    },
    {
     "name": "stderr",
     "output_type": "stream",
     "text": [
      "D:\\workspace\\misc\\OneDay\\venv\\lib\\site-packages\\lightgbm\\engine.py:177: UserWarning: Found `n_estimators` in params. Will use it instead of argument\n",
      "  _log_warning(f\"Found `{alias}` in params. Will use it instead of argument\")\n",
      "\n"
     ]
    },
    {
     "name": "stdout",
     "output_type": "stream",
     "text": [
      "[10]\tvalid_0's auc: 0.7359\tvalid_0's ks: 0.361604                                \n",
      "[20]\tvalid_0's auc: 0.741752\tvalid_0's ks: 0.373457                              \n",
      "[30]\tvalid_0's auc: 0.746249\tvalid_0's ks: 0.375704                              \n",
      "[40]\tvalid_0's auc: 0.748341\tvalid_0's ks: 0.374785                              \n",
      "                                                                                 "
     ]
    },
    {
     "name": "stderr",
     "output_type": "stream",
     "text": [
      "D:\\workspace\\misc\\OneDay\\venv\\lib\\site-packages\\lightgbm\\engine.py:177: UserWarning: Found `n_estimators` in params. Will use it instead of argument\n",
      "  _log_warning(f\"Found `{alias}` in params. Will use it instead of argument\")\n",
      "\n"
     ]
    },
    {
     "name": "stdout",
     "output_type": "stream",
     "text": [
      "Training until validation scores don't improve for 50 rounds\n",
      "[10]\tvalid_0's auc: 0.741659\tvalid_0's ks: 0.358063                              \n",
      "[20]\tvalid_0's auc: 0.751832\tvalid_0's ks: 0.378731                              \n",
      "[30]\tvalid_0's auc: 0.752993\tvalid_0's ks: 0.372995                              \n",
      "Training until validation scores don't improve for 50 rounds                     \n",
      " 16%|█▌        | 8/50 [00:31<02:30,  3.58s/trial, best loss: -0.3982754503599297]"
     ]
    },
    {
     "name": "stderr",
     "output_type": "stream",
     "text": [
      "D:\\workspace\\misc\\OneDay\\venv\\lib\\site-packages\\lightgbm\\engine.py:177: UserWarning: Found `n_estimators` in params. Will use it instead of argument\n",
      "  _log_warning(f\"Found `{alias}` in params. Will use it instead of argument\")\n",
      "\n"
     ]
    },
    {
     "name": "stdout",
     "output_type": "stream",
     "text": [
      "[10]\tvalid_0's auc: 0.73864\tvalid_0's ks: 0.365327                               \n",
      "[20]\tvalid_0's auc: 0.744639\tvalid_0's ks: 0.373846                              \n",
      "[30]\tvalid_0's auc: 0.746145\tvalid_0's ks: 0.37209                               \n",
      "[40]\tvalid_0's auc: 0.747462\tvalid_0's ks: 0.37559                               \n",
      "[50]\tvalid_0's auc: 0.747974\tvalid_0's ks: 0.376335                              \n",
      "[60]\tvalid_0's auc: 0.751467\tvalid_0's ks: 0.379598                              \n",
      "[70]\tvalid_0's auc: 0.753892\tvalid_0's ks: 0.386674                              \n",
      "[80]\tvalid_0's auc: 0.75538\tvalid_0's ks: 0.3885                                 \n",
      "[90]\tvalid_0's auc: 0.757222\tvalid_0's ks: 0.389849                              \n",
      "[100]\tvalid_0's auc: 0.758713\tvalid_0's ks: 0.396194                             \n",
      "[110]\tvalid_0's auc: 0.758739\tvalid_0's ks: 0.392898                             \n",
      "[120]\tvalid_0's auc: 0.759015\tvalid_0's ks: 0.397112                             \n",
      "[130]\tvalid_0's auc: 0.758834\tvalid_0's ks: 0.395008                             \n",
      "[140]\tvalid_0's auc: 0.759655\tvalid_0's ks: 0.399372                             \n",
      "[150]\tvalid_0's auc: 0.7595\tvalid_0's ks: 0.402431                               \n",
      "[160]\tvalid_0's auc: 0.758794\tvalid_0's ks: 0.400473                             \n",
      "Training until validation scores don't improve for 50 rounds                     \n",
      " 16%|█▌        | 8/50 [00:33<02:30,  3.58s/trial, best loss: -0.3982754503599297]"
     ]
    },
    {
     "name": "stderr",
     "output_type": "stream",
     "text": [
      "D:\\workspace\\misc\\OneDay\\venv\\lib\\site-packages\\lightgbm\\engine.py:177: UserWarning: Found `n_estimators` in params. Will use it instead of argument\n",
      "  _log_warning(f\"Found `{alias}` in params. Will use it instead of argument\")\n",
      "\n"
     ]
    },
    {
     "name": "stdout",
     "output_type": "stream",
     "text": [
      "[10]\tvalid_0's auc: 0.72045\tvalid_0's ks: 0.335048                               \n",
      "[20]\tvalid_0's auc: 0.731271\tvalid_0's ks: 0.342412                              \n",
      "[30]\tvalid_0's auc: 0.736878\tvalid_0's ks: 0.352285                              \n",
      "[40]\tvalid_0's auc: 0.736861\tvalid_0's ks: 0.35387                               \n",
      "[50]\tvalid_0's auc: 0.738526\tvalid_0's ks: 0.360553                              \n",
      "[60]\tvalid_0's auc: 0.739504\tvalid_0's ks: 0.362391                              \n",
      "[70]\tvalid_0's auc: 0.740561\tvalid_0's ks: 0.364752                              \n",
      "[80]\tvalid_0's auc: 0.740898\tvalid_0's ks: 0.369008                              \n",
      "[90]\tvalid_0's auc: 0.74108\tvalid_0's ks: 0.36568                                \n",
      "[100]\tvalid_0's auc: 0.742041\tvalid_0's ks: 0.367101                             \n",
      "Training until validation scores don't improve for 50 rounds                     \n",
      " 16%|█▌        | 8/50 [00:34<02:30,  3.58s/trial, best loss: -0.3982754503599297]"
     ]
    },
    {
     "name": "stderr",
     "output_type": "stream",
     "text": [
      "D:\\workspace\\misc\\OneDay\\venv\\lib\\site-packages\\lightgbm\\engine.py:177: UserWarning: Found `n_estimators` in params. Will use it instead of argument\n",
      "  _log_warning(f\"Found `{alias}` in params. Will use it instead of argument\")\n",
      "\n"
     ]
    },
    {
     "name": "stdout",
     "output_type": "stream",
     "text": [
      "[10]\tvalid_0's auc: 0.739123\tvalid_0's ks: 0.371106                              \n",
      "[20]\tvalid_0's auc: 0.74871\tvalid_0's ks: 0.378571                               \n",
      "[30]\tvalid_0's auc: 0.750806\tvalid_0's ks: 0.395654                              \n",
      "[40]\tvalid_0's auc: 0.751848\tvalid_0's ks: 0.390306                              \n",
      "[50]\tvalid_0's auc: 0.752995\tvalid_0's ks: 0.38707                               \n",
      "Training until validation scores don't improve for 50 rounds                     \n",
      " 16%|█▌        | 8/50 [00:35<02:30,  3.58s/trial, best loss: -0.3982754503599297]"
     ]
    },
    {
     "name": "stderr",
     "output_type": "stream",
     "text": [
      "D:\\workspace\\misc\\OneDay\\venv\\lib\\site-packages\\lightgbm\\engine.py:177: UserWarning: Found `n_estimators` in params. Will use it instead of argument\n",
      "  _log_warning(f\"Found `{alias}` in params. Will use it instead of argument\")\n",
      "\n"
     ]
    },
    {
     "name": "stdout",
     "output_type": "stream",
     "text": [
      "[10]\tvalid_0's auc: 0.753828\tvalid_0's ks: 0.397272                              \n",
      "[20]\tvalid_0's auc: 0.760587\tvalid_0's ks: 0.413853                              \n",
      "[30]\tvalid_0's auc: 0.764732\tvalid_0's ks: 0.415774                              \n",
      "[40]\tvalid_0's auc: 0.766099\tvalid_0's ks: 0.416151                              \n",
      "[50]\tvalid_0's auc: 0.767951\tvalid_0's ks: 0.419385                              \n",
      "[60]\tvalid_0's auc: 0.769572\tvalid_0's ks: 0.423439                              \n",
      "[70]\tvalid_0's auc: 0.771991\tvalid_0's ks: 0.421289                              \n",
      "Training until validation scores don't improve for 50 rounds                     \n",
      " 18%|█▊        | 9/50 [00:36<02:49,  4.14s/trial, best loss: -0.3982754503599297]"
     ]
    },
    {
     "name": "stderr",
     "output_type": "stream",
     "text": [
      "D:\\workspace\\misc\\OneDay\\venv\\lib\\site-packages\\lightgbm\\engine.py:177: UserWarning: Found `n_estimators` in params. Will use it instead of argument\n",
      "  _log_warning(f\"Found `{alias}` in params. Will use it instead of argument\")\n",
      "\n"
     ]
    },
    {
     "name": "stdout",
     "output_type": "stream",
     "text": [
      "[10]\tvalid_0's auc: 0.701822\tvalid_0's ks: 0.309241                              \n",
      "[20]\tvalid_0's auc: 0.7116\tvalid_0's ks: 0.323844                                \n",
      "[30]\tvalid_0's auc: 0.710801\tvalid_0's ks: 0.313548                              \n",
      "Training until validation scores don't improve for 50 rounds                     \n",
      " 18%|█▊        | 9/50 [00:36<02:49,  4.14s/trial, best loss: -0.3982754503599297]"
     ]
    },
    {
     "name": "stderr",
     "output_type": "stream",
     "text": [
      "D:\\workspace\\misc\\OneDay\\venv\\lib\\site-packages\\lightgbm\\engine.py:177: UserWarning: Found `n_estimators` in params. Will use it instead of argument\n",
      "  _log_warning(f\"Found `{alias}` in params. Will use it instead of argument\")\n",
      "\n"
     ]
    },
    {
     "name": "stdout",
     "output_type": "stream",
     "text": [
      "[10]\tvalid_0's auc: 0.695254\tvalid_0's ks: 0.29608                               \n",
      "[20]\tvalid_0's auc: 0.707777\tvalid_0's ks: 0.321799                              \n",
      "[30]\tvalid_0's auc: 0.711163\tvalid_0's ks: 0.308144                              \n",
      "Training until validation scores don't improve for 50 rounds                     \n",
      " 18%|█▊        | 9/50 [00:37<02:49,  4.14s/trial, best loss: -0.3982754503599297]"
     ]
    },
    {
     "name": "stderr",
     "output_type": "stream",
     "text": [
      "D:\\workspace\\misc\\OneDay\\venv\\lib\\site-packages\\lightgbm\\engine.py:177: UserWarning: Found `n_estimators` in params. Will use it instead of argument\n",
      "  _log_warning(f\"Found `{alias}` in params. Will use it instead of argument\")\n",
      "\n"
     ]
    },
    {
     "name": "stdout",
     "output_type": "stream",
     "text": [
      "[10]\tvalid_0's auc: 0.727825\tvalid_0's ks: 0.361021                              \n",
      "[20]\tvalid_0's auc: 0.733875\tvalid_0's ks: 0.366656                              \n",
      "[30]\tvalid_0's auc: 0.736088\tvalid_0's ks: 0.362925                              \n",
      "[40]\tvalid_0's auc: 0.734312\tvalid_0's ks: 0.349005                              \n",
      "Training until validation scores don't improve for 50 rounds                     \n",
      " 18%|█▊        | 9/50 [00:38<02:49,  4.14s/trial, best loss: -0.3982754503599297]"
     ]
    },
    {
     "name": "stderr",
     "output_type": "stream",
     "text": [
      "D:\\workspace\\misc\\OneDay\\venv\\lib\\site-packages\\lightgbm\\engine.py:177: UserWarning: Found `n_estimators` in params. Will use it instead of argument\n",
      "  _log_warning(f\"Found `{alias}` in params. Will use it instead of argument\")\n",
      "\n"
     ]
    },
    {
     "name": "stdout",
     "output_type": "stream",
     "text": [
      "[10]\tvalid_0's auc: 0.685981\tvalid_0's ks: 0.274398                              \n",
      "[20]\tvalid_0's auc: 0.694017\tvalid_0's ks: 0.296652                              \n",
      "[30]\tvalid_0's auc: 0.691885\tvalid_0's ks: 0.301451                              \n",
      "[40]\tvalid_0's auc: 0.69158\tvalid_0's ks: 0.296386                               \n",
      "Training until validation scores don't improve for 50 rounds                     \n",
      " 18%|█▊        | 9/50 [00:38<02:49,  4.14s/trial, best loss: -0.3982754503599297]"
     ]
    },
    {
     "name": "stderr",
     "output_type": "stream",
     "text": [
      "D:\\workspace\\misc\\OneDay\\venv\\lib\\site-packages\\lightgbm\\engine.py:177: UserWarning: Found `n_estimators` in params. Will use it instead of argument\n",
      "  _log_warning(f\"Found `{alias}` in params. Will use it instead of argument\")\n",
      "\n"
     ]
    },
    {
     "name": "stdout",
     "output_type": "stream",
     "text": [
      "[10]\tvalid_0's auc: 0.723908\tvalid_0's ks: 0.340099                              \n",
      "[20]\tvalid_0's auc: 0.732726\tvalid_0's ks: 0.344891                              \n",
      "[30]\tvalid_0's auc: 0.730918\tvalid_0's ks: 0.340232                              \n",
      "Training until validation scores don't improve for 50 rounds                      \n",
      " 20%|██        | 10/50 [00:39<02:34,  3.87s/trial, best loss: -0.3982754503599297]"
     ]
    },
    {
     "name": "stderr",
     "output_type": "stream",
     "text": [
      "D:\\workspace\\misc\\OneDay\\venv\\lib\\site-packages\\lightgbm\\engine.py:177: UserWarning: Found `n_estimators` in params. Will use it instead of argument\n",
      "  _log_warning(f\"Found `{alias}` in params. Will use it instead of argument\")\n",
      "\n"
     ]
    },
    {
     "name": "stdout",
     "output_type": "stream",
     "text": [
      "[10]\tvalid_0's auc: 0.753131\tvalid_0's ks: 0.390565                               \n",
      "[20]\tvalid_0's auc: 0.756937\tvalid_0's ks: 0.403527                               \n",
      "[30]\tvalid_0's auc: 0.760933\tvalid_0's ks: 0.404009                               \n",
      "[40]\tvalid_0's auc: 0.759627\tvalid_0's ks: 0.398984                               \n",
      "Training until validation scores don't improve for 50 rounds                      \n",
      " 20%|██        | 10/50 [00:40<02:34,  3.87s/trial, best loss: -0.3982754503599297]"
     ]
    },
    {
     "name": "stderr",
     "output_type": "stream",
     "text": [
      "D:\\workspace\\misc\\OneDay\\venv\\lib\\site-packages\\lightgbm\\engine.py:177: UserWarning: Found `n_estimators` in params. Will use it instead of argument\n",
      "  _log_warning(f\"Found `{alias}` in params. Will use it instead of argument\")\n",
      "\n"
     ]
    },
    {
     "name": "stdout",
     "output_type": "stream",
     "text": [
      "[10]\tvalid_0's auc: 0.736884\tvalid_0's ks: 0.355057                               \n",
      "[20]\tvalid_0's auc: 0.741173\tvalid_0's ks: 0.350452                               \n",
      "[30]\tvalid_0's auc: 0.743043\tvalid_0's ks: 0.367152                               \n",
      "[40]\tvalid_0's auc: 0.746278\tvalid_0's ks: 0.373482                               \n",
      "[50]\tvalid_0's auc: 0.746443\tvalid_0's ks: 0.366806                               \n",
      "[60]\tvalid_0's auc: 0.747857\tvalid_0's ks: 0.366781                               \n",
      "Training until validation scores don't improve for 50 rounds                      \n",
      " 20%|██        | 10/50 [00:40<02:34,  3.87s/trial, best loss: -0.3982754503599297]"
     ]
    },
    {
     "name": "stderr",
     "output_type": "stream",
     "text": [
      "D:\\workspace\\misc\\OneDay\\venv\\lib\\site-packages\\lightgbm\\engine.py:177: UserWarning: Found `n_estimators` in params. Will use it instead of argument\n",
      "  _log_warning(f\"Found `{alias}` in params. Will use it instead of argument\")\n",
      "\n"
     ]
    },
    {
     "name": "stdout",
     "output_type": "stream",
     "text": [
      "[10]\tvalid_0's auc: 0.738996\tvalid_0's ks: 0.36962                                \n",
      "[20]\tvalid_0's auc: 0.747481\tvalid_0's ks: 0.383024                               \n",
      "[30]\tvalid_0's auc: 0.750418\tvalid_0's ks: 0.383307                               \n",
      "[40]\tvalid_0's auc: 0.750762\tvalid_0's ks: 0.393646                               \n",
      "[50]\tvalid_0's auc: 0.750402\tvalid_0's ks: 0.3971                                 \n",
      "[60]\tvalid_0's auc: 0.750756\tvalid_0's ks: 0.401272                               \n",
      "Training until validation scores don't improve for 50 rounds                      \n",
      " 20%|██        | 10/50 [00:41<02:34,  3.87s/trial, best loss: -0.3982754503599297]"
     ]
    },
    {
     "name": "stderr",
     "output_type": "stream",
     "text": [
      "D:\\workspace\\misc\\OneDay\\venv\\lib\\site-packages\\lightgbm\\engine.py:177: UserWarning: Found `n_estimators` in params. Will use it instead of argument\n",
      "  _log_warning(f\"Found `{alias}` in params. Will use it instead of argument\")\n",
      "\n"
     ]
    },
    {
     "name": "stdout",
     "output_type": "stream",
     "text": [
      "[10]\tvalid_0's auc: 0.737536\tvalid_0's ks: 0.355671                               \n",
      "[20]\tvalid_0's auc: 0.749901\tvalid_0's ks: 0.383754                               \n",
      "[30]\tvalid_0's auc: 0.753666\tvalid_0's ks: 0.383933                               \n",
      "[40]\tvalid_0's auc: 0.753139\tvalid_0's ks: 0.39178                                \n",
      "[50]\tvalid_0's auc: 0.753563\tvalid_0's ks: 0.388625                               \n",
      "Training until validation scores don't improve for 50 rounds                      \n",
      " 20%|██        | 10/50 [00:42<02:34,  3.87s/trial, best loss: -0.3982754503599297]"
     ]
    },
    {
     "name": "stderr",
     "output_type": "stream",
     "text": [
      "D:\\workspace\\misc\\OneDay\\venv\\lib\\site-packages\\lightgbm\\engine.py:177: UserWarning: Found `n_estimators` in params. Will use it instead of argument\n",
      "  _log_warning(f\"Found `{alias}` in params. Will use it instead of argument\")\n",
      "\n"
     ]
    },
    {
     "name": "stdout",
     "output_type": "stream",
     "text": [
      "[10]\tvalid_0's auc: 0.738109\tvalid_0's ks: 0.346698                               \n",
      "[20]\tvalid_0's auc: 0.749873\tvalid_0's ks: 0.364                                  \n",
      "[30]\tvalid_0's auc: 0.755091\tvalid_0's ks: 0.368777                               \n",
      "[40]\tvalid_0's auc: 0.75711\tvalid_0's ks: 0.374179                                \n",
      "[50]\tvalid_0's auc: 0.757683\tvalid_0's ks: 0.380431                               \n",
      "[60]\tvalid_0's auc: 0.759047\tvalid_0's ks: 0.385569                               \n",
      "[70]\tvalid_0's auc: 0.759378\tvalid_0's ks: 0.382888                               \n",
      "[80]\tvalid_0's auc: 0.760028\tvalid_0's ks: 0.382416                               \n",
      "Training until validation scores don't improve for 50 rounds                      \n",
      " 22%|██▏       | 11/50 [00:43<02:26,  3.77s/trial, best loss: -0.3982754503599297]"
     ]
    },
    {
     "name": "stderr",
     "output_type": "stream",
     "text": [
      "D:\\workspace\\misc\\OneDay\\venv\\lib\\site-packages\\lightgbm\\engine.py:177: UserWarning: Found `n_estimators` in params. Will use it instead of argument\n",
      "  _log_warning(f\"Found `{alias}` in params. Will use it instead of argument\")\n",
      "\n"
     ]
    },
    {
     "name": "stdout",
     "output_type": "stream",
     "text": [
      "[10]\tvalid_0's auc: 0.738118\tvalid_0's ks: 0.367786                               \n",
      "[20]\tvalid_0's auc: 0.742555\tvalid_0's ks: 0.374117                               \n",
      "[30]\tvalid_0's auc: 0.744579\tvalid_0's ks: 0.382807                               \n",
      "[40]\tvalid_0's auc: 0.747204\tvalid_0's ks: 0.386612                               \n",
      "[50]\tvalid_0's auc: 0.749431\tvalid_0's ks: 0.389516                               \n",
      "[60]\tvalid_0's auc: 0.749775\tvalid_0's ks: 0.393227                               \n",
      "[70]\tvalid_0's auc: 0.750556\tvalid_0's ks: 0.388509                               \n",
      "Training until validation scores don't improve for 50 rounds                      \n",
      " 22%|██▏       | 11/50 [00:43<02:26,  3.77s/trial, best loss: -0.3982754503599297]"
     ]
    },
    {
     "name": "stderr",
     "output_type": "stream",
     "text": [
      "D:\\workspace\\misc\\OneDay\\venv\\lib\\site-packages\\lightgbm\\engine.py:177: UserWarning: Found `n_estimators` in params. Will use it instead of argument\n",
      "  _log_warning(f\"Found `{alias}` in params. Will use it instead of argument\")\n",
      "\n"
     ]
    },
    {
     "name": "stdout",
     "output_type": "stream",
     "text": [
      "[10]\tvalid_0's auc: 0.728814\tvalid_0's ks: 0.335508                               \n",
      "[20]\tvalid_0's auc: 0.735786\tvalid_0's ks: 0.341536                               \n",
      "[30]\tvalid_0's auc: 0.738704\tvalid_0's ks: 0.350385                               \n",
      "[40]\tvalid_0's auc: 0.739577\tvalid_0's ks: 0.355241                               \n",
      "[50]\tvalid_0's auc: 0.739192\tvalid_0's ks: 0.356116                               \n",
      "[60]\tvalid_0's auc: 0.738344\tvalid_0's ks: 0.353714                               \n",
      "Training until validation scores don't improve for 50 rounds                      \n",
      " 22%|██▏       | 11/50 [00:44<02:26,  3.77s/trial, best loss: -0.3982754503599297]"
     ]
    },
    {
     "name": "stderr",
     "output_type": "stream",
     "text": [
      "D:\\workspace\\misc\\OneDay\\venv\\lib\\site-packages\\lightgbm\\engine.py:177: UserWarning: Found `n_estimators` in params. Will use it instead of argument\n",
      "  _log_warning(f\"Found `{alias}` in params. Will use it instead of argument\")\n",
      "\n"
     ]
    },
    {
     "name": "stdout",
     "output_type": "stream",
     "text": [
      "[10]\tvalid_0's auc: 0.751602\tvalid_0's ks: 0.369643                               \n",
      "[20]\tvalid_0's auc: 0.758154\tvalid_0's ks: 0.396292                               \n",
      "[30]\tvalid_0's auc: 0.761234\tvalid_0's ks: 0.39549                                \n",
      "[40]\tvalid_0's auc: 0.761887\tvalid_0's ks: 0.398671                               \n",
      "[50]\tvalid_0's auc: 0.762642\tvalid_0's ks: 0.400793                               \n",
      "[60]\tvalid_0's auc: 0.762299\tvalid_0's ks: 0.398555                               \n",
      "Training until validation scores don't improve for 50 rounds                      \n",
      " 22%|██▏       | 11/50 [00:45<02:26,  3.77s/trial, best loss: -0.3982754503599297]"
     ]
    },
    {
     "name": "stderr",
     "output_type": "stream",
     "text": [
      "D:\\workspace\\misc\\OneDay\\venv\\lib\\site-packages\\lightgbm\\engine.py:177: UserWarning: Found `n_estimators` in params. Will use it instead of argument\n",
      "  _log_warning(f\"Found `{alias}` in params. Will use it instead of argument\")\n",
      "\n"
     ]
    },
    {
     "name": "stdout",
     "output_type": "stream",
     "text": [
      "[10]\tvalid_0's auc: 0.758876\tvalid_0's ks: 0.390583                               \n",
      "[20]\tvalid_0's auc: 0.766447\tvalid_0's ks: 0.409137                               \n",
      "[30]\tvalid_0's auc: 0.767154\tvalid_0's ks: 0.405522                               \n",
      "[40]\tvalid_0's auc: 0.768541\tvalid_0's ks: 0.406444                               \n",
      "Training until validation scores don't improve for 50 rounds                      \n",
      " 22%|██▏       | 11/50 [00:45<02:26,  3.77s/trial, best loss: -0.3982754503599297]"
     ]
    },
    {
     "name": "stderr",
     "output_type": "stream",
     "text": [
      "D:\\workspace\\misc\\OneDay\\venv\\lib\\site-packages\\lightgbm\\engine.py:177: UserWarning: Found `n_estimators` in params. Will use it instead of argument\n",
      "  _log_warning(f\"Found `{alias}` in params. Will use it instead of argument\")\n",
      "\n"
     ]
    },
    {
     "name": "stdout",
     "output_type": "stream",
     "text": [
      "[10]\tvalid_0's auc: 0.723133\tvalid_0's ks: 0.341658                               \n",
      "[20]\tvalid_0's auc: 0.73354\tvalid_0's ks: 0.344614                                \n",
      "[30]\tvalid_0's auc: 0.73866\tvalid_0's ks: 0.35341                                 \n",
      "[40]\tvalid_0's auc: 0.740719\tvalid_0's ks: 0.360735                               \n",
      "[50]\tvalid_0's auc: 0.744788\tvalid_0's ks: 0.370104                               \n",
      "[60]\tvalid_0's auc: 0.745002\tvalid_0's ks: 0.374569                               \n",
      "[70]\tvalid_0's auc: 0.746122\tvalid_0's ks: 0.372883                               \n",
      "Training until validation scores don't improve for 50 rounds                      \n",
      " 24%|██▍       | 12/50 [00:46<02:18,  3.64s/trial, best loss: -0.3982754503599297]"
     ]
    },
    {
     "name": "stderr",
     "output_type": "stream",
     "text": [
      "D:\\workspace\\misc\\OneDay\\venv\\lib\\site-packages\\lightgbm\\engine.py:177: UserWarning: Found `n_estimators` in params. Will use it instead of argument\n",
      "  _log_warning(f\"Found `{alias}` in params. Will use it instead of argument\")\n",
      "\n"
     ]
    },
    {
     "name": "stdout",
     "output_type": "stream",
     "text": [
      "[10]\tvalid_0's auc: 0.738549\tvalid_0's ks: 0.358516                               \n",
      "[20]\tvalid_0's auc: 0.74805\tvalid_0's ks: 0.38576                                 \n",
      "[30]\tvalid_0's auc: 0.755015\tvalid_0's ks: 0.400642                               \n",
      "[40]\tvalid_0's auc: 0.757461\tvalid_0's ks: 0.396587                               \n",
      "[50]\tvalid_0's auc: 0.75829\tvalid_0's ks: 0.392366                                \n",
      "Training until validation scores don't improve for 50 rounds                      \n",
      " 24%|██▍       | 12/50 [00:47<02:18,  3.64s/trial, best loss: -0.3982754503599297]"
     ]
    },
    {
     "name": "stderr",
     "output_type": "stream",
     "text": [
      "D:\\workspace\\misc\\OneDay\\venv\\lib\\site-packages\\lightgbm\\engine.py:177: UserWarning: Found `n_estimators` in params. Will use it instead of argument\n",
      "  _log_warning(f\"Found `{alias}` in params. Will use it instead of argument\")\n",
      "\n"
     ]
    },
    {
     "name": "stdout",
     "output_type": "stream",
     "text": [
      "[10]\tvalid_0's auc: 0.723933\tvalid_0's ks: 0.345072                               \n",
      "[20]\tvalid_0's auc: 0.735198\tvalid_0's ks: 0.365003                               \n",
      "[30]\tvalid_0's auc: 0.737529\tvalid_0's ks: 0.352812                               \n",
      "[40]\tvalid_0's auc: 0.740106\tvalid_0's ks: 0.357533                               \n",
      "Training until validation scores don't improve for 50 rounds                      \n",
      " 24%|██▍       | 12/50 [00:47<02:18,  3.64s/trial, best loss: -0.3982754503599297]"
     ]
    },
    {
     "name": "stderr",
     "output_type": "stream",
     "text": [
      "D:\\workspace\\misc\\OneDay\\venv\\lib\\site-packages\\lightgbm\\engine.py:177: UserWarning: Found `n_estimators` in params. Will use it instead of argument\n",
      "  _log_warning(f\"Found `{alias}` in params. Will use it instead of argument\")\n",
      "\n"
     ]
    },
    {
     "name": "stdout",
     "output_type": "stream",
     "text": [
      "[10]\tvalid_0's auc: 0.736479\tvalid_0's ks: 0.3661                                 \n",
      "[20]\tvalid_0's auc: 0.742217\tvalid_0's ks: 0.373736                               \n",
      "[30]\tvalid_0's auc: 0.745629\tvalid_0's ks: 0.384426                               \n",
      "[40]\tvalid_0's auc: 0.746571\tvalid_0's ks: 0.380358                               \n",
      "[50]\tvalid_0's auc: 0.748673\tvalid_0's ks: 0.382226                               \n",
      "Training until validation scores don't improve for 50 rounds                      \n",
      " 24%|██▍       | 12/50 [00:48<02:18,  3.64s/trial, best loss: -0.3982754503599297]"
     ]
    },
    {
     "name": "stderr",
     "output_type": "stream",
     "text": [
      "D:\\workspace\\misc\\OneDay\\venv\\lib\\site-packages\\lightgbm\\engine.py:177: UserWarning: Found `n_estimators` in params. Will use it instead of argument\n",
      "  _log_warning(f\"Found `{alias}` in params. Will use it instead of argument\")\n",
      "\n"
     ]
    },
    {
     "name": "stdout",
     "output_type": "stream",
     "text": [
      "[10]\tvalid_0's auc: 0.74807\tvalid_0's ks: 0.376634                                \n",
      "[20]\tvalid_0's auc: 0.757338\tvalid_0's ks: 0.388619                               \n",
      "[30]\tvalid_0's auc: 0.763056\tvalid_0's ks: 0.4046                                 \n",
      "[40]\tvalid_0's auc: 0.764501\tvalid_0's ks: 0.406616                               \n",
      "[50]\tvalid_0's auc: 0.765514\tvalid_0's ks: 0.406484                               \n",
      "[60]\tvalid_0's auc: 0.766206\tvalid_0's ks: 0.404613                               \n",
      "[70]\tvalid_0's auc: 0.766944\tvalid_0's ks: 0.408437                               \n",
      "[80]\tvalid_0's auc: 0.767507\tvalid_0's ks: 0.404778                               \n",
      "[90]\tvalid_0's auc: 0.767759\tvalid_0's ks: 0.412919                               \n",
      "[100]\tvalid_0's auc: 0.766872\tvalid_0's ks: 0.40912                               \n",
      "Training until validation scores don't improve for 50 rounds                      \n",
      " 24%|██▍       | 12/50 [00:49<02:18,  3.64s/trial, best loss: -0.3982754503599297]"
     ]
    },
    {
     "name": "stderr",
     "output_type": "stream",
     "text": [
      "D:\\workspace\\misc\\OneDay\\venv\\lib\\site-packages\\lightgbm\\engine.py:177: UserWarning: Found `n_estimators` in params. Will use it instead of argument\n",
      "  _log_warning(f\"Found `{alias}` in params. Will use it instead of argument\")\n",
      "\n"
     ]
    },
    {
     "name": "stdout",
     "output_type": "stream",
     "text": [
      "[10]\tvalid_0's auc: 0.735219\tvalid_0's ks: 0.343805                               \n",
      "[20]\tvalid_0's auc: 0.746892\tvalid_0's ks: 0.371433                               \n",
      "[30]\tvalid_0's auc: 0.753175\tvalid_0's ks: 0.389672                               \n",
      "[40]\tvalid_0's auc: 0.756724\tvalid_0's ks: 0.388413                               \n",
      "[50]\tvalid_0's auc: 0.758804\tvalid_0's ks: 0.395749                               \n",
      "[60]\tvalid_0's auc: 0.758707\tvalid_0's ks: 0.389184                               \n",
      "[70]\tvalid_0's auc: 0.758273\tvalid_0's ks: 0.388361                               \n",
      "Training until validation scores don't improve for 50 rounds                      \n",
      " 26%|██▌       | 13/50 [00:49<02:12,  3.59s/trial, best loss: -0.3982754503599297]"
     ]
    },
    {
     "name": "stderr",
     "output_type": "stream",
     "text": [
      "D:\\workspace\\misc\\OneDay\\venv\\lib\\site-packages\\lightgbm\\engine.py:177: UserWarning: Found `n_estimators` in params. Will use it instead of argument\n",
      "  _log_warning(f\"Found `{alias}` in params. Will use it instead of argument\")\n",
      "\n"
     ]
    },
    {
     "name": "stdout",
     "output_type": "stream",
     "text": [
      "[10]\tvalid_0's auc: 0.740609\tvalid_0's ks: 0.373847                               \n",
      "[20]\tvalid_0's auc: 0.755652\tvalid_0's ks: 0.38159                                \n",
      "[30]\tvalid_0's auc: 0.758815\tvalid_0's ks: 0.378948                               \n",
      "[40]\tvalid_0's auc: 0.762936\tvalid_0's ks: 0.385094                               \n",
      "[50]\tvalid_0's auc: 0.764818\tvalid_0's ks: 0.393437                               \n",
      "[60]\tvalid_0's auc: 0.766015\tvalid_0's ks: 0.396601                               \n",
      "[70]\tvalid_0's auc: 0.76642\tvalid_0's ks: 0.40341                                 \n",
      "[80]\tvalid_0's auc: 0.765929\tvalid_0's ks: 0.40336                                \n",
      "Training until validation scores don't improve for 50 rounds                      \n",
      " 26%|██▌       | 13/50 [00:50<02:12,  3.59s/trial, best loss: -0.3982754503599297]"
     ]
    },
    {
     "name": "stderr",
     "output_type": "stream",
     "text": [
      "D:\\workspace\\misc\\OneDay\\venv\\lib\\site-packages\\lightgbm\\engine.py:177: UserWarning: Found `n_estimators` in params. Will use it instead of argument\n",
      "  _log_warning(f\"Found `{alias}` in params. Will use it instead of argument\")\n",
      "\n"
     ]
    },
    {
     "name": "stdout",
     "output_type": "stream",
     "text": [
      "[10]\tvalid_0's auc: 0.731665\tvalid_0's ks: 0.355158                               \n",
      "[20]\tvalid_0's auc: 0.743048\tvalid_0's ks: 0.366211                               \n",
      "[30]\tvalid_0's auc: 0.748509\tvalid_0's ks: 0.376995                               \n",
      "[40]\tvalid_0's auc: 0.752932\tvalid_0's ks: 0.382477                               \n",
      "[50]\tvalid_0's auc: 0.754841\tvalid_0's ks: 0.398018                               \n",
      "[60]\tvalid_0's auc: 0.755542\tvalid_0's ks: 0.396463                               \n",
      "[70]\tvalid_0's auc: 0.755323\tvalid_0's ks: 0.391798                               \n",
      "Training until validation scores don't improve for 50 rounds                      \n",
      " 26%|██▌       | 13/50 [00:51<02:12,  3.59s/trial, best loss: -0.3982754503599297]"
     ]
    },
    {
     "name": "stderr",
     "output_type": "stream",
     "text": [
      "D:\\workspace\\misc\\OneDay\\venv\\lib\\site-packages\\lightgbm\\engine.py:177: UserWarning: Found `n_estimators` in params. Will use it instead of argument\n",
      "  _log_warning(f\"Found `{alias}` in params. Will use it instead of argument\")\n",
      "\n"
     ]
    },
    {
     "name": "stdout",
     "output_type": "stream",
     "text": [
      "[10]\tvalid_0's auc: 0.730173\tvalid_0's ks: 0.340645                               \n",
      "[20]\tvalid_0's auc: 0.742846\tvalid_0's ks: 0.373045                               \n",
      "[30]\tvalid_0's auc: 0.748563\tvalid_0's ks: 0.374483                               \n",
      "[40]\tvalid_0's auc: 0.752686\tvalid_0's ks: 0.389481                               \n",
      "[50]\tvalid_0's auc: 0.753369\tvalid_0's ks: 0.384114                               \n",
      "[60]\tvalid_0's auc: 0.756633\tvalid_0's ks: 0.391326                               \n",
      "[70]\tvalid_0's auc: 0.758032\tvalid_0's ks: 0.401175                               \n",
      "[80]\tvalid_0's auc: 0.758652\tvalid_0's ks: 0.400059                               \n",
      "[90]\tvalid_0's auc: 0.757182\tvalid_0's ks: 0.396439                               \n",
      "Training until validation scores don't improve for 50 rounds                      \n",
      " 26%|██▌       | 13/50 [00:52<02:12,  3.59s/trial, best loss: -0.3982754503599297]"
     ]
    },
    {
     "name": "stderr",
     "output_type": "stream",
     "text": [
      "D:\\workspace\\misc\\OneDay\\venv\\lib\\site-packages\\lightgbm\\engine.py:177: UserWarning: Found `n_estimators` in params. Will use it instead of argument\n",
      "  _log_warning(f\"Found `{alias}` in params. Will use it instead of argument\")\n",
      "\n"
     ]
    },
    {
     "name": "stdout",
     "output_type": "stream",
     "text": [
      "[10]\tvalid_0's auc: 0.730585\tvalid_0's ks: 0.331724                               \n",
      "[20]\tvalid_0's auc: 0.742788\tvalid_0's ks: 0.354849                               \n",
      "[30]\tvalid_0's auc: 0.746823\tvalid_0's ks: 0.359042                               \n",
      "[40]\tvalid_0's auc: 0.749467\tvalid_0's ks: 0.36526                                \n",
      "[50]\tvalid_0's auc: 0.751268\tvalid_0's ks: 0.365933                               \n",
      "[60]\tvalid_0's auc: 0.753927\tvalid_0's ks: 0.37781                                \n",
      "[70]\tvalid_0's auc: 0.75573\tvalid_0's ks: 0.381603                                \n",
      "[80]\tvalid_0's auc: 0.755401\tvalid_0's ks: 0.380788                               \n",
      "Training until validation scores don't improve for 50 rounds                      \n",
      " 26%|██▌       | 13/50 [00:52<02:12,  3.59s/trial, best loss: -0.3982754503599297]"
     ]
    },
    {
     "name": "stderr",
     "output_type": "stream",
     "text": [
      "D:\\workspace\\misc\\OneDay\\venv\\lib\\site-packages\\lightgbm\\engine.py:177: UserWarning: Found `n_estimators` in params. Will use it instead of argument\n",
      "  _log_warning(f\"Found `{alias}` in params. Will use it instead of argument\")\n",
      "\n"
     ]
    },
    {
     "name": "stdout",
     "output_type": "stream",
     "text": [
      "[10]\tvalid_0's auc: 0.715459\tvalid_0's ks: 0.327682                               \n",
      "[20]\tvalid_0's auc: 0.731986\tvalid_0's ks: 0.353981                               \n",
      "[30]\tvalid_0's auc: 0.736162\tvalid_0's ks: 0.359976                               \n",
      "[40]\tvalid_0's auc: 0.739228\tvalid_0's ks: 0.368036                               \n",
      "[50]\tvalid_0's auc: 0.741639\tvalid_0's ks: 0.368479                               \n",
      "[60]\tvalid_0's auc: 0.743578\tvalid_0's ks: 0.374144                               \n",
      "[70]\tvalid_0's auc: 0.747255\tvalid_0's ks: 0.377541                               \n",
      "[80]\tvalid_0's auc: 0.74745\tvalid_0's ks: 0.382499                                \n",
      "[90]\tvalid_0's auc: 0.748612\tvalid_0's ks: 0.378773                               \n",
      "[100]\tvalid_0's auc: 0.74894\tvalid_0's ks: 0.373966                               \n",
      "Training until validation scores don't improve for 50 rounds                      \n",
      " 28%|██▊       | 14/50 [00:53<02:09,  3.60s/trial, best loss: -0.3982754503599297]"
     ]
    },
    {
     "name": "stderr",
     "output_type": "stream",
     "text": [
      "D:\\workspace\\misc\\OneDay\\venv\\lib\\site-packages\\lightgbm\\engine.py:177: UserWarning: Found `n_estimators` in params. Will use it instead of argument\n",
      "  _log_warning(f\"Found `{alias}` in params. Will use it instead of argument\")\n",
      "\n"
     ]
    },
    {
     "name": "stdout",
     "output_type": "stream",
     "text": [
      "[10]\tvalid_0's auc: 0.746297\tvalid_0's ks: 0.377693                               \n",
      "[20]\tvalid_0's auc: 0.75857\tvalid_0's ks: 0.393944                                \n",
      "[30]\tvalid_0's auc: 0.757862\tvalid_0's ks: 0.393542                               \n",
      "[40]\tvalid_0's auc: 0.758748\tvalid_0's ks: 0.402942                               \n",
      "[50]\tvalid_0's auc: 0.758258\tvalid_0's ks: 0.399211                               \n",
      "[60]\tvalid_0's auc: 0.760157\tvalid_0's ks: 0.385997                               \n",
      "Training until validation scores don't improve for 50 rounds                      \n",
      " 28%|██▊       | 14/50 [00:54<02:09,  3.60s/trial, best loss: -0.3982754503599297]"
     ]
    },
    {
     "name": "stderr",
     "output_type": "stream",
     "text": [
      "D:\\workspace\\misc\\OneDay\\venv\\lib\\site-packages\\lightgbm\\engine.py:177: UserWarning: Found `n_estimators` in params. Will use it instead of argument\n",
      "  _log_warning(f\"Found `{alias}` in params. Will use it instead of argument\")\n",
      "\n"
     ]
    },
    {
     "name": "stdout",
     "output_type": "stream",
     "text": [
      "[10]\tvalid_0's auc: 0.730874\tvalid_0's ks: 0.347985                               \n",
      "[20]\tvalid_0's auc: 0.741073\tvalid_0's ks: 0.367973                               \n",
      "[30]\tvalid_0's auc: 0.743921\tvalid_0's ks: 0.362539                               \n",
      "Training until validation scores don't improve for 50 rounds                      \n",
      " 28%|██▊       | 14/50 [00:54<02:09,  3.60s/trial, best loss: -0.3982754503599297]"
     ]
    },
    {
     "name": "stderr",
     "output_type": "stream",
     "text": [
      "D:\\workspace\\misc\\OneDay\\venv\\lib\\site-packages\\lightgbm\\engine.py:177: UserWarning: Found `n_estimators` in params. Will use it instead of argument\n",
      "  _log_warning(f\"Found `{alias}` in params. Will use it instead of argument\")\n",
      "\n"
     ]
    },
    {
     "name": "stdout",
     "output_type": "stream",
     "text": [
      "[10]\tvalid_0's auc: 0.74539\tvalid_0's ks: 0.372575                                \n",
      "[20]\tvalid_0's auc: 0.753882\tvalid_0's ks: 0.385461                               \n",
      "[30]\tvalid_0's auc: 0.756355\tvalid_0's ks: 0.386699                               \n",
      "[40]\tvalid_0's auc: 0.755436\tvalid_0's ks: 0.385495                               \n",
      "[50]\tvalid_0's auc: 0.758065\tvalid_0's ks: 0.392428                               \n",
      "[60]\tvalid_0's auc: 0.755237\tvalid_0's ks: 0.38795                                \n",
      "Training until validation scores don't improve for 50 rounds                      \n",
      " 28%|██▊       | 14/50 [00:55<02:09,  3.60s/trial, best loss: -0.3982754503599297]"
     ]
    },
    {
     "name": "stderr",
     "output_type": "stream",
     "text": [
      "D:\\workspace\\misc\\OneDay\\venv\\lib\\site-packages\\lightgbm\\engine.py:177: UserWarning: Found `n_estimators` in params. Will use it instead of argument\n",
      "  _log_warning(f\"Found `{alias}` in params. Will use it instead of argument\")\n",
      "\n"
     ]
    },
    {
     "name": "stdout",
     "output_type": "stream",
     "text": [
      "[10]\tvalid_0's auc: 0.736222\tvalid_0's ks: 0.362215                               \n",
      "[20]\tvalid_0's auc: 0.742184\tvalid_0's ks: 0.369721                               \n",
      "[30]\tvalid_0's auc: 0.744614\tvalid_0's ks: 0.373107                               \n",
      "[40]\tvalid_0's auc: 0.745576\tvalid_0's ks: 0.37948                                \n",
      "[50]\tvalid_0's auc: 0.744326\tvalid_0's ks: 0.39124                                \n",
      "                                                                                  "
     ]
    },
    {
     "name": "stderr",
     "output_type": "stream",
     "text": [
      "D:\\workspace\\misc\\OneDay\\venv\\lib\\site-packages\\lightgbm\\engine.py:177: UserWarning: Found `n_estimators` in params. Will use it instead of argument\n",
      "  _log_warning(f\"Found `{alias}` in params. Will use it instead of argument\")\n",
      "\n"
     ]
    },
    {
     "name": "stdout",
     "output_type": "stream",
     "text": [
      "Training until validation scores don't improve for 50 rounds\n",
      "[10]\tvalid_0's auc: 0.722353\tvalid_0's ks: 0.357332                               \n",
      "[20]\tvalid_0's auc: 0.726558\tvalid_0's ks: 0.353045                               \n",
      "                                                                                  "
     ]
    },
    {
     "name": "stderr",
     "output_type": "stream",
     "text": [
      "D:\\workspace\\misc\\OneDay\\venv\\lib\\site-packages\\lightgbm\\engine.py:177: UserWarning: Found `n_estimators` in params. Will use it instead of argument\n",
      "  _log_warning(f\"Found `{alias}` in params. Will use it instead of argument\")\n",
      "\n"
     ]
    },
    {
     "name": "stdout",
     "output_type": "stream",
     "text": [
      "Training until validation scores don't improve for 50 rounds\n",
      "[10]\tvalid_0's auc: 0.730875\tvalid_0's ks: 0.360945                               \n",
      "[20]\tvalid_0's auc: 0.74054\tvalid_0's ks: 0.372159                                \n",
      "[30]\tvalid_0's auc: 0.749783\tvalid_0's ks: 0.38502                                \n",
      "[40]\tvalid_0's auc: 0.751897\tvalid_0's ks: 0.393089                               \n",
      "[50]\tvalid_0's auc: 0.754699\tvalid_0's ks: 0.392832                               \n",
      "[60]\tvalid_0's auc: 0.756402\tvalid_0's ks: 0.398895                               \n",
      "[70]\tvalid_0's auc: 0.755933\tvalid_0's ks: 0.398824                               \n",
      "[80]\tvalid_0's auc: 0.754495\tvalid_0's ks: 0.395143                               \n",
      "Training until validation scores don't improve for 50 rounds                      \n",
      " 30%|███       | 15/50 [00:57<01:59,  3.41s/trial, best loss: -0.3982754503599297]"
     ]
    },
    {
     "name": "stderr",
     "output_type": "stream",
     "text": [
      "D:\\workspace\\misc\\OneDay\\venv\\lib\\site-packages\\lightgbm\\engine.py:177: UserWarning: Found `n_estimators` in params. Will use it instead of argument\n",
      "  _log_warning(f\"Found `{alias}` in params. Will use it instead of argument\")\n",
      "\n"
     ]
    },
    {
     "name": "stdout",
     "output_type": "stream",
     "text": [
      "[10]\tvalid_0's auc: 0.75366\tvalid_0's ks: 0.379394                                \n",
      "[20]\tvalid_0's auc: 0.762948\tvalid_0's ks: 0.382838                               \n",
      "[30]\tvalid_0's auc: 0.766549\tvalid_0's ks: 0.389652                               \n",
      "[40]\tvalid_0's auc: 0.768345\tvalid_0's ks: 0.391452                               \n",
      "[50]\tvalid_0's auc: 0.767924\tvalid_0's ks: 0.395043                               \n",
      "[60]\tvalid_0's auc: 0.768659\tvalid_0's ks: 0.398612                               \n",
      "[70]\tvalid_0's auc: 0.769744\tvalid_0's ks: 0.401743                               \n",
      "[80]\tvalid_0's auc: 0.769738\tvalid_0's ks: 0.396929                               \n",
      "Training until validation scores don't improve for 50 rounds                      \n",
      " 30%|███       | 15/50 [00:58<01:59,  3.41s/trial, best loss: -0.3982754503599297]"
     ]
    },
    {
     "name": "stderr",
     "output_type": "stream",
     "text": [
      "D:\\workspace\\misc\\OneDay\\venv\\lib\\site-packages\\lightgbm\\engine.py:177: UserWarning: Found `n_estimators` in params. Will use it instead of argument\n",
      "  _log_warning(f\"Found `{alias}` in params. Will use it instead of argument\")\n",
      "\n"
     ]
    },
    {
     "name": "stdout",
     "output_type": "stream",
     "text": [
      "[10]\tvalid_0's auc: 0.753834\tvalid_0's ks: 0.37672                                \n",
      "[20]\tvalid_0's auc: 0.770069\tvalid_0's ks: 0.41035                                \n",
      "[30]\tvalid_0's auc: 0.769949\tvalid_0's ks: 0.410257                               \n",
      "[40]\tvalid_0's auc: 0.767681\tvalid_0's ks: 0.419522                               \n",
      "Training until validation scores don't improve for 50 rounds                      \n",
      " 30%|███       | 15/50 [00:58<01:59,  3.41s/trial, best loss: -0.3982754503599297]"
     ]
    },
    {
     "name": "stderr",
     "output_type": "stream",
     "text": [
      "D:\\workspace\\misc\\OneDay\\venv\\lib\\site-packages\\lightgbm\\engine.py:177: UserWarning: Found `n_estimators` in params. Will use it instead of argument\n",
      "  _log_warning(f\"Found `{alias}` in params. Will use it instead of argument\")\n",
      "\n"
     ]
    },
    {
     "name": "stdout",
     "output_type": "stream",
     "text": [
      "[10]\tvalid_0's auc: 0.730751\tvalid_0's ks: 0.34972                                \n",
      "[20]\tvalid_0's auc: 0.740394\tvalid_0's ks: 0.358854                               \n",
      "[30]\tvalid_0's auc: 0.749913\tvalid_0's ks: 0.379835                               \n",
      "[40]\tvalid_0's auc: 0.751965\tvalid_0's ks: 0.382951                               \n",
      "[50]\tvalid_0's auc: 0.753591\tvalid_0's ks: 0.380545                               \n",
      "[60]\tvalid_0's auc: 0.755373\tvalid_0's ks: 0.379379                               \n",
      "Training until validation scores don't improve for 50 rounds                      \n",
      " 30%|███       | 15/50 [00:59<01:59,  3.41s/trial, best loss: -0.3982754503599297]"
     ]
    },
    {
     "name": "stderr",
     "output_type": "stream",
     "text": [
      "D:\\workspace\\misc\\OneDay\\venv\\lib\\site-packages\\lightgbm\\engine.py:177: UserWarning: Found `n_estimators` in params. Will use it instead of argument\n",
      "  _log_warning(f\"Found `{alias}` in params. Will use it instead of argument\")\n",
      "\n"
     ]
    },
    {
     "name": "stdout",
     "output_type": "stream",
     "text": [
      "[10]\tvalid_0's auc: 0.730277\tvalid_0's ks: 0.360976                               \n",
      "[20]\tvalid_0's auc: 0.741371\tvalid_0's ks: 0.361962                               \n",
      "[30]\tvalid_0's auc: 0.745411\tvalid_0's ks: 0.379531                               \n",
      "[40]\tvalid_0's auc: 0.748251\tvalid_0's ks: 0.380531                               \n",
      "[50]\tvalid_0's auc: 0.749654\tvalid_0's ks: 0.375095                               \n",
      "Training until validation scores don't improve for 50 rounds                      \n",
      " 32%|███▏      | 16/50 [00:59<01:54,  3.37s/trial, best loss: -0.3982754503599297]"
     ]
    },
    {
     "name": "stderr",
     "output_type": "stream",
     "text": [
      "D:\\workspace\\misc\\OneDay\\venv\\lib\\site-packages\\lightgbm\\engine.py:177: UserWarning: Found `n_estimators` in params. Will use it instead of argument\n",
      "  _log_warning(f\"Found `{alias}` in params. Will use it instead of argument\")\n",
      "\n"
     ]
    },
    {
     "name": "stdout",
     "output_type": "stream",
     "text": [
      "[10]\tvalid_0's auc: 0.748412\tvalid_0's ks: 0.381017                               \n",
      "[20]\tvalid_0's auc: 0.760831\tvalid_0's ks: 0.403493                               \n",
      "[30]\tvalid_0's auc: 0.770155\tvalid_0's ks: 0.413703                               \n",
      "[40]\tvalid_0's auc: 0.772622\tvalid_0's ks: 0.414274                               \n",
      "[50]\tvalid_0's auc: 0.774945\tvalid_0's ks: 0.423159                               \n",
      "[60]\tvalid_0's auc: 0.774836\tvalid_0's ks: 0.427494                               \n",
      "[70]\tvalid_0's auc: 0.775063\tvalid_0's ks: 0.423868                               \n",
      "[80]\tvalid_0's auc: 0.77384\tvalid_0's ks: 0.426427                                \n",
      "Training until validation scores don't improve for 50 rounds                      \n",
      " 32%|███▏      | 16/50 [01:00<01:54,  3.37s/trial, best loss: -0.3982754503599297]"
     ]
    },
    {
     "name": "stderr",
     "output_type": "stream",
     "text": [
      "D:\\workspace\\misc\\OneDay\\venv\\lib\\site-packages\\lightgbm\\engine.py:177: UserWarning: Found `n_estimators` in params. Will use it instead of argument\n",
      "  _log_warning(f\"Found `{alias}` in params. Will use it instead of argument\")\n",
      "\n"
     ]
    },
    {
     "name": "stdout",
     "output_type": "stream",
     "text": [
      "[10]\tvalid_0's auc: 0.733654\tvalid_0's ks: 0.366987                               \n",
      "[20]\tvalid_0's auc: 0.743509\tvalid_0's ks: 0.381197                               \n",
      "[30]\tvalid_0's auc: 0.749266\tvalid_0's ks: 0.38362                                \n",
      "[40]\tvalid_0's auc: 0.752586\tvalid_0's ks: 0.38262                                \n",
      "[50]\tvalid_0's auc: 0.753608\tvalid_0's ks: 0.383359                               \n",
      "Training until validation scores don't improve for 50 rounds                      \n",
      " 32%|███▏      | 16/50 [01:01<01:54,  3.37s/trial, best loss: -0.3982754503599297]"
     ]
    },
    {
     "name": "stderr",
     "output_type": "stream",
     "text": [
      "D:\\workspace\\misc\\OneDay\\venv\\lib\\site-packages\\lightgbm\\engine.py:177: UserWarning: Found `n_estimators` in params. Will use it instead of argument\n",
      "  _log_warning(f\"Found `{alias}` in params. Will use it instead of argument\")\n",
      "\n"
     ]
    },
    {
     "name": "stdout",
     "output_type": "stream",
     "text": [
      "[10]\tvalid_0's auc: 0.739456\tvalid_0's ks: 0.344905                               \n",
      "[20]\tvalid_0's auc: 0.74945\tvalid_0's ks: 0.362616                                \n",
      "[30]\tvalid_0's auc: 0.756791\tvalid_0's ks: 0.384441                               \n",
      "[40]\tvalid_0's auc: 0.759498\tvalid_0's ks: 0.393073                               \n",
      "[50]\tvalid_0's auc: 0.762801\tvalid_0's ks: 0.39994                                \n",
      "[60]\tvalid_0's auc: 0.764286\tvalid_0's ks: 0.405563                               \n",
      "[70]\tvalid_0's auc: 0.76617\tvalid_0's ks: 0.411311                                \n",
      "[80]\tvalid_0's auc: 0.765992\tvalid_0's ks: 0.405247                               \n",
      "[90]\tvalid_0's auc: 0.765882\tvalid_0's ks: 0.403999                               \n",
      "Training until validation scores don't improve for 50 rounds                      \n",
      " 32%|███▏      | 16/50 [01:01<01:54,  3.37s/trial, best loss: -0.3982754503599297]"
     ]
    },
    {
     "name": "stderr",
     "output_type": "stream",
     "text": [
      "D:\\workspace\\misc\\OneDay\\venv\\lib\\site-packages\\lightgbm\\engine.py:177: UserWarning: Found `n_estimators` in params. Will use it instead of argument\n",
      "  _log_warning(f\"Found `{alias}` in params. Will use it instead of argument\")\n",
      "\n"
     ]
    },
    {
     "name": "stdout",
     "output_type": "stream",
     "text": [
      "[10]\tvalid_0's auc: 0.713465\tvalid_0's ks: 0.345105                               \n",
      "[20]\tvalid_0's auc: 0.726832\tvalid_0's ks: 0.344965                               \n",
      "[30]\tvalid_0's auc: 0.735488\tvalid_0's ks: 0.346676                               \n",
      "Training until validation scores don't improve for 50 rounds                      \n",
      " 32%|███▏      | 16/50 [01:02<01:54,  3.37s/trial, best loss: -0.3982754503599297]"
     ]
    },
    {
     "name": "stderr",
     "output_type": "stream",
     "text": [
      "D:\\workspace\\misc\\OneDay\\venv\\lib\\site-packages\\lightgbm\\engine.py:177: UserWarning: Found `n_estimators` in params. Will use it instead of argument\n",
      "  _log_warning(f\"Found `{alias}` in params. Will use it instead of argument\")\n",
      "\n"
     ]
    },
    {
     "name": "stdout",
     "output_type": "stream",
     "text": [
      "[10]\tvalid_0's auc: 0.7329\tvalid_0's ks: 0.364562                                 \n",
      "[20]\tvalid_0's auc: 0.743267\tvalid_0's ks: 0.385653                               \n",
      "[30]\tvalid_0's auc: 0.747529\tvalid_0's ks: 0.382715                               \n",
      "[40]\tvalid_0's auc: 0.748434\tvalid_0's ks: 0.380548                               \n",
      " 34%|███▍      | 17/50 [01:02<01:46,  3.23s/trial, best loss: -0.3982754503599297]"
     ]
    },
    {
     "name": "stderr",
     "output_type": "stream",
     "text": [
      "D:\\workspace\\misc\\OneDay\\venv\\lib\\site-packages\\lightgbm\\engine.py:177: UserWarning: Found `n_estimators` in params. Will use it instead of argument\n",
      "  _log_warning(f\"Found `{alias}` in params. Will use it instead of argument\")\n",
      "\n"
     ]
    },
    {
     "name": "stdout",
     "output_type": "stream",
     "text": [
      "Training until validation scores don't improve for 50 rounds                      \n",
      "[10]\tvalid_0's auc: 0.709222\tvalid_0's ks: 0.311897                               \n",
      "[20]\tvalid_0's auc: 0.717832\tvalid_0's ks: 0.318942                               \n",
      "[30]\tvalid_0's auc: 0.721435\tvalid_0's ks: 0.322407                               \n",
      "[40]\tvalid_0's auc: 0.722659\tvalid_0's ks: 0.320258                               \n",
      "[50]\tvalid_0's auc: 0.724745\tvalid_0's ks: 0.319782                               \n",
      "Training until validation scores don't improve for 50 rounds                      \n",
      " 34%|███▍      | 17/50 [01:03<01:46,  3.23s/trial, best loss: -0.3982754503599297]"
     ]
    },
    {
     "name": "stderr",
     "output_type": "stream",
     "text": [
      "D:\\workspace\\misc\\OneDay\\venv\\lib\\site-packages\\lightgbm\\engine.py:177: UserWarning: Found `n_estimators` in params. Will use it instead of argument\n",
      "  _log_warning(f\"Found `{alias}` in params. Will use it instead of argument\")\n",
      "\n"
     ]
    },
    {
     "name": "stdout",
     "output_type": "stream",
     "text": [
      "[10]\tvalid_0's auc: 0.715321\tvalid_0's ks: 0.331618                               \n",
      "[20]\tvalid_0's auc: 0.720142\tvalid_0's ks: 0.335015                               \n",
      "[30]\tvalid_0's auc: 0.724443\tvalid_0's ks: 0.33956                                \n",
      "[40]\tvalid_0's auc: 0.728601\tvalid_0's ks: 0.347664                               \n",
      "[50]\tvalid_0's auc: 0.731184\tvalid_0's ks: 0.355866                               \n",
      "[60]\tvalid_0's auc: 0.733196\tvalid_0's ks: 0.358095                               \n",
      "[70]\tvalid_0's auc: 0.735353\tvalid_0's ks: 0.35977                                \n",
      "[80]\tvalid_0's auc: 0.736706\tvalid_0's ks: 0.359925                               \n",
      "[90]\tvalid_0's auc: 0.738172\tvalid_0's ks: 0.361572                               \n",
      "[100]\tvalid_0's auc: 0.739619\tvalid_0's ks: 0.365778                              \n",
      "[110]\tvalid_0's auc: 0.741815\tvalid_0's ks: 0.369022                              \n",
      "[120]\tvalid_0's auc: 0.743553\tvalid_0's ks: 0.371568                              \n",
      "[130]\tvalid_0's auc: 0.744988\tvalid_0's ks: 0.374123                              \n",
      "[140]\tvalid_0's auc: 0.745768\tvalid_0's ks: 0.374657                              \n",
      "[150]\tvalid_0's auc: 0.747176\tvalid_0's ks: 0.373257                              \n",
      "[160]\tvalid_0's auc: 0.748454\tvalid_0's ks: 0.373184                              \n",
      " 34%|███▍      | 17/50 [01:04<01:46,  3.23s/trial, best loss: -0.3982754503599297]"
     ]
    },
    {
     "name": "stderr",
     "output_type": "stream",
     "text": [
      "D:\\workspace\\misc\\OneDay\\venv\\lib\\site-packages\\lightgbm\\engine.py:177: UserWarning: Found `n_estimators` in params. Will use it instead of argument\n",
      "  _log_warning(f\"Found `{alias}` in params. Will use it instead of argument\")\n",
      "\n"
     ]
    },
    {
     "name": "stdout",
     "output_type": "stream",
     "text": [
      "Training until validation scores don't improve for 50 rounds                      \n",
      "[10]\tvalid_0's auc: 0.726478\tvalid_0's ks: 0.356894                               \n",
      "[20]\tvalid_0's auc: 0.732715\tvalid_0's ks: 0.352867                               \n",
      "[30]\tvalid_0's auc: 0.734348\tvalid_0's ks: 0.359045                               \n",
      "[40]\tvalid_0's auc: 0.736317\tvalid_0's ks: 0.358164                               \n",
      "[50]\tvalid_0's auc: 0.737814\tvalid_0's ks: 0.363951                               \n",
      "[60]\tvalid_0's auc: 0.739009\tvalid_0's ks: 0.367813                               \n",
      "[70]\tvalid_0's auc: 0.74008\tvalid_0's ks: 0.372406                                \n",
      "[80]\tvalid_0's auc: 0.740459\tvalid_0's ks: 0.373567                               \n",
      "[90]\tvalid_0's auc: 0.74095\tvalid_0's ks: 0.374785                                \n",
      "Training until validation scores don't improve for 50 rounds                      \n",
      " 34%|███▍      | 17/50 [01:05<01:46,  3.23s/trial, best loss: -0.3982754503599297]"
     ]
    },
    {
     "name": "stderr",
     "output_type": "stream",
     "text": [
      "D:\\workspace\\misc\\OneDay\\venv\\lib\\site-packages\\lightgbm\\engine.py:177: UserWarning: Found `n_estimators` in params. Will use it instead of argument\n",
      "  _log_warning(f\"Found `{alias}` in params. Will use it instead of argument\")\n",
      "\n"
     ]
    },
    {
     "name": "stdout",
     "output_type": "stream",
     "text": [
      "[10]\tvalid_0's auc: 0.719664\tvalid_0's ks: 0.339822                               \n",
      "[20]\tvalid_0's auc: 0.723648\tvalid_0's ks: 0.35293                                \n",
      "[30]\tvalid_0's auc: 0.725667\tvalid_0's ks: 0.351749                               \n",
      "[40]\tvalid_0's auc: 0.726944\tvalid_0's ks: 0.354288                               \n",
      "[50]\tvalid_0's auc: 0.728725\tvalid_0's ks: 0.356082                               \n",
      "[60]\tvalid_0's auc: 0.729695\tvalid_0's ks: 0.353626                               \n",
      "[70]\tvalid_0's auc: 0.731008\tvalid_0's ks: 0.35253                                \n",
      "Training until validation scores don't improve for 50 rounds                      \n",
      " 34%|███▍      | 17/50 [01:06<01:46,  3.23s/trial, best loss: -0.3982754503599297]"
     ]
    },
    {
     "name": "stderr",
     "output_type": "stream",
     "text": [
      "D:\\workspace\\misc\\OneDay\\venv\\lib\\site-packages\\lightgbm\\engine.py:177: UserWarning: Found `n_estimators` in params. Will use it instead of argument\n",
      "  _log_warning(f\"Found `{alias}` in params. Will use it instead of argument\")\n",
      "\n"
     ]
    },
    {
     "name": "stdout",
     "output_type": "stream",
     "text": [
      "[10]\tvalid_0's auc: 0.736949\tvalid_0's ks: 0.36562                                \n",
      "[20]\tvalid_0's auc: 0.745529\tvalid_0's ks: 0.368674                               \n",
      "[30]\tvalid_0's auc: 0.747568\tvalid_0's ks: 0.365998                               \n",
      "[40]\tvalid_0's auc: 0.749651\tvalid_0's ks: 0.371971                               \n",
      " 36%|███▌      | 18/50 [01:06<01:48,  3.40s/trial, best loss: -0.3982754503599297]"
     ]
    },
    {
     "name": "stderr",
     "output_type": "stream",
     "text": [
      "D:\\workspace\\misc\\OneDay\\venv\\lib\\site-packages\\lightgbm\\engine.py:177: UserWarning: Found `n_estimators` in params. Will use it instead of argument\n",
      "  _log_warning(f\"Found `{alias}` in params. Will use it instead of argument\")\n",
      "\n"
     ]
    },
    {
     "name": "stdout",
     "output_type": "stream",
     "text": [
      "Training until validation scores don't improve for 50 rounds                      \n",
      "[10]\tvalid_0's auc: 0.709157\tvalid_0's ks: 0.315712                               \n",
      "[20]\tvalid_0's auc: 0.716119\tvalid_0's ks: 0.322905                               \n",
      "[30]\tvalid_0's auc: 0.719656\tvalid_0's ks: 0.327314                               \n",
      "Training until validation scores don't improve for 50 rounds                      \n",
      " 36%|███▌      | 18/50 [01:07<01:48,  3.40s/trial, best loss: -0.3982754503599297]"
     ]
    },
    {
     "name": "stderr",
     "output_type": "stream",
     "text": [
      "D:\\workspace\\misc\\OneDay\\venv\\lib\\site-packages\\lightgbm\\engine.py:177: UserWarning: Found `n_estimators` in params. Will use it instead of argument\n",
      "  _log_warning(f\"Found `{alias}` in params. Will use it instead of argument\")\n",
      "\n"
     ]
    },
    {
     "name": "stdout",
     "output_type": "stream",
     "text": [
      "[10]\tvalid_0's auc: 0.725901\tvalid_0's ks: 0.346898                               \n",
      "[20]\tvalid_0's auc: 0.729273\tvalid_0's ks: 0.355773                               \n",
      "[30]\tvalid_0's auc: 0.728642\tvalid_0's ks: 0.348906                               \n",
      "Training until validation scores don't improve for 50 rounds                      \n",
      " 36%|███▌      | 18/50 [01:07<01:48,  3.40s/trial, best loss: -0.3982754503599297]"
     ]
    },
    {
     "name": "stderr",
     "output_type": "stream",
     "text": [
      "D:\\workspace\\misc\\OneDay\\venv\\lib\\site-packages\\lightgbm\\engine.py:177: UserWarning: Found `n_estimators` in params. Will use it instead of argument\n",
      "  _log_warning(f\"Found `{alias}` in params. Will use it instead of argument\")\n",
      "\n"
     ]
    },
    {
     "name": "stdout",
     "output_type": "stream",
     "text": [
      "[10]\tvalid_0's auc: 0.745421\tvalid_0's ks: 0.370718                               \n",
      "[20]\tvalid_0's auc: 0.753203\tvalid_0's ks: 0.367431                               \n",
      "[30]\tvalid_0's auc: 0.757728\tvalid_0's ks: 0.383447                               \n",
      "[40]\tvalid_0's auc: 0.760139\tvalid_0's ks: 0.385247                               \n",
      "[50]\tvalid_0's auc: 0.759518\tvalid_0's ks: 0.379466                               \n",
      "Training until validation scores don't improve for 50 rounds                      \n",
      " 36%|███▌      | 18/50 [01:08<01:48,  3.40s/trial, best loss: -0.3982754503599297]"
     ]
    },
    {
     "name": "stderr",
     "output_type": "stream",
     "text": [
      "D:\\workspace\\misc\\OneDay\\venv\\lib\\site-packages\\lightgbm\\engine.py:177: UserWarning: Found `n_estimators` in params. Will use it instead of argument\n",
      "  _log_warning(f\"Found `{alias}` in params. Will use it instead of argument\")\n",
      "\n"
     ]
    },
    {
     "name": "stdout",
     "output_type": "stream",
     "text": [
      "[10]\tvalid_0's auc: 0.737125\tvalid_0's ks: 0.341096                               \n",
      "[20]\tvalid_0's auc: 0.747546\tvalid_0's ks: 0.369759                               \n",
      "[30]\tvalid_0's auc: 0.744998\tvalid_0's ks: 0.365772                               \n",
      " 36%|███▌      | 18/50 [01:08<01:48,  3.40s/trial, best loss: -0.3982754503599297]"
     ]
    },
    {
     "name": "stderr",
     "output_type": "stream",
     "text": [
      "D:\\workspace\\misc\\OneDay\\venv\\lib\\site-packages\\lightgbm\\engine.py:177: UserWarning: Found `n_estimators` in params. Will use it instead of argument\n",
      "  _log_warning(f\"Found `{alias}` in params. Will use it instead of argument\")\n",
      "\n"
     ]
    },
    {
     "name": "stdout",
     "output_type": "stream",
     "text": [
      "Training until validation scores don't improve for 50 rounds                      \n",
      "[10]\tvalid_0's auc: 0.729125\tvalid_0's ks: 0.344993                               \n",
      "[20]\tvalid_0's auc: 0.74269\tvalid_0's ks: 0.375083                                \n",
      "[30]\tvalid_0's auc: 0.744279\tvalid_0's ks: 0.373048                               \n",
      "[40]\tvalid_0's auc: 0.742932\tvalid_0's ks: 0.365709                               \n",
      "Training until validation scores don't improve for 50 rounds                      \n",
      " 38%|███▊      | 19/50 [01:10<01:46,  3.43s/trial, best loss: -0.3982754503599297]"
     ]
    },
    {
     "name": "stderr",
     "output_type": "stream",
     "text": [
      "D:\\workspace\\misc\\OneDay\\venv\\lib\\site-packages\\lightgbm\\engine.py:177: UserWarning: Found `n_estimators` in params. Will use it instead of argument\n",
      "  _log_warning(f\"Found `{alias}` in params. Will use it instead of argument\")\n",
      "\n"
     ]
    },
    {
     "name": "stdout",
     "output_type": "stream",
     "text": [
      "[10]\tvalid_0's auc: 0.7374\tvalid_0's ks: 0.359017                                 \n",
      "[20]\tvalid_0's auc: 0.74849\tvalid_0's ks: 0.386718                                \n",
      "[30]\tvalid_0's auc: 0.752712\tvalid_0's ks: 0.390577                               \n",
      "[40]\tvalid_0's auc: 0.755167\tvalid_0's ks: 0.394085                               \n",
      "[50]\tvalid_0's auc: 0.756055\tvalid_0's ks: 0.390597                               \n",
      "Training until validation scores don't improve for 50 rounds                      \n",
      " 38%|███▊      | 19/50 [01:10<01:46,  3.43s/trial, best loss: -0.3982754503599297]"
     ]
    },
    {
     "name": "stderr",
     "output_type": "stream",
     "text": [
      "D:\\workspace\\misc\\OneDay\\venv\\lib\\site-packages\\lightgbm\\engine.py:177: UserWarning: Found `n_estimators` in params. Will use it instead of argument\n",
      "  _log_warning(f\"Found `{alias}` in params. Will use it instead of argument\")\n",
      "\n"
     ]
    },
    {
     "name": "stdout",
     "output_type": "stream",
     "text": [
      "[10]\tvalid_0's auc: 0.764075\tvalid_0's ks: 0.400718                               \n",
      "[20]\tvalid_0's auc: 0.774164\tvalid_0's ks: 0.423196                               \n",
      "[30]\tvalid_0's auc: 0.780086\tvalid_0's ks: 0.430707                               \n",
      "[40]\tvalid_0's auc: 0.783653\tvalid_0's ks: 0.422729                               \n",
      "[50]\tvalid_0's auc: 0.782426\tvalid_0's ks: 0.421401                               \n",
      "Training until validation scores don't improve for 50 rounds                      \n",
      " 38%|███▊      | 19/50 [01:11<01:46,  3.43s/trial, best loss: -0.3982754503599297]"
     ]
    },
    {
     "name": "stderr",
     "output_type": "stream",
     "text": [
      "D:\\workspace\\misc\\OneDay\\venv\\lib\\site-packages\\lightgbm\\engine.py:177: UserWarning: Found `n_estimators` in params. Will use it instead of argument\n",
      "  _log_warning(f\"Found `{alias}` in params. Will use it instead of argument\")\n",
      "\n"
     ]
    },
    {
     "name": "stdout",
     "output_type": "stream",
     "text": [
      "[10]\tvalid_0's auc: 0.741088\tvalid_0's ks: 0.35829                                \n",
      "[20]\tvalid_0's auc: 0.748464\tvalid_0's ks: 0.373081                               \n",
      "[30]\tvalid_0's auc: 0.749155\tvalid_0's ks: 0.378083                               \n",
      "[40]\tvalid_0's auc: 0.75021\tvalid_0's ks: 0.371308                                \n",
      "Training until validation scores don't improve for 50 rounds                      \n",
      " 38%|███▊      | 19/50 [01:12<01:46,  3.43s/trial, best loss: -0.3982754503599297]"
     ]
    },
    {
     "name": "stderr",
     "output_type": "stream",
     "text": [
      "D:\\workspace\\misc\\OneDay\\venv\\lib\\site-packages\\lightgbm\\engine.py:177: UserWarning: Found `n_estimators` in params. Will use it instead of argument\n",
      "  _log_warning(f\"Found `{alias}` in params. Will use it instead of argument\")\n",
      "\n"
     ]
    },
    {
     "name": "stdout",
     "output_type": "stream",
     "text": [
      "[10]\tvalid_0's auc: 0.748399\tvalid_0's ks: 0.375455                               \n",
      "[20]\tvalid_0's auc: 0.750181\tvalid_0's ks: 0.381206                               \n",
      "Training until validation scores don't improve for 50 rounds                      \n",
      " 38%|███▊      | 19/50 [01:12<01:46,  3.43s/trial, best loss: -0.3982754503599297]"
     ]
    },
    {
     "name": "stderr",
     "output_type": "stream",
     "text": [
      "D:\\workspace\\misc\\OneDay\\venv\\lib\\site-packages\\lightgbm\\engine.py:177: UserWarning: Found `n_estimators` in params. Will use it instead of argument\n",
      "  _log_warning(f\"Found `{alias}` in params. Will use it instead of argument\")\n",
      "\n"
     ]
    },
    {
     "name": "stdout",
     "output_type": "stream",
     "text": [
      "[10]\tvalid_0's auc: 0.726583\tvalid_0's ks: 0.334682                               \n",
      "[20]\tvalid_0's auc: 0.73702\tvalid_0's ks: 0.34046                                 \n",
      "[30]\tvalid_0's auc: 0.743876\tvalid_0's ks: 0.347172                               \n",
      "[40]\tvalid_0's auc: 0.74717\tvalid_0's ks: 0.348848                                \n",
      "[50]\tvalid_0's auc: 0.745072\tvalid_0's ks: 0.351207                               \n",
      "Training until validation scores don't improve for 50 rounds                      \n",
      " 40%|████      | 20/50 [01:13<01:44,  3.47s/trial, best loss: -0.3982754503599297]"
     ]
    },
    {
     "name": "stderr",
     "output_type": "stream",
     "text": [
      "D:\\workspace\\misc\\OneDay\\venv\\lib\\site-packages\\lightgbm\\engine.py:177: UserWarning: Found `n_estimators` in params. Will use it instead of argument\n",
      "  _log_warning(f\"Found `{alias}` in params. Will use it instead of argument\")\n",
      "\n"
     ]
    },
    {
     "name": "stdout",
     "output_type": "stream",
     "text": [
      "[10]\tvalid_0's auc: 0.753871\tvalid_0's ks: 0.383194                               \n",
      "[20]\tvalid_0's auc: 0.760596\tvalid_0's ks: 0.382008                               \n",
      "[30]\tvalid_0's auc: 0.761687\tvalid_0's ks: 0.382065                               \n",
      "Training until validation scores don't improve for 50 rounds                      \n",
      " 40%|████      | 20/50 [01:14<01:44,  3.47s/trial, best loss: -0.3982754503599297]"
     ]
    },
    {
     "name": "stderr",
     "output_type": "stream",
     "text": [
      "D:\\workspace\\misc\\OneDay\\venv\\lib\\site-packages\\lightgbm\\engine.py:177: UserWarning: Found `n_estimators` in params. Will use it instead of argument\n",
      "  _log_warning(f\"Found `{alias}` in params. Will use it instead of argument\")\n",
      "\n"
     ]
    },
    {
     "name": "stdout",
     "output_type": "stream",
     "text": [
      "[10]\tvalid_0's auc: 0.74226\tvalid_0's ks: 0.358583                                \n",
      "[20]\tvalid_0's auc: 0.751726\tvalid_0's ks: 0.385169                               \n",
      "[30]\tvalid_0's auc: 0.753118\tvalid_0's ks: 0.386599                               \n",
      "[40]\tvalid_0's auc: 0.751083\tvalid_0's ks: 0.38984                                \n",
      "[50]\tvalid_0's auc: 0.747176\tvalid_0's ks: 0.381065                               \n",
      "Training until validation scores don't improve for 50 rounds                      \n",
      " 40%|████      | 20/50 [01:14<01:44,  3.47s/trial, best loss: -0.3982754503599297]"
     ]
    },
    {
     "name": "stderr",
     "output_type": "stream",
     "text": [
      "D:\\workspace\\misc\\OneDay\\venv\\lib\\site-packages\\lightgbm\\engine.py:177: UserWarning: Found `n_estimators` in params. Will use it instead of argument\n",
      "  _log_warning(f\"Found `{alias}` in params. Will use it instead of argument\")\n",
      "\n"
     ]
    },
    {
     "name": "stdout",
     "output_type": "stream",
     "text": [
      "[10]\tvalid_0's auc: 0.71058\tvalid_0's ks: 0.332981                                \n",
      "[20]\tvalid_0's auc: 0.724019\tvalid_0's ks: 0.352971                               \n",
      "[30]\tvalid_0's auc: 0.728274\tvalid_0's ks: 0.364763                               \n",
      "[40]\tvalid_0's auc: 0.726658\tvalid_0's ks: 0.363686                               \n",
      " 40%|████      | 20/50 [01:15<01:44,  3.47s/trial, best loss: -0.3982754503599297]"
     ]
    },
    {
     "name": "stderr",
     "output_type": "stream",
     "text": [
      "D:\\workspace\\misc\\OneDay\\venv\\lib\\site-packages\\lightgbm\\engine.py:177: UserWarning: Found `n_estimators` in params. Will use it instead of argument\n",
      "  _log_warning(f\"Found `{alias}` in params. Will use it instead of argument\")\n",
      "\n"
     ]
    },
    {
     "name": "stdout",
     "output_type": "stream",
     "text": [
      "Training until validation scores don't improve for 50 rounds                      \n",
      "[10]\tvalid_0's auc: 0.745995\tvalid_0's ks: 0.375164                               \n",
      "[20]\tvalid_0's auc: 0.750782\tvalid_0's ks: 0.397994                               \n",
      "[30]\tvalid_0's auc: 0.754181\tvalid_0's ks: 0.400128                               \n",
      "[40]\tvalid_0's auc: 0.753554\tvalid_0's ks: 0.388626                               \n",
      "[50]\tvalid_0's auc: 0.751248\tvalid_0's ks: 0.38143                                \n",
      "Training until validation scores don't improve for 50 rounds                      \n",
      " 40%|████      | 20/50 [01:16<01:44,  3.47s/trial, best loss: -0.3982754503599297]"
     ]
    },
    {
     "name": "stderr",
     "output_type": "stream",
     "text": [
      "D:\\workspace\\misc\\OneDay\\venv\\lib\\site-packages\\lightgbm\\engine.py:177: UserWarning: Found `n_estimators` in params. Will use it instead of argument\n",
      "  _log_warning(f\"Found `{alias}` in params. Will use it instead of argument\")\n",
      "\n"
     ]
    },
    {
     "name": "stdout",
     "output_type": "stream",
     "text": [
      "[10]\tvalid_0's auc: 0.732837\tvalid_0's ks: 0.358026                               \n",
      "[20]\tvalid_0's auc: 0.743457\tvalid_0's ks: 0.366966                               \n",
      "[30]\tvalid_0's auc: 0.742351\tvalid_0's ks: 0.369662                               \n",
      "[40]\tvalid_0's auc: 0.739625\tvalid_0's ks: 0.347648                               \n",
      "Training until validation scores don't improve for 50 rounds                      \n",
      " 42%|████▏     | 21/50 [01:16<01:40,  3.45s/trial, best loss: -0.3982754503599297]"
     ]
    },
    {
     "name": "stderr",
     "output_type": "stream",
     "text": [
      "D:\\workspace\\misc\\OneDay\\venv\\lib\\site-packages\\lightgbm\\engine.py:177: UserWarning: Found `n_estimators` in params. Will use it instead of argument\n",
      "  _log_warning(f\"Found `{alias}` in params. Will use it instead of argument\")\n",
      "\n"
     ]
    },
    {
     "name": "stdout",
     "output_type": "stream",
     "text": [
      "[10]\tvalid_0's auc: 0.733179\tvalid_0's ks: 0.33724                                \n",
      "[20]\tvalid_0's auc: 0.753693\tvalid_0's ks: 0.380227                               \n",
      "[30]\tvalid_0's auc: 0.761269\tvalid_0's ks: 0.401421                               \n",
      "[40]\tvalid_0's auc: 0.76428\tvalid_0's ks: 0.410547                                \n",
      "[50]\tvalid_0's auc: 0.76533\tvalid_0's ks: 0.405813                                \n",
      "[60]\tvalid_0's auc: 0.766101\tvalid_0's ks: 0.406562                               \n",
      "[70]\tvalid_0's auc: 0.767004\tvalid_0's ks: 0.406037                               \n",
      "Training until validation scores don't improve for 50 rounds                      \n",
      " 42%|████▏     | 21/50 [01:17<01:40,  3.45s/trial, best loss: -0.3982754503599297]"
     ]
    },
    {
     "name": "stderr",
     "output_type": "stream",
     "text": [
      "D:\\workspace\\misc\\OneDay\\venv\\lib\\site-packages\\lightgbm\\engine.py:177: UserWarning: Found `n_estimators` in params. Will use it instead of argument\n",
      "  _log_warning(f\"Found `{alias}` in params. Will use it instead of argument\")\n",
      "\n"
     ]
    },
    {
     "name": "stdout",
     "output_type": "stream",
     "text": [
      "[10]\tvalid_0's auc: 0.732951\tvalid_0's ks: 0.360092                               \n",
      "[20]\tvalid_0's auc: 0.751928\tvalid_0's ks: 0.384288                               \n",
      "[30]\tvalid_0's auc: 0.753643\tvalid_0's ks: 0.382283                               \n",
      "[40]\tvalid_0's auc: 0.752929\tvalid_0's ks: 0.374493                               \n",
      "Training until validation scores don't improve for 50 rounds                      \n",
      " 42%|████▏     | 21/50 [01:18<01:40,  3.45s/trial, best loss: -0.3982754503599297]"
     ]
    },
    {
     "name": "stderr",
     "output_type": "stream",
     "text": [
      "D:\\workspace\\misc\\OneDay\\venv\\lib\\site-packages\\lightgbm\\engine.py:177: UserWarning: Found `n_estimators` in params. Will use it instead of argument\n",
      "  _log_warning(f\"Found `{alias}` in params. Will use it instead of argument\")\n",
      "\n"
     ]
    },
    {
     "name": "stdout",
     "output_type": "stream",
     "text": [
      "[10]\tvalid_0's auc: 0.732806\tvalid_0's ks: 0.361922                               \n",
      "[20]\tvalid_0's auc: 0.7516\tvalid_0's ks: 0.393213                                 \n",
      "[30]\tvalid_0's auc: 0.755923\tvalid_0's ks: 0.387598                               \n",
      "[40]\tvalid_0's auc: 0.758125\tvalid_0's ks: 0.388084                               \n",
      "[50]\tvalid_0's auc: 0.757399\tvalid_0's ks: 0.382216                               \n",
      "Training until validation scores don't improve for 50 rounds                      \n",
      " 42%|████▏     | 21/50 [01:18<01:40,  3.45s/trial, best loss: -0.3982754503599297]"
     ]
    },
    {
     "name": "stderr",
     "output_type": "stream",
     "text": [
      "D:\\workspace\\misc\\OneDay\\venv\\lib\\site-packages\\lightgbm\\engine.py:177: UserWarning: Found `n_estimators` in params. Will use it instead of argument\n",
      "  _log_warning(f\"Found `{alias}` in params. Will use it instead of argument\")\n",
      "\n"
     ]
    },
    {
     "name": "stdout",
     "output_type": "stream",
     "text": [
      "[10]\tvalid_0's auc: 0.741887\tvalid_0's ks: 0.379039                               \n",
      "[20]\tvalid_0's auc: 0.756032\tvalid_0's ks: 0.397091                               \n",
      "[30]\tvalid_0's auc: 0.757837\tvalid_0's ks: 0.395173                               \n",
      "[40]\tvalid_0's auc: 0.756178\tvalid_0's ks: 0.393904                               \n",
      "Training until validation scores don't improve for 50 rounds                      \n",
      " 42%|████▏     | 21/50 [01:19<01:40,  3.45s/trial, best loss: -0.3982754503599297]"
     ]
    },
    {
     "name": "stderr",
     "output_type": "stream",
     "text": [
      "D:\\workspace\\misc\\OneDay\\venv\\lib\\site-packages\\lightgbm\\engine.py:177: UserWarning: Found `n_estimators` in params. Will use it instead of argument\n",
      "  _log_warning(f\"Found `{alias}` in params. Will use it instead of argument\")\n",
      "\n"
     ]
    },
    {
     "name": "stdout",
     "output_type": "stream",
     "text": [
      "[10]\tvalid_0's auc: 0.756922\tvalid_0's ks: 0.405781                               \n",
      "[20]\tvalid_0's auc: 0.76454\tvalid_0's ks: 0.425084                                \n",
      "[30]\tvalid_0's auc: 0.770322\tvalid_0's ks: 0.423131                               \n",
      "[40]\tvalid_0's auc: 0.76837\tvalid_0's ks: 0.418271                                \n",
      "[50]\tvalid_0's auc: 0.771336\tvalid_0's ks: 0.425445                               \n",
      "Training until validation scores don't improve for 50 rounds                      \n",
      " 44%|████▍     | 22/50 [01:20<01:33,  3.35s/trial, best loss: -0.4069886395359402]"
     ]
    },
    {
     "name": "stderr",
     "output_type": "stream",
     "text": [
      "D:\\workspace\\misc\\OneDay\\venv\\lib\\site-packages\\lightgbm\\engine.py:177: UserWarning: Found `n_estimators` in params. Will use it instead of argument\n",
      "  _log_warning(f\"Found `{alias}` in params. Will use it instead of argument\")\n",
      "\n"
     ]
    },
    {
     "name": "stdout",
     "output_type": "stream",
     "text": [
      "[10]\tvalid_0's auc: 0.734612\tvalid_0's ks: 0.363981                               \n",
      "[20]\tvalid_0's auc: 0.750803\tvalid_0's ks: 0.368584                               \n",
      "[30]\tvalid_0's auc: 0.752698\tvalid_0's ks: 0.380922                               \n",
      "[40]\tvalid_0's auc: 0.753237\tvalid_0's ks: 0.387531                               \n",
      "[50]\tvalid_0's auc: 0.750893\tvalid_0's ks: 0.391886                               \n",
      "[60]\tvalid_0's auc: 0.748124\tvalid_0's ks: 0.380034                               \n",
      "Training until validation scores don't improve for 50 rounds                      \n",
      " 44%|████▍     | 22/50 [01:20<01:33,  3.35s/trial, best loss: -0.4069886395359402]"
     ]
    },
    {
     "name": "stderr",
     "output_type": "stream",
     "text": [
      "D:\\workspace\\misc\\OneDay\\venv\\lib\\site-packages\\lightgbm\\engine.py:177: UserWarning: Found `n_estimators` in params. Will use it instead of argument\n",
      "  _log_warning(f\"Found `{alias}` in params. Will use it instead of argument\")\n",
      "\n"
     ]
    },
    {
     "name": "stdout",
     "output_type": "stream",
     "text": [
      "[10]\tvalid_0's auc: 0.73482\tvalid_0's ks: 0.350273                                \n",
      "[20]\tvalid_0's auc: 0.744749\tvalid_0's ks: 0.35687                                \n",
      "[30]\tvalid_0's auc: 0.74801\tvalid_0's ks: 0.368623                                \n",
      "[40]\tvalid_0's auc: 0.748401\tvalid_0's ks: 0.37062                                \n",
      " 44%|████▍     | 22/50 [01:21<01:33,  3.35s/trial, best loss: -0.4069886395359402]"
     ]
    },
    {
     "name": "stderr",
     "output_type": "stream",
     "text": [
      "D:\\workspace\\misc\\OneDay\\venv\\lib\\site-packages\\lightgbm\\engine.py:177: UserWarning: Found `n_estimators` in params. Will use it instead of argument\n",
      "  _log_warning(f\"Found `{alias}` in params. Will use it instead of argument\")\n",
      "\n"
     ]
    },
    {
     "name": "stdout",
     "output_type": "stream",
     "text": [
      "Training until validation scores don't improve for 50 rounds                      \n",
      "[10]\tvalid_0's auc: 0.730818\tvalid_0's ks: 0.347912                               \n",
      "[20]\tvalid_0's auc: 0.748182\tvalid_0's ks: 0.371982                               \n",
      "[30]\tvalid_0's auc: 0.749705\tvalid_0's ks: 0.365827                               \n",
      "[40]\tvalid_0's auc: 0.747927\tvalid_0's ks: 0.371546                               \n",
      "Training until validation scores don't improve for 50 rounds                      \n",
      " 44%|████▍     | 22/50 [01:22<01:33,  3.35s/trial, best loss: -0.4069886395359402]"
     ]
    },
    {
     "name": "stderr",
     "output_type": "stream",
     "text": [
      "D:\\workspace\\misc\\OneDay\\venv\\lib\\site-packages\\lightgbm\\engine.py:177: UserWarning: Found `n_estimators` in params. Will use it instead of argument\n",
      "  _log_warning(f\"Found `{alias}` in params. Will use it instead of argument\")\n",
      "\n"
     ]
    },
    {
     "name": "stdout",
     "output_type": "stream",
     "text": [
      "[10]\tvalid_0's auc: 0.752426\tvalid_0's ks: 0.379328                               \n",
      "[20]\tvalid_0's auc: 0.759867\tvalid_0's ks: 0.393059                               \n",
      "[30]\tvalid_0's auc: 0.765457\tvalid_0's ks: 0.395242                               \n",
      "[40]\tvalid_0's auc: 0.762225\tvalid_0's ks: 0.387754                               \n",
      "                                                                                  "
     ]
    },
    {
     "name": "stderr",
     "output_type": "stream",
     "text": [
      "D:\\workspace\\misc\\OneDay\\venv\\lib\\site-packages\\lightgbm\\engine.py:177: UserWarning: Found `n_estimators` in params. Will use it instead of argument\n",
      "  _log_warning(f\"Found `{alias}` in params. Will use it instead of argument\")\n",
      "\n"
     ]
    },
    {
     "name": "stdout",
     "output_type": "stream",
     "text": [
      "Training until validation scores don't improve for 50 rounds\n",
      "[10]\tvalid_0's auc: 0.7392\tvalid_0's ks: 0.363915                                 \n",
      "[20]\tvalid_0's auc: 0.751733\tvalid_0's ks: 0.386802                               \n",
      "[30]\tvalid_0's auc: 0.752097\tvalid_0's ks: 0.38782                                \n",
      "[40]\tvalid_0's auc: 0.750443\tvalid_0's ks: 0.382255                               \n",
      "Training until validation scores don't improve for 50 rounds                      \n",
      " 46%|████▌     | 23/50 [01:23<01:33,  3.45s/trial, best loss: -0.4069886395359402]"
     ]
    },
    {
     "name": "stderr",
     "output_type": "stream",
     "text": [
      "D:\\workspace\\misc\\OneDay\\venv\\lib\\site-packages\\lightgbm\\engine.py:177: UserWarning: Found `n_estimators` in params. Will use it instead of argument\n",
      "  _log_warning(f\"Found `{alias}` in params. Will use it instead of argument\")\n",
      "\n"
     ]
    },
    {
     "name": "stdout",
     "output_type": "stream",
     "text": [
      "[10]\tvalid_0's auc: 0.728327\tvalid_0's ks: 0.341836                               \n",
      "[20]\tvalid_0's auc: 0.737896\tvalid_0's ks: 0.363523                               \n",
      "[30]\tvalid_0's auc: 0.744615\tvalid_0's ks: 0.384126                               \n",
      "[40]\tvalid_0's auc: 0.742777\tvalid_0's ks: 0.372689                               \n",
      "[50]\tvalid_0's auc: 0.743928\tvalid_0's ks: 0.378831                               \n",
      " 46%|████▌     | 23/50 [01:24<01:33,  3.45s/trial, best loss: -0.4069886395359402]"
     ]
    },
    {
     "name": "stderr",
     "output_type": "stream",
     "text": [
      "D:\\workspace\\misc\\OneDay\\venv\\lib\\site-packages\\lightgbm\\engine.py:177: UserWarning: Found `n_estimators` in params. Will use it instead of argument\n",
      "  _log_warning(f\"Found `{alias}` in params. Will use it instead of argument\")\n",
      "\n"
     ]
    },
    {
     "name": "stdout",
     "output_type": "stream",
     "text": [
      "Training until validation scores don't improve for 50 rounds                      \n",
      "[10]\tvalid_0's auc: 0.728342\tvalid_0's ks: 0.335189                               \n",
      "[20]\tvalid_0's auc: 0.741112\tvalid_0's ks: 0.358984                               \n",
      "[30]\tvalid_0's auc: 0.747923\tvalid_0's ks: 0.365571                               \n",
      "[40]\tvalid_0's auc: 0.750809\tvalid_0's ks: 0.373191                               \n",
      "[50]\tvalid_0's auc: 0.75044\tvalid_0's ks: 0.375515                                \n",
      "[60]\tvalid_0's auc: 0.752517\tvalid_0's ks: 0.376682                               \n",
      "[70]\tvalid_0's auc: 0.752342\tvalid_0's ks: 0.388424                               \n",
      "[80]\tvalid_0's auc: 0.752577\tvalid_0's ks: 0.373719                               \n",
      "Training until validation scores don't improve for 50 rounds                      \n",
      " 46%|████▌     | 23/50 [01:25<01:33,  3.45s/trial, best loss: -0.4069886395359402]"
     ]
    },
    {
     "name": "stderr",
     "output_type": "stream",
     "text": [
      "D:\\workspace\\misc\\OneDay\\venv\\lib\\site-packages\\lightgbm\\engine.py:177: UserWarning: Found `n_estimators` in params. Will use it instead of argument\n",
      "  _log_warning(f\"Found `{alias}` in params. Will use it instead of argument\")\n",
      "\n"
     ]
    },
    {
     "name": "stdout",
     "output_type": "stream",
     "text": [
      "[10]\tvalid_0's auc: 0.737825\tvalid_0's ks: 0.363922                               \n",
      "[20]\tvalid_0's auc: 0.748018\tvalid_0's ks: 0.385239                               \n",
      "[30]\tvalid_0's auc: 0.749589\tvalid_0's ks: 0.391179                               \n",
      "[40]\tvalid_0's auc: 0.747563\tvalid_0's ks: 0.377505                               \n",
      "Training until validation scores don't improve for 50 rounds                      \n",
      " 46%|████▌     | 23/50 [01:25<01:33,  3.45s/trial, best loss: -0.4069886395359402]"
     ]
    },
    {
     "name": "stderr",
     "output_type": "stream",
     "text": [
      "D:\\workspace\\misc\\OneDay\\venv\\lib\\site-packages\\lightgbm\\engine.py:177: UserWarning: Found `n_estimators` in params. Will use it instead of argument\n",
      "  _log_warning(f\"Found `{alias}` in params. Will use it instead of argument\")\n",
      "\n"
     ]
    },
    {
     "name": "stdout",
     "output_type": "stream",
     "text": [
      "[10]\tvalid_0's auc: 0.752626\tvalid_0's ks: 0.38119                                \n",
      "[20]\tvalid_0's auc: 0.760095\tvalid_0's ks: 0.390628                               \n",
      "[30]\tvalid_0's auc: 0.760365\tvalid_0's ks: 0.398042                               \n",
      "[40]\tvalid_0's auc: 0.758771\tvalid_0's ks: 0.399938                               \n",
      "[50]\tvalid_0's auc: 0.758328\tvalid_0's ks: 0.398221                               \n",
      "Training until validation scores don't improve for 50 rounds                      \n",
      " 46%|████▌     | 23/50 [01:26<01:33,  3.45s/trial, best loss: -0.4069886395359402]"
     ]
    },
    {
     "name": "stderr",
     "output_type": "stream",
     "text": [
      "D:\\workspace\\misc\\OneDay\\venv\\lib\\site-packages\\lightgbm\\engine.py:177: UserWarning: Found `n_estimators` in params. Will use it instead of argument\n",
      "  _log_warning(f\"Found `{alias}` in params. Will use it instead of argument\")\n",
      "\n"
     ]
    },
    {
     "name": "stdout",
     "output_type": "stream",
     "text": [
      "[10]\tvalid_0's auc: 0.754932\tvalid_0's ks: 0.399653                               \n",
      "[20]\tvalid_0's auc: 0.760945\tvalid_0's ks: 0.410553                               \n",
      "[30]\tvalid_0's auc: 0.760211\tvalid_0's ks: 0.399617                               \n",
      "[40]\tvalid_0's auc: 0.763219\tvalid_0's ks: 0.400454                               \n",
      "                                                                                  \r"
     ]
    },
    {
     "name": "stderr",
     "output_type": "stream",
     "text": [
      "D:\\workspace\\misc\\OneDay\\venv\\lib\\site-packages\\lightgbm\\engine.py:177: UserWarning: Found `n_estimators` in params. Will use it instead of argument\n",
      "  _log_warning(f\"Found `{alias}` in params. Will use it instead of argument\")\n",
      "\n"
     ]
    },
    {
     "name": "stdout",
     "output_type": "stream",
     "text": [
      "Training until validation scores don't improve for 50 rounds\n",
      "[10]\tvalid_0's auc: 0.714242\tvalid_0's ks: 0.320108                               \n",
      "[20]\tvalid_0's auc: 0.723194\tvalid_0's ks: 0.32419                                \n",
      "[30]\tvalid_0's auc: 0.72677\tvalid_0's ks: 0.329434                                \n",
      "[40]\tvalid_0's auc: 0.724315\tvalid_0's ks: 0.331998                               \n",
      "[50]\tvalid_0's auc: 0.722741\tvalid_0's ks: 0.324875                               \n",
      "Training until validation scores don't improve for 50 rounds                      \n",
      " 48%|████▊     | 24/50 [01:27<01:27,  3.35s/trial, best loss: -0.4069886395359402]"
     ]
    },
    {
     "name": "stderr",
     "output_type": "stream",
     "text": [
      "D:\\workspace\\misc\\OneDay\\venv\\lib\\site-packages\\lightgbm\\engine.py:177: UserWarning: Found `n_estimators` in params. Will use it instead of argument\n",
      "  _log_warning(f\"Found `{alias}` in params. Will use it instead of argument\")\n",
      "\n"
     ]
    },
    {
     "name": "stdout",
     "output_type": "stream",
     "text": [
      "[10]\tvalid_0's auc: 0.707627\tvalid_0's ks: 0.322526                               \n",
      "[20]\tvalid_0's auc: 0.72155\tvalid_0's ks: 0.332529                                \n",
      "[30]\tvalid_0's auc: 0.725792\tvalid_0's ks: 0.338174                               \n",
      "[40]\tvalid_0's auc: 0.725969\tvalid_0's ks: 0.342277                               \n",
      "[50]\tvalid_0's auc: 0.726679\tvalid_0's ks: 0.346091                               \n",
      "[60]\tvalid_0's auc: 0.726211\tvalid_0's ks: 0.348608                               \n",
      "Training until validation scores don't improve for 50 rounds                      \n",
      " 48%|████▊     | 24/50 [01:28<01:27,  3.35s/trial, best loss: -0.4069886395359402]"
     ]
    },
    {
     "name": "stderr",
     "output_type": "stream",
     "text": [
      "D:\\workspace\\misc\\OneDay\\venv\\lib\\site-packages\\lightgbm\\engine.py:177: UserWarning: Found `n_estimators` in params. Will use it instead of argument\n",
      "  _log_warning(f\"Found `{alias}` in params. Will use it instead of argument\")\n",
      "\n"
     ]
    },
    {
     "name": "stdout",
     "output_type": "stream",
     "text": [
      "[10]\tvalid_0's auc: 0.738577\tvalid_0's ks: 0.353332                               \n",
      "[20]\tvalid_0's auc: 0.748888\tvalid_0's ks: 0.377                                  \n",
      "[30]\tvalid_0's auc: 0.750401\tvalid_0's ks: 0.37689                                \n",
      "[40]\tvalid_0's auc: 0.750737\tvalid_0's ks: 0.373778                               \n",
      "Training until validation scores don't improve for 50 rounds                      \n",
      " 48%|████▊     | 24/50 [01:29<01:27,  3.35s/trial, best loss: -0.4069886395359402]"
     ]
    },
    {
     "name": "stderr",
     "output_type": "stream",
     "text": [
      "D:\\workspace\\misc\\OneDay\\venv\\lib\\site-packages\\lightgbm\\engine.py:177: UserWarning: Found `n_estimators` in params. Will use it instead of argument\n",
      "  _log_warning(f\"Found `{alias}` in params. Will use it instead of argument\")\n",
      "\n"
     ]
    },
    {
     "name": "stdout",
     "output_type": "stream",
     "text": [
      "[10]\tvalid_0's auc: 0.718446\tvalid_0's ks: 0.321845                               \n",
      "[20]\tvalid_0's auc: 0.729168\tvalid_0's ks: 0.336376                               \n",
      "[30]\tvalid_0's auc: 0.730369\tvalid_0's ks: 0.339189                               \n",
      "[40]\tvalid_0's auc: 0.73134\tvalid_0's ks: 0.341648                                \n",
      "[50]\tvalid_0's auc: 0.732065\tvalid_0's ks: 0.343723                               \n",
      "[60]\tvalid_0's auc: 0.733157\tvalid_0's ks: 0.348274                               \n",
      "[70]\tvalid_0's auc: 0.732472\tvalid_0's ks: 0.343965                               \n",
      "Training until validation scores don't improve for 50 rounds                      \n",
      " 48%|████▊     | 24/50 [01:30<01:27,  3.35s/trial, best loss: -0.4069886395359402]"
     ]
    },
    {
     "name": "stderr",
     "output_type": "stream",
     "text": [
      "D:\\workspace\\misc\\OneDay\\venv\\lib\\site-packages\\lightgbm\\engine.py:177: UserWarning: Found `n_estimators` in params. Will use it instead of argument\n",
      "  _log_warning(f\"Found `{alias}` in params. Will use it instead of argument\")\n",
      "\n"
     ]
    },
    {
     "name": "stdout",
     "output_type": "stream",
     "text": [
      "[10]\tvalid_0's auc: 0.697976\tvalid_0's ks: 0.303602                               \n",
      "[20]\tvalid_0's auc: 0.708838\tvalid_0's ks: 0.316061                               \n",
      "[30]\tvalid_0's auc: 0.713819\tvalid_0's ks: 0.319742                               \n",
      "[40]\tvalid_0's auc: 0.715912\tvalid_0's ks: 0.328016                               \n",
      "[50]\tvalid_0's auc: 0.715918\tvalid_0's ks: 0.320432                               \n",
      "Training until validation scores don't improve for 50 rounds                      \n",
      " 50%|█████     | 25/50 [01:30<01:27,  3.52s/trial, best loss: -0.4069886395359402]"
     ]
    },
    {
     "name": "stderr",
     "output_type": "stream",
     "text": [
      "D:\\workspace\\misc\\OneDay\\venv\\lib\\site-packages\\lightgbm\\engine.py:177: UserWarning: Found `n_estimators` in params. Will use it instead of argument\n",
      "  _log_warning(f\"Found `{alias}` in params. Will use it instead of argument\")\n",
      "\n"
     ]
    },
    {
     "name": "stdout",
     "output_type": "stream",
     "text": [
      "[10]\tvalid_0's auc: 0.741699\tvalid_0's ks: 0.343911                               \n",
      "[20]\tvalid_0's auc: 0.759074\tvalid_0's ks: 0.373684                               \n",
      "[30]\tvalid_0's auc: 0.771619\tvalid_0's ks: 0.395379                               \n",
      "[40]\tvalid_0's auc: 0.776026\tvalid_0's ks: 0.401141                               \n",
      "[50]\tvalid_0's auc: 0.780083\tvalid_0's ks: 0.411134                               \n",
      "[60]\tvalid_0's auc: 0.780896\tvalid_0's ks: 0.417494                               \n",
      "[70]\tvalid_0's auc: 0.782554\tvalid_0's ks: 0.420648                               \n",
      "[80]\tvalid_0's auc: 0.783154\tvalid_0's ks: 0.426163                               \n",
      "[90]\tvalid_0's auc: 0.783921\tvalid_0's ks: 0.426354                               \n",
      "[100]\tvalid_0's auc: 0.784866\tvalid_0's ks: 0.427309                              \n",
      "Training until validation scores don't improve for 50 rounds                      \n",
      " 50%|█████     | 25/50 [01:31<01:27,  3.52s/trial, best loss: -0.4069886395359402]"
     ]
    },
    {
     "name": "stderr",
     "output_type": "stream",
     "text": [
      "D:\\workspace\\misc\\OneDay\\venv\\lib\\site-packages\\lightgbm\\engine.py:177: UserWarning: Found `n_estimators` in params. Will use it instead of argument\n",
      "  _log_warning(f\"Found `{alias}` in params. Will use it instead of argument\")\n",
      "\n"
     ]
    },
    {
     "name": "stdout",
     "output_type": "stream",
     "text": [
      "[10]\tvalid_0's auc: 0.697646\tvalid_0's ks: 0.306714                               \n",
      "[20]\tvalid_0's auc: 0.713828\tvalid_0's ks: 0.339717                               \n",
      "[30]\tvalid_0's auc: 0.719235\tvalid_0's ks: 0.341095                               \n",
      "[40]\tvalid_0's auc: 0.725593\tvalid_0's ks: 0.344602                               \n",
      "[50]\tvalid_0's auc: 0.725878\tvalid_0's ks: 0.353592                               \n",
      "[60]\tvalid_0's auc: 0.728108\tvalid_0's ks: 0.358893                               \n",
      "[70]\tvalid_0's auc: 0.730449\tvalid_0's ks: 0.359149                               \n",
      "[80]\tvalid_0's auc: 0.732423\tvalid_0's ks: 0.36132                                \n",
      "[90]\tvalid_0's auc: 0.733166\tvalid_0's ks: 0.359541                               \n",
      "[100]\tvalid_0's auc: 0.73278\tvalid_0's ks: 0.356553                               \n",
      "Training until validation scores don't improve for 50 rounds                      \n",
      " 50%|█████     | 25/50 [01:32<01:27,  3.52s/trial, best loss: -0.4069886395359402]"
     ]
    },
    {
     "name": "stderr",
     "output_type": "stream",
     "text": [
      "D:\\workspace\\misc\\OneDay\\venv\\lib\\site-packages\\lightgbm\\engine.py:177: UserWarning: Found `n_estimators` in params. Will use it instead of argument\n",
      "  _log_warning(f\"Found `{alias}` in params. Will use it instead of argument\")\n",
      "\n"
     ]
    },
    {
     "name": "stdout",
     "output_type": "stream",
     "text": [
      "[10]\tvalid_0's auc: 0.725265\tvalid_0's ks: 0.337021                               \n",
      "[20]\tvalid_0's auc: 0.740068\tvalid_0's ks: 0.356021                               \n",
      "[30]\tvalid_0's auc: 0.745368\tvalid_0's ks: 0.370669                               \n",
      "[40]\tvalid_0's auc: 0.752331\tvalid_0's ks: 0.379957                               \n",
      "[50]\tvalid_0's auc: 0.760364\tvalid_0's ks: 0.394991                               \n",
      "[60]\tvalid_0's auc: 0.762187\tvalid_0's ks: 0.39801                                \n",
      "[70]\tvalid_0's auc: 0.764837\tvalid_0's ks: 0.399332                               \n",
      "[80]\tvalid_0's auc: 0.765506\tvalid_0's ks: 0.407258                               \n",
      "[90]\tvalid_0's auc: 0.768004\tvalid_0's ks: 0.402074                               \n",
      "[100]\tvalid_0's auc: 0.768734\tvalid_0's ks: 0.403898                              \n",
      "Training until validation scores don't improve for 50 rounds                      \n",
      " 50%|█████     | 25/50 [01:33<01:27,  3.52s/trial, best loss: -0.4069886395359402]"
     ]
    },
    {
     "name": "stderr",
     "output_type": "stream",
     "text": [
      "D:\\workspace\\misc\\OneDay\\venv\\lib\\site-packages\\lightgbm\\engine.py:177: UserWarning: Found `n_estimators` in params. Will use it instead of argument\n",
      "  _log_warning(f\"Found `{alias}` in params. Will use it instead of argument\")\n",
      "\n"
     ]
    },
    {
     "name": "stdout",
     "output_type": "stream",
     "text": [
      "[10]\tvalid_0's auc: 0.724471\tvalid_0's ks: 0.336182                               \n",
      "[20]\tvalid_0's auc: 0.734825\tvalid_0's ks: 0.357083                               \n",
      "[30]\tvalid_0's auc: 0.745928\tvalid_0's ks: 0.371152                               \n",
      "[40]\tvalid_0's auc: 0.749448\tvalid_0's ks: 0.38844                                \n",
      "[50]\tvalid_0's auc: 0.75347\tvalid_0's ks: 0.394555                                \n",
      "[60]\tvalid_0's auc: 0.753392\tvalid_0's ks: 0.391422                               \n",
      "Training until validation scores don't improve for 50 rounds                      \n",
      " 50%|█████     | 25/50 [01:33<01:27,  3.52s/trial, best loss: -0.4069886395359402]"
     ]
    },
    {
     "name": "stderr",
     "output_type": "stream",
     "text": [
      "D:\\workspace\\misc\\OneDay\\venv\\lib\\site-packages\\lightgbm\\engine.py:177: UserWarning: Found `n_estimators` in params. Will use it instead of argument\n",
      "  _log_warning(f\"Found `{alias}` in params. Will use it instead of argument\")\n",
      "\n"
     ]
    },
    {
     "name": "stdout",
     "output_type": "stream",
     "text": [
      "[10]\tvalid_0's auc: 0.738267\tvalid_0's ks: 0.36928                                \n",
      "[20]\tvalid_0's auc: 0.74793\tvalid_0's ks: 0.372337                                \n",
      "[30]\tvalid_0's auc: 0.755137\tvalid_0's ks: 0.386389                               \n",
      "[40]\tvalid_0's auc: 0.761092\tvalid_0's ks: 0.395845                               \n",
      "[50]\tvalid_0's auc: 0.762292\tvalid_0's ks: 0.397833                               \n",
      "Training until validation scores don't improve for 50 rounds                      \n",
      " 52%|█████▏    | 26/50 [01:34<01:23,  3.47s/trial, best loss: -0.4069886395359402]"
     ]
    },
    {
     "name": "stderr",
     "output_type": "stream",
     "text": [
      "D:\\workspace\\misc\\OneDay\\venv\\lib\\site-packages\\lightgbm\\engine.py:177: UserWarning: Found `n_estimators` in params. Will use it instead of argument\n",
      "  _log_warning(f\"Found `{alias}` in params. Will use it instead of argument\")\n",
      "\n"
     ]
    },
    {
     "name": "stdout",
     "output_type": "stream",
     "text": [
      "[10]\tvalid_0's auc: 0.725901\tvalid_0's ks: 0.355067                               \n",
      "[20]\tvalid_0's auc: 0.740606\tvalid_0's ks: 0.371154                               \n",
      "[30]\tvalid_0's auc: 0.746407\tvalid_0's ks: 0.382677                               \n",
      "[40]\tvalid_0's auc: 0.751947\tvalid_0's ks: 0.391854                               \n",
      "[50]\tvalid_0's auc: 0.755852\tvalid_0's ks: 0.40055                                \n",
      "[60]\tvalid_0's auc: 0.759837\tvalid_0's ks: 0.406667                               \n",
      "[70]\tvalid_0's auc: 0.761977\tvalid_0's ks: 0.408064                               \n",
      "[80]\tvalid_0's auc: 0.763497\tvalid_0's ks: 0.412807                               \n",
      "[90]\tvalid_0's auc: 0.764709\tvalid_0's ks: 0.413498                               \n",
      "[100]\tvalid_0's auc: 0.766545\tvalid_0's ks: 0.416372                              \n",
      "[110]\tvalid_0's auc: 0.767181\tvalid_0's ks: 0.422331                              \n",
      "[120]\tvalid_0's auc: 0.76815\tvalid_0's ks: 0.42325                                \n",
      "[130]\tvalid_0's auc: 0.76895\tvalid_0's ks: 0.423182                               \n",
      "[140]\tvalid_0's auc: 0.770287\tvalid_0's ks: 0.427111                              \n",
      "[150]\tvalid_0's auc: 0.770894\tvalid_0's ks: 0.42698                               \n",
      "[160]\tvalid_0's auc: 0.771241\tvalid_0's ks: 0.427716                              \n",
      "[170]\tvalid_0's auc: 0.771815\tvalid_0's ks: 0.427095                              \n",
      "[180]\tvalid_0's auc: 0.772763\tvalid_0's ks: 0.423993                              \n",
      "Training until validation scores don't improve for 50 rounds                      \n",
      " 52%|█████▏    | 26/50 [01:35<01:23,  3.47s/trial, best loss: -0.4069886395359402]"
     ]
    },
    {
     "name": "stderr",
     "output_type": "stream",
     "text": [
      "D:\\workspace\\misc\\OneDay\\venv\\lib\\site-packages\\lightgbm\\engine.py:177: UserWarning: Found `n_estimators` in params. Will use it instead of argument\n",
      "  _log_warning(f\"Found `{alias}` in params. Will use it instead of argument\")\n",
      "\n"
     ]
    },
    {
     "name": "stdout",
     "output_type": "stream",
     "text": [
      "[10]\tvalid_0's auc: 0.726296\tvalid_0's ks: 0.348533                               \n",
      "[20]\tvalid_0's auc: 0.733669\tvalid_0's ks: 0.374336                               \n",
      "[30]\tvalid_0's auc: 0.739124\tvalid_0's ks: 0.366924                               \n",
      "[40]\tvalid_0's auc: 0.744921\tvalid_0's ks: 0.373054                               \n",
      "Training until validation scores don't improve for 50 rounds                      \n",
      " 52%|█████▏    | 26/50 [01:35<01:23,  3.47s/trial, best loss: -0.4069886395359402]"
     ]
    },
    {
     "name": "stderr",
     "output_type": "stream",
     "text": [
      "D:\\workspace\\misc\\OneDay\\venv\\lib\\site-packages\\lightgbm\\engine.py:177: UserWarning: Found `n_estimators` in params. Will use it instead of argument\n",
      "  _log_warning(f\"Found `{alias}` in params. Will use it instead of argument\")\n",
      "\n"
     ]
    },
    {
     "name": "stdout",
     "output_type": "stream",
     "text": [
      "[10]\tvalid_0's auc: 0.720456\tvalid_0's ks: 0.316603                               \n",
      "[20]\tvalid_0's auc: 0.730513\tvalid_0's ks: 0.339315                               \n",
      "[30]\tvalid_0's auc: 0.733687\tvalid_0's ks: 0.347767                               \n",
      "[40]\tvalid_0's auc: 0.736419\tvalid_0's ks: 0.352641                               \n",
      "[50]\tvalid_0's auc: 0.740685\tvalid_0's ks: 0.356301                               \n",
      "[60]\tvalid_0's auc: 0.743153\tvalid_0's ks: 0.366186                               \n",
      "[70]\tvalid_0's auc: 0.746895\tvalid_0's ks: 0.372053                               \n",
      "[80]\tvalid_0's auc: 0.748107\tvalid_0's ks: 0.376655                               \n",
      "[90]\tvalid_0's auc: 0.749613\tvalid_0's ks: 0.38424                                \n",
      "[100]\tvalid_0's auc: 0.75087\tvalid_0's ks: 0.38156                                \n",
      "[110]\tvalid_0's auc: 0.75233\tvalid_0's ks: 0.381805                               \n",
      "Training until validation scores don't improve for 50 rounds                      \n",
      " 52%|█████▏    | 26/50 [01:36<01:23,  3.47s/trial, best loss: -0.4069886395359402]"
     ]
    },
    {
     "name": "stderr",
     "output_type": "stream",
     "text": [
      "D:\\workspace\\misc\\OneDay\\venv\\lib\\site-packages\\lightgbm\\engine.py:177: UserWarning: Found `n_estimators` in params. Will use it instead of argument\n",
      "  _log_warning(f\"Found `{alias}` in params. Will use it instead of argument\")\n",
      "\n"
     ]
    },
    {
     "name": "stdout",
     "output_type": "stream",
     "text": [
      "[10]\tvalid_0's auc: 0.708883\tvalid_0's ks: 0.315704                               \n",
      "[20]\tvalid_0's auc: 0.719836\tvalid_0's ks: 0.323798                               \n",
      "[30]\tvalid_0's auc: 0.726422\tvalid_0's ks: 0.335908                               \n",
      "[40]\tvalid_0's auc: 0.73393\tvalid_0's ks: 0.346626                                \n",
      "[50]\tvalid_0's auc: 0.741351\tvalid_0's ks: 0.351844                               \n",
      "[60]\tvalid_0's auc: 0.74465\tvalid_0's ks: 0.358992                                \n",
      "[70]\tvalid_0's auc: 0.748002\tvalid_0's ks: 0.365373                               \n",
      "[80]\tvalid_0's auc: 0.750583\tvalid_0's ks: 0.368103                               \n",
      "[90]\tvalid_0's auc: 0.752203\tvalid_0's ks: 0.368062                               \n",
      "[100]\tvalid_0's auc: 0.753674\tvalid_0's ks: 0.3738                                \n",
      "[110]\tvalid_0's auc: 0.754874\tvalid_0's ks: 0.378716                              \n",
      "[120]\tvalid_0's auc: 0.755687\tvalid_0's ks: 0.380623                              \n",
      "[130]\tvalid_0's auc: 0.75723\tvalid_0's ks: 0.385035                               \n",
      "[140]\tvalid_0's auc: 0.758111\tvalid_0's ks: 0.380722                              \n",
      "[150]\tvalid_0's auc: 0.759\tvalid_0's ks: 0.381682                                 \n",
      " 52%|█████▏    | 26/50 [01:37<01:23,  3.47s/trial, best loss: -0.4069886395359402]"
     ]
    },
    {
     "name": "stderr",
     "output_type": "stream",
     "text": [
      "D:\\workspace\\misc\\OneDay\\venv\\lib\\site-packages\\lightgbm\\engine.py:177: UserWarning: Found `n_estimators` in params. Will use it instead of argument\n",
      "  _log_warning(f\"Found `{alias}` in params. Will use it instead of argument\")\n",
      "\n"
     ]
    },
    {
     "name": "stdout",
     "output_type": "stream",
     "text": [
      "Training until validation scores don't improve for 50 rounds                      \n",
      "[10]\tvalid_0's auc: 0.711548\tvalid_0's ks: 0.318455                               \n",
      "[20]\tvalid_0's auc: 0.718354\tvalid_0's ks: 0.326058                               \n",
      "[30]\tvalid_0's auc: 0.727345\tvalid_0's ks: 0.333971                               \n",
      "[40]\tvalid_0's auc: 0.731018\tvalid_0's ks: 0.342277                               \n",
      "[50]\tvalid_0's auc: 0.737559\tvalid_0's ks: 0.349402                               \n",
      "[60]\tvalid_0's auc: 0.744817\tvalid_0's ks: 0.358595                               \n",
      "[70]\tvalid_0's auc: 0.747087\tvalid_0's ks: 0.366102                               \n",
      "[80]\tvalid_0's auc: 0.749797\tvalid_0's ks: 0.37513                                \n",
      "[90]\tvalid_0's auc: 0.751549\tvalid_0's ks: 0.378693                               \n",
      "[100]\tvalid_0's auc: 0.753867\tvalid_0's ks: 0.38132                               \n",
      "[110]\tvalid_0's auc: 0.756755\tvalid_0's ks: 0.390168                              \n",
      "[120]\tvalid_0's auc: 0.757818\tvalid_0's ks: 0.384635                              \n",
      "[130]\tvalid_0's auc: 0.758535\tvalid_0's ks: 0.385604                              \n",
      "Training until validation scores don't improve for 50 rounds                      \n",
      " 54%|█████▍    | 27/50 [01:38<01:26,  3.77s/trial, best loss: -0.4069886395359402]"
     ]
    },
    {
     "name": "stderr",
     "output_type": "stream",
     "text": [
      "D:\\workspace\\misc\\OneDay\\venv\\lib\\site-packages\\lightgbm\\engine.py:177: UserWarning: Found `n_estimators` in params. Will use it instead of argument\n",
      "  _log_warning(f\"Found `{alias}` in params. Will use it instead of argument\")\n",
      "\n"
     ]
    },
    {
     "name": "stdout",
     "output_type": "stream",
     "text": [
      "[10]\tvalid_0's auc: 0.722587\tvalid_0's ks: 0.342228                               \n",
      "[20]\tvalid_0's auc: 0.734474\tvalid_0's ks: 0.361402                               \n",
      "[30]\tvalid_0's auc: 0.738641\tvalid_0's ks: 0.368493                               \n",
      "[40]\tvalid_0's auc: 0.739951\tvalid_0's ks: 0.366244                               \n",
      "[50]\tvalid_0's auc: 0.74092\tvalid_0's ks: 0.372445                                \n",
      "[60]\tvalid_0's auc: 0.744465\tvalid_0's ks: 0.377546                               \n",
      "[70]\tvalid_0's auc: 0.74534\tvalid_0's ks: 0.371872                                \n",
      "[80]\tvalid_0's auc: 0.74877\tvalid_0's ks: 0.380472                                \n",
      "Training until validation scores don't improve for 50 rounds                      \n",
      " 54%|█████▍    | 27/50 [01:39<01:26,  3.77s/trial, best loss: -0.4069886395359402]"
     ]
    },
    {
     "name": "stderr",
     "output_type": "stream",
     "text": [
      "D:\\workspace\\misc\\OneDay\\venv\\lib\\site-packages\\lightgbm\\engine.py:177: UserWarning: Found `n_estimators` in params. Will use it instead of argument\n",
      "  _log_warning(f\"Found `{alias}` in params. Will use it instead of argument\")\n",
      "\n"
     ]
    },
    {
     "name": "stdout",
     "output_type": "stream",
     "text": [
      "[10]\tvalid_0's auc: 0.728556\tvalid_0's ks: 0.338474                               \n",
      "[20]\tvalid_0's auc: 0.738545\tvalid_0's ks: 0.36671                                \n",
      "[30]\tvalid_0's auc: 0.744804\tvalid_0's ks: 0.371234                               \n",
      "[40]\tvalid_0's auc: 0.748092\tvalid_0's ks: 0.372228                               \n",
      "Training until validation scores don't improve for 50 rounds                      \n",
      " 54%|█████▍    | 27/50 [01:39<01:26,  3.77s/trial, best loss: -0.4069886395359402]"
     ]
    },
    {
     "name": "stderr",
     "output_type": "stream",
     "text": [
      "D:\\workspace\\misc\\OneDay\\venv\\lib\\site-packages\\lightgbm\\engine.py:177: UserWarning: Found `n_estimators` in params. Will use it instead of argument\n",
      "  _log_warning(f\"Found `{alias}` in params. Will use it instead of argument\")\n",
      "\n"
     ]
    },
    {
     "name": "stdout",
     "output_type": "stream",
     "text": [
      "[10]\tvalid_0's auc: 0.725969\tvalid_0's ks: 0.33672                                \n",
      "[20]\tvalid_0's auc: 0.744025\tvalid_0's ks: 0.369075                               \n",
      "[30]\tvalid_0's auc: 0.747979\tvalid_0's ks: 0.371634                               \n",
      "[40]\tvalid_0's auc: 0.748724\tvalid_0's ks: 0.372189                               \n",
      "[50]\tvalid_0's auc: 0.748909\tvalid_0's ks: 0.368308                               \n",
      "Training until validation scores don't improve for 50 rounds                      \n",
      " 54%|█████▍    | 27/50 [01:40<01:26,  3.77s/trial, best loss: -0.4069886395359402]"
     ]
    },
    {
     "name": "stderr",
     "output_type": "stream",
     "text": [
      "D:\\workspace\\misc\\OneDay\\venv\\lib\\site-packages\\lightgbm\\engine.py:177: UserWarning: Found `n_estimators` in params. Will use it instead of argument\n",
      "  _log_warning(f\"Found `{alias}` in params. Will use it instead of argument\")\n",
      "\n"
     ]
    },
    {
     "name": "stdout",
     "output_type": "stream",
     "text": [
      "[10]\tvalid_0's auc: 0.730571\tvalid_0's ks: 0.340993                               \n",
      "[20]\tvalid_0's auc: 0.747017\tvalid_0's ks: 0.376869                               \n",
      "[30]\tvalid_0's auc: 0.757282\tvalid_0's ks: 0.400334                               \n",
      "[40]\tvalid_0's auc: 0.761417\tvalid_0's ks: 0.399269                               \n",
      "[50]\tvalid_0's auc: 0.763777\tvalid_0's ks: 0.40558                                \n",
      "[60]\tvalid_0's auc: 0.767136\tvalid_0's ks: 0.413003                               \n",
      "[70]\tvalid_0's auc: 0.769472\tvalid_0's ks: 0.417113                               \n",
      "[80]\tvalid_0's auc: 0.770013\tvalid_0's ks: 0.412406                               \n",
      "Training until validation scores don't improve for 50 rounds                      \n",
      " 54%|█████▍    | 27/50 [01:41<01:26,  3.77s/trial, best loss: -0.4069886395359402]"
     ]
    },
    {
     "name": "stderr",
     "output_type": "stream",
     "text": [
      "D:\\workspace\\misc\\OneDay\\venv\\lib\\site-packages\\lightgbm\\engine.py:177: UserWarning: Found `n_estimators` in params. Will use it instead of argument\n",
      "  _log_warning(f\"Found `{alias}` in params. Will use it instead of argument\")\n",
      "\n"
     ]
    },
    {
     "name": "stdout",
     "output_type": "stream",
     "text": [
      "[10]\tvalid_0's auc: 0.715611\tvalid_0's ks: 0.317146                               \n",
      "[20]\tvalid_0's auc: 0.726672\tvalid_0's ks: 0.333926                               \n",
      "[30]\tvalid_0's auc: 0.735315\tvalid_0's ks: 0.351951                               \n",
      "[40]\tvalid_0's auc: 0.739304\tvalid_0's ks: 0.352112                               \n",
      "[50]\tvalid_0's auc: 0.74074\tvalid_0's ks: 0.355493                                \n",
      "[60]\tvalid_0's auc: 0.742424\tvalid_0's ks: 0.355869                               \n",
      "Training until validation scores don't improve for 50 rounds                      \n",
      " 56%|█████▌    | 28/50 [01:41<01:17,  3.53s/trial, best loss: -0.4069886395359402]"
     ]
    },
    {
     "name": "stderr",
     "output_type": "stream",
     "text": [
      "D:\\workspace\\misc\\OneDay\\venv\\lib\\site-packages\\lightgbm\\engine.py:177: UserWarning: Found `n_estimators` in params. Will use it instead of argument\n",
      "  _log_warning(f\"Found `{alias}` in params. Will use it instead of argument\")\n",
      "\n"
     ]
    },
    {
     "name": "stdout",
     "output_type": "stream",
     "text": [
      "[10]\tvalid_0's auc: 0.757226\tvalid_0's ks: 0.383956                               \n",
      "[20]\tvalid_0's auc: 0.765851\tvalid_0's ks: 0.395272                               \n",
      "[30]\tvalid_0's auc: 0.765725\tvalid_0's ks: 0.399652                               \n",
      "[40]\tvalid_0's auc: 0.761986\tvalid_0's ks: 0.406266                               \n",
      " 56%|█████▌    | 28/50 [01:41<01:17,  3.53s/trial, best loss: -0.4069886395359402]"
     ]
    },
    {
     "name": "stderr",
     "output_type": "stream",
     "text": [
      "D:\\workspace\\misc\\OneDay\\venv\\lib\\site-packages\\lightgbm\\engine.py:177: UserWarning: Found `n_estimators` in params. Will use it instead of argument\n",
      "  _log_warning(f\"Found `{alias}` in params. Will use it instead of argument\")\n",
      "\n"
     ]
    },
    {
     "name": "stdout",
     "output_type": "stream",
     "text": [
      "Training until validation scores don't improve for 50 rounds                      \n",
      "[10]\tvalid_0's auc: 0.739511\tvalid_0's ks: 0.356361                               \n",
      "[20]\tvalid_0's auc: 0.755823\tvalid_0's ks: 0.375525                               \n",
      "[30]\tvalid_0's auc: 0.756247\tvalid_0's ks: 0.372734                               \n",
      " 56%|█████▌    | 28/50 [01:42<01:17,  3.53s/trial, best loss: -0.4069886395359402]"
     ]
    },
    {
     "name": "stderr",
     "output_type": "stream",
     "text": [
      "D:\\workspace\\misc\\OneDay\\venv\\lib\\site-packages\\lightgbm\\engine.py:177: UserWarning: Found `n_estimators` in params. Will use it instead of argument\n",
      "  _log_warning(f\"Found `{alias}` in params. Will use it instead of argument\")\n",
      "\n"
     ]
    },
    {
     "name": "stdout",
     "output_type": "stream",
     "text": [
      "Training until validation scores don't improve for 50 rounds                      \n",
      "[10]\tvalid_0's auc: 0.735843\tvalid_0's ks: 0.361438                               \n",
      "[20]\tvalid_0's auc: 0.749102\tvalid_0's ks: 0.367825                               \n",
      "[30]\tvalid_0's auc: 0.74817\tvalid_0's ks: 0.367661                                \n",
      "                                                                                  \r"
     ]
    },
    {
     "name": "stderr",
     "output_type": "stream",
     "text": [
      "D:\\workspace\\misc\\OneDay\\venv\\lib\\site-packages\\lightgbm\\engine.py:177: UserWarning: Found `n_estimators` in params. Will use it instead of argument\n",
      "  _log_warning(f\"Found `{alias}` in params. Will use it instead of argument\")\n",
      "\n"
     ]
    },
    {
     "name": "stdout",
     "output_type": "stream",
     "text": [
      "Training until validation scores don't improve for 50 rounds\n",
      "[10]\tvalid_0's auc: 0.75214\tvalid_0's ks: 0.391087                                \n",
      "[20]\tvalid_0's auc: 0.756555\tvalid_0's ks: 0.377569                               \n",
      "[30]\tvalid_0's auc: 0.758453\tvalid_0's ks: 0.38418                                \n",
      "Training until validation scores don't improve for 50 rounds                      \n",
      " 56%|█████▌    | 28/50 [01:43<01:17,  3.53s/trial, best loss: -0.4069886395359402]"
     ]
    },
    {
     "name": "stderr",
     "output_type": "stream",
     "text": [
      "D:\\workspace\\misc\\OneDay\\venv\\lib\\site-packages\\lightgbm\\engine.py:177: UserWarning: Found `n_estimators` in params. Will use it instead of argument\n",
      "  _log_warning(f\"Found `{alias}` in params. Will use it instead of argument\")\n",
      "\n"
     ]
    },
    {
     "name": "stdout",
     "output_type": "stream",
     "text": [
      "[10]\tvalid_0's auc: 0.744518\tvalid_0's ks: 0.366143                               \n",
      "[20]\tvalid_0's auc: 0.752167\tvalid_0's ks: 0.373548                               \n",
      "[30]\tvalid_0's auc: 0.753319\tvalid_0's ks: 0.380509                               \n",
      "[40]\tvalid_0's auc: 0.752913\tvalid_0's ks: 0.385104                               \n",
      "Training until validation scores don't improve for 50 rounds                      \n",
      " 58%|█████▊    | 29/50 [01:44<01:07,  3.24s/trial, best loss: -0.4069886395359402]"
     ]
    },
    {
     "name": "stderr",
     "output_type": "stream",
     "text": [
      "D:\\workspace\\misc\\OneDay\\venv\\lib\\site-packages\\lightgbm\\engine.py:177: UserWarning: Found `n_estimators` in params. Will use it instead of argument\n",
      "  _log_warning(f\"Found `{alias}` in params. Will use it instead of argument\")\n",
      "\n"
     ]
    },
    {
     "name": "stdout",
     "output_type": "stream",
     "text": [
      "[10]\tvalid_0's auc: 0.734375\tvalid_0's ks: 0.355261                               \n",
      "[20]\tvalid_0's auc: 0.748863\tvalid_0's ks: 0.385247                               \n",
      "[30]\tvalid_0's auc: 0.751228\tvalid_0's ks: 0.388447                               \n",
      "[40]\tvalid_0's auc: 0.755729\tvalid_0's ks: 0.392384                               \n",
      " 58%|█████▊    | 29/50 [01:44<01:07,  3.24s/trial, best loss: -0.4069886395359402]"
     ]
    },
    {
     "name": "stderr",
     "output_type": "stream",
     "text": [
      "D:\\workspace\\misc\\OneDay\\venv\\lib\\site-packages\\lightgbm\\engine.py:177: UserWarning: Found `n_estimators` in params. Will use it instead of argument\n",
      "  _log_warning(f\"Found `{alias}` in params. Will use it instead of argument\")\n",
      "\n"
     ]
    },
    {
     "name": "stdout",
     "output_type": "stream",
     "text": [
      "Training until validation scores don't improve for 50 rounds                      \n",
      "[10]\tvalid_0's auc: 0.742544\tvalid_0's ks: 0.367247                               \n",
      "[20]\tvalid_0's auc: 0.752066\tvalid_0's ks: 0.381922                               \n",
      "[30]\tvalid_0's auc: 0.759713\tvalid_0's ks: 0.390793                               \n",
      "[40]\tvalid_0's auc: 0.761083\tvalid_0's ks: 0.383639                               \n",
      "[50]\tvalid_0's auc: 0.764907\tvalid_0's ks: 0.395347                               \n",
      "[60]\tvalid_0's auc: 0.767749\tvalid_0's ks: 0.400784                               \n",
      "[70]\tvalid_0's auc: 0.767373\tvalid_0's ks: 0.39891                                \n",
      "[80]\tvalid_0's auc: 0.768674\tvalid_0's ks: 0.396979                               \n",
      " 58%|█████▊    | 29/50 [01:45<01:07,  3.24s/trial, best loss: -0.4069886395359402]"
     ]
    },
    {
     "name": "stderr",
     "output_type": "stream",
     "text": [
      "D:\\workspace\\misc\\OneDay\\venv\\lib\\site-packages\\lightgbm\\engine.py:177: UserWarning: Found `n_estimators` in params. Will use it instead of argument\n",
      "  _log_warning(f\"Found `{alias}` in params. Will use it instead of argument\")\n",
      "\n"
     ]
    },
    {
     "name": "stdout",
     "output_type": "stream",
     "text": [
      "Training until validation scores don't improve for 50 rounds                      \n",
      "[10]\tvalid_0's auc: 0.730897\tvalid_0's ks: 0.354911                               \n",
      "[20]\tvalid_0's auc: 0.745473\tvalid_0's ks: 0.397618                               \n",
      "[30]\tvalid_0's auc: 0.752671\tvalid_0's ks: 0.396344                               \n",
      "[40]\tvalid_0's auc: 0.753977\tvalid_0's ks: 0.394809                               \n",
      "[50]\tvalid_0's auc: 0.756489\tvalid_0's ks: 0.405973                               \n",
      "[60]\tvalid_0's auc: 0.759399\tvalid_0's ks: 0.40725                                \n",
      "[70]\tvalid_0's auc: 0.760793\tvalid_0's ks: 0.408017                               \n",
      "[80]\tvalid_0's auc: 0.762527\tvalid_0's ks: 0.406064                               \n",
      "[90]\tvalid_0's auc: 0.76303\tvalid_0's ks: 0.399503                                \n",
      "Training until validation scores don't improve for 50 rounds                      \n",
      " 58%|█████▊    | 29/50 [01:46<01:07,  3.24s/trial, best loss: -0.4069886395359402]"
     ]
    },
    {
     "name": "stderr",
     "output_type": "stream",
     "text": [
      "D:\\workspace\\misc\\OneDay\\venv\\lib\\site-packages\\lightgbm\\engine.py:177: UserWarning: Found `n_estimators` in params. Will use it instead of argument\n",
      "  _log_warning(f\"Found `{alias}` in params. Will use it instead of argument\")\n",
      "\n"
     ]
    },
    {
     "name": "stdout",
     "output_type": "stream",
     "text": [
      "[10]\tvalid_0's auc: 0.702424\tvalid_0's ks: 0.302424                               \n",
      "[20]\tvalid_0's auc: 0.716576\tvalid_0's ks: 0.323416                               \n",
      "[30]\tvalid_0's auc: 0.725955\tvalid_0's ks: 0.328865                               \n",
      "[40]\tvalid_0's auc: 0.729878\tvalid_0's ks: 0.341317                               \n",
      "[50]\tvalid_0's auc: 0.734986\tvalid_0's ks: 0.358369                               \n",
      "[60]\tvalid_0's auc: 0.738332\tvalid_0's ks: 0.351245                               \n",
      "[70]\tvalid_0's auc: 0.738007\tvalid_0's ks: 0.352893                               \n",
      " 58%|█████▊    | 29/50 [01:46<01:07,  3.24s/trial, best loss: -0.4069886395359402]"
     ]
    },
    {
     "name": "stderr",
     "output_type": "stream",
     "text": [
      "D:\\workspace\\misc\\OneDay\\venv\\lib\\site-packages\\lightgbm\\engine.py:177: UserWarning: Found `n_estimators` in params. Will use it instead of argument\n",
      "  _log_warning(f\"Found `{alias}` in params. Will use it instead of argument\")\n",
      "\n"
     ]
    },
    {
     "name": "stdout",
     "output_type": "stream",
     "text": [
      "Training until validation scores don't improve for 50 rounds                      \n",
      "[10]\tvalid_0's auc: 0.727472\tvalid_0's ks: 0.355066                               \n",
      "[20]\tvalid_0's auc: 0.742771\tvalid_0's ks: 0.368992                               \n",
      "[30]\tvalid_0's auc: 0.749982\tvalid_0's ks: 0.373538                               \n",
      "[40]\tvalid_0's auc: 0.749436\tvalid_0's ks: 0.368134                               \n",
      "Training until validation scores don't improve for 50 rounds                      \n",
      " 60%|██████    | 30/50 [01:47<01:03,  3.16s/trial, best loss: -0.4069886395359402]"
     ]
    },
    {
     "name": "stderr",
     "output_type": "stream",
     "text": [
      "D:\\workspace\\misc\\OneDay\\venv\\lib\\site-packages\\lightgbm\\engine.py:177: UserWarning: Found `n_estimators` in params. Will use it instead of argument\n",
      "  _log_warning(f\"Found `{alias}` in params. Will use it instead of argument\")\n",
      "\n"
     ]
    },
    {
     "name": "stdout",
     "output_type": "stream",
     "text": [
      "[10]\tvalid_0's auc: 0.744704\tvalid_0's ks: 0.378434                               \n",
      "[20]\tvalid_0's auc: 0.757136\tvalid_0's ks: 0.392986                               \n",
      "[30]\tvalid_0's auc: 0.764141\tvalid_0's ks: 0.405433                               \n",
      "[40]\tvalid_0's auc: 0.770359\tvalid_0's ks: 0.402852                               \n",
      "[50]\tvalid_0's auc: 0.774922\tvalid_0's ks: 0.417859                               \n",
      "[60]\tvalid_0's auc: 0.776864\tvalid_0's ks: 0.415737                               \n",
      "[70]\tvalid_0's auc: 0.778155\tvalid_0's ks: 0.42094                                \n",
      "[80]\tvalid_0's auc: 0.778379\tvalid_0's ks: 0.423018                               \n",
      "[90]\tvalid_0's auc: 0.779424\tvalid_0's ks: 0.425446                               \n",
      "[100]\tvalid_0's auc: 0.779524\tvalid_0's ks: 0.42661                               \n",
      "[110]\tvalid_0's auc: 0.780844\tvalid_0's ks: 0.432617                              \n",
      "[120]\tvalid_0's auc: 0.781302\tvalid_0's ks: 0.432171                              \n",
      "[130]\tvalid_0's auc: 0.782223\tvalid_0's ks: 0.436483                              \n",
      "[140]\tvalid_0's auc: 0.780873\tvalid_0's ks: 0.436191                              \n",
      "[150]\tvalid_0's auc: 0.780901\tvalid_0's ks: 0.442872                              \n",
      "Training until validation scores don't improve for 50 rounds                      \n",
      " 60%|██████    | 30/50 [01:48<01:03,  3.16s/trial, best loss: -0.4069886395359402]"
     ]
    },
    {
     "name": "stderr",
     "output_type": "stream",
     "text": [
      "D:\\workspace\\misc\\OneDay\\venv\\lib\\site-packages\\lightgbm\\engine.py:177: UserWarning: Found `n_estimators` in params. Will use it instead of argument\n",
      "  _log_warning(f\"Found `{alias}` in params. Will use it instead of argument\")\n",
      "\n"
     ]
    },
    {
     "name": "stdout",
     "output_type": "stream",
     "text": [
      "[10]\tvalid_0's auc: 0.710945\tvalid_0's ks: 0.328673                               \n",
      "[20]\tvalid_0's auc: 0.724137\tvalid_0's ks: 0.354484                               \n",
      "[30]\tvalid_0's auc: 0.736973\tvalid_0's ks: 0.376496                               \n",
      "[40]\tvalid_0's auc: 0.744944\tvalid_0's ks: 0.381979                               \n",
      "[50]\tvalid_0's auc: 0.751021\tvalid_0's ks: 0.386181                               \n",
      "[60]\tvalid_0's auc: 0.754847\tvalid_0's ks: 0.398319                               \n",
      "[70]\tvalid_0's auc: 0.757872\tvalid_0's ks: 0.398928                               \n",
      "[80]\tvalid_0's auc: 0.759155\tvalid_0's ks: 0.398659                               \n",
      "[90]\tvalid_0's auc: 0.761256\tvalid_0's ks: 0.399417                               \n",
      "[100]\tvalid_0's auc: 0.762169\tvalid_0's ks: 0.399685                              \n",
      "[110]\tvalid_0's auc: 0.763296\tvalid_0's ks: 0.403786                              \n",
      "[120]\tvalid_0's auc: 0.766394\tvalid_0's ks: 0.415573                              \n",
      "[130]\tvalid_0's auc: 0.766721\tvalid_0's ks: 0.414412                              \n",
      "[140]\tvalid_0's auc: 0.767134\tvalid_0's ks: 0.415907                              \n",
      "[150]\tvalid_0's auc: 0.766273\tvalid_0's ks: 0.410302                              \n",
      "Training until validation scores don't improve for 50 rounds                      \n",
      " 60%|██████    | 30/50 [01:49<01:03,  3.16s/trial, best loss: -0.4069886395359402]"
     ]
    },
    {
     "name": "stderr",
     "output_type": "stream",
     "text": [
      "D:\\workspace\\misc\\OneDay\\venv\\lib\\site-packages\\lightgbm\\engine.py:177: UserWarning: Found `n_estimators` in params. Will use it instead of argument\n",
      "  _log_warning(f\"Found `{alias}` in params. Will use it instead of argument\")\n",
      "\n"
     ]
    },
    {
     "name": "stdout",
     "output_type": "stream",
     "text": [
      "[10]\tvalid_0's auc: 0.724357\tvalid_0's ks: 0.361481                               \n",
      "[20]\tvalid_0's auc: 0.738338\tvalid_0's ks: 0.375679                               \n",
      "[30]\tvalid_0's auc: 0.746168\tvalid_0's ks: 0.37789                                \n",
      "[40]\tvalid_0's auc: 0.752211\tvalid_0's ks: 0.389384                               \n",
      "[50]\tvalid_0's auc: 0.755524\tvalid_0's ks: 0.382588                               \n",
      "[60]\tvalid_0's auc: 0.758501\tvalid_0's ks: 0.391664                               \n",
      "[70]\tvalid_0's auc: 0.759342\tvalid_0's ks: 0.395631                               \n",
      "[80]\tvalid_0's auc: 0.761341\tvalid_0's ks: 0.402776                               \n",
      "[90]\tvalid_0's auc: 0.762813\tvalid_0's ks: 0.405898                               \n",
      "[100]\tvalid_0's auc: 0.762669\tvalid_0's ks: 0.405208                              \n",
      "Training until validation scores don't improve for 50 rounds                      \n",
      " 60%|██████    | 30/50 [01:49<01:03,  3.16s/trial, best loss: -0.4069886395359402]"
     ]
    },
    {
     "name": "stderr",
     "output_type": "stream",
     "text": [
      "D:\\workspace\\misc\\OneDay\\venv\\lib\\site-packages\\lightgbm\\engine.py:177: UserWarning: Found `n_estimators` in params. Will use it instead of argument\n",
      "  _log_warning(f\"Found `{alias}` in params. Will use it instead of argument\")\n",
      "\n"
     ]
    },
    {
     "name": "stdout",
     "output_type": "stream",
     "text": [
      "[10]\tvalid_0's auc: 0.719053\tvalid_0's ks: 0.338173                               \n",
      "[20]\tvalid_0's auc: 0.728353\tvalid_0's ks: 0.340474                               \n",
      "[30]\tvalid_0's auc: 0.735931\tvalid_0's ks: 0.354658                               \n",
      "[40]\tvalid_0's auc: 0.743425\tvalid_0's ks: 0.370596                               \n",
      "[50]\tvalid_0's auc: 0.743603\tvalid_0's ks: 0.366588                               \n",
      "[60]\tvalid_0's auc: 0.746314\tvalid_0's ks: 0.371599                               \n",
      "Training until validation scores don't improve for 50 rounds                      \n",
      " 60%|██████    | 30/50 [01:50<01:03,  3.16s/trial, best loss: -0.4069886395359402]"
     ]
    },
    {
     "name": "stderr",
     "output_type": "stream",
     "text": [
      "D:\\workspace\\misc\\OneDay\\venv\\lib\\site-packages\\lightgbm\\engine.py:177: UserWarning: Found `n_estimators` in params. Will use it instead of argument\n",
      "  _log_warning(f\"Found `{alias}` in params. Will use it instead of argument\")\n",
      "\n"
     ]
    },
    {
     "name": "stdout",
     "output_type": "stream",
     "text": [
      "[10]\tvalid_0's auc: 0.725554\tvalid_0's ks: 0.329773                               \n",
      "[20]\tvalid_0's auc: 0.739165\tvalid_0's ks: 0.344322                               \n",
      "[30]\tvalid_0's auc: 0.751794\tvalid_0's ks: 0.361993                               \n",
      "[40]\tvalid_0's auc: 0.755637\tvalid_0's ks: 0.371127                               \n",
      "[50]\tvalid_0's auc: 0.759689\tvalid_0's ks: 0.38345                                \n",
      "[60]\tvalid_0's auc: 0.760162\tvalid_0's ks: 0.385552                               \n",
      "[70]\tvalid_0's auc: 0.760621\tvalid_0's ks: 0.393694                               \n",
      "[80]\tvalid_0's auc: 0.766019\tvalid_0's ks: 0.392002                               \n",
      "[90]\tvalid_0's auc: 0.76613\tvalid_0's ks: 0.38767                                 \n",
      "Training until validation scores don't improve for 50 rounds                       \n",
      " 62%|██████▏   | 31/50 [01:51<01:05,  3.45s/trial, best loss: -0.40831624888276224]"
     ]
    },
    {
     "name": "stderr",
     "output_type": "stream",
     "text": [
      "D:\\workspace\\misc\\OneDay\\venv\\lib\\site-packages\\lightgbm\\engine.py:177: UserWarning: Found `n_estimators` in params. Will use it instead of argument\n",
      "  _log_warning(f\"Found `{alias}` in params. Will use it instead of argument\")\n",
      "\n"
     ]
    },
    {
     "name": "stdout",
     "output_type": "stream",
     "text": [
      "[10]\tvalid_0's auc: 0.753805\tvalid_0's ks: 0.388496                                \n",
      "[20]\tvalid_0's auc: 0.765033\tvalid_0's ks: 0.408077                                \n",
      "[30]\tvalid_0's auc: 0.769123\tvalid_0's ks: 0.420481                                \n",
      "[40]\tvalid_0's auc: 0.76893\tvalid_0's ks: 0.413585                                 \n",
      "Training until validation scores don't improve for 50 rounds                       \n",
      " 62%|██████▏   | 31/50 [01:51<01:05,  3.45s/trial, best loss: -0.40831624888276224]"
     ]
    },
    {
     "name": "stderr",
     "output_type": "stream",
     "text": [
      "D:\\workspace\\misc\\OneDay\\venv\\lib\\site-packages\\lightgbm\\engine.py:177: UserWarning: Found `n_estimators` in params. Will use it instead of argument\n",
      "  _log_warning(f\"Found `{alias}` in params. Will use it instead of argument\")\n",
      "\n"
     ]
    },
    {
     "name": "stdout",
     "output_type": "stream",
     "text": [
      "[10]\tvalid_0's auc: 0.726953\tvalid_0's ks: 0.341758                                \n",
      "[20]\tvalid_0's auc: 0.741787\tvalid_0's ks: 0.382205                                \n",
      "[30]\tvalid_0's auc: 0.745891\tvalid_0's ks: 0.391371                                \n",
      "[40]\tvalid_0's auc: 0.747799\tvalid_0's ks: 0.391553                                \n",
      "[50]\tvalid_0's auc: 0.75167\tvalid_0's ks: 0.395003                                 \n",
      "Training until validation scores don't improve for 50 rounds                       \n",
      " 62%|██████▏   | 31/50 [01:52<01:05,  3.45s/trial, best loss: -0.40831624888276224]"
     ]
    },
    {
     "name": "stderr",
     "output_type": "stream",
     "text": [
      "D:\\workspace\\misc\\OneDay\\venv\\lib\\site-packages\\lightgbm\\engine.py:177: UserWarning: Found `n_estimators` in params. Will use it instead of argument\n",
      "  _log_warning(f\"Found `{alias}` in params. Will use it instead of argument\")\n",
      "\n"
     ]
    },
    {
     "name": "stdout",
     "output_type": "stream",
     "text": [
      "[10]\tvalid_0's auc: 0.759726\tvalid_0's ks: 0.397501                                \n",
      "[20]\tvalid_0's auc: 0.776354\tvalid_0's ks: 0.411832                                \n",
      "[30]\tvalid_0's auc: 0.783099\tvalid_0's ks: 0.423838                                \n",
      "[40]\tvalid_0's auc: 0.781058\tvalid_0's ks: 0.42285                                 \n",
      "[50]\tvalid_0's auc: 0.783102\tvalid_0's ks: 0.439399                                \n",
      "[60]\tvalid_0's auc: 0.783339\tvalid_0's ks: 0.429353                                \n",
      "Training until validation scores don't improve for 50 rounds                       \n",
      " 62%|██████▏   | 31/50 [01:53<01:05,  3.45s/trial, best loss: -0.40831624888276224]"
     ]
    },
    {
     "name": "stderr",
     "output_type": "stream",
     "text": [
      "D:\\workspace\\misc\\OneDay\\venv\\lib\\site-packages\\lightgbm\\engine.py:177: UserWarning: Found `n_estimators` in params. Will use it instead of argument\n",
      "  _log_warning(f\"Found `{alias}` in params. Will use it instead of argument\")\n",
      "\n"
     ]
    },
    {
     "name": "stdout",
     "output_type": "stream",
     "text": [
      "[10]\tvalid_0's auc: 0.732634\tvalid_0's ks: 0.363367                                \n",
      "[20]\tvalid_0's auc: 0.74118\tvalid_0's ks: 0.353485                                 \n",
      "[30]\tvalid_0's auc: 0.74835\tvalid_0's ks: 0.366949                                 \n",
      "[40]\tvalid_0's auc: 0.747188\tvalid_0's ks: 0.357717                                \n",
      "[50]\tvalid_0's auc: 0.749471\tvalid_0's ks: 0.357406                                \n",
      "Training until validation scores don't improve for 50 rounds                       \n",
      " 62%|██████▏   | 31/50 [01:54<01:05,  3.45s/trial, best loss: -0.40831624888276224]"
     ]
    },
    {
     "name": "stderr",
     "output_type": "stream",
     "text": [
      "D:\\workspace\\misc\\OneDay\\venv\\lib\\site-packages\\lightgbm\\engine.py:177: UserWarning: Found `n_estimators` in params. Will use it instead of argument\n",
      "  _log_warning(f\"Found `{alias}` in params. Will use it instead of argument\")\n",
      "\n"
     ]
    },
    {
     "name": "stdout",
     "output_type": "stream",
     "text": [
      "[10]\tvalid_0's auc: 0.746111\tvalid_0's ks: 0.359873                                \n",
      "[20]\tvalid_0's auc: 0.754409\tvalid_0's ks: 0.367875                                \n",
      "[30]\tvalid_0's auc: 0.75798\tvalid_0's ks: 0.37452                                  \n",
      "[40]\tvalid_0's auc: 0.758485\tvalid_0's ks: 0.36976                                 \n",
      " 64%|██████▍   | 32/50 [01:54<01:01,  3.42s/trial, best loss: -0.40831624888276224]"
     ]
    },
    {
     "name": "stderr",
     "output_type": "stream",
     "text": [
      "D:\\workspace\\misc\\OneDay\\venv\\lib\\site-packages\\lightgbm\\engine.py:177: UserWarning: Found `n_estimators` in params. Will use it instead of argument\n",
      "  _log_warning(f\"Found `{alias}` in params. Will use it instead of argument\")\n",
      "\n"
     ]
    },
    {
     "name": "stdout",
     "output_type": "stream",
     "text": [
      "Training until validation scores don't improve for 50 rounds                       \n",
      "[10]\tvalid_0's auc: 0.716732\tvalid_0's ks: 0.340315                                \n",
      "[20]\tvalid_0's auc: 0.725223\tvalid_0's ks: 0.346564                                \n",
      "[30]\tvalid_0's auc: 0.72949\tvalid_0's ks: 0.356245                                 \n",
      "[40]\tvalid_0's auc: 0.732154\tvalid_0's ks: 0.370495                                \n",
      "[50]\tvalid_0's auc: 0.735117\tvalid_0's ks: 0.370493                                \n",
      "[60]\tvalid_0's auc: 0.738078\tvalid_0's ks: 0.379147                                \n",
      "[70]\tvalid_0's auc: 0.741025\tvalid_0's ks: 0.381216                                \n",
      "[80]\tvalid_0's auc: 0.744183\tvalid_0's ks: 0.387434                                \n",
      "[90]\tvalid_0's auc: 0.746995\tvalid_0's ks: 0.394557                                \n",
      "[100]\tvalid_0's auc: 0.74906\tvalid_0's ks: 0.394935                                \n",
      "[110]\tvalid_0's auc: 0.750735\tvalid_0's ks: 0.402406                               \n",
      "[120]\tvalid_0's auc: 0.753147\tvalid_0's ks: 0.403569                               \n",
      "[130]\tvalid_0's auc: 0.755028\tvalid_0's ks: 0.405165                               \n",
      "[140]\tvalid_0's auc: 0.756314\tvalid_0's ks: 0.40981                                \n",
      "[150]\tvalid_0's auc: 0.757611\tvalid_0's ks: 0.407561                               \n",
      "[160]\tvalid_0's auc: 0.758631\tvalid_0's ks: 0.405623                               \n",
      "Training until validation scores don't improve for 50 rounds                       \n",
      " 64%|██████▍   | 32/50 [01:55<01:01,  3.42s/trial, best loss: -0.40831624888276224]"
     ]
    },
    {
     "name": "stderr",
     "output_type": "stream",
     "text": [
      "D:\\workspace\\misc\\OneDay\\venv\\lib\\site-packages\\lightgbm\\engine.py:177: UserWarning: Found `n_estimators` in params. Will use it instead of argument\n",
      "  _log_warning(f\"Found `{alias}` in params. Will use it instead of argument\")\n",
      "\n"
     ]
    },
    {
     "name": "stdout",
     "output_type": "stream",
     "text": [
      "[10]\tvalid_0's auc: 0.717683\tvalid_0's ks: 0.336034                                \n",
      "[20]\tvalid_0's auc: 0.733002\tvalid_0's ks: 0.364057                                \n",
      "[30]\tvalid_0's auc: 0.739244\tvalid_0's ks: 0.379183                                \n",
      "[40]\tvalid_0's auc: 0.744214\tvalid_0's ks: 0.374981                                \n",
      " 64%|██████▍   | 32/50 [01:56<01:01,  3.42s/trial, best loss: -0.40831624888276224]"
     ]
    },
    {
     "name": "stderr",
     "output_type": "stream",
     "text": [
      "D:\\workspace\\misc\\OneDay\\venv\\lib\\site-packages\\lightgbm\\engine.py:177: UserWarning: Found `n_estimators` in params. Will use it instead of argument\n",
      "  _log_warning(f\"Found `{alias}` in params. Will use it instead of argument\")\n",
      "\n"
     ]
    },
    {
     "name": "stdout",
     "output_type": "stream",
     "text": [
      "Training until validation scores don't improve for 50 rounds                       \n",
      "[10]\tvalid_0's auc: 0.715868\tvalid_0's ks: 0.334212                                \n",
      "[20]\tvalid_0's auc: 0.723377\tvalid_0's ks: 0.336698                                \n",
      "[30]\tvalid_0's auc: 0.726268\tvalid_0's ks: 0.343303                                \n",
      "[40]\tvalid_0's auc: 0.729766\tvalid_0's ks: 0.345906                                \n",
      "[50]\tvalid_0's auc: 0.734449\tvalid_0's ks: 0.352364                                \n",
      "[60]\tvalid_0's auc: 0.736779\tvalid_0's ks: 0.354862                                \n",
      "[70]\tvalid_0's auc: 0.739342\tvalid_0's ks: 0.360504                                \n",
      "[80]\tvalid_0's auc: 0.741599\tvalid_0's ks: 0.365864                                \n",
      "[90]\tvalid_0's auc: 0.743631\tvalid_0's ks: 0.367912                                \n",
      "[100]\tvalid_0's auc: 0.744921\tvalid_0's ks: 0.37024                                \n",
      "[110]\tvalid_0's auc: 0.745653\tvalid_0's ks: 0.3746                                 \n",
      "[120]\tvalid_0's auc: 0.746773\tvalid_0's ks: 0.372195                               \n",
      "[130]\tvalid_0's auc: 0.747708\tvalid_0's ks: 0.37783                                \n",
      "[140]\tvalid_0's auc: 0.748678\tvalid_0's ks: 0.378752                               \n",
      "[150]\tvalid_0's auc: 0.748877\tvalid_0's ks: 0.377633                               \n",
      "Training until validation scores don't improve for 50 rounds                       \n",
      " 64%|██████▍   | 32/50 [01:57<01:01,  3.42s/trial, best loss: -0.40831624888276224]"
     ]
    },
    {
     "name": "stderr",
     "output_type": "stream",
     "text": [
      "D:\\workspace\\misc\\OneDay\\venv\\lib\\site-packages\\lightgbm\\engine.py:177: UserWarning: Found `n_estimators` in params. Will use it instead of argument\n",
      "  _log_warning(f\"Found `{alias}` in params. Will use it instead of argument\")\n",
      "\n"
     ]
    },
    {
     "name": "stdout",
     "output_type": "stream",
     "text": [
      "[10]\tvalid_0's auc: 0.728181\tvalid_0's ks: 0.339702                                \n",
      "[20]\tvalid_0's auc: 0.737273\tvalid_0's ks: 0.343518                                \n",
      "[30]\tvalid_0's auc: 0.742273\tvalid_0's ks: 0.354716                                \n",
      "[40]\tvalid_0's auc: 0.745167\tvalid_0's ks: 0.356889                                \n",
      "[50]\tvalid_0's auc: 0.747752\tvalid_0's ks: 0.358115                                \n",
      "[60]\tvalid_0's auc: 0.750792\tvalid_0's ks: 0.362301                                \n",
      "[70]\tvalid_0's auc: 0.752342\tvalid_0's ks: 0.365951                                \n",
      "[80]\tvalid_0's auc: 0.754874\tvalid_0's ks: 0.371706                                \n",
      "[90]\tvalid_0's auc: 0.754912\tvalid_0's ks: 0.373703                                \n",
      "[100]\tvalid_0's auc: 0.75635\tvalid_0's ks: 0.377932                                \n",
      "[110]\tvalid_0's auc: 0.758078\tvalid_0's ks: 0.382002                               \n",
      "[120]\tvalid_0's auc: 0.759583\tvalid_0's ks: 0.387497                               \n",
      "[130]\tvalid_0's auc: 0.760423\tvalid_0's ks: 0.389255                               \n",
      "[140]\tvalid_0's auc: 0.760932\tvalid_0's ks: 0.388993                               \n",
      "[150]\tvalid_0's auc: 0.761686\tvalid_0's ks: 0.39235                                \n",
      "[160]\tvalid_0's auc: 0.761545\tvalid_0's ks: 0.395072                               \n",
      "[170]\tvalid_0's auc: 0.762358\tvalid_0's ks: 0.395571                               \n",
      "[180]\tvalid_0's auc: 0.762052\tvalid_0's ks: 0.397765                               \n",
      "Training until validation scores don't improve for 50 rounds                       \n",
      " 64%|██████▍   | 32/50 [01:58<01:01,  3.42s/trial, best loss: -0.40831624888276224]"
     ]
    },
    {
     "name": "stderr",
     "output_type": "stream",
     "text": [
      "D:\\workspace\\misc\\OneDay\\venv\\lib\\site-packages\\lightgbm\\engine.py:177: UserWarning: Found `n_estimators` in params. Will use it instead of argument\n",
      "  _log_warning(f\"Found `{alias}` in params. Will use it instead of argument\")\n",
      "\n"
     ]
    },
    {
     "name": "stdout",
     "output_type": "stream",
     "text": [
      "[10]\tvalid_0's auc: 0.715495\tvalid_0's ks: 0.338598                                \n",
      "[20]\tvalid_0's auc: 0.721965\tvalid_0's ks: 0.337728                                \n",
      "[30]\tvalid_0's auc: 0.73006\tvalid_0's ks: 0.353587                                 \n",
      "[40]\tvalid_0's auc: 0.735101\tvalid_0's ks: 0.362732                                \n",
      "[50]\tvalid_0's auc: 0.738458\tvalid_0's ks: 0.370627                                \n",
      "[60]\tvalid_0's auc: 0.742042\tvalid_0's ks: 0.374883                                \n",
      "[70]\tvalid_0's auc: 0.743322\tvalid_0's ks: 0.379315                                \n",
      "[80]\tvalid_0's auc: 0.747361\tvalid_0's ks: 0.386637                                \n",
      "[90]\tvalid_0's auc: 0.74826\tvalid_0's ks: 0.391495                                 \n",
      "[100]\tvalid_0's auc: 0.750229\tvalid_0's ks: 0.394271                               \n",
      "[110]\tvalid_0's auc: 0.751207\tvalid_0's ks: 0.400492                               \n",
      "[120]\tvalid_0's auc: 0.752414\tvalid_0's ks: 0.399951                               \n",
      "[130]\tvalid_0's auc: 0.753184\tvalid_0's ks: 0.401279                               \n",
      "[140]\tvalid_0's auc: 0.754029\tvalid_0's ks: 0.402921                               \n",
      "[150]\tvalid_0's auc: 0.754853\tvalid_0's ks: 0.401165                               \n",
      "[160]\tvalid_0's auc: 0.755847\tvalid_0's ks: 0.401411                               \n",
      "[170]\tvalid_0's auc: 0.756547\tvalid_0's ks: 0.40105                                \n",
      "Training until validation scores don't improve for 50 rounds                       \n",
      " 66%|██████▌   | 33/50 [01:59<01:07,  3.97s/trial, best loss: -0.40831624888276224]"
     ]
    },
    {
     "name": "stderr",
     "output_type": "stream",
     "text": [
      "D:\\workspace\\misc\\OneDay\\venv\\lib\\site-packages\\lightgbm\\engine.py:177: UserWarning: Found `n_estimators` in params. Will use it instead of argument\n",
      "  _log_warning(f\"Found `{alias}` in params. Will use it instead of argument\")\n",
      "\n"
     ]
    },
    {
     "name": "stdout",
     "output_type": "stream",
     "text": [
      "[10]\tvalid_0's auc: 0.7417\tvalid_0's ks: 0.367643                                  \n",
      "[20]\tvalid_0's auc: 0.749637\tvalid_0's ks: 0.380494                                \n",
      "[30]\tvalid_0's auc: 0.761051\tvalid_0's ks: 0.392923                                \n",
      "[40]\tvalid_0's auc: 0.765801\tvalid_0's ks: 0.404978                                \n",
      "[50]\tvalid_0's auc: 0.769855\tvalid_0's ks: 0.408347                                \n",
      "[60]\tvalid_0's auc: 0.771401\tvalid_0's ks: 0.414185                                \n",
      "[70]\tvalid_0's auc: 0.771818\tvalid_0's ks: 0.410684                                \n",
      "[80]\tvalid_0's auc: 0.771897\tvalid_0's ks: 0.421778                                \n",
      "[90]\tvalid_0's auc: 0.773286\tvalid_0's ks: 0.418741                                \n",
      "[100]\tvalid_0's auc: 0.774046\tvalid_0's ks: 0.422192                               \n",
      "Training until validation scores don't improve for 50 rounds                       \n",
      " 66%|██████▌   | 33/50 [02:00<01:07,  3.97s/trial, best loss: -0.40831624888276224]"
     ]
    },
    {
     "name": "stderr",
     "output_type": "stream",
     "text": [
      "D:\\workspace\\misc\\OneDay\\venv\\lib\\site-packages\\lightgbm\\engine.py:177: UserWarning: Found `n_estimators` in params. Will use it instead of argument\n",
      "  _log_warning(f\"Found `{alias}` in params. Will use it instead of argument\")\n",
      "\n"
     ]
    },
    {
     "name": "stdout",
     "output_type": "stream",
     "text": [
      "[10]\tvalid_0's auc: 0.733549\tvalid_0's ks: 0.338025                                \n",
      "[20]\tvalid_0's auc: 0.745178\tvalid_0's ks: 0.359025                                \n",
      "[30]\tvalid_0's auc: 0.748905\tvalid_0's ks: 0.367477                                \n",
      "[40]\tvalid_0's auc: 0.751488\tvalid_0's ks: 0.368297                                \n",
      "[50]\tvalid_0's auc: 0.75562\tvalid_0's ks: 0.377138                                 \n",
      "[60]\tvalid_0's auc: 0.755015\tvalid_0's ks: 0.370813                                \n",
      "[70]\tvalid_0's auc: 0.757128\tvalid_0's ks: 0.373661                                \n",
      "[80]\tvalid_0's auc: 0.757007\tvalid_0's ks: 0.374877                                \n",
      "Training until validation scores don't improve for 50 rounds                       \n",
      " 66%|██████▌   | 33/50 [02:01<01:07,  3.97s/trial, best loss: -0.40831624888276224]"
     ]
    },
    {
     "name": "stderr",
     "output_type": "stream",
     "text": [
      "D:\\workspace\\misc\\OneDay\\venv\\lib\\site-packages\\lightgbm\\engine.py:177: UserWarning: Found `n_estimators` in params. Will use it instead of argument\n",
      "  _log_warning(f\"Found `{alias}` in params. Will use it instead of argument\")\n",
      "\n"
     ]
    },
    {
     "name": "stdout",
     "output_type": "stream",
     "text": [
      "[10]\tvalid_0's auc: 0.753369\tvalid_0's ks: 0.371142                                \n",
      "[20]\tvalid_0's auc: 0.766009\tvalid_0's ks: 0.383614                                \n",
      "[30]\tvalid_0's auc: 0.774124\tvalid_0's ks: 0.399863                                \n",
      "[40]\tvalid_0's auc: 0.776041\tvalid_0's ks: 0.401521                                \n",
      "[50]\tvalid_0's auc: 0.774992\tvalid_0's ks: 0.402677                                \n",
      "[60]\tvalid_0's auc: 0.774322\tvalid_0's ks: 0.39723                                 \n",
      "Training until validation scores don't improve for 50 rounds                       \n",
      " 66%|██████▌   | 33/50 [02:02<01:07,  3.97s/trial, best loss: -0.40831624888276224]"
     ]
    },
    {
     "name": "stderr",
     "output_type": "stream",
     "text": [
      "D:\\workspace\\misc\\OneDay\\venv\\lib\\site-packages\\lightgbm\\engine.py:177: UserWarning: Found `n_estimators` in params. Will use it instead of argument\n",
      "  _log_warning(f\"Found `{alias}` in params. Will use it instead of argument\")\n",
      "\n"
     ]
    },
    {
     "name": "stdout",
     "output_type": "stream",
     "text": [
      "[10]\tvalid_0's auc: 0.721735\tvalid_0's ks: 0.348933                                \n",
      "[20]\tvalid_0's auc: 0.734873\tvalid_0's ks: 0.381283                                \n",
      "[30]\tvalid_0's auc: 0.741538\tvalid_0's ks: 0.377571                                \n",
      " 66%|██████▌   | 33/50 [02:02<01:07,  3.97s/trial, best loss: -0.40831624888276224]"
     ]
    },
    {
     "name": "stderr",
     "output_type": "stream",
     "text": [
      "D:\\workspace\\misc\\OneDay\\venv\\lib\\site-packages\\lightgbm\\engine.py:177: UserWarning: Found `n_estimators` in params. Will use it instead of argument\n",
      "  _log_warning(f\"Found `{alias}` in params. Will use it instead of argument\")\n",
      "\n"
     ]
    },
    {
     "name": "stdout",
     "output_type": "stream",
     "text": [
      "Training until validation scores don't improve for 50 rounds                       \n",
      "[10]\tvalid_0's auc: 0.727826\tvalid_0's ks: 0.332195                                \n",
      "[20]\tvalid_0's auc: 0.742034\tvalid_0's ks: 0.353159                                \n",
      "[30]\tvalid_0's auc: 0.747039\tvalid_0's ks: 0.358105                                \n",
      "[40]\tvalid_0's auc: 0.752322\tvalid_0's ks: 0.369482                                \n",
      "[50]\tvalid_0's auc: 0.755457\tvalid_0's ks: 0.378658                                \n",
      "[60]\tvalid_0's auc: 0.757557\tvalid_0's ks: 0.378625                                \n",
      "[70]\tvalid_0's auc: 0.759461\tvalid_0's ks: 0.37897                                 \n",
      "[80]\tvalid_0's auc: 0.759864\tvalid_0's ks: 0.385503                                \n",
      "[90]\tvalid_0's auc: 0.759352\tvalid_0's ks: 0.388655                                \n",
      "[100]\tvalid_0's auc: 0.75813\tvalid_0's ks: 0.386455                                \n",
      "Training until validation scores don't improve for 50 rounds                       \n",
      " 68%|██████▊   | 34/50 [02:03<01:01,  3.85s/trial, best loss: -0.40831624888276224]"
     ]
    },
    {
     "name": "stderr",
     "output_type": "stream",
     "text": [
      "D:\\workspace\\misc\\OneDay\\venv\\lib\\site-packages\\lightgbm\\engine.py:177: UserWarning: Found `n_estimators` in params. Will use it instead of argument\n",
      "  _log_warning(f\"Found `{alias}` in params. Will use it instead of argument\")\n",
      "\n"
     ]
    },
    {
     "name": "stdout",
     "output_type": "stream",
     "text": [
      "[10]\tvalid_0's auc: 0.741914\tvalid_0's ks: 0.36262                                 \n",
      "[20]\tvalid_0's auc: 0.752327\tvalid_0's ks: 0.39199                                 \n",
      "[30]\tvalid_0's auc: 0.758336\tvalid_0's ks: 0.409458                                \n",
      "[40]\tvalid_0's auc: 0.760441\tvalid_0's ks: 0.410637                                \n",
      "[50]\tvalid_0's auc: 0.763386\tvalid_0's ks: 0.417404                                \n",
      "[60]\tvalid_0's auc: 0.76472\tvalid_0's ks: 0.414848                                 \n",
      " 68%|██████▊   | 34/50 [02:04<01:01,  3.85s/trial, best loss: -0.40831624888276224]"
     ]
    },
    {
     "name": "stderr",
     "output_type": "stream",
     "text": [
      "D:\\workspace\\misc\\OneDay\\venv\\lib\\site-packages\\lightgbm\\engine.py:177: UserWarning: Found `n_estimators` in params. Will use it instead of argument\n",
      "  _log_warning(f\"Found `{alias}` in params. Will use it instead of argument\")\n",
      "\n"
     ]
    },
    {
     "name": "stdout",
     "output_type": "stream",
     "text": [
      "Training until validation scores don't improve for 50 rounds                       \n",
      "[10]\tvalid_0's auc: 0.753999\tvalid_0's ks: 0.391694                                \n",
      "[20]\tvalid_0's auc: 0.767772\tvalid_0's ks: 0.412906                                \n",
      "[30]\tvalid_0's auc: 0.772981\tvalid_0's ks: 0.403032                                \n",
      "[40]\tvalid_0's auc: 0.772484\tvalid_0's ks: 0.400393                                \n",
      "Training until validation scores don't improve for 50 rounds                       \n",
      " 68%|██████▊   | 34/50 [02:05<01:01,  3.85s/trial, best loss: -0.40831624888276224]"
     ]
    },
    {
     "name": "stderr",
     "output_type": "stream",
     "text": [
      "D:\\workspace\\misc\\OneDay\\venv\\lib\\site-packages\\lightgbm\\engine.py:177: UserWarning: Found `n_estimators` in params. Will use it instead of argument\n",
      "  _log_warning(f\"Found `{alias}` in params. Will use it instead of argument\")\n",
      "\n"
     ]
    },
    {
     "name": "stdout",
     "output_type": "stream",
     "text": [
      "[10]\tvalid_0's auc: 0.725828\tvalid_0's ks: 0.347794                                \n",
      "[20]\tvalid_0's auc: 0.729313\tvalid_0's ks: 0.351997                                \n",
      " 68%|██████▊   | 34/50 [02:05<01:01,  3.85s/trial, best loss: -0.40831624888276224]"
     ]
    },
    {
     "name": "stderr",
     "output_type": "stream",
     "text": [
      "D:\\workspace\\misc\\OneDay\\venv\\lib\\site-packages\\lightgbm\\engine.py:177: UserWarning: Found `n_estimators` in params. Will use it instead of argument\n",
      "  _log_warning(f\"Found `{alias}` in params. Will use it instead of argument\")\n",
      "\n"
     ]
    },
    {
     "name": "stdout",
     "output_type": "stream",
     "text": [
      "Training until validation scores don't improve for 50 rounds                       \n",
      "[10]\tvalid_0's auc: 0.73763\tvalid_0's ks: 0.35113                                  \n",
      "[20]\tvalid_0's auc: 0.743441\tvalid_0's ks: 0.35738                                 \n",
      "[30]\tvalid_0's auc: 0.745749\tvalid_0's ks: 0.366002                                \n",
      "[40]\tvalid_0's auc: 0.748516\tvalid_0's ks: 0.369587                                \n",
      "[50]\tvalid_0's auc: 0.750407\tvalid_0's ks: 0.364105                                \n",
      "[60]\tvalid_0's auc: 0.751428\tvalid_0's ks: 0.369347                                \n",
      "[70]\tvalid_0's auc: 0.752268\tvalid_0's ks: 0.373491                                \n",
      "Training until validation scores don't improve for 50 rounds                       \n",
      " 68%|██████▊   | 34/50 [02:06<01:01,  3.85s/trial, best loss: -0.40831624888276224]"
     ]
    },
    {
     "name": "stderr",
     "output_type": "stream",
     "text": [
      "D:\\workspace\\misc\\OneDay\\venv\\lib\\site-packages\\lightgbm\\engine.py:177: UserWarning: Found `n_estimators` in params. Will use it instead of argument\n",
      "  _log_warning(f\"Found `{alias}` in params. Will use it instead of argument\")\n",
      "\n"
     ]
    },
    {
     "name": "stdout",
     "output_type": "stream",
     "text": [
      "[10]\tvalid_0's auc: 0.729842\tvalid_0's ks: 0.343642                                \n",
      "[20]\tvalid_0's auc: 0.735972\tvalid_0's ks: 0.352767                                \n",
      "[30]\tvalid_0's auc: 0.737531\tvalid_0's ks: 0.347647                                \n",
      "[40]\tvalid_0's auc: 0.735194\tvalid_0's ks: 0.34735                                 \n",
      "Training until validation scores don't improve for 50 rounds                       \n",
      " 70%|███████   | 35/50 [02:07<00:56,  3.77s/trial, best loss: -0.40831624888276224]"
     ]
    },
    {
     "name": "stderr",
     "output_type": "stream",
     "text": [
      "D:\\workspace\\misc\\OneDay\\venv\\lib\\site-packages\\lightgbm\\engine.py:177: UserWarning: Found `n_estimators` in params. Will use it instead of argument\n",
      "  _log_warning(f\"Found `{alias}` in params. Will use it instead of argument\")\n",
      "\n"
     ]
    },
    {
     "name": "stdout",
     "output_type": "stream",
     "text": [
      "[10]\tvalid_0's auc: 0.742884\tvalid_0's ks: 0.364448                                \n",
      "[20]\tvalid_0's auc: 0.75143\tvalid_0's ks: 0.385142                                 \n",
      "[30]\tvalid_0's auc: 0.752463\tvalid_0's ks: 0.391315                                \n",
      "[40]\tvalid_0's auc: 0.750273\tvalid_0's ks: 0.388559                                \n",
      "Training until validation scores don't improve for 50 rounds                       \n",
      " 70%|███████   | 35/50 [02:07<00:56,  3.77s/trial, best loss: -0.40831624888276224]"
     ]
    },
    {
     "name": "stderr",
     "output_type": "stream",
     "text": [
      "D:\\workspace\\misc\\OneDay\\venv\\lib\\site-packages\\lightgbm\\engine.py:177: UserWarning: Found `n_estimators` in params. Will use it instead of argument\n",
      "  _log_warning(f\"Found `{alias}` in params. Will use it instead of argument\")\n",
      "\n"
     ]
    },
    {
     "name": "stdout",
     "output_type": "stream",
     "text": [
      "[10]\tvalid_0's auc: 0.737476\tvalid_0's ks: 0.364459                                \n",
      "[20]\tvalid_0's auc: 0.749226\tvalid_0's ks: 0.379194                                \n",
      "[30]\tvalid_0's auc: 0.75042\tvalid_0's ks: 0.388115                                 \n",
      "[40]\tvalid_0's auc: 0.749105\tvalid_0's ks: 0.385814                                \n",
      "Training until validation scores don't improve for 50 rounds                       \n",
      " 70%|███████   | 35/50 [02:08<00:56,  3.77s/trial, best loss: -0.40831624888276224]"
     ]
    },
    {
     "name": "stderr",
     "output_type": "stream",
     "text": [
      "D:\\workspace\\misc\\OneDay\\venv\\lib\\site-packages\\lightgbm\\engine.py:177: UserWarning: Found `n_estimators` in params. Will use it instead of argument\n",
      "  _log_warning(f\"Found `{alias}` in params. Will use it instead of argument\")\n",
      "\n"
     ]
    },
    {
     "name": "stdout",
     "output_type": "stream",
     "text": [
      "[10]\tvalid_0's auc: 0.752085\tvalid_0's ks: 0.39871                                 \n",
      "[20]\tvalid_0's auc: 0.757659\tvalid_0's ks: 0.397346                                \n",
      "[30]\tvalid_0's auc: 0.758183\tvalid_0's ks: 0.39667                                 \n",
      "Training until validation scores don't improve for 50 rounds                       \n",
      " 70%|███████   | 35/50 [02:08<00:56,  3.77s/trial, best loss: -0.40831624888276224]"
     ]
    },
    {
     "name": "stderr",
     "output_type": "stream",
     "text": [
      "D:\\workspace\\misc\\OneDay\\venv\\lib\\site-packages\\lightgbm\\engine.py:177: UserWarning: Found `n_estimators` in params. Will use it instead of argument\n",
      "  _log_warning(f\"Found `{alias}` in params. Will use it instead of argument\")\n",
      "\n"
     ]
    },
    {
     "name": "stdout",
     "output_type": "stream",
     "text": [
      "[10]\tvalid_0's auc: 0.735494\tvalid_0's ks: 0.359681                                \n",
      "[20]\tvalid_0's auc: 0.737283\tvalid_0's ks: 0.359458                                \n",
      "[30]\tvalid_0's auc: 0.736038\tvalid_0's ks: 0.354284                                \n",
      "Training until validation scores don't improve for 50 rounds                       \n",
      " 70%|███████   | 35/50 [02:09<00:56,  3.77s/trial, best loss: -0.40831624888276224]"
     ]
    },
    {
     "name": "stderr",
     "output_type": "stream",
     "text": [
      "D:\\workspace\\misc\\OneDay\\venv\\lib\\site-packages\\lightgbm\\engine.py:177: UserWarning: Found `n_estimators` in params. Will use it instead of argument\n",
      "  _log_warning(f\"Found `{alias}` in params. Will use it instead of argument\")\n",
      "\n"
     ]
    },
    {
     "name": "stdout",
     "output_type": "stream",
     "text": [
      "[10]\tvalid_0's auc: 0.765388\tvalid_0's ks: 0.419766                                \n",
      "[20]\tvalid_0's auc: 0.767928\tvalid_0's ks: 0.418698                                \n",
      "[30]\tvalid_0's auc: 0.770126\tvalid_0's ks: 0.406404                                \n",
      "[40]\tvalid_0's auc: 0.769835\tvalid_0's ks: 0.415398                                \n",
      "[50]\tvalid_0's auc: 0.769166\tvalid_0's ks: 0.406404                                \n",
      "Training until validation scores don't improve for 50 rounds                       \n",
      " 72%|███████▏  | 36/50 [02:10<00:49,  3.55s/trial, best loss: -0.40831624888276224]"
     ]
    },
    {
     "name": "stderr",
     "output_type": "stream",
     "text": [
      "D:\\workspace\\misc\\OneDay\\venv\\lib\\site-packages\\lightgbm\\engine.py:177: UserWarning: Found `n_estimators` in params. Will use it instead of argument\n",
      "  _log_warning(f\"Found `{alias}` in params. Will use it instead of argument\")\n",
      "\n"
     ]
    },
    {
     "name": "stdout",
     "output_type": "stream",
     "text": [
      "[10]\tvalid_0's auc: 0.735589\tvalid_0's ks: 0.354146                                \n",
      "[20]\tvalid_0's auc: 0.745133\tvalid_0's ks: 0.369873                                \n",
      "[30]\tvalid_0's auc: 0.752764\tvalid_0's ks: 0.37788                                 \n",
      "[40]\tvalid_0's auc: 0.753301\tvalid_0's ks: 0.384555                                \n",
      "[50]\tvalid_0's auc: 0.755832\tvalid_0's ks: 0.389492                                \n",
      "[60]\tvalid_0's auc: 0.757043\tvalid_0's ks: 0.395716                                \n",
      "[70]\tvalid_0's auc: 0.757815\tvalid_0's ks: 0.400275                                \n",
      "[80]\tvalid_0's auc: 0.757349\tvalid_0's ks: 0.395174                                \n",
      "[90]\tvalid_0's auc: 0.758433\tvalid_0's ks: 0.400134                                \n",
      "Training until validation scores don't improve for 50 rounds                       \n",
      " 72%|███████▏  | 36/50 [02:10<00:49,  3.55s/trial, best loss: -0.40831624888276224]"
     ]
    },
    {
     "name": "stderr",
     "output_type": "stream",
     "text": [
      "D:\\workspace\\misc\\OneDay\\venv\\lib\\site-packages\\lightgbm\\engine.py:177: UserWarning: Found `n_estimators` in params. Will use it instead of argument\n",
      "  _log_warning(f\"Found `{alias}` in params. Will use it instead of argument\")\n",
      "\n"
     ]
    },
    {
     "name": "stdout",
     "output_type": "stream",
     "text": [
      "[10]\tvalid_0's auc: 0.74005\tvalid_0's ks: 0.358982                                 \n",
      "[20]\tvalid_0's auc: 0.749854\tvalid_0's ks: 0.367728                                \n",
      "[30]\tvalid_0's auc: 0.751867\tvalid_0's ks: 0.365206                                \n",
      "Training until validation scores don't improve for 50 rounds                       \n",
      " 72%|███████▏  | 36/50 [02:11<00:49,  3.55s/trial, best loss: -0.40831624888276224]"
     ]
    },
    {
     "name": "stderr",
     "output_type": "stream",
     "text": [
      "D:\\workspace\\misc\\OneDay\\venv\\lib\\site-packages\\lightgbm\\engine.py:177: UserWarning: Found `n_estimators` in params. Will use it instead of argument\n",
      "  _log_warning(f\"Found `{alias}` in params. Will use it instead of argument\")\n",
      "\n"
     ]
    },
    {
     "name": "stdout",
     "output_type": "stream",
     "text": [
      "[10]\tvalid_0's auc: 0.731928\tvalid_0's ks: 0.371163                                \n",
      "[20]\tvalid_0's auc: 0.745349\tvalid_0's ks: 0.38477                                 \n",
      "[30]\tvalid_0's auc: 0.751859\tvalid_0's ks: 0.390082                                \n",
      "[40]\tvalid_0's auc: 0.755371\tvalid_0's ks: 0.394127                                \n",
      "[50]\tvalid_0's auc: 0.758344\tvalid_0's ks: 0.402471                                \n",
      "[60]\tvalid_0's auc: 0.76123\tvalid_0's ks: 0.411849                                 \n",
      "[70]\tvalid_0's auc: 0.763994\tvalid_0's ks: 0.411954                                \n",
      "[80]\tvalid_0's auc: 0.76403\tvalid_0's ks: 0.407978                                 \n",
      "Training until validation scores don't improve for 50 rounds                       \n",
      " 72%|███████▏  | 36/50 [02:12<00:49,  3.55s/trial, best loss: -0.40831624888276224]"
     ]
    },
    {
     "name": "stderr",
     "output_type": "stream",
     "text": [
      "D:\\workspace\\misc\\OneDay\\venv\\lib\\site-packages\\lightgbm\\engine.py:177: UserWarning: Found `n_estimators` in params. Will use it instead of argument\n",
      "  _log_warning(f\"Found `{alias}` in params. Will use it instead of argument\")\n",
      "\n"
     ]
    },
    {
     "name": "stdout",
     "output_type": "stream",
     "text": [
      "[10]\tvalid_0's auc: 0.734104\tvalid_0's ks: 0.358115                                \n",
      "[20]\tvalid_0's auc: 0.746602\tvalid_0's ks: 0.374657                                \n",
      "[30]\tvalid_0's auc: 0.748909\tvalid_0's ks: 0.376493                                \n",
      "[40]\tvalid_0's auc: 0.751306\tvalid_0's ks: 0.373935                                \n",
      "[50]\tvalid_0's auc: 0.75088\tvalid_0's ks: 0.374955                                 \n",
      "[60]\tvalid_0's auc: 0.752501\tvalid_0's ks: 0.378599                                \n",
      "[70]\tvalid_0's auc: 0.753519\tvalid_0's ks: 0.388735                                \n",
      "[80]\tvalid_0's auc: 0.755821\tvalid_0's ks: 0.392631                                \n",
      "[90]\tvalid_0's auc: 0.756464\tvalid_0's ks: 0.394269                                \n",
      "[100]\tvalid_0's auc: 0.755542\tvalid_0's ks: 0.392631                               \n",
      "Training until validation scores don't improve for 50 rounds                       \n",
      " 72%|███████▏  | 36/50 [02:12<00:49,  3.55s/trial, best loss: -0.40831624888276224]"
     ]
    },
    {
     "name": "stderr",
     "output_type": "stream",
     "text": [
      "D:\\workspace\\misc\\OneDay\\venv\\lib\\site-packages\\lightgbm\\engine.py:177: UserWarning: Found `n_estimators` in params. Will use it instead of argument\n",
      "  _log_warning(f\"Found `{alias}` in params. Will use it instead of argument\")\n",
      "\n"
     ]
    },
    {
     "name": "stdout",
     "output_type": "stream",
     "text": [
      "[10]\tvalid_0's auc: 0.741594\tvalid_0's ks: 0.393562                                \n",
      "[20]\tvalid_0's auc: 0.751643\tvalid_0's ks: 0.409373                                \n",
      "[30]\tvalid_0's auc: 0.7542\tvalid_0's ks: 0.415906                                  \n",
      "[40]\tvalid_0's auc: 0.755759\tvalid_0's ks: 0.418731                                \n",
      "[50]\tvalid_0's auc: 0.757746\tvalid_0's ks: 0.422571                                \n",
      "[60]\tvalid_0's auc: 0.757301\tvalid_0's ks: 0.414658                                \n",
      "[70]\tvalid_0's auc: 0.757451\tvalid_0's ks: 0.415264                                \n",
      "Training until validation scores don't improve for 50 rounds                       \n",
      " 74%|███████▍  | 37/50 [02:13<00:46,  3.54s/trial, best loss: -0.40831624888276224]"
     ]
    },
    {
     "name": "stderr",
     "output_type": "stream",
     "text": [
      "D:\\workspace\\misc\\OneDay\\venv\\lib\\site-packages\\lightgbm\\engine.py:177: UserWarning: Found `n_estimators` in params. Will use it instead of argument\n",
      "  _log_warning(f\"Found `{alias}` in params. Will use it instead of argument\")\n",
      "\n"
     ]
    },
    {
     "name": "stdout",
     "output_type": "stream",
     "text": [
      "[10]\tvalid_0's auc: 0.754091\tvalid_0's ks: 0.407581                                \n",
      "[20]\tvalid_0's auc: 0.764842\tvalid_0's ks: 0.409225                                \n",
      "[30]\tvalid_0's auc: 0.767677\tvalid_0's ks: 0.412909                                \n",
      "[40]\tvalid_0's auc: 0.76913\tvalid_0's ks: 0.418738                                 \n",
      "[50]\tvalid_0's auc: 0.765777\tvalid_0's ks: 0.422593                                \n",
      "Training until validation scores don't improve for 50 rounds                       \n",
      " 74%|███████▍  | 37/50 [02:14<00:46,  3.54s/trial, best loss: -0.40831624888276224]"
     ]
    },
    {
     "name": "stderr",
     "output_type": "stream",
     "text": [
      "D:\\workspace\\misc\\OneDay\\venv\\lib\\site-packages\\lightgbm\\engine.py:177: UserWarning: Found `n_estimators` in params. Will use it instead of argument\n",
      "  _log_warning(f\"Found `{alias}` in params. Will use it instead of argument\")\n",
      "\n"
     ]
    },
    {
     "name": "stdout",
     "output_type": "stream",
     "text": [
      "[10]\tvalid_0's auc: 0.738141\tvalid_0's ks: 0.364032                                \n",
      "[20]\tvalid_0's auc: 0.749434\tvalid_0's ks: 0.366838                                \n",
      "[30]\tvalid_0's auc: 0.753753\tvalid_0's ks: 0.37822                                 \n",
      "[40]\tvalid_0's auc: 0.755941\tvalid_0's ks: 0.377119                                \n",
      "[50]\tvalid_0's auc: 0.756128\tvalid_0's ks: 0.376971                                \n",
      "Training until validation scores don't improve for 50 rounds                       \n",
      " 74%|███████▍  | 37/50 [02:14<00:46,  3.54s/trial, best loss: -0.40831624888276224]"
     ]
    },
    {
     "name": "stderr",
     "output_type": "stream",
     "text": [
      "D:\\workspace\\misc\\OneDay\\venv\\lib\\site-packages\\lightgbm\\engine.py:177: UserWarning: Found `n_estimators` in params. Will use it instead of argument\n",
      "  _log_warning(f\"Found `{alias}` in params. Will use it instead of argument\")\n",
      "\n"
     ]
    },
    {
     "name": "stdout",
     "output_type": "stream",
     "text": [
      "[10]\tvalid_0's auc: 0.7461\tvalid_0's ks: 0.396173                                  \n",
      "[20]\tvalid_0's auc: 0.752916\tvalid_0's ks: 0.401047                                \n",
      "[30]\tvalid_0's auc: 0.754982\tvalid_0's ks: 0.400919                                \n",
      "[40]\tvalid_0's auc: 0.753297\tvalid_0's ks: 0.397291                                \n",
      "Training until validation scores don't improve for 50 rounds                       \n",
      " 74%|███████▍  | 37/50 [02:15<00:46,  3.54s/trial, best loss: -0.40831624888276224]"
     ]
    },
    {
     "name": "stderr",
     "output_type": "stream",
     "text": [
      "D:\\workspace\\misc\\OneDay\\venv\\lib\\site-packages\\lightgbm\\engine.py:177: UserWarning: Found `n_estimators` in params. Will use it instead of argument\n",
      "  _log_warning(f\"Found `{alias}` in params. Will use it instead of argument\")\n",
      "\n"
     ]
    },
    {
     "name": "stdout",
     "output_type": "stream",
     "text": [
      "[10]\tvalid_0's auc: 0.712542\tvalid_0's ks: 0.312328                                \n",
      "[20]\tvalid_0's auc: 0.726745\tvalid_0's ks: 0.346417                                \n",
      "[30]\tvalid_0's auc: 0.72999\tvalid_0's ks: 0.343851                                 \n",
      "[40]\tvalid_0's auc: 0.731506\tvalid_0's ks: 0.350088                                \n",
      "[50]\tvalid_0's auc: 0.734651\tvalid_0's ks: 0.354087                                \n",
      "Training until validation scores don't improve for 50 rounds                       \n",
      " 74%|███████▍  | 37/50 [02:16<00:46,  3.54s/trial, best loss: -0.40831624888276224]"
     ]
    },
    {
     "name": "stderr",
     "output_type": "stream",
     "text": [
      "D:\\workspace\\misc\\OneDay\\venv\\lib\\site-packages\\lightgbm\\engine.py:177: UserWarning: Found `n_estimators` in params. Will use it instead of argument\n",
      "  _log_warning(f\"Found `{alias}` in params. Will use it instead of argument\")\n",
      "\n"
     ]
    },
    {
     "name": "stdout",
     "output_type": "stream",
     "text": [
      "[10]\tvalid_0's auc: 0.73988\tvalid_0's ks: 0.365245                                 \n",
      "[20]\tvalid_0's auc: 0.753412\tvalid_0's ks: 0.381561                                \n",
      "[30]\tvalid_0's auc: 0.754475\tvalid_0's ks: 0.38207                                 \n",
      "[40]\tvalid_0's auc: 0.756712\tvalid_0's ks: 0.380925                                \n",
      "Training until validation scores don't improve for 50 rounds                       \n",
      " 76%|███████▌  | 38/50 [02:16<00:41,  3.45s/trial, best loss: -0.40831624888276224]"
     ]
    },
    {
     "name": "stderr",
     "output_type": "stream",
     "text": [
      "D:\\workspace\\misc\\OneDay\\venv\\lib\\site-packages\\lightgbm\\engine.py:177: UserWarning: Found `n_estimators` in params. Will use it instead of argument\n",
      "  _log_warning(f\"Found `{alias}` in params. Will use it instead of argument\")\n",
      "\n"
     ]
    },
    {
     "name": "stdout",
     "output_type": "stream",
     "text": [
      "[10]\tvalid_0's auc: 0.736385\tvalid_0's ks: 0.354272                                \n",
      "[20]\tvalid_0's auc: 0.746977\tvalid_0's ks: 0.362852                                \n",
      "[30]\tvalid_0's auc: 0.758898\tvalid_0's ks: 0.400614                                \n",
      "[40]\tvalid_0's auc: 0.763567\tvalid_0's ks: 0.404551                                \n",
      "[50]\tvalid_0's auc: 0.769732\tvalid_0's ks: 0.420065                                \n",
      "[60]\tvalid_0's auc: 0.772904\tvalid_0's ks: 0.416117                                \n",
      "[70]\tvalid_0's auc: 0.774013\tvalid_0's ks: 0.426477                                \n",
      "[80]\tvalid_0's auc: 0.77437\tvalid_0's ks: 0.422799                                 \n",
      "[90]\tvalid_0's auc: 0.776251\tvalid_0's ks: 0.423028                                \n",
      "Training until validation scores don't improve for 50 rounds                       \n",
      " 76%|███████▌  | 38/50 [02:17<00:41,  3.45s/trial, best loss: -0.40831624888276224]"
     ]
    },
    {
     "name": "stderr",
     "output_type": "stream",
     "text": [
      "D:\\workspace\\misc\\OneDay\\venv\\lib\\site-packages\\lightgbm\\engine.py:177: UserWarning: Found `n_estimators` in params. Will use it instead of argument\n",
      "  _log_warning(f\"Found `{alias}` in params. Will use it instead of argument\")\n",
      "\n"
     ]
    },
    {
     "name": "stdout",
     "output_type": "stream",
     "text": [
      "[10]\tvalid_0's auc: 0.713814\tvalid_0's ks: 0.338229                                \n",
      "[20]\tvalid_0's auc: 0.72825\tvalid_0's ks: 0.351794                                 \n",
      "[30]\tvalid_0's auc: 0.732497\tvalid_0's ks: 0.356634                                \n",
      "[40]\tvalid_0's auc: 0.736968\tvalid_0's ks: 0.365802                                \n",
      "[50]\tvalid_0's auc: 0.740806\tvalid_0's ks: 0.366241                                \n",
      "[60]\tvalid_0's auc: 0.742709\tvalid_0's ks: 0.371196                                \n",
      "[70]\tvalid_0's auc: 0.746853\tvalid_0's ks: 0.373311                                \n",
      "[80]\tvalid_0's auc: 0.746837\tvalid_0's ks: 0.375469                                \n",
      "[90]\tvalid_0's auc: 0.748319\tvalid_0's ks: 0.379657                                \n",
      "[100]\tvalid_0's auc: 0.748218\tvalid_0's ks: 0.372977                               \n",
      " 76%|███████▌  | 38/50 [02:18<00:41,  3.45s/trial, best loss: -0.40831624888276224]"
     ]
    },
    {
     "name": "stderr",
     "output_type": "stream",
     "text": [
      "D:\\workspace\\misc\\OneDay\\venv\\lib\\site-packages\\lightgbm\\engine.py:177: UserWarning: Found `n_estimators` in params. Will use it instead of argument\n",
      "  _log_warning(f\"Found `{alias}` in params. Will use it instead of argument\")\n",
      "\n"
     ]
    },
    {
     "name": "stdout",
     "output_type": "stream",
     "text": [
      "Training until validation scores don't improve for 50 rounds                       \n",
      "[10]\tvalid_0's auc: 0.728724\tvalid_0's ks: 0.347239                                \n",
      "[20]\tvalid_0's auc: 0.74419\tvalid_0's ks: 0.380144                                 \n",
      "[30]\tvalid_0's auc: 0.753924\tvalid_0's ks: 0.389306                                \n",
      "[40]\tvalid_0's auc: 0.758782\tvalid_0's ks: 0.396941                                \n",
      "[50]\tvalid_0's auc: 0.764707\tvalid_0's ks: 0.403453                                \n",
      "[60]\tvalid_0's auc: 0.766014\tvalid_0's ks: 0.399806                                \n",
      "[70]\tvalid_0's auc: 0.767269\tvalid_0's ks: 0.400854                                \n",
      "Training until validation scores don't improve for 50 rounds                       \n",
      " 76%|███████▌  | 38/50 [02:19<00:41,  3.45s/trial, best loss: -0.40831624888276224]"
     ]
    },
    {
     "name": "stderr",
     "output_type": "stream",
     "text": [
      "D:\\workspace\\misc\\OneDay\\venv\\lib\\site-packages\\lightgbm\\engine.py:177: UserWarning: Found `n_estimators` in params. Will use it instead of argument\n",
      "  _log_warning(f\"Found `{alias}` in params. Will use it instead of argument\")\n",
      "\n"
     ]
    },
    {
     "name": "stdout",
     "output_type": "stream",
     "text": [
      "[10]\tvalid_0's auc: 0.721815\tvalid_0's ks: 0.338761                                \n",
      "[20]\tvalid_0's auc: 0.73345\tvalid_0's ks: 0.375487                                 \n",
      "[30]\tvalid_0's auc: 0.741389\tvalid_0's ks: 0.370466                                \n",
      "[40]\tvalid_0's auc: 0.74745\tvalid_0's ks: 0.373767                                 \n",
      "Training until validation scores don't improve for 50 rounds                       \n",
      " 76%|███████▌  | 38/50 [02:19<00:41,  3.45s/trial, best loss: -0.40831624888276224]"
     ]
    },
    {
     "name": "stderr",
     "output_type": "stream",
     "text": [
      "D:\\workspace\\misc\\OneDay\\venv\\lib\\site-packages\\lightgbm\\engine.py:177: UserWarning: Found `n_estimators` in params. Will use it instead of argument\n",
      "  _log_warning(f\"Found `{alias}` in params. Will use it instead of argument\")\n",
      "\n"
     ]
    },
    {
     "name": "stdout",
     "output_type": "stream",
     "text": [
      "[10]\tvalid_0's auc: 0.714529\tvalid_0's ks: 0.322724                                \n",
      "[20]\tvalid_0's auc: 0.726172\tvalid_0's ks: 0.337814                                \n",
      "[30]\tvalid_0's auc: 0.733973\tvalid_0's ks: 0.352096                                \n",
      "[40]\tvalid_0's auc: 0.739715\tvalid_0's ks: 0.35689                                 \n",
      "[50]\tvalid_0's auc: 0.745368\tvalid_0's ks: 0.360943                                \n",
      "[60]\tvalid_0's auc: 0.750061\tvalid_0's ks: 0.370874                                \n",
      "[70]\tvalid_0's auc: 0.752609\tvalid_0's ks: 0.372484                                \n",
      "[80]\tvalid_0's auc: 0.753902\tvalid_0's ks: 0.370105                                \n",
      "Training until validation scores don't improve for 50 rounds                       \n",
      " 78%|███████▊  | 39/50 [02:20<00:37,  3.44s/trial, best loss: -0.40831624888276224]"
     ]
    },
    {
     "name": "stderr",
     "output_type": "stream",
     "text": [
      "D:\\workspace\\misc\\OneDay\\venv\\lib\\site-packages\\lightgbm\\engine.py:177: UserWarning: Found `n_estimators` in params. Will use it instead of argument\n",
      "  _log_warning(f\"Found `{alias}` in params. Will use it instead of argument\")\n",
      "\n"
     ]
    },
    {
     "name": "stdout",
     "output_type": "stream",
     "text": [
      "[10]\tvalid_0's auc: 0.722034\tvalid_0's ks: 0.331334                                \n",
      "[20]\tvalid_0's auc: 0.734381\tvalid_0's ks: 0.353013                                \n",
      "[30]\tvalid_0's auc: 0.736634\tvalid_0's ks: 0.368986                                \n",
      "[40]\tvalid_0's auc: 0.735722\tvalid_0's ks: 0.359744                                \n",
      "[50]\tvalid_0's auc: 0.732782\tvalid_0's ks: 0.362584                                \n",
      "Training until validation scores don't improve for 50 rounds                       \n",
      " 78%|███████▊  | 39/50 [02:20<00:37,  3.44s/trial, best loss: -0.40831624888276224]"
     ]
    },
    {
     "name": "stderr",
     "output_type": "stream",
     "text": [
      "D:\\workspace\\misc\\OneDay\\venv\\lib\\site-packages\\lightgbm\\engine.py:177: UserWarning: Found `n_estimators` in params. Will use it instead of argument\n",
      "  _log_warning(f\"Found `{alias}` in params. Will use it instead of argument\")\n",
      "\n"
     ]
    },
    {
     "name": "stdout",
     "output_type": "stream",
     "text": [
      "[10]\tvalid_0's auc: 0.736384\tvalid_0's ks: 0.348347                                \n",
      "[20]\tvalid_0's auc: 0.745995\tvalid_0's ks: 0.365694                                \n",
      "[30]\tvalid_0's auc: 0.747759\tvalid_0's ks: 0.370873                                \n",
      "Training until validation scores don't improve for 50 rounds                       \n",
      " 78%|███████▊  | 39/50 [02:21<00:37,  3.44s/trial, best loss: -0.40831624888276224]"
     ]
    },
    {
     "name": "stderr",
     "output_type": "stream",
     "text": [
      "D:\\workspace\\misc\\OneDay\\venv\\lib\\site-packages\\lightgbm\\engine.py:177: UserWarning: Found `n_estimators` in params. Will use it instead of argument\n",
      "  _log_warning(f\"Found `{alias}` in params. Will use it instead of argument\")\n",
      "\n"
     ]
    },
    {
     "name": "stdout",
     "output_type": "stream",
     "text": [
      "[10]\tvalid_0's auc: 0.727945\tvalid_0's ks: 0.350878                                \n",
      "[20]\tvalid_0's auc: 0.739064\tvalid_0's ks: 0.363271                                \n",
      "[30]\tvalid_0's auc: 0.735367\tvalid_0's ks: 0.362803                                \n",
      "                                                                                   \r"
     ]
    },
    {
     "name": "stderr",
     "output_type": "stream",
     "text": [
      "D:\\workspace\\misc\\OneDay\\venv\\lib\\site-packages\\lightgbm\\engine.py:177: UserWarning: Found `n_estimators` in params. Will use it instead of argument\n",
      "  _log_warning(f\"Found `{alias}` in params. Will use it instead of argument\")\n",
      "\n"
     ]
    },
    {
     "name": "stdout",
     "output_type": "stream",
     "text": [
      "Training until validation scores don't improve for 50 rounds\n",
      "[10]\tvalid_0's auc: 0.751204\tvalid_0's ks: 0.378307                                \n",
      "[20]\tvalid_0's auc: 0.761056\tvalid_0's ks: 0.385478                                \n",
      "[30]\tvalid_0's auc: 0.76428\tvalid_0's ks: 0.396146                                 \n",
      "[40]\tvalid_0's auc: 0.765298\tvalid_0's ks: 0.400833                                \n",
      "[50]\tvalid_0's auc: 0.762829\tvalid_0's ks: 0.398538                                \n",
      " 78%|███████▊  | 39/50 [02:22<00:37,  3.44s/trial, best loss: -0.40831624888276224]"
     ]
    },
    {
     "name": "stderr",
     "output_type": "stream",
     "text": [
      "D:\\workspace\\misc\\OneDay\\venv\\lib\\site-packages\\lightgbm\\engine.py:177: UserWarning: Found `n_estimators` in params. Will use it instead of argument\n",
      "  _log_warning(f\"Found `{alias}` in params. Will use it instead of argument\")\n",
      "\n"
     ]
    },
    {
     "name": "stdout",
     "output_type": "stream",
     "text": [
      "Training until validation scores don't improve for 50 rounds                       \n",
      "[10]\tvalid_0's auc: 0.76898\tvalid_0's ks: 0.415744                                 \n",
      "[20]\tvalid_0's auc: 0.769846\tvalid_0's ks: 0.41921                                 \n",
      "[30]\tvalid_0's auc: 0.769945\tvalid_0's ks: 0.413626                                \n",
      "Training until validation scores don't improve for 50 rounds                       \n",
      " 80%|████████  | 40/50 [02:23<00:32,  3.29s/trial, best loss: -0.40831624888276224]"
     ]
    },
    {
     "name": "stderr",
     "output_type": "stream",
     "text": [
      "D:\\workspace\\misc\\OneDay\\venv\\lib\\site-packages\\lightgbm\\engine.py:177: UserWarning: Found `n_estimators` in params. Will use it instead of argument\n",
      "  _log_warning(f\"Found `{alias}` in params. Will use it instead of argument\")\n",
      "\n"
     ]
    },
    {
     "name": "stdout",
     "output_type": "stream",
     "text": [
      "[10]\tvalid_0's auc: 0.752668\tvalid_0's ks: 0.376211                                \n",
      "[20]\tvalid_0's auc: 0.763435\tvalid_0's ks: 0.394608                                \n",
      "[30]\tvalid_0's auc: 0.765097\tvalid_0's ks: 0.396279                                \n",
      "[40]\tvalid_0's auc: 0.763935\tvalid_0's ks: 0.403904                                \n",
      "[50]\tvalid_0's auc: 0.766048\tvalid_0's ks: 0.405626                                \n",
      "[60]\tvalid_0's auc: 0.76784\tvalid_0's ks: 0.405995                                 \n",
      " 80%|████████  | 40/50 [02:23<00:32,  3.29s/trial, best loss: -0.40831624888276224]"
     ]
    },
    {
     "name": "stderr",
     "output_type": "stream",
     "text": [
      "D:\\workspace\\misc\\OneDay\\venv\\lib\\site-packages\\lightgbm\\engine.py:177: UserWarning: Found `n_estimators` in params. Will use it instead of argument\n",
      "  _log_warning(f\"Found `{alias}` in params. Will use it instead of argument\")\n",
      "\n"
     ]
    },
    {
     "name": "stdout",
     "output_type": "stream",
     "text": [
      "Training until validation scores don't improve for 50 rounds                       \n",
      "[10]\tvalid_0's auc: 0.752354\tvalid_0's ks: 0.374422                                \n",
      "[20]\tvalid_0's auc: 0.760209\tvalid_0's ks: 0.377918                                \n",
      "[30]\tvalid_0's auc: 0.76404\tvalid_0's ks: 0.3922                                   \n",
      "Training until validation scores don't improve for 50 rounds                       \n",
      " 80%|████████  | 40/50 [02:24<00:32,  3.29s/trial, best loss: -0.40831624888276224]"
     ]
    },
    {
     "name": "stderr",
     "output_type": "stream",
     "text": [
      "D:\\workspace\\misc\\OneDay\\venv\\lib\\site-packages\\lightgbm\\engine.py:177: UserWarning: Found `n_estimators` in params. Will use it instead of argument\n",
      "  _log_warning(f\"Found `{alias}` in params. Will use it instead of argument\")\n",
      "\n"
     ]
    },
    {
     "name": "stdout",
     "output_type": "stream",
     "text": [
      "[10]\tvalid_0's auc: 0.746605\tvalid_0's ks: 0.371091                                \n",
      "[20]\tvalid_0's auc: 0.759071\tvalid_0's ks: 0.41169                                 \n",
      "[30]\tvalid_0's auc: 0.762256\tvalid_0's ks: 0.416375                                \n",
      "[40]\tvalid_0's auc: 0.762891\tvalid_0's ks: 0.409042                                \n",
      "[50]\tvalid_0's auc: 0.760153\tvalid_0's ks: 0.399162                                \n",
      " 80%|████████  | 40/50 [02:24<00:32,  3.29s/trial, best loss: -0.40831624888276224]"
     ]
    },
    {
     "name": "stderr",
     "output_type": "stream",
     "text": [
      "D:\\workspace\\misc\\OneDay\\venv\\lib\\site-packages\\lightgbm\\engine.py:177: UserWarning: Found `n_estimators` in params. Will use it instead of argument\n",
      "  _log_warning(f\"Found `{alias}` in params. Will use it instead of argument\")\n",
      "\n"
     ]
    },
    {
     "name": "stdout",
     "output_type": "stream",
     "text": [
      "Training until validation scores don't improve for 50 rounds                       \n",
      "[10]\tvalid_0's auc: 0.709863\tvalid_0's ks: 0.308328                                \n",
      "[20]\tvalid_0's auc: 0.720408\tvalid_0's ks: 0.320027                                \n",
      "[30]\tvalid_0's auc: 0.723459\tvalid_0's ks: 0.318412                                \n",
      "[40]\tvalid_0's auc: 0.72511\tvalid_0's ks: 0.324603                                 \n",
      "[50]\tvalid_0's auc: 0.722409\tvalid_0's ks: 0.322062                                \n",
      "Training until validation scores don't improve for 50 rounds                       \n",
      " 80%|████████  | 40/50 [02:25<00:32,  3.29s/trial, best loss: -0.40831624888276224]"
     ]
    },
    {
     "name": "stderr",
     "output_type": "stream",
     "text": [
      "D:\\workspace\\misc\\OneDay\\venv\\lib\\site-packages\\lightgbm\\engine.py:177: UserWarning: Found `n_estimators` in params. Will use it instead of argument\n",
      "  _log_warning(f\"Found `{alias}` in params. Will use it instead of argument\")\n",
      "\n"
     ]
    },
    {
     "name": "stdout",
     "output_type": "stream",
     "text": [
      "[10]\tvalid_0's auc: 0.736049\tvalid_0's ks: 0.345895                                \n",
      "[20]\tvalid_0's auc: 0.74256\tvalid_0's ks: 0.364044                                 \n",
      "[30]\tvalid_0's auc: 0.745553\tvalid_0's ks: 0.380938                                \n",
      "[40]\tvalid_0's auc: 0.745401\tvalid_0's ks: 0.382054                                \n",
      "[50]\tvalid_0's auc: 0.746535\tvalid_0's ks: 0.384862                                \n",
      "[60]\tvalid_0's auc: 0.74435\tvalid_0's ks: 0.376176                                 \n",
      "[70]\tvalid_0's auc: 0.745728\tvalid_0's ks: 0.394007                                \n",
      "Training until validation scores don't improve for 50 rounds                       \n",
      " 82%|████████▏ | 41/50 [02:26<00:29,  3.30s/trial, best loss: -0.40831624888276224]"
     ]
    },
    {
     "name": "stderr",
     "output_type": "stream",
     "text": [
      "D:\\workspace\\misc\\OneDay\\venv\\lib\\site-packages\\lightgbm\\engine.py:177: UserWarning: Found `n_estimators` in params. Will use it instead of argument\n",
      "  _log_warning(f\"Found `{alias}` in params. Will use it instead of argument\")\n",
      "\n"
     ]
    },
    {
     "name": "stdout",
     "output_type": "stream",
     "text": [
      "[10]\tvalid_0's auc: 0.724159\tvalid_0's ks: 0.336247                                \n",
      "[20]\tvalid_0's auc: 0.739542\tvalid_0's ks: 0.366975                                \n",
      "[30]\tvalid_0's auc: 0.743414\tvalid_0's ks: 0.367645                                \n",
      "[40]\tvalid_0's auc: 0.745926\tvalid_0's ks: 0.367303                                \n",
      "[50]\tvalid_0's auc: 0.74828\tvalid_0's ks: 0.377375                                 \n",
      "[60]\tvalid_0's auc: 0.749694\tvalid_0's ks: 0.378478                                \n",
      "[70]\tvalid_0's auc: 0.750115\tvalid_0's ks: 0.376177                                \n",
      "Training until validation scores don't improve for 50 rounds                       \n",
      " 82%|████████▏ | 41/50 [02:27<00:29,  3.30s/trial, best loss: -0.40831624888276224]"
     ]
    },
    {
     "name": "stderr",
     "output_type": "stream",
     "text": [
      "D:\\workspace\\misc\\OneDay\\venv\\lib\\site-packages\\lightgbm\\engine.py:177: UserWarning: Found `n_estimators` in params. Will use it instead of argument\n",
      "  _log_warning(f\"Found `{alias}` in params. Will use it instead of argument\")\n",
      "\n"
     ]
    },
    {
     "name": "stdout",
     "output_type": "stream",
     "text": [
      "[10]\tvalid_0's auc: 0.759567\tvalid_0's ks: 0.390012                                \n",
      "[20]\tvalid_0's auc: 0.766441\tvalid_0's ks: 0.398741                                \n",
      "[30]\tvalid_0's auc: 0.771616\tvalid_0's ks: 0.406751                                \n",
      "[40]\tvalid_0's auc: 0.77421\tvalid_0's ks: 0.409993                                 \n",
      "[50]\tvalid_0's auc: 0.775709\tvalid_0's ks: 0.403617                                \n",
      "[60]\tvalid_0's auc: 0.776314\tvalid_0's ks: 0.409695                                \n",
      "                                                                                   \r"
     ]
    },
    {
     "name": "stderr",
     "output_type": "stream",
     "text": [
      "D:\\workspace\\misc\\OneDay\\venv\\lib\\site-packages\\lightgbm\\engine.py:177: UserWarning: Found `n_estimators` in params. Will use it instead of argument\n",
      "  _log_warning(f\"Found `{alias}` in params. Will use it instead of argument\")\n",
      "\n"
     ]
    },
    {
     "name": "stdout",
     "output_type": "stream",
     "text": [
      "Training until validation scores don't improve for 50 rounds\n",
      "[10]\tvalid_0's auc: 0.709432\tvalid_0's ks: 0.316231                                \n",
      "[20]\tvalid_0's auc: 0.719243\tvalid_0's ks: 0.336118                                \n",
      "[30]\tvalid_0's auc: 0.724083\tvalid_0's ks: 0.346843                                \n",
      "[40]\tvalid_0's auc: 0.723977\tvalid_0's ks: 0.349839                                \n",
      "[50]\tvalid_0's auc: 0.725612\tvalid_0's ks: 0.349629                                \n",
      "[60]\tvalid_0's auc: 0.725178\tvalid_0's ks: 0.353506                                \n",
      "Training until validation scores don't improve for 50 rounds                       \n",
      " 82%|████████▏ | 41/50 [02:29<00:29,  3.30s/trial, best loss: -0.40831624888276224]"
     ]
    },
    {
     "name": "stderr",
     "output_type": "stream",
     "text": [
      "D:\\workspace\\misc\\OneDay\\venv\\lib\\site-packages\\lightgbm\\engine.py:177: UserWarning: Found `n_estimators` in params. Will use it instead of argument\n",
      "  _log_warning(f\"Found `{alias}` in params. Will use it instead of argument\")\n",
      "\n"
     ]
    },
    {
     "name": "stdout",
     "output_type": "stream",
     "text": [
      "[10]\tvalid_0's auc: 0.719786\tvalid_0's ks: 0.332763                                \n",
      "[20]\tvalid_0's auc: 0.731774\tvalid_0's ks: 0.349259                                \n",
      "[30]\tvalid_0's auc: 0.737816\tvalid_0's ks: 0.364638                                \n",
      "[40]\tvalid_0's auc: 0.74006\tvalid_0's ks: 0.357986                                 \n",
      "[50]\tvalid_0's auc: 0.740023\tvalid_0's ks: 0.358725                                \n",
      "Training until validation scores don't improve for 50 rounds                       \n",
      " 82%|████████▏ | 41/50 [02:29<00:29,  3.30s/trial, best loss: -0.40831624888276224]"
     ]
    },
    {
     "name": "stderr",
     "output_type": "stream",
     "text": [
      "D:\\workspace\\misc\\OneDay\\venv\\lib\\site-packages\\lightgbm\\engine.py:177: UserWarning: Found `n_estimators` in params. Will use it instead of argument\n",
      "  _log_warning(f\"Found `{alias}` in params. Will use it instead of argument\")\n",
      "\n"
     ]
    },
    {
     "name": "stdout",
     "output_type": "stream",
     "text": [
      "[10]\tvalid_0's auc: 0.752541\tvalid_0's ks: 0.369134                                \n",
      "[20]\tvalid_0's auc: 0.760823\tvalid_0's ks: 0.372013                                \n",
      "[30]\tvalid_0's auc: 0.761988\tvalid_0's ks: 0.375657                                \n",
      "[40]\tvalid_0's auc: 0.76178\tvalid_0's ks: 0.375413                                 \n",
      "[50]\tvalid_0's auc: 0.763322\tvalid_0's ks: 0.385966                                \n",
      "[60]\tvalid_0's auc: 0.762152\tvalid_0's ks: 0.38446                                 \n",
      "Training until validation scores don't improve for 50 rounds                       \n",
      " 84%|████████▍ | 42/50 [02:30<00:28,  3.60s/trial, best loss: -0.40831624888276224]"
     ]
    },
    {
     "name": "stderr",
     "output_type": "stream",
     "text": [
      "D:\\workspace\\misc\\OneDay\\venv\\lib\\site-packages\\lightgbm\\engine.py:177: UserWarning: Found `n_estimators` in params. Will use it instead of argument\n",
      "  _log_warning(f\"Found `{alias}` in params. Will use it instead of argument\")\n",
      "\n"
     ]
    },
    {
     "name": "stdout",
     "output_type": "stream",
     "text": [
      "[10]\tvalid_0's auc: 0.742697\tvalid_0's ks: 0.367661                                \n",
      "[20]\tvalid_0's auc: 0.7594\tvalid_0's ks: 0.392636                                  \n",
      "[30]\tvalid_0's auc: 0.764878\tvalid_0's ks: 0.401895                                \n",
      "[40]\tvalid_0's auc: 0.767966\tvalid_0's ks: 0.402404                                \n",
      "[50]\tvalid_0's auc: 0.771296\tvalid_0's ks: 0.40209                                 \n",
      "[60]\tvalid_0's auc: 0.773019\tvalid_0's ks: 0.414617                                \n",
      "[70]\tvalid_0's auc: 0.773799\tvalid_0's ks: 0.404415                                \n",
      "Training until validation scores don't improve for 50 rounds                       \n",
      " 84%|████████▍ | 42/50 [02:31<00:28,  3.60s/trial, best loss: -0.40831624888276224]"
     ]
    },
    {
     "name": "stderr",
     "output_type": "stream",
     "text": [
      "D:\\workspace\\misc\\OneDay\\venv\\lib\\site-packages\\lightgbm\\engine.py:177: UserWarning: Found `n_estimators` in params. Will use it instead of argument\n",
      "  _log_warning(f\"Found `{alias}` in params. Will use it instead of argument\")\n",
      "\n"
     ]
    },
    {
     "name": "stdout",
     "output_type": "stream",
     "text": [
      "[10]\tvalid_0's auc: 0.729593\tvalid_0's ks: 0.34399                                 \n",
      "[20]\tvalid_0's auc: 0.745881\tvalid_0's ks: 0.370166                                \n",
      "[30]\tvalid_0's auc: 0.747444\tvalid_0's ks: 0.36593                                 \n",
      "[40]\tvalid_0's auc: 0.753109\tvalid_0's ks: 0.374152                                \n",
      "[50]\tvalid_0's auc: 0.752616\tvalid_0's ks: 0.375717                                \n",
      "Training until validation scores don't improve for 50 rounds                       \n",
      " 84%|████████▍ | 42/50 [02:32<00:28,  3.60s/trial, best loss: -0.40831624888276224]"
     ]
    },
    {
     "name": "stderr",
     "output_type": "stream",
     "text": [
      "D:\\workspace\\misc\\OneDay\\venv\\lib\\site-packages\\lightgbm\\engine.py:177: UserWarning: Found `n_estimators` in params. Will use it instead of argument\n",
      "  _log_warning(f\"Found `{alias}` in params. Will use it instead of argument\")\n",
      "\n"
     ]
    },
    {
     "name": "stdout",
     "output_type": "stream",
     "text": [
      "[10]\tvalid_0's auc: 0.767203\tvalid_0's ks: 0.411118                                \n",
      "[20]\tvalid_0's auc: 0.781727\tvalid_0's ks: 0.440266                                \n",
      "[30]\tvalid_0's auc: 0.78843\tvalid_0's ks: 0.447246                                 \n",
      "Training until validation scores don't improve for 50 rounds                       \n",
      " 84%|████████▍ | 42/50 [02:32<00:28,  3.60s/trial, best loss: -0.40831624888276224]"
     ]
    },
    {
     "name": "stderr",
     "output_type": "stream",
     "text": [
      "D:\\workspace\\misc\\OneDay\\venv\\lib\\site-packages\\lightgbm\\engine.py:177: UserWarning: Found `n_estimators` in params. Will use it instead of argument\n",
      "  _log_warning(f\"Found `{alias}` in params. Will use it instead of argument\")\n",
      "\n"
     ]
    },
    {
     "name": "stdout",
     "output_type": "stream",
     "text": [
      "[10]\tvalid_0's auc: 0.722959\tvalid_0's ks: 0.326999                                \n",
      "[20]\tvalid_0's auc: 0.728509\tvalid_0's ks: 0.340865                                \n",
      "[30]\tvalid_0's auc: 0.7344\tvalid_0's ks: 0.350258                                  \n",
      "[40]\tvalid_0's auc: 0.735965\tvalid_0's ks: 0.350772                                \n",
      "[50]\tvalid_0's auc: 0.736238\tvalid_0's ks: 0.359281                                \n",
      "[60]\tvalid_0's auc: 0.735914\tvalid_0's ks: 0.354309                                \n",
      "Training until validation scores don't improve for 50 rounds                       \n",
      " 84%|████████▍ | 42/50 [02:33<00:28,  3.60s/trial, best loss: -0.40831624888276224]"
     ]
    },
    {
     "name": "stderr",
     "output_type": "stream",
     "text": [
      "D:\\workspace\\misc\\OneDay\\venv\\lib\\site-packages\\lightgbm\\engine.py:177: UserWarning: Found `n_estimators` in params. Will use it instead of argument\n",
      "  _log_warning(f\"Found `{alias}` in params. Will use it instead of argument\")\n",
      "\n"
     ]
    },
    {
     "name": "stdout",
     "output_type": "stream",
     "text": [
      "[10]\tvalid_0's auc: 0.730504\tvalid_0's ks: 0.351096                                \n",
      "[20]\tvalid_0's auc: 0.743843\tvalid_0's ks: 0.371649                                \n",
      "[30]\tvalid_0's auc: 0.750282\tvalid_0's ks: 0.379361                                \n",
      "[40]\tvalid_0's auc: 0.750427\tvalid_0's ks: 0.378245                                \n",
      "[50]\tvalid_0's auc: 0.752233\tvalid_0's ks: 0.375439                                \n",
      "Training until validation scores don't improve for 50 rounds                       \n",
      " 86%|████████▌ | 43/50 [02:33<00:23,  3.40s/trial, best loss: -0.40831624888276224]"
     ]
    },
    {
     "name": "stderr",
     "output_type": "stream",
     "text": [
      "D:\\workspace\\misc\\OneDay\\venv\\lib\\site-packages\\lightgbm\\engine.py:177: UserWarning: Found `n_estimators` in params. Will use it instead of argument\n",
      "  _log_warning(f\"Found `{alias}` in params. Will use it instead of argument\")\n",
      "\n"
     ]
    },
    {
     "name": "stdout",
     "output_type": "stream",
     "text": [
      "[10]\tvalid_0's auc: 0.734131\tvalid_0's ks: 0.35797                                 \n",
      "[20]\tvalid_0's auc: 0.744578\tvalid_0's ks: 0.38125                                 \n",
      "[30]\tvalid_0's auc: 0.746444\tvalid_0's ks: 0.371663                                \n",
      "[40]\tvalid_0's auc: 0.748437\tvalid_0's ks: 0.371898                                \n",
      "                                                                                   \r"
     ]
    },
    {
     "name": "stderr",
     "output_type": "stream",
     "text": [
      "D:\\workspace\\misc\\OneDay\\venv\\lib\\site-packages\\lightgbm\\engine.py:177: UserWarning: Found `n_estimators` in params. Will use it instead of argument\n",
      "  _log_warning(f\"Found `{alias}` in params. Will use it instead of argument\")\n",
      "\n"
     ]
    },
    {
     "name": "stdout",
     "output_type": "stream",
     "text": [
      "Training until validation scores don't improve for 50 rounds\n",
      "[10]\tvalid_0's auc: 0.746587\tvalid_0's ks: 0.385787                                \n",
      "[20]\tvalid_0's auc: 0.754977\tvalid_0's ks: 0.400417                                \n",
      "[30]\tvalid_0's auc: 0.75725\tvalid_0's ks: 0.393783                                 \n",
      "[40]\tvalid_0's auc: 0.756466\tvalid_0's ks: 0.408097                                \n",
      "Training until validation scores don't improve for 50 rounds                       \n",
      " 86%|████████▌ | 43/50 [02:35<00:23,  3.40s/trial, best loss: -0.40831624888276224]"
     ]
    },
    {
     "name": "stderr",
     "output_type": "stream",
     "text": [
      "D:\\workspace\\misc\\OneDay\\venv\\lib\\site-packages\\lightgbm\\engine.py:177: UserWarning: Found `n_estimators` in params. Will use it instead of argument\n",
      "  _log_warning(f\"Found `{alias}` in params. Will use it instead of argument\")\n",
      "\n"
     ]
    },
    {
     "name": "stdout",
     "output_type": "stream",
     "text": [
      "[10]\tvalid_0's auc: 0.70993\tvalid_0's ks: 0.321291                                 \n",
      "[20]\tvalid_0's auc: 0.726304\tvalid_0's ks: 0.339558                                \n",
      "[30]\tvalid_0's auc: 0.733708\tvalid_0's ks: 0.349109                                \n",
      "[40]\tvalid_0's auc: 0.735887\tvalid_0's ks: 0.356991                                \n",
      "[50]\tvalid_0's auc: 0.736503\tvalid_0's ks: 0.356896                                \n",
      "[60]\tvalid_0's auc: 0.734132\tvalid_0's ks: 0.352258                                \n",
      "[70]\tvalid_0's auc: 0.735187\tvalid_0's ks: 0.352212                                \n",
      "Training until validation scores don't improve for 50 rounds                       \n",
      " 86%|████████▌ | 43/50 [02:35<00:23,  3.40s/trial, best loss: -0.40831624888276224]"
     ]
    },
    {
     "name": "stderr",
     "output_type": "stream",
     "text": [
      "D:\\workspace\\misc\\OneDay\\venv\\lib\\site-packages\\lightgbm\\engine.py:177: UserWarning: Found `n_estimators` in params. Will use it instead of argument\n",
      "  _log_warning(f\"Found `{alias}` in params. Will use it instead of argument\")\n",
      "\n"
     ]
    },
    {
     "name": "stdout",
     "output_type": "stream",
     "text": [
      "[10]\tvalid_0's auc: 0.732408\tvalid_0's ks: 0.355887                                \n",
      "[20]\tvalid_0's auc: 0.736491\tvalid_0's ks: 0.349498                                \n",
      "[30]\tvalid_0's auc: 0.736665\tvalid_0's ks: 0.361654                                \n",
      "[40]\tvalid_0's auc: 0.738573\tvalid_0's ks: 0.363958                                \n",
      "[50]\tvalid_0's auc: 0.738743\tvalid_0's ks: 0.363423                                \n",
      "[60]\tvalid_0's auc: 0.736198\tvalid_0's ks: 0.361945                                \n",
      "Training until validation scores don't improve for 50 rounds                       \n",
      " 86%|████████▌ | 43/50 [02:36<00:23,  3.40s/trial, best loss: -0.40831624888276224]"
     ]
    },
    {
     "name": "stderr",
     "output_type": "stream",
     "text": [
      "D:\\workspace\\misc\\OneDay\\venv\\lib\\site-packages\\lightgbm\\engine.py:177: UserWarning: Found `n_estimators` in params. Will use it instead of argument\n",
      "  _log_warning(f\"Found `{alias}` in params. Will use it instead of argument\")\n",
      "\n"
     ]
    },
    {
     "name": "stdout",
     "output_type": "stream",
     "text": [
      "[10]\tvalid_0's auc: 0.736823\tvalid_0's ks: 0.359563                                \n",
      "[20]\tvalid_0's auc: 0.744822\tvalid_0's ks: 0.369807                                \n",
      "[30]\tvalid_0's auc: 0.753079\tvalid_0's ks: 0.390084                                \n",
      "[40]\tvalid_0's auc: 0.750045\tvalid_0's ks: 0.392039                                \n",
      "[50]\tvalid_0's auc: 0.750362\tvalid_0's ks: 0.376901                                \n",
      "Training until validation scores don't improve for 50 rounds                       \n",
      " 88%|████████▊ | 44/50 [02:37<00:21,  3.51s/trial, best loss: -0.40831624888276224]"
     ]
    },
    {
     "name": "stderr",
     "output_type": "stream",
     "text": [
      "D:\\workspace\\misc\\OneDay\\venv\\lib\\site-packages\\lightgbm\\engine.py:177: UserWarning: Found `n_estimators` in params. Will use it instead of argument\n",
      "  _log_warning(f\"Found `{alias}` in params. Will use it instead of argument\")\n",
      "\n"
     ]
    },
    {
     "name": "stdout",
     "output_type": "stream",
     "text": [
      "[10]\tvalid_0's auc: 0.726654\tvalid_0's ks: 0.339067                                \n",
      "[20]\tvalid_0's auc: 0.739084\tvalid_0's ks: 0.356961                                \n",
      "[30]\tvalid_0's auc: 0.745339\tvalid_0's ks: 0.365171                                \n",
      "[40]\tvalid_0's auc: 0.746965\tvalid_0's ks: 0.362252                                \n",
      "Training until validation scores don't improve for 50 rounds                       \n",
      " 88%|████████▊ | 44/50 [02:37<00:21,  3.51s/trial, best loss: -0.40831624888276224]"
     ]
    },
    {
     "name": "stderr",
     "output_type": "stream",
     "text": [
      "D:\\workspace\\misc\\OneDay\\venv\\lib\\site-packages\\lightgbm\\engine.py:177: UserWarning: Found `n_estimators` in params. Will use it instead of argument\n",
      "  _log_warning(f\"Found `{alias}` in params. Will use it instead of argument\")\n",
      "\n"
     ]
    },
    {
     "name": "stdout",
     "output_type": "stream",
     "text": [
      "[10]\tvalid_0's auc: 0.710322\tvalid_0's ks: 0.333314                                \n",
      "[20]\tvalid_0's auc: 0.721623\tvalid_0's ks: 0.347265                                \n",
      "[30]\tvalid_0's auc: 0.729285\tvalid_0's ks: 0.356481                                \n",
      "[40]\tvalid_0's auc: 0.734662\tvalid_0's ks: 0.366387                                \n",
      "[50]\tvalid_0's auc: 0.737816\tvalid_0's ks: 0.372204                                \n",
      "[60]\tvalid_0's auc: 0.741599\tvalid_0's ks: 0.3669                                  \n",
      "[70]\tvalid_0's auc: 0.744062\tvalid_0's ks: 0.367569                                \n",
      "Training until validation scores don't improve for 50 rounds                       \n",
      " 88%|████████▊ | 44/50 [02:38<00:21,  3.51s/trial, best loss: -0.40831624888276224]"
     ]
    },
    {
     "name": "stderr",
     "output_type": "stream",
     "text": [
      "D:\\workspace\\misc\\OneDay\\venv\\lib\\site-packages\\lightgbm\\engine.py:177: UserWarning: Found `n_estimators` in params. Will use it instead of argument\n",
      "  _log_warning(f\"Found `{alias}` in params. Will use it instead of argument\")\n",
      "\n"
     ]
    },
    {
     "name": "stdout",
     "output_type": "stream",
     "text": [
      "[10]\tvalid_0's auc: 0.732392\tvalid_0's ks: 0.343856                                \n",
      "[20]\tvalid_0's auc: 0.740998\tvalid_0's ks: 0.343396                                \n",
      "[30]\tvalid_0's auc: 0.747247\tvalid_0's ks: 0.358438                                \n",
      "[40]\tvalid_0's auc: 0.749282\tvalid_0's ks: 0.369618                                \n",
      "[50]\tvalid_0's auc: 0.751045\tvalid_0's ks: 0.376644                                \n",
      "[60]\tvalid_0's auc: 0.753971\tvalid_0's ks: 0.38475                                 \n",
      "[70]\tvalid_0's auc: 0.755555\tvalid_0's ks: 0.383775                                \n",
      "[80]\tvalid_0's auc: 0.755777\tvalid_0's ks: 0.383127                                \n",
      "Training until validation scores don't improve for 50 rounds                       \n",
      " 88%|████████▊ | 44/50 [02:39<00:21,  3.51s/trial, best loss: -0.40831624888276224]"
     ]
    },
    {
     "name": "stderr",
     "output_type": "stream",
     "text": [
      "D:\\workspace\\misc\\OneDay\\venv\\lib\\site-packages\\lightgbm\\engine.py:177: UserWarning: Found `n_estimators` in params. Will use it instead of argument\n",
      "  _log_warning(f\"Found `{alias}` in params. Will use it instead of argument\")\n",
      "\n"
     ]
    },
    {
     "name": "stdout",
     "output_type": "stream",
     "text": [
      "[10]\tvalid_0's auc: 0.735086\tvalid_0's ks: 0.372237                                \n",
      "[20]\tvalid_0's auc: 0.74343\tvalid_0's ks: 0.389041                                 \n",
      "[30]\tvalid_0's auc: 0.751642\tvalid_0's ks: 0.400535                                \n",
      "[40]\tvalid_0's auc: 0.754748\tvalid_0's ks: 0.403672                                \n",
      "[50]\tvalid_0's auc: 0.758518\tvalid_0's ks: 0.403558                                \n",
      "[60]\tvalid_0's auc: 0.760471\tvalid_0's ks: 0.409695                                \n",
      "[70]\tvalid_0's auc: 0.761311\tvalid_0's ks: 0.400329                                \n",
      "[80]\tvalid_0's auc: 0.762115\tvalid_0's ks: 0.399726                                \n",
      "Training until validation scores don't improve for 50 rounds                       \n",
      " 88%|████████▊ | 44/50 [02:39<00:21,  3.51s/trial, best loss: -0.40831624888276224]"
     ]
    },
    {
     "name": "stderr",
     "output_type": "stream",
     "text": [
      "D:\\workspace\\misc\\OneDay\\venv\\lib\\site-packages\\lightgbm\\engine.py:177: UserWarning: Found `n_estimators` in params. Will use it instead of argument\n",
      "  _log_warning(f\"Found `{alias}` in params. Will use it instead of argument\")\n",
      "\n"
     ]
    },
    {
     "name": "stdout",
     "output_type": "stream",
     "text": [
      "[10]\tvalid_0's auc: 0.728808\tvalid_0's ks: 0.353086                                \n",
      "[20]\tvalid_0's auc: 0.741758\tvalid_0's ks: 0.370353                                \n",
      "[30]\tvalid_0's auc: 0.748083\tvalid_0's ks: 0.372011                                \n",
      "[40]\tvalid_0's auc: 0.752324\tvalid_0's ks: 0.377196                                \n",
      "[50]\tvalid_0's auc: 0.756817\tvalid_0's ks: 0.384704                                \n",
      "[60]\tvalid_0's auc: 0.759151\tvalid_0's ks: 0.39457                                 \n",
      "[70]\tvalid_0's auc: 0.761753\tvalid_0's ks: 0.398444                                \n",
      "[80]\tvalid_0's auc: 0.764447\tvalid_0's ks: 0.404141                                \n",
      "[90]\tvalid_0's auc: 0.765591\tvalid_0's ks: 0.403451                                \n",
      "[100]\tvalid_0's auc: 0.767032\tvalid_0's ks: 0.403481                               \n",
      "[110]\tvalid_0's auc: 0.767131\tvalid_0's ks: 0.411032                               \n",
      "[120]\tvalid_0's auc: 0.767547\tvalid_0's ks: 0.407139                               \n",
      "[130]\tvalid_0's auc: 0.769156\tvalid_0's ks: 0.413183                               \n",
      "[140]\tvalid_0's auc: 0.768935\tvalid_0's ks: 0.411982                               \n",
      "[150]\tvalid_0's auc: 0.769579\tvalid_0's ks: 0.41658                                \n",
      "[160]\tvalid_0's auc: 0.769567\tvalid_0's ks: 0.414413                               \n",
      "[170]\tvalid_0's auc: 0.770384\tvalid_0's ks: 0.418388                               \n",
      "[180]\tvalid_0's auc: 0.769953\tvalid_0's ks: 0.417403                               \n",
      "[190]\tvalid_0's auc: 0.771111\tvalid_0's ks: 0.422557                               \n",
      "[200]\tvalid_0's auc: 0.771308\tvalid_0's ks: 0.418209                               \n",
      "[210]\tvalid_0's auc: 0.770925\tvalid_0's ks: 0.414578                               \n",
      "Training until validation scores don't improve for 50 rounds                       \n",
      " 90%|█████████ | 45/50 [02:41<00:17,  3.59s/trial, best loss: -0.40831624888276224]"
     ]
    },
    {
     "name": "stderr",
     "output_type": "stream",
     "text": [
      "D:\\workspace\\misc\\OneDay\\venv\\lib\\site-packages\\lightgbm\\engine.py:177: UserWarning: Found `n_estimators` in params. Will use it instead of argument\n",
      "  _log_warning(f\"Found `{alias}` in params. Will use it instead of argument\")\n",
      "\n"
     ]
    },
    {
     "name": "stdout",
     "output_type": "stream",
     "text": [
      "[10]\tvalid_0's auc: 0.722033\tvalid_0's ks: 0.342542                                \n",
      "[20]\tvalid_0's auc: 0.735683\tvalid_0's ks: 0.360972                                \n",
      "[30]\tvalid_0's auc: 0.735577\tvalid_0's ks: 0.370003                                \n",
      "[40]\tvalid_0's auc: 0.733941\tvalid_0's ks: 0.369403                                \n",
      " 90%|█████████ | 45/50 [02:41<00:17,  3.59s/trial, best loss: -0.40831624888276224]"
     ]
    },
    {
     "name": "stderr",
     "output_type": "stream",
     "text": [
      "D:\\workspace\\misc\\OneDay\\venv\\lib\\site-packages\\lightgbm\\engine.py:177: UserWarning: Found `n_estimators` in params. Will use it instead of argument\n",
      "  _log_warning(f\"Found `{alias}` in params. Will use it instead of argument\")\n",
      "\n"
     ]
    },
    {
     "name": "stdout",
     "output_type": "stream",
     "text": [
      "Training until validation scores don't improve for 50 rounds                       \n",
      "[10]\tvalid_0's auc: 0.739272\tvalid_0's ks: 0.370897                                \n",
      "[20]\tvalid_0's auc: 0.740441\tvalid_0's ks: 0.365321                                \n",
      "[30]\tvalid_0's auc: 0.74515\tvalid_0's ks: 0.37432                                  \n",
      "Training until validation scores don't improve for 50 rounds                       \n",
      " 90%|█████████ | 45/50 [02:42<00:17,  3.59s/trial, best loss: -0.40831624888276224]"
     ]
    },
    {
     "name": "stderr",
     "output_type": "stream",
     "text": [
      "D:\\workspace\\misc\\OneDay\\venv\\lib\\site-packages\\lightgbm\\engine.py:177: UserWarning: Found `n_estimators` in params. Will use it instead of argument\n",
      "  _log_warning(f\"Found `{alias}` in params. Will use it instead of argument\")\n",
      "\n"
     ]
    },
    {
     "name": "stdout",
     "output_type": "stream",
     "text": [
      "[10]\tvalid_0's auc: 0.734486\tvalid_0's ks: 0.359606                                \n",
      "[20]\tvalid_0's auc: 0.749667\tvalid_0's ks: 0.391625                                \n",
      "[30]\tvalid_0's auc: 0.750544\tvalid_0's ks: 0.390756                                \n",
      "[40]\tvalid_0's auc: 0.752705\tvalid_0's ks: 0.397405                                \n",
      "[50]\tvalid_0's auc: 0.752468\tvalid_0's ks: 0.395618                                \n",
      "[60]\tvalid_0's auc: 0.750116\tvalid_0's ks: 0.392386                                \n",
      " 90%|█████████ | 45/50 [02:42<00:17,  3.59s/trial, best loss: -0.40831624888276224]"
     ]
    },
    {
     "name": "stderr",
     "output_type": "stream",
     "text": [
      "D:\\workspace\\misc\\OneDay\\venv\\lib\\site-packages\\lightgbm\\engine.py:177: UserWarning: Found `n_estimators` in params. Will use it instead of argument\n",
      "  _log_warning(f\"Found `{alias}` in params. Will use it instead of argument\")\n",
      "\n"
     ]
    },
    {
     "name": "stdout",
     "output_type": "stream",
     "text": [
      "Training until validation scores don't improve for 50 rounds                       \n",
      "[10]\tvalid_0's auc: 0.750797\tvalid_0's ks: 0.380716                                \n",
      "[20]\tvalid_0's auc: 0.756656\tvalid_0's ks: 0.389164                                \n",
      "[30]\tvalid_0's auc: 0.754241\tvalid_0's ks: 0.383025                                \n",
      "Training until validation scores don't improve for 50 rounds                       \n",
      " 90%|█████████ | 45/50 [02:43<00:17,  3.59s/trial, best loss: -0.40831624888276224]"
     ]
    },
    {
     "name": "stderr",
     "output_type": "stream",
     "text": [
      "D:\\workspace\\misc\\OneDay\\venv\\lib\\site-packages\\lightgbm\\engine.py:177: UserWarning: Found `n_estimators` in params. Will use it instead of argument\n",
      "  _log_warning(f\"Found `{alias}` in params. Will use it instead of argument\")\n",
      "\n"
     ]
    },
    {
     "name": "stdout",
     "output_type": "stream",
     "text": [
      "[10]\tvalid_0's auc: 0.734802\tvalid_0's ks: 0.360926                                \n",
      "[20]\tvalid_0's auc: 0.749599\tvalid_0's ks: 0.388246                                \n",
      "[30]\tvalid_0's auc: 0.747154\tvalid_0's ks: 0.370022                                \n",
      "Training until validation scores don't improve for 50 rounds                       \n",
      " 92%|█████████▏| 46/50 [02:44<00:13,  3.34s/trial, best loss: -0.40831624888276224]"
     ]
    },
    {
     "name": "stderr",
     "output_type": "stream",
     "text": [
      "D:\\workspace\\misc\\OneDay\\venv\\lib\\site-packages\\lightgbm\\engine.py:177: UserWarning: Found `n_estimators` in params. Will use it instead of argument\n",
      "  _log_warning(f\"Found `{alias}` in params. Will use it instead of argument\")\n",
      "\n"
     ]
    },
    {
     "name": "stdout",
     "output_type": "stream",
     "text": [
      "[10]\tvalid_0's auc: 0.740261\tvalid_0's ks: 0.365207                                \n",
      "[20]\tvalid_0's auc: 0.755951\tvalid_0's ks: 0.381869                                \n",
      "[30]\tvalid_0's auc: 0.763075\tvalid_0's ks: 0.394939                                \n",
      "[40]\tvalid_0's auc: 0.765395\tvalid_0's ks: 0.400596                                \n",
      "[50]\tvalid_0's auc: 0.766264\tvalid_0's ks: 0.402073                                \n",
      "[60]\tvalid_0's auc: 0.768089\tvalid_0's ks: 0.406602                                \n",
      "[70]\tvalid_0's auc: 0.76912\tvalid_0's ks: 0.405681                                 \n",
      "[80]\tvalid_0's auc: 0.767392\tvalid_0's ks: 0.40138                                 \n",
      "Training until validation scores don't improve for 50 rounds                       \n",
      " 92%|█████████▏| 46/50 [02:44<00:13,  3.34s/trial, best loss: -0.40831624888276224]"
     ]
    },
    {
     "name": "stderr",
     "output_type": "stream",
     "text": [
      "D:\\workspace\\misc\\OneDay\\venv\\lib\\site-packages\\lightgbm\\engine.py:177: UserWarning: Found `n_estimators` in params. Will use it instead of argument\n",
      "  _log_warning(f\"Found `{alias}` in params. Will use it instead of argument\")\n",
      "\n"
     ]
    },
    {
     "name": "stdout",
     "output_type": "stream",
     "text": [
      "[10]\tvalid_0's auc: 0.731819\tvalid_0's ks: 0.348377                                \n",
      "[20]\tvalid_0's auc: 0.743269\tvalid_0's ks: 0.364977                                \n",
      "[30]\tvalid_0's auc: 0.748743\tvalid_0's ks: 0.374555                                \n",
      "[40]\tvalid_0's auc: 0.750939\tvalid_0's ks: 0.376776                                \n",
      "[50]\tvalid_0's auc: 0.751879\tvalid_0's ks: 0.38547                                 \n",
      "[60]\tvalid_0's auc: 0.75341\tvalid_0's ks: 0.388545                                 \n",
      "[70]\tvalid_0's auc: 0.752991\tvalid_0's ks: 0.386742                                \n",
      "[80]\tvalid_0's auc: 0.753819\tvalid_0's ks: 0.39238                                 \n",
      "[90]\tvalid_0's auc: 0.752172\tvalid_0's ks: 0.3935                                  \n",
      "[100]\tvalid_0's auc: 0.753035\tvalid_0's ks: 0.389658                               \n",
      "Training until validation scores don't improve for 50 rounds                       \n",
      " 92%|█████████▏| 46/50 [02:45<00:13,  3.34s/trial, best loss: -0.40831624888276224]"
     ]
    },
    {
     "name": "stderr",
     "output_type": "stream",
     "text": [
      "D:\\workspace\\misc\\OneDay\\venv\\lib\\site-packages\\lightgbm\\engine.py:177: UserWarning: Found `n_estimators` in params. Will use it instead of argument\n",
      "  _log_warning(f\"Found `{alias}` in params. Will use it instead of argument\")\n",
      "\n"
     ]
    },
    {
     "name": "stdout",
     "output_type": "stream",
     "text": [
      "[10]\tvalid_0's auc: 0.737986\tvalid_0's ks: 0.360592                                \n",
      "[20]\tvalid_0's auc: 0.750686\tvalid_0's ks: 0.385707                                \n",
      "[30]\tvalid_0's auc: 0.760357\tvalid_0's ks: 0.407535                                \n",
      "[40]\tvalid_0's auc: 0.76285\tvalid_0's ks: 0.408166                                 \n",
      "[50]\tvalid_0's auc: 0.762836\tvalid_0's ks: 0.403387                                \n",
      "[60]\tvalid_0's auc: 0.762993\tvalid_0's ks: 0.40103                                 \n",
      "Training until validation scores don't improve for 50 rounds                       \n",
      " 92%|█████████▏| 46/50 [02:46<00:13,  3.34s/trial, best loss: -0.40831624888276224]"
     ]
    },
    {
     "name": "stderr",
     "output_type": "stream",
     "text": [
      "D:\\workspace\\misc\\OneDay\\venv\\lib\\site-packages\\lightgbm\\engine.py:177: UserWarning: Found `n_estimators` in params. Will use it instead of argument\n",
      "  _log_warning(f\"Found `{alias}` in params. Will use it instead of argument\")\n",
      "\n"
     ]
    },
    {
     "name": "stdout",
     "output_type": "stream",
     "text": [
      "[10]\tvalid_0's auc: 0.729977\tvalid_0's ks: 0.346556                                \n",
      "[20]\tvalid_0's auc: 0.746186\tvalid_0's ks: 0.361524                                \n",
      "[30]\tvalid_0's auc: 0.755619\tvalid_0's ks: 0.376812                                \n",
      "[40]\tvalid_0's auc: 0.759936\tvalid_0's ks: 0.391341                                \n",
      "[50]\tvalid_0's auc: 0.762839\tvalid_0's ks: 0.394063                                \n",
      "[60]\tvalid_0's auc: 0.762997\tvalid_0's ks: 0.396387                                \n",
      "[70]\tvalid_0's auc: 0.763226\tvalid_0's ks: 0.401652                                \n",
      "[80]\tvalid_0's auc: 0.764044\tvalid_0's ks: 0.403944                                \n",
      "[90]\tvalid_0's auc: 0.764463\tvalid_0's ks: 0.404893                                \n",
      "[100]\tvalid_0's auc: 0.766314\tvalid_0's ks: 0.401884                               \n",
      "Training until validation scores don't improve for 50 rounds                       \n",
      " 92%|█████████▏| 46/50 [02:47<00:13,  3.34s/trial, best loss: -0.40831624888276224]"
     ]
    },
    {
     "name": "stderr",
     "output_type": "stream",
     "text": [
      "D:\\workspace\\misc\\OneDay\\venv\\lib\\site-packages\\lightgbm\\engine.py:177: UserWarning: Found `n_estimators` in params. Will use it instead of argument\n",
      "  _log_warning(f\"Found `{alias}` in params. Will use it instead of argument\")\n",
      "\n"
     ]
    },
    {
     "name": "stdout",
     "output_type": "stream",
     "text": [
      "[10]\tvalid_0's auc: 0.731419\tvalid_0's ks: 0.34755                                 \n",
      "[20]\tvalid_0's auc: 0.73988\tvalid_0's ks: 0.364035                                 \n",
      "[30]\tvalid_0's auc: 0.741607\tvalid_0's ks: 0.359978                                \n",
      "[40]\tvalid_0's auc: 0.74305\tvalid_0's ks: 0.370416                                 \n",
      "[50]\tvalid_0's auc: 0.744463\tvalid_0's ks: 0.368596                                \n",
      "[60]\tvalid_0's auc: 0.744156\tvalid_0's ks: 0.365866                                \n",
      "Training until validation scores don't improve for 50 rounds                       \n",
      " 94%|█████████▍| 47/50 [02:48<00:10,  3.59s/trial, best loss: -0.40831624888276224]"
     ]
    },
    {
     "name": "stderr",
     "output_type": "stream",
     "text": [
      "D:\\workspace\\misc\\OneDay\\venv\\lib\\site-packages\\lightgbm\\engine.py:177: UserWarning: Found `n_estimators` in params. Will use it instead of argument\n",
      "  _log_warning(f\"Found `{alias}` in params. Will use it instead of argument\")\n",
      "\n"
     ]
    },
    {
     "name": "stdout",
     "output_type": "stream",
     "text": [
      "[10]\tvalid_0's auc: 0.729325\tvalid_0's ks: 0.346898                                \n",
      "[20]\tvalid_0's auc: 0.739845\tvalid_0's ks: 0.361135                                \n",
      "[30]\tvalid_0's auc: 0.744942\tvalid_0's ks: 0.366701                                \n",
      "[40]\tvalid_0's auc: 0.750015\tvalid_0's ks: 0.374432                                \n",
      "[50]\tvalid_0's auc: 0.753567\tvalid_0's ks: 0.38291                                 \n",
      "[60]\tvalid_0's auc: 0.754404\tvalid_0's ks: 0.387144                                \n",
      "[70]\tvalid_0's auc: 0.755626\tvalid_0's ks: 0.385448                                \n",
      "[80]\tvalid_0's auc: 0.75778\tvalid_0's ks: 0.400765                                 \n",
      "[90]\tvalid_0's auc: 0.759054\tvalid_0's ks: 0.40008                                 \n",
      "[100]\tvalid_0's auc: 0.759382\tvalid_0's ks: 0.399652                               \n",
      "Training until validation scores don't improve for 50 rounds                       \n",
      " 94%|█████████▍| 47/50 [02:49<00:10,  3.59s/trial, best loss: -0.40831624888276224]"
     ]
    },
    {
     "name": "stderr",
     "output_type": "stream",
     "text": [
      "D:\\workspace\\misc\\OneDay\\venv\\lib\\site-packages\\lightgbm\\engine.py:177: UserWarning: Found `n_estimators` in params. Will use it instead of argument\n",
      "  _log_warning(f\"Found `{alias}` in params. Will use it instead of argument\")\n",
      "\n"
     ]
    },
    {
     "name": "stdout",
     "output_type": "stream",
     "text": [
      "[10]\tvalid_0's auc: 0.728601\tvalid_0's ks: 0.346845                                \n",
      "[20]\tvalid_0's auc: 0.740496\tvalid_0's ks: 0.361623                                \n",
      "[30]\tvalid_0's auc: 0.747714\tvalid_0's ks: 0.364617                                \n",
      "[40]\tvalid_0's auc: 0.750202\tvalid_0's ks: 0.366365                                \n",
      "[50]\tvalid_0's auc: 0.750467\tvalid_0's ks: 0.370374                                \n",
      "[60]\tvalid_0's auc: 0.752446\tvalid_0's ks: 0.366079                                \n",
      "[70]\tvalid_0's auc: 0.754002\tvalid_0's ks: 0.368694                                \n",
      "Training until validation scores don't improve for 50 rounds                       \n",
      " 94%|█████████▍| 47/50 [02:49<00:10,  3.59s/trial, best loss: -0.40831624888276224]"
     ]
    },
    {
     "name": "stderr",
     "output_type": "stream",
     "text": [
      "D:\\workspace\\misc\\OneDay\\venv\\lib\\site-packages\\lightgbm\\engine.py:177: UserWarning: Found `n_estimators` in params. Will use it instead of argument\n",
      "  _log_warning(f\"Found `{alias}` in params. Will use it instead of argument\")\n",
      "\n"
     ]
    },
    {
     "name": "stdout",
     "output_type": "stream",
     "text": [
      "[10]\tvalid_0's auc: 0.711761\tvalid_0's ks: 0.322335                                \n",
      "[20]\tvalid_0's auc: 0.727051\tvalid_0's ks: 0.333077                                \n",
      "[30]\tvalid_0's auc: 0.737877\tvalid_0's ks: 0.357314                                \n",
      "[40]\tvalid_0's auc: 0.739699\tvalid_0's ks: 0.354239                                \n",
      "[50]\tvalid_0's auc: 0.741341\tvalid_0's ks: 0.362232                                \n",
      "[60]\tvalid_0's auc: 0.742374\tvalid_0's ks: 0.356512                                \n",
      "[70]\tvalid_0's auc: 0.743829\tvalid_0's ks: 0.366987                                \n",
      "[80]\tvalid_0's auc: 0.746269\tvalid_0's ks: 0.377397                                \n",
      "[90]\tvalid_0's auc: 0.746329\tvalid_0's ks: 0.379367                                \n",
      "[100]\tvalid_0's auc: 0.747327\tvalid_0's ks: 0.377054                               \n",
      " 94%|█████████▍| 47/50 [02:50<00:10,  3.59s/trial, best loss: -0.40831624888276224]"
     ]
    },
    {
     "name": "stderr",
     "output_type": "stream",
     "text": [
      "D:\\workspace\\misc\\OneDay\\venv\\lib\\site-packages\\lightgbm\\engine.py:177: UserWarning: Found `n_estimators` in params. Will use it instead of argument\n",
      "  _log_warning(f\"Found `{alias}` in params. Will use it instead of argument\")\n",
      "\n"
     ]
    },
    {
     "name": "stdout",
     "output_type": "stream",
     "text": [
      "Training until validation scores don't improve for 50 rounds                       \n",
      "[10]\tvalid_0's auc: 0.736184\tvalid_0's ks: 0.385158                                \n",
      "[20]\tvalid_0's auc: 0.757495\tvalid_0's ks: 0.427112                                \n",
      "[30]\tvalid_0's auc: 0.764182\tvalid_0's ks: 0.427894                                \n",
      "[40]\tvalid_0's auc: 0.766533\tvalid_0's ks: 0.42182                                 \n",
      "Training until validation scores don't improve for 50 rounds                       \n",
      " 94%|█████████▍| 47/50 [02:51<00:10,  3.59s/trial, best loss: -0.40831624888276224]"
     ]
    },
    {
     "name": "stderr",
     "output_type": "stream",
     "text": [
      "D:\\workspace\\misc\\OneDay\\venv\\lib\\site-packages\\lightgbm\\engine.py:177: UserWarning: Found `n_estimators` in params. Will use it instead of argument\n",
      "  _log_warning(f\"Found `{alias}` in params. Will use it instead of argument\")\n",
      "\n"
     ]
    },
    {
     "name": "stdout",
     "output_type": "stream",
     "text": [
      "[10]\tvalid_0's auc: 0.760287\tvalid_0's ks: 0.392774                                \n",
      "[20]\tvalid_0's auc: 0.771949\tvalid_0's ks: 0.406582                                \n",
      "[30]\tvalid_0's auc: 0.778769\tvalid_0's ks: 0.426923                                \n",
      "[40]\tvalid_0's auc: 0.778177\tvalid_0's ks: 0.423655                                \n",
      "[50]\tvalid_0's auc: 0.778944\tvalid_0's ks: 0.425098                                \n",
      "[60]\tvalid_0's auc: 0.778307\tvalid_0's ks: 0.428251                                \n",
      "Training until validation scores don't improve for 50 rounds                       \n",
      " 96%|█████████▌| 48/50 [02:51<00:07,  3.53s/trial, best loss: -0.40831624888276224]"
     ]
    },
    {
     "name": "stderr",
     "output_type": "stream",
     "text": [
      "D:\\workspace\\misc\\OneDay\\venv\\lib\\site-packages\\lightgbm\\engine.py:177: UserWarning: Found `n_estimators` in params. Will use it instead of argument\n",
      "  _log_warning(f\"Found `{alias}` in params. Will use it instead of argument\")\n",
      "\n"
     ]
    },
    {
     "name": "stdout",
     "output_type": "stream",
     "text": [
      "[10]\tvalid_0's auc: 0.727677\tvalid_0's ks: 0.353184                                \n",
      "[20]\tvalid_0's auc: 0.736954\tvalid_0's ks: 0.372165                                \n",
      "[30]\tvalid_0's auc: 0.743515\tvalid_0's ks: 0.382972                                \n",
      "[40]\tvalid_0's auc: 0.747815\tvalid_0's ks: 0.382769                                \n",
      "[50]\tvalid_0's auc: 0.750845\tvalid_0's ks: 0.397048                                \n",
      "[60]\tvalid_0's auc: 0.751713\tvalid_0's ks: 0.398969                                \n",
      "[70]\tvalid_0's auc: 0.752125\tvalid_0's ks: 0.393321                                \n",
      "Training until validation scores don't improve for 50 rounds                       \n",
      " 96%|█████████▌| 48/50 [02:52<00:07,  3.53s/trial, best loss: -0.40831624888276224]"
     ]
    },
    {
     "name": "stderr",
     "output_type": "stream",
     "text": [
      "D:\\workspace\\misc\\OneDay\\venv\\lib\\site-packages\\lightgbm\\engine.py:177: UserWarning: Found `n_estimators` in params. Will use it instead of argument\n",
      "  _log_warning(f\"Found `{alias}` in params. Will use it instead of argument\")\n",
      "\n"
     ]
    },
    {
     "name": "stdout",
     "output_type": "stream",
     "text": [
      "[10]\tvalid_0's auc: 0.74601\tvalid_0's ks: 0.383664                                 \n",
      "[20]\tvalid_0's auc: 0.759577\tvalid_0's ks: 0.401857                                \n",
      "[30]\tvalid_0's auc: 0.762626\tvalid_0's ks: 0.400255                                \n",
      "[40]\tvalid_0's auc: 0.764845\tvalid_0's ks: 0.404076                                \n",
      "[50]\tvalid_0's auc: 0.767479\tvalid_0's ks: 0.402778                                \n",
      "[60]\tvalid_0's auc: 0.767207\tvalid_0's ks: 0.404151                                \n",
      "Training until validation scores don't improve for 50 rounds                       \n",
      " 96%|█████████▌| 48/50 [02:53<00:07,  3.53s/trial, best loss: -0.40831624888276224]"
     ]
    },
    {
     "name": "stderr",
     "output_type": "stream",
     "text": [
      "D:\\workspace\\misc\\OneDay\\venv\\lib\\site-packages\\lightgbm\\engine.py:177: UserWarning: Found `n_estimators` in params. Will use it instead of argument\n",
      "  _log_warning(f\"Found `{alias}` in params. Will use it instead of argument\")\n",
      "\n"
     ]
    },
    {
     "name": "stdout",
     "output_type": "stream",
     "text": [
      "[10]\tvalid_0's auc: 0.748177\tvalid_0's ks: 0.381086                                \n",
      "[20]\tvalid_0's auc: 0.757359\tvalid_0's ks: 0.381316                                \n",
      "[30]\tvalid_0's auc: 0.764034\tvalid_0's ks: 0.387867                                \n",
      "[40]\tvalid_0's auc: 0.765205\tvalid_0's ks: 0.392213                                \n",
      "[50]\tvalid_0's auc: 0.767422\tvalid_0's ks: 0.396796                                \n",
      "[60]\tvalid_0's auc: 0.769609\tvalid_0's ks: 0.400319                                \n",
      "[70]\tvalid_0's auc: 0.769707\tvalid_0's ks: 0.395991                                \n",
      "[80]\tvalid_0's auc: 0.769256\tvalid_0's ks: 0.397478                                \n",
      " 96%|█████████▌| 48/50 [02:54<00:07,  3.53s/trial, best loss: -0.40831624888276224]"
     ]
    },
    {
     "name": "stderr",
     "output_type": "stream",
     "text": [
      "D:\\workspace\\misc\\OneDay\\venv\\lib\\site-packages\\lightgbm\\engine.py:177: UserWarning: Found `n_estimators` in params. Will use it instead of argument\n",
      "  _log_warning(f\"Found `{alias}` in params. Will use it instead of argument\")\n",
      "\n"
     ]
    },
    {
     "name": "stdout",
     "output_type": "stream",
     "text": [
      "Training until validation scores don't improve for 50 rounds                       \n",
      "[10]\tvalid_0's auc: 0.725587\tvalid_0's ks: 0.348677                                \n",
      "[20]\tvalid_0's auc: 0.729532\tvalid_0's ks: 0.363796                                \n",
      "[30]\tvalid_0's auc: 0.734893\tvalid_0's ks: 0.362886                                \n",
      "[40]\tvalid_0's auc: 0.738505\tvalid_0's ks: 0.358353                                \n",
      " 96%|█████████▌| 48/50 [02:55<00:07,  3.53s/trial, best loss: -0.40831624888276224]"
     ]
    },
    {
     "name": "stderr",
     "output_type": "stream",
     "text": [
      "D:\\workspace\\misc\\OneDay\\venv\\lib\\site-packages\\lightgbm\\engine.py:177: UserWarning: Found `n_estimators` in params. Will use it instead of argument\n",
      "  _log_warning(f\"Found `{alias}` in params. Will use it instead of argument\")\n",
      "\n"
     ]
    },
    {
     "name": "stdout",
     "output_type": "stream",
     "text": [
      "Training until validation scores don't improve for 50 rounds                       \n",
      "[10]\tvalid_0's auc: 0.74389\tvalid_0's ks: 0.369548                                 \n",
      "[20]\tvalid_0's auc: 0.753801\tvalid_0's ks: 0.378383                                \n",
      "[30]\tvalid_0's auc: 0.758364\tvalid_0's ks: 0.384226                                \n",
      "[40]\tvalid_0's auc: 0.75884\tvalid_0's ks: 0.38629                                  \n",
      "[50]\tvalid_0's auc: 0.759535\tvalid_0's ks: 0.392906                                \n",
      "[60]\tvalid_0's auc: 0.758372\tvalid_0's ks: 0.399769                                \n",
      "[70]\tvalid_0's auc: 0.760018\tvalid_0's ks: 0.400967                                \n",
      "Training until validation scores don't improve for 50 rounds                       \n",
      " 98%|█████████▊| 49/50 [02:56<00:03,  3.95s/trial, best loss: -0.40831624888276224]"
     ]
    },
    {
     "name": "stderr",
     "output_type": "stream",
     "text": [
      "D:\\workspace\\misc\\OneDay\\venv\\lib\\site-packages\\lightgbm\\engine.py:177: UserWarning: Found `n_estimators` in params. Will use it instead of argument\n",
      "  _log_warning(f\"Found `{alias}` in params. Will use it instead of argument\")\n",
      "\n"
     ]
    },
    {
     "name": "stdout",
     "output_type": "stream",
     "text": [
      "[10]\tvalid_0's auc: 0.749481\tvalid_0's ks: 0.388901                                \n",
      "[20]\tvalid_0's auc: 0.759552\tvalid_0's ks: 0.395489                                \n",
      "[30]\tvalid_0's auc: 0.758503\tvalid_0's ks: 0.386527                                \n",
      "[40]\tvalid_0's auc: 0.757384\tvalid_0's ks: 0.393015                                \n",
      " 98%|█████████▊| 49/50 [02:56<00:03,  3.95s/trial, best loss: -0.40831624888276224]"
     ]
    },
    {
     "name": "stderr",
     "output_type": "stream",
     "text": [
      "D:\\workspace\\misc\\OneDay\\venv\\lib\\site-packages\\lightgbm\\engine.py:177: UserWarning: Found `n_estimators` in params. Will use it instead of argument\n",
      "  _log_warning(f\"Found `{alias}` in params. Will use it instead of argument\")\n",
      "\n"
     ]
    },
    {
     "name": "stdout",
     "output_type": "stream",
     "text": [
      "Training until validation scores don't improve for 50 rounds                       \n",
      "[10]\tvalid_0's auc: 0.753721\tvalid_0's ks: 0.39221                                 \n",
      "[20]\tvalid_0's auc: 0.76068\tvalid_0's ks: 0.399507                                 \n",
      "[30]\tvalid_0's auc: 0.760017\tvalid_0's ks: 0.401005                                \n",
      "[40]\tvalid_0's auc: 0.759461\tvalid_0's ks: 0.394209                                \n",
      "Training until validation scores don't improve for 50 rounds                       \n",
      " 98%|█████████▊| 49/50 [02:57<00:03,  3.95s/trial, best loss: -0.40831624888276224]"
     ]
    },
    {
     "name": "stderr",
     "output_type": "stream",
     "text": [
      "D:\\workspace\\misc\\OneDay\\venv\\lib\\site-packages\\lightgbm\\engine.py:177: UserWarning: Found `n_estimators` in params. Will use it instead of argument\n",
      "  _log_warning(f\"Found `{alias}` in params. Will use it instead of argument\")\n",
      "\n"
     ]
    },
    {
     "name": "stdout",
     "output_type": "stream",
     "text": [
      "[10]\tvalid_0's auc: 0.74087\tvalid_0's ks: 0.370189                                 \n",
      "[20]\tvalid_0's auc: 0.746862\tvalid_0's ks: 0.382569                                \n",
      "[30]\tvalid_0's auc: 0.746322\tvalid_0's ks: 0.373788                                \n",
      " 98%|█████████▊| 49/50 [02:57<00:03,  3.95s/trial, best loss: -0.40831624888276224]"
     ]
    },
    {
     "name": "stderr",
     "output_type": "stream",
     "text": [
      "D:\\workspace\\misc\\OneDay\\venv\\lib\\site-packages\\lightgbm\\engine.py:177: UserWarning: Found `n_estimators` in params. Will use it instead of argument\n",
      "  _log_warning(f\"Found `{alias}` in params. Will use it instead of argument\")\n",
      "\n"
     ]
    },
    {
     "name": "stdout",
     "output_type": "stream",
     "text": [
      "Training until validation scores don't improve for 50 rounds                       \n",
      "[10]\tvalid_0's auc: 0.732156\tvalid_0's ks: 0.345387                                \n",
      "[20]\tvalid_0's auc: 0.745038\tvalid_0's ks: 0.361438                                \n",
      "[30]\tvalid_0's auc: 0.746668\tvalid_0's ks: 0.366405                                \n",
      "[40]\tvalid_0's auc: 0.748112\tvalid_0's ks: 0.370027                                \n",
      "[50]\tvalid_0's auc: 0.746142\tvalid_0's ks: 0.375617                                \n",
      " 98%|█████████▊| 49/50 [02:58<00:03,  3.95s/trial, best loss: -0.40831624888276224]"
     ]
    },
    {
     "name": "stderr",
     "output_type": "stream",
     "text": [
      "D:\\workspace\\misc\\OneDay\\venv\\lib\\site-packages\\lightgbm\\engine.py:177: UserWarning: Found `n_estimators` in params. Will use it instead of argument\n",
      "  _log_warning(f\"Found `{alias}` in params. Will use it instead of argument\")\n",
      "\n"
     ]
    },
    {
     "name": "stdout",
     "output_type": "stream",
     "text": [
      "Training until validation scores don't improve for 50 rounds                       \n",
      "[10]\tvalid_0's auc: 0.747888\tvalid_0's ks: 0.378478                                \n",
      "[20]\tvalid_0's auc: 0.754798\tvalid_0's ks: 0.388624                                \n",
      "[30]\tvalid_0's auc: 0.756477\tvalid_0's ks: 0.394202                                \n",
      "100%|██████████| 50/50 [02:59<00:00,  3.59s/trial, best loss: -0.40831624888276224]\n",
      "Best parameters found: {'colsample_bytree': 0.6553725084346377, 'learning_rate': 0.15024653076580058, 'max_depth': 0, 'min_child_weight': 8.633337189221727, 'num_leaves': 33, 'reg_alpha': 0.14994023674796636, 'reg_lambda': 0.6444882318414292, 'scale_pos_weight': 1.0025584197567623, 'subsample': 0.6944630864997181}\n"
     ]
    }
   ],
   "execution_count": 6
  },
  {
   "metadata": {
    "ExecuteTime": {
     "end_time": "2024-10-28T09:16:32.030412Z",
     "start_time": "2024-10-28T09:16:32.007657Z"
    }
   },
   "cell_type": "code",
   "source": [
    "# 5折交叉验证\n",
    "def lgb_dart_5_fold(X, y, best_params, n_folds=5):\n",
    "    skf = StratifiedKFold(n_splits=n_folds, shuffle=True)\n",
    "    fold_scores = []\n",
    "    final_predictions = np.zeros(len(X))  # 用于存储每一折的预测结果加总\n",
    "\n",
    "    for fold, (train_idx, valid_idx) in enumerate(skf.split(X, y)):\n",
    "        X_train, X_valid = X.iloc[train_idx], X.iloc[valid_idx]\n",
    "        y_train, y_valid = y.iloc[train_idx], y.iloc[valid_idx]\n",
    "\n",
    "        # 训练模型\n",
    "        lgb_train = lgb.Dataset(X_train, y_train)\n",
    "        lgb_valid = lgb.Dataset(X_valid, y_valid, reference=lgb_train)\n",
    "\n",
    "        # 训练模型\n",
    "        model = lgb.train(best_params,\n",
    "                          lgb_train,\n",
    "                          valid_sets=[lgb_valid],\n",
    "                          feval=lgb_ks_eval,\n",
    "                          callbacks=[lgb.early_stopping(stopping_rounds=50),\n",
    "                                     lgb.log_evaluation(10)]\n",
    "                          )\n",
    "\n",
    "        # 保存模型\n",
    "        model_path = f\"{dir_model}/lgbm_fold_{fold + 1}.bin\"\n",
    "        model.save_model(model_path)\n",
    "        print(f\"Model for fold {fold + 1} saved at {model_path}\")\n",
    "\n",
    "        # 验证集预测\n",
    "        y_pred = model.predict(X_valid, num_iteration=model.best_iteration)\n",
    "\n",
    "        # 计算KS和最大F2分数\n",
    "        score = ks_stat(y_valid, y_pred)\n",
    "        fold_scores.append(score)\n",
    "\n",
    "        # 将每一折的预测结果加总\n",
    "        final_predictions[valid_idx] = y_pred\n",
    "\n",
    "        print(f\"Fold {fold + 1} - Score: {score:.4f}\")\n",
    "\n",
    "    # 最终综合预测结果的评分\n",
    "    overall_score = ks_stat(y, final_predictions)\n",
    "    # overall_score, overall_best_threshold = calculate_best_f2(y, final_predictions)\n",
    "\n",
    "    print(f\"\\nOverall Score: {overall_score:.4f}\")\n",
    "\n",
    "    return overall_score"
   ],
   "id": "967cc4696e9445aa",
   "outputs": [],
   "execution_count": 11
  },
  {
   "metadata": {
    "ExecuteTime": {
     "end_time": "2024-10-28T09:16:36.278984Z",
     "start_time": "2024-10-28T09:16:32.772438Z"
    }
   },
   "cell_type": "code",
   "source": [
    "# 执行5折交叉验证\n",
    "best_score = lgb_dart_5_fold(X, y, best_params)\n",
    "print(f\"Best score: {best_score}\")\n"
   ],
   "id": "c7402558a4582707",
   "outputs": [
    {
     "name": "stdout",
     "output_type": "stream",
     "text": [
      "[LightGBM] [Warning] Auto-choosing col-wise multi-threading, the overhead of testing was 0.005081 seconds.\n",
      "You can set `force_col_wise=true` to remove the overhead.\n",
      "[LightGBM] [Info] Total Bins 6919\n",
      "[LightGBM] [Info] Number of data points in the train set: 42475, number of used features: 87\n",
      "[LightGBM] [Info] Start training from score 0.043861\n",
      "Training until validation scores don't improve for 50 rounds\n",
      "[10]\tvalid_0's l2: 0.0398541\tvalid_0's ks: 0.35016\n",
      "[20]\tvalid_0's l2: 0.0394434\tvalid_0's ks: 0.348851\n",
      "[30]\tvalid_0's l2: 0.0393481\tvalid_0's ks: 0.36822\n",
      "[40]\tvalid_0's l2: 0.0392567\tvalid_0's ks: 0.383873\n",
      "[50]\tvalid_0's l2: 0.039364\tvalid_0's ks: 0.372055\n",
      "[60]\tvalid_0's l2: 0.0394247\tvalid_0's ks: 0.369607\n",
      "[70]\tvalid_0's l2: 0.0394121\tvalid_0's ks: 0.36224\n",
      "[80]\tvalid_0's l2: 0.0393955\tvalid_0's ks: 0.361911\n",
      "Early stopping, best iteration is:\n",
      "[39]\tvalid_0's l2: 0.0392539\tvalid_0's ks: 0.378896\n",
      "Model for fold 1 saved at /data/contest/2024\\2\\model/lgbm_fold_1.bin\n",
      "Fold 1 - Score: 0.3789\n",
      "[LightGBM] [Warning] Auto-choosing col-wise multi-threading, the overhead of testing was 0.007581 seconds.\n",
      "You can set `force_col_wise=true` to remove the overhead.\n",
      "[LightGBM] [Info] Total Bins 6936\n",
      "[LightGBM] [Info] Number of data points in the train set: 42475, number of used features: 87\n",
      "[LightGBM] [Info] Start training from score 0.043838\n",
      "Training until validation scores don't improve for 50 rounds\n",
      "[10]\tvalid_0's l2: 0.0404807\tvalid_0's ks: 0.33264\n",
      "[20]\tvalid_0's l2: 0.0401884\tvalid_0's ks: 0.350423\n",
      "[30]\tvalid_0's l2: 0.0401762\tvalid_0's ks: 0.354258\n",
      "[40]\tvalid_0's l2: 0.0401884\tvalid_0's ks: 0.346548\n",
      "[50]\tvalid_0's l2: 0.0402783\tvalid_0's ks: 0.346459\n",
      "[60]\tvalid_0's l2: 0.0403634\tvalid_0's ks: 0.350909\n",
      "[70]\tvalid_0's l2: 0.0404213\tvalid_0's ks: 0.348891\n",
      "Early stopping, best iteration is:\n",
      "[22]\tvalid_0's l2: 0.0401323\tvalid_0's ks: 0.358571\n",
      "Model for fold 2 saved at /data/contest/2024\\2\\model/lgbm_fold_2.bin\n",
      "Fold 2 - Score: 0.3586\n",
      "[LightGBM] [Warning] Auto-choosing col-wise multi-threading, the overhead of testing was 0.007113 seconds.\n",
      "You can set `force_col_wise=true` to remove the overhead.\n",
      "[LightGBM] [Info] Total Bins 6931\n",
      "[LightGBM] [Info] Number of data points in the train set: 42475, number of used features: 87\n",
      "[LightGBM] [Info] Start training from score 0.043838\n",
      "Training until validation scores don't improve for 50 rounds\n",
      "[10]\tvalid_0's l2: 0.0397277\tvalid_0's ks: 0.391316\n",
      "[20]\tvalid_0's l2: 0.0391458\tvalid_0's ks: 0.401229\n",
      "[30]\tvalid_0's l2: 0.039033\tvalid_0's ks: 0.41334\n",
      "[40]\tvalid_0's l2: 0.0389828\tvalid_0's ks: 0.413705\n",
      "[50]\tvalid_0's l2: 0.0389624\tvalid_0's ks: 0.420313\n",
      "[60]\tvalid_0's l2: 0.0390335\tvalid_0's ks: 0.417508\n",
      "[70]\tvalid_0's l2: 0.0390371\tvalid_0's ks: 0.409966\n",
      "[80]\tvalid_0's l2: 0.0390512\tvalid_0's ks: 0.398953\n",
      "[90]\tvalid_0's l2: 0.0389666\tvalid_0's ks: 0.403018\n",
      "[100]\tvalid_0's l2: 0.039004\tvalid_0's ks: 0.391757\n",
      "Early stopping, best iteration is:\n",
      "[50]\tvalid_0's l2: 0.0389624\tvalid_0's ks: 0.420313\n",
      "Model for fold 3 saved at /data/contest/2024\\2\\model/lgbm_fold_3.bin\n",
      "Fold 3 - Score: 0.4203\n",
      "[LightGBM] [Warning] Auto-choosing col-wise multi-threading, the overhead of testing was 0.009410 seconds.\n",
      "You can set `force_col_wise=true` to remove the overhead.\n",
      "[LightGBM] [Info] Total Bins 6915\n",
      "[LightGBM] [Info] Number of data points in the train set: 42475, number of used features: 87\n",
      "[LightGBM] [Info] Start training from score 0.043838\n",
      "Training until validation scores don't improve for 50 rounds\n",
      "[10]\tvalid_0's l2: 0.0401746\tvalid_0's ks: 0.329983\n",
      "[20]\tvalid_0's l2: 0.0397404\tvalid_0's ks: 0.354734\n",
      "[30]\tvalid_0's l2: 0.0395819\tvalid_0's ks: 0.366874\n",
      "[40]\tvalid_0's l2: 0.0396428\tvalid_0's ks: 0.37329\n",
      "[50]\tvalid_0's l2: 0.0397109\tvalid_0's ks: 0.359803\n",
      "[60]\tvalid_0's l2: 0.0396806\tvalid_0's ks: 0.358749\n",
      "[70]\tvalid_0's l2: 0.0397318\tvalid_0's ks: 0.356042\n",
      "[80]\tvalid_0's l2: 0.0397303\tvalid_0's ks: 0.358248\n",
      "Early stopping, best iteration is:\n",
      "[31]\tvalid_0's l2: 0.0395602\tvalid_0's ks: 0.366599\n",
      "Model for fold 4 saved at /data/contest/2024\\2\\model/lgbm_fold_4.bin\n",
      "Fold 4 - Score: 0.3666\n",
      "[LightGBM] [Warning] Auto-choosing col-wise multi-threading, the overhead of testing was 0.006122 seconds.\n",
      "You can set `force_col_wise=true` to remove the overhead.\n",
      "[LightGBM] [Info] Total Bins 6912\n",
      "[LightGBM] [Info] Number of data points in the train set: 42476, number of used features: 87\n",
      "[LightGBM] [Info] Start training from score 0.043860\n",
      "Training until validation scores don't improve for 50 rounds\n",
      "[10]\tvalid_0's l2: 0.0400685\tvalid_0's ks: 0.366165\n",
      "[20]\tvalid_0's l2: 0.0398144\tvalid_0's ks: 0.387901\n",
      "[30]\tvalid_0's l2: 0.0397947\tvalid_0's ks: 0.402464\n",
      "[40]\tvalid_0's l2: 0.0398126\tvalid_0's ks: 0.398214\n",
      "[50]\tvalid_0's l2: 0.0398352\tvalid_0's ks: 0.39915\n",
      "[60]\tvalid_0's l2: 0.0397201\tvalid_0's ks: 0.393961\n",
      "[70]\tvalid_0's l2: 0.0397285\tvalid_0's ks: 0.392665\n",
      "[80]\tvalid_0's l2: 0.0397233\tvalid_0's ks: 0.403697\n",
      "[90]\tvalid_0's l2: 0.0397708\tvalid_0's ks: 0.39255\n",
      "[100]\tvalid_0's l2: 0.0398112\tvalid_0's ks: 0.382158\n",
      "Did not meet early stopping. Best iteration is:\n",
      "[66]\tvalid_0's l2: 0.0396903\tvalid_0's ks: 0.398409\n",
      "Model for fold 5 saved at /data/contest/2024\\2\\model/lgbm_fold_5.bin\n",
      "Fold 5 - Score: 0.3984\n",
      "\n",
      "Overall Score: 0.3725\n",
      "Best score: 0.3725183792545624\n"
     ]
    }
   ],
   "execution_count": 12
  },
  {
   "metadata": {},
   "cell_type": "code",
   "outputs": [],
   "execution_count": 26,
   "source": [
    "# 测试集预测并生成结果文件\n",
    "def predict_test_set(test_data, n_folds=5, output_file='upload.csv'):\n",
    "    test_predictions = np.zeros(len(test_data))\n",
    "\n",
    "    # 依次加载每一折的模型进行预测\n",
    "    for fold in range(n_folds):\n",
    "        model_path = f\"{dir_model}/lgbm_fold_{fold + 1}.bin\"\n",
    "        model = lgb.Booster(model_file=model_path)\n",
    "\n",
    "        # 对测试集进行预测，并将每一折的预测加总\n",
    "        test_predictions += model.predict(test_data)\n",
    "\n",
    "    # 平均每一折的预测\n",
    "    test_predictions /= n_folds\n",
    "\n",
    "    # 生成预测文件\n",
    "    submission = pd.DataFrame({'CUST_NO': test_data.index, 'PRED': test_predictions})\n",
    "    submission.to_csv(output_file, index=False)\n",
    "    print(f\"Test predictions saved to {output_file}\")"
   ],
   "id": "fa86b3eaf4ad5a9d"
  },
  {
   "cell_type": "code",
   "outputs": [],
   "source": [],
   "metadata": {
    "collapsed": false
   },
   "id": "40b4c8da6ccf2a1c",
   "execution_count": null
  }
 ],
 "metadata": {
  "kernelspec": {
   "display_name": "Python 3",
   "language": "python",
   "name": "python3"
  },
  "language_info": {
   "codemirror_mode": {
    "name": "ipython",
    "version": 2
   },
   "file_extension": ".py",
   "mimetype": "text/x-python",
   "name": "python",
   "nbconvert_exporter": "python",
   "pygments_lexer": "ipython2",
   "version": "2.7.6"
  }
 },
 "nbformat": 4,
 "nbformat_minor": 5
}
