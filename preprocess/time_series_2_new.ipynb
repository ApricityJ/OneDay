{
 "cells": [
  {
   "metadata": {
    "ExecuteTime": {
     "end_time": "2024-06-14T08:44:49.082228Z",
     "start_time": "2024-06-14T08:44:27.487050Z"
    }
   },
   "cell_type": "code",
   "source": [
    "import pandas as pd\n",
    "\n",
    "# aps，重新命名了列\n",
    "# aps = aps[['APSDPRDNO', 'APSDTRDAT_TM', 'APSDTRCOD', 'APSDTRAMT', 'APSDCPTPRDNO']]\n",
    "# aps.columns = ['CRD_SRC', 'TRN_DT', 'TRN_COD', 'TRN_AMT', 'CRD_TGT']\n",
    "# 卡号，交易日期，交易码，交易金额，对手\n",
    "df = pd.read_csv('aps.csv')\n",
    "\n",
    "# 将时间转换为datetime\n",
    "df['TRN_DT'] = pd.to_datetime(df['TRN_DT'], format='%Y%m%d%H%M%S', errors='coerce')"
   ],
   "id": "8ff2524239dca02c",
   "outputs": [],
   "execution_count": 16
  },
  {
   "metadata": {
    "jupyter": {
     "is_executing": true
    },
    "ExecuteTime": {
     "start_time": "2024-06-14T08:45:58.689159Z"
    }
   },
   "cell_type": "code",
   "source": [
    "# 基准 DataFrame\n",
    "def calculate_baseline(df):\n",
    "    grouped = df.groupby('CRD_SRC')\n",
    "    baseline = grouped.agg(\n",
    "        total_transactions=('TRN_AMT', 'count'),\n",
    "        total_debit_transactions=('TRN_AMT', lambda x: (x < 0).sum()),\n",
    "        total_credit_transactions=('TRN_AMT', lambda x: (x > 0).sum()),\n",
    "        total_amount_abs=('TRN_AMT', lambda x: x.abs().sum()),\n",
    "        total_amount=('TRN_AMT', 'sum'),\n",
    "        total_debit_amount=('TRN_AMT', lambda x: x[x < 0].sum()),\n",
    "        total_credit_amount=('TRN_AMT', lambda x: x[x > 0].sum()),\n",
    "        unique_counterparties=('CRD_TGT', 'nunique'),\n",
    "        unique_debit_counterparties=('CRD_TGT', lambda x: x[df['TRN_AMT'] < 0].nunique()),\n",
    "        unique_credit_counterparties=('CRD_TGT', lambda x: x[df['TRN_AMT'] > 0].nunique())\n",
    "    ).reset_index()\n",
    "    return baseline\n",
    "\n",
    "\n",
    "# 计算基准值\n",
    "baseline_df = calculate_baseline(df)"
   ],
   "id": "fb5f3e29b9a65e81",
   "outputs": [],
   "execution_count": null
  },
  {
   "metadata": {
    "jupyter": {
     "is_executing": true
    }
   },
   "cell_type": "code",
   "source": [
    "# 按小时计算并与基准值相除\n",
    "def calculate_hourly_ratios(df, baseline_df):\n",
    "    df['hour'] = df['TRN_DT'].dt.hour\n",
    "    hourly_grouped = df.groupby(['CRD_SRC', 'hour'])\n",
    "    hourly = hourly_grouped.agg(\n",
    "        total_transactions=('TRN_AMT', 'count'),\n",
    "        total_debit_transactions=('TRN_AMT', lambda x: (x < 0).sum()),\n",
    "        total_credit_transactions=('TRN_AMT', lambda x: (x > 0).sum()),\n",
    "        total_amount_abs=('TRN_AMT', lambda x: x.abs().sum()),\n",
    "        total_amount=('TRN_AMT', 'sum'),\n",
    "        total_debit_amount=('TRN_AMT', lambda x: x[x < 0].sum()),\n",
    "        total_credit_amount=('TRN_AMT', lambda x: x[x > 0].sum()),\n",
    "        unique_counterparties=('CRD_TGT', 'nunique'),\n",
    "        unique_debit_counterparties=('CRD_TGT', lambda x: x[df['TRN_AMT'] < 0].nunique()),\n",
    "        unique_credit_counterparties=('CRD_TGT', lambda x: x[df['TRN_AMT'] > 0].nunique())\n",
    "    ).reset_index()\n",
    "\n",
    "    ratios = pd.merge(hourly, baseline_df, on='CRD_SRC', suffixes=('_hourly', '_baseline'))\n",
    "\n",
    "    for col in ['total_transactions', 'total_debit_transactions', 'total_credit_transactions', 'total_amount_abs',\n",
    "                'total_amount', 'total_debit_amount', 'total_credit_amount', 'unique_counterparties',\n",
    "                'unique_debit_counterparties', 'unique_credit_counterparties']:\n",
    "        ratios[col + '_ratio'] = (ratios[col + '_hourly'] / ratios[col + '_baseline']).round(2)\n",
    "\n",
    "    hourly_ratios = ratios.pivot(index='CRD_SRC', columns='hour')\n",
    "    hourly_ratios.columns = ['_'.join(map(str, col)).strip() for col in hourly_ratios.columns.values]\n",
    "    hourly_ratios.reset_index(inplace=True)\n",
    "\n",
    "    return hourly_ratios\n",
    "\n",
    "\n",
    "hourly_ratios = calculate_hourly_ratios(df, baseline_df)"
   ],
   "id": "fea3290513fac37e",
   "outputs": [],
   "execution_count": null
  },
  {
   "metadata": {
    "jupyter": {
     "is_executing": true
    }
   },
   "cell_type": "code",
   "source": "hourly_ratios.head(5)",
   "id": "3512ccd754d448a9",
   "outputs": [],
   "execution_count": null
  },
  {
   "metadata": {
    "ExecuteTime": {
     "end_time": "2024-06-14T08:08:05.897049Z",
     "start_time": "2024-06-14T08:01:15.560403Z"
    }
   },
   "cell_type": "code",
   "source": [
    "# 按星期计算并与基准值相除\n",
    "def calculate_weekly_ratios(df, baseline_df):\n",
    "    df['weekday'] = df['TRN_DT'].dt.weekday + 1\n",
    "    weekly_grouped = df.groupby(['CRD_SRC', 'weekday'])\n",
    "    weekly = weekly_grouped.agg(\n",
    "        total_transactions=('TRN_AMT', 'count'),\n",
    "        total_debit_transactions=('TRN_AMT', lambda x: (x < 0).sum()),\n",
    "        total_credit_transactions=('TRN_AMT', lambda x: (x > 0).sum()),\n",
    "        total_amount_abs=('TRN_AMT', lambda x: x.abs().sum()),\n",
    "        total_amount=('TRN_AMT', 'sum'),\n",
    "        total_debit_amount=('TRN_AMT', lambda x: x[x < 0].sum()),\n",
    "        total_credit_amount=('TRN_AMT', lambda x: x[x > 0].sum()),\n",
    "        unique_counterparties=('CRD_TGT', 'nunique'),\n",
    "        unique_debit_counterparties=('CRD_TGT', lambda x: x[df['TRN_AMT'] < 0].nunique()),\n",
    "        unique_credit_counterparties=('CRD_TGT', lambda x: x[df['TRN_AMT'] > 0].nunique())\n",
    "    ).reset_index()\n",
    "\n",
    "    ratios = pd.merge(weekly, baseline_df, on='CRD_SRC', suffixes=('_weekly', '_baseline'))\n",
    "\n",
    "    for col in ['total_transactions', 'total_debit_transactions', 'total_credit_transactions', 'total_amount_abs',\n",
    "                'total_amount', 'total_debit_amount', 'total_credit_amount', 'unique_counterparties',\n",
    "                'unique_debit_counterparties', 'unique_credit_counterparties']:\n",
    "        ratios[col + '_ratio'] = (ratios[col + '_weekly'] / ratios[col + '_baseline']).round(2)\n",
    "\n",
    "    weekly_ratios = ratios.pivot(index='CRD_SRC', columns='weekday')\n",
    "    weekly_ratios.columns = ['_'.join(map(str, col)).strip() for col in weekly_ratios.columns.values]\n",
    "    weekly_ratios.reset_index(inplace=True)\n",
    "\n",
    "    return weekly_ratios\n",
    "\n",
    "\n",
    "weekly_ratios = calculate_weekly_ratios(df, baseline_df)"
   ],
   "id": "a7179c877784992",
   "outputs": [],
   "execution_count": 6
  },
  {
   "metadata": {
    "ExecuteTime": {
     "end_time": "2024-06-14T08:16:34.740668Z",
     "start_time": "2024-06-14T08:10:00.620214Z"
    }
   },
   "cell_type": "code",
   "source": [
    "# 特定时段统计并与基准值相除\n",
    "def calculate_specific_period_ratios(df, baseline_df):\n",
    "    specific_periods = {\n",
    "        'night_11_to_1': (23, 1),\n",
    "        'night_0_to_3': (0, 3),\n",
    "        'night_11_to_6': (23, 6)\n",
    "    }\n",
    "\n",
    "    results = []\n",
    "\n",
    "    for label, (start_hour, end_hour) in specific_periods.items():\n",
    "        if start_hour < end_hour:\n",
    "            period_condition = (df['TRN_DT'].dt.hour >= start_hour) & (df['TRN_DT'].dt.hour < end_hour)\n",
    "        else:  # Handle cross-midnight periods\n",
    "            period_condition = (df['TRN_DT'].dt.hour >= start_hour) | (df['TRN_DT'].dt.hour < end_hour)\n",
    "\n",
    "        df_period = df[period_condition]\n",
    "\n",
    "        period_grouped = df_period.groupby('CRD_SRC')\n",
    "        period = period_grouped.agg(\n",
    "            total_transactions=('TRN_AMT', 'count'),\n",
    "            total_debit_transactions=('TRN_AMT', lambda x: (x < 0).sum()),\n",
    "            total_credit_transactions=('TRN_AMT', lambda x: (x > 0).sum()),\n",
    "            total_amount_abs=('TRN_AMT', lambda x: x.abs().sum()),\n",
    "            total_amount=('TRN_AMT', 'sum'),\n",
    "            total_debit_amount=('TRN_AMT', lambda x: x[x < 0].sum()),\n",
    "            total_credit_amount=('TRN_AMT', lambda x: x[x > 0].sum()),\n",
    "            unique_counterparties=('CRD_TGT', 'nunique'),\n",
    "            unique_debit_counterparties=('CRD_TGT', lambda x: x[df['TRN_AMT'] < 0].nunique()),\n",
    "            unique_credit_counterparties=('CRD_TGT', lambda x: x[df['TRN_AMT'] > 0].nunique())\n",
    "        ).reset_index()\n",
    "\n",
    "        period_ratios = pd.merge(period, baseline_df, on='CRD_SRC', suffixes=('_period', '_baseline'))\n",
    "\n",
    "        for col in ['total_transactions', 'total_debit_transactions', 'total_credit_transactions', 'total_amount_abs',\n",
    "                    'total_amount', 'total_debit_amount', 'total_credit_amount', 'unique_counterparties',\n",
    "                    'unique_debit_counterparties', 'unique_credit_counterparties']:\n",
    "            period_ratios[col + '_ratio'] = (period_ratios[col + '_period'] / period_ratios[col + '_baseline']).round(2)\n",
    "\n",
    "        period_ratios['period'] = label\n",
    "        results.append(period_ratios)\n",
    "\n",
    "    specific_period_ratios = pd.concat(results, ignore_index=True)\n",
    "    specific_period_pivot = specific_period_ratios.pivot(index='CRD_SRC', columns='period')\n",
    "    specific_period_pivot.columns = ['_'.join(map(str, col)).strip() for col in specific_period_pivot.columns.values]\n",
    "    specific_period_pivot.reset_index(inplace=True)\n",
    "\n",
    "    return specific_period_pivot\n",
    "\n",
    "\n",
    "specific_period_ratios = calculate_specific_period_ratios(df, baseline_df)"
   ],
   "id": "1ee94f911f439c84",
   "outputs": [
    {
     "name": "stderr",
     "output_type": "stream",
     "text": [
      "C:\\Users\\zangq\\AppData\\Local\\Temp\\ipykernel_19020\\3488553419.py:43: FutureWarning: The behavior of DataFrame concatenation with empty or all-NA entries is deprecated. In a future version, this will no longer exclude empty or all-NA columns when determining the result dtypes. To retain the old behavior, exclude the relevant entries before the concat operation.\n",
      "  specific_period_ratios = pd.concat(results, ignore_index=True)\n"
     ]
    }
   ],
   "execution_count": 10
  },
  {
   "metadata": {
    "ExecuteTime": {
     "end_time": "2024-06-14T08:16:36.891355Z",
     "start_time": "2024-06-14T08:16:34.742654Z"
    }
   },
   "cell_type": "code",
   "source": [
    "# 合并所有结果\n",
    "final_df = baseline_df\n",
    "final_df = pd.merge(final_df, hourly_ratios, on='CRD_SRC', how='left')\n",
    "final_df = pd.merge(final_df, weekly_ratios, on='CRD_SRC', how='left')\n",
    "final_df = pd.merge(final_df, specific_period_ratios, on='CRD_SRC', how='left')\n",
    "\n",
    "# 保存结果\n",
    "final_df.to_csv('time_series_2.csv', index=False)"
   ],
   "id": "initial_id",
   "outputs": [],
   "execution_count": 11
  },
  {
   "metadata": {},
   "cell_type": "code",
   "outputs": [],
   "execution_count": null,
   "source": "",
   "id": "f26551dc68143a89"
  }
 ],
 "metadata": {
  "kernelspec": {
   "display_name": "Python 3",
   "language": "python",
   "name": "python3"
  },
  "language_info": {
   "codemirror_mode": {
    "name": "ipython",
    "version": 2
   },
   "file_extension": ".py",
   "mimetype": "text/x-python",
   "name": "python",
   "nbconvert_exporter": "python",
   "pygments_lexer": "ipython2",
   "version": "2.7.6"
  }
 },
 "nbformat": 4,
 "nbformat_minor": 5
}
